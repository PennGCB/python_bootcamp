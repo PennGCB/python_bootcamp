{
 "cells": [
  {
   "cell_type": "markdown",
   "metadata": {},
   "source": [
    "# In-Class Functions"
   ]
  },
  {
   "cell_type": "markdown",
   "metadata": {},
   "source": [
    "## Using a custom function\n",
    "This code starts on slide 7"
   ]
  },
  {
   "cell_type": "code",
   "execution_count": null,
   "metadata": {
    "collapsed": true
   },
   "outputs": [],
   "source": [
    "def strAdd(num1, num2):\n",
    "\tresult = int(num1) + int(num2)\n",
    "\treturn result"
   ]
  },
  {
   "cell_type": "code",
   "execution_count": null,
   "metadata": {
    "collapsed": true
   },
   "outputs": [],
   "source": [
    "first = input(\"First number? \")\n",
    "second = input(\"Second number? \")\n",
    "added = strAdd(first,second)\n",
    "print(added)"
   ]
  },
  {
   "cell_type": "markdown",
   "metadata": {},
   "source": [
    "## Counting Example\n",
    "This code starts on slide 22"
   ]
  },
  {
   "cell_type": "code",
   "execution_count": null,
   "metadata": {
    "collapsed": true
   },
   "outputs": [],
   "source": [
    "def count_occurrences(seq, subseq):\n",
    "\tseq = seq.upper()\n",
    "\tsubseq = subseq.upper()\n",
    "\tcount = 0\n",
    "\tindex = 0\n",
    "\tdone = False\n",
    "\twhile not done:\n",
    "\t\tindex = seq.find(subseq, index)\n",
    "\t\tif (index == -1):\n",
    "\t\t\tdone = True\n",
    "\t\telse:  \n",
    "\t\t\tcount += 1\n",
    "\t\t\tindex += 1 # add one so this pos won't be found again\n",
    "\treturn count"
   ]
  },
  {
   "cell_type": "code",
   "execution_count": null,
   "metadata": {
    "collapsed": true
   },
   "outputs": [],
   "source": [
    "# main script\n",
    "seq = input(\"Full sequence: \")\n",
    "subseq = input(\"Subseq to search for: \")\n",
    "result = count_occurrences(seq, subseq)\n",
    "print (\"The subseq occurs\", result, \"times in the full seq\") "
   ]
  },
  {
   "cell_type": "markdown",
   "metadata": {},
   "source": [
    "## Keeping your functions in a separate file\n",
    "This code starts on slide 24. Note that you need `useful_funs.py` in your directory"
   ]
  },
  {
   "cell_type": "code",
   "execution_count": null,
   "metadata": {
    "collapsed": true
   },
   "outputs": [],
   "source": [
    "import useful_fns\n",
    "\n",
    "seq = input(\"Full sequence: \")\n",
    "subseq = input(\"Subseq to search for: \")\n",
    "result = useful_fns.count_occurrences(seq, subseq)\n",
    "print (\"The subseq occurs\", result, \"times\")"
   ]
  },
  {
   "cell_type": "markdown",
   "metadata": {},
   "source": [
    "## Example of Scope\n",
    "This is on slide 33"
   ]
  },
  {
   "cell_type": "code",
   "execution_count": null,
   "metadata": {
    "collapsed": true
   },
   "outputs": [],
   "source": [
    "def someFn(val):\n",
    "    c = val * 10\n",
    "    z = c * c\n",
    "    return z\n",
    "\n",
    "x = 5\n",
    "z = 1\n",
    "result = someFn(x)\n",
    "\n",
    "print(result)"
   ]
  },
  {
   "cell_type": "code",
   "execution_count": null,
   "metadata": {
    "collapsed": true
   },
   "outputs": [],
   "source": [
    "print (z)"
   ]
  },
  {
   "cell_type": "code",
   "execution_count": null,
   "metadata": {
    "collapsed": true
   },
   "outputs": [],
   "source": [
    "print (c)"
   ]
  },
  {
   "cell_type": "markdown",
   "metadata": {},
   "source": [
    "## Scope Warning\n",
    "this is on slide 41"
   ]
  },
  {
   "cell_type": "code",
   "execution_count": null,
   "metadata": {
    "collapsed": true
   },
   "outputs": [],
   "source": [
    "int_var2 = 3\n",
    "def multiply_three(int_var1):\n",
    "\treturn int_var1 * int_var2\n",
    "\n",
    "print(multiply_three(4))"
   ]
  },
  {
   "cell_type": "code",
   "execution_count": null,
   "metadata": {
    "collapsed": true
   },
   "outputs": [],
   "source": [
    "def multiply(int_var1, int_var2):\n",
    "\treturn int_var1 * int_var2\n",
    "\n",
    "print(multiply(4,3))"
   ]
  }
 ],
 "metadata": {
  "kernelspec": {
   "display_name": "Python 3",
   "language": "python",
   "name": "python3"
  },
  "language_info": {
   "codemirror_mode": {
    "name": "ipython",
    "version": 3
   },
   "file_extension": ".py",
   "mimetype": "text/x-python",
   "name": "python",
   "nbconvert_exporter": "python",
   "pygments_lexer": "ipython3",
   "version": "3.6.0"
  }
 },
 "nbformat": 4,
 "nbformat_minor": 2
}
