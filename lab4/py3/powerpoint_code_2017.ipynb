{
 "cells": [
  {
   "cell_type": "code",
   "execution_count": 5,
   "metadata": {
    "collapsed": false
   },
   "outputs": [
    {
     "name": "stdout",
     "output_type": "stream",
     "text": [
      "GCCACGG\n",
      "CAGATGC\n",
      "GCCACGG\n",
      "AAGATGG\n",
      "AGCCTGT\n",
      "CCTGTGG\n",
      "GACATGG\n",
      "ACCATGA\n",
      "GACATGG\n",
      "GCTATGG\n",
      "AAGATGG\n",
      "ACCATGG\n",
      "GCTATGT\n",
      "GCCATGA\n",
      "ataatgg\n",
      "CAGCTGG\n",
      "GAAATGG\n",
      "GCCATGG\n",
      "AACATGG\n",
      "GAAATGT\n",
      "AATGTGT\n",
      "ACTATGG\n",
      "AGAATGA\n",
      "GTCATGT\n",
      "GCCATGA\n",
      "AGAATGA\n",
      "AGAATGA\n",
      "ACTATTG\n",
      "CTATTGA\n",
      "AAGCTGG\n",
      "AAGATGG\n",
      "AGGATGG\n",
      "GCCATGA\n",
      "GCTCTGT\n",
      "GCCATGG\n",
      "ACCATGG\n",
      "TGAATAT\n",
      "AATATGT\n",
      "AAAATGG\n",
      "AAGATGG\n",
      "GTCATGC\n",
      "AAGACGC\n",
      "ACGATGC\n",
      "AGCATGG\n",
      "GCCATGG\n",
      "GCCATGT\n",
      "GCAATGG\n",
      "AGTATGT\n",
      "GCCATGA\n",
      "GACATGC\n"
     ]
    }
   ],
   "source": [
    "inFile = \"init_sites.txt\" \n",
    "input = open(inFile, 'r') \n",
    "input.readline() #skip header \n",
    "for line in input: \n",
    "    line = line.rstrip('\\n') \n",
    "    data = line.split() #splits line on tabs \n",
    "    print(data[5]) #6th column = index 5 \n",
    "input.close()"
   ]
  },
  {
   "cell_type": "code",
   "execution_count": null,
   "metadata": {
    "collapsed": true
   },
   "outputs": [],
   "source": []
  }
 ],
 "metadata": {
  "kernelspec": {
   "display_name": "Python 3",
   "language": "python",
   "name": "python3"
  },
  "language_info": {
   "codemirror_mode": {
    "name": "ipython",
    "version": 3
   },
   "file_extension": ".py",
   "mimetype": "text/x-python",
   "name": "python",
   "nbconvert_exporter": "python",
   "pygments_lexer": "ipython3",
   "version": "3.6.0"
  }
 },
 "nbformat": 4,
 "nbformat_minor": 2
}
