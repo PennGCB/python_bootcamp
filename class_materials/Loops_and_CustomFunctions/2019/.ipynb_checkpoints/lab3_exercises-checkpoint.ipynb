{
 "cells": [
  {
   "cell_type": "markdown",
   "metadata": {},
   "source": [
    "# Programming Bootcamp 2019\n",
    "# Lesson 3 Exercises\n",
    "---"
   ]
  },
  {
   "cell_type": "markdown",
   "metadata": {},
   "source": [
    "- These excercises use the following files:\n",
    " * sequences.txt"
   ]
  },
  {
   "cell_type": "markdown",
   "metadata": {},
   "source": [
    "**Earning points (optional)**\n",
    "\n",
    "If you would like to get points/feedback for your work, please **submit your notebook to Piazza**. To do this, follow these steps:\n",
    "\n",
    "1. Click \"New Post\"\n",
    "2. For \"Post Type\" select `Question`\n",
    "3. For \"Post to\" select `Individual Student(s)/Instructors(s)`\n",
    "4. Where is says \"Enter one or more names...\" type `Instructors`\n",
    "5. For \"Select Folder(s)\" select `lab3`\n",
    "6. In \"Summary\" type in \"[Your Full Name] Lab3 Submission\"\n",
    "7. In the \"Details\" click \"Insert\" > \"Insert File\" and then insert your python notebook.\n",
    "8. You can then write whatever else you want in the Summary.\n",
    "9. Then click \"Post My Question to PROGRAMMING BOOTCAMP!\":\n",
    "\n",
    "Please also **write your name below**. You do not need to complete all the problems to get points. Points will be assigned, but completion is all that actually matters. Those who consistenly participate throughout bootcamp will get a ~prize~."
   ]
  },
  {
   "cell_type": "markdown",
   "metadata": {},
   "source": [
    "**Name**: "
   ]
  },
  {
   "cell_type": "markdown",
   "metadata": {},
   "source": [
    "---\n",
    "## 1. Guess the output: loop practice (1pt)\n",
    "\n",
    "For the following blocks of code, first try to guess what the output will be, and then run the code yourself. Points will be given for filling in the guesses; guessing wrong won't be penalized."
   ]
  },
  {
   "cell_type": "code",
   "execution_count": null,
   "metadata": {},
   "outputs": [],
   "source": [
    "for i in range(1, 10, 2):\n",
    "    print (i)"
   ]
  },
  {
   "cell_type": "markdown",
   "metadata": {},
   "source": [
    "Your guess: "
   ]
  },
  {
   "cell_type": "markdown",
   "metadata": {},
   "source": [
    " "
   ]
  },
  {
   "cell_type": "code",
   "execution_count": null,
   "metadata": {},
   "outputs": [],
   "source": [
    "for i in range (5, 1, -1):\n",
    "    print (i)"
   ]
  },
  {
   "cell_type": "markdown",
   "metadata": {},
   "source": [
    "Your guess: "
   ]
  },
  {
   "cell_type": "markdown",
   "metadata": {},
   "source": [
    " "
   ]
  },
  {
   "cell_type": "code",
   "execution_count": null,
   "metadata": {},
   "outputs": [],
   "source": [
    "count = 0\n",
    "while (count < 5):\n",
    "    print (count)\n",
    "    count = count + 1"
   ]
  },
  {
   "cell_type": "markdown",
   "metadata": {},
   "source": [
    "Your guess: "
   ]
  },
  {
   "cell_type": "markdown",
   "metadata": {},
   "source": [
    " "
   ]
  },
  {
   "cell_type": "code",
   "execution_count": null,
   "metadata": {},
   "outputs": [],
   "source": [
    "total = 0\n",
    "for i in range(4):\n",
    "    total = total + i\n",
    "print (total)"
   ]
  },
  {
   "cell_type": "markdown",
   "metadata": {},
   "source": [
    "Your guess: "
   ]
  },
  {
   "cell_type": "markdown",
   "metadata": {},
   "source": [
    " "
   ]
  },
  {
   "cell_type": "code",
   "execution_count": null,
   "metadata": {},
   "outputs": [],
   "source": [
    "nucs = \"ATnC\"\n",
    "for i in nucs:\n",
    "    print (i)"
   ]
  },
  {
   "cell_type": "markdown",
   "metadata": {},
   "source": [
    "Your guess: "
   ]
  },
  {
   "cell_type": "markdown",
   "metadata": {},
   "source": [
    " "
   ]
  },
  {
   "cell_type": "code",
   "execution_count": null,
   "metadata": {},
   "outputs": [],
   "source": [
    "seq = \"ATCCAT\"\n",
    "newSeq = \"\"\n",
    "for letter in seq:\n",
    "    newSeq = newSeq + letter\n",
    "print (newSeq)"
   ]
  },
  {
   "cell_type": "markdown",
   "metadata": {},
   "source": [
    "Your guess: "
   ]
  },
  {
   "cell_type": "markdown",
   "metadata": {},
   "source": [
    " "
   ]
  },
  {
   "cell_type": "code",
   "execution_count": null,
   "metadata": {},
   "outputs": [],
   "source": [
    "seq = \"ATCCAT\"\n",
    "newSeq = \"\"\n",
    "for letter in seq:\n",
    "    newSeq =  letter + newSeq\n",
    "print (newSeq)"
   ]
  },
  {
   "cell_type": "markdown",
   "metadata": {},
   "source": [
    "Your guess: "
   ]
  },
  {
   "cell_type": "markdown",
   "metadata": {},
   "source": [
    " "
   ]
  },
  {
   "cell_type": "code",
   "execution_count": null,
   "metadata": {},
   "outputs": [],
   "source": [
    "seq = \"AGCTGATGC\"\n",
    "count = 0\n",
    "for letter in seq:\n",
    "    count = count + 1\n",
    "print (count)"
   ]
  },
  {
   "cell_type": "markdown",
   "metadata": {},
   "source": [
    "Your guess: "
   ]
  },
  {
   "cell_type": "markdown",
   "metadata": {},
   "source": [
    " "
   ]
  },
  {
   "cell_type": "code",
   "execution_count": null,
   "metadata": {},
   "outputs": [],
   "source": [
    "seq = \"AGCTGATGC\"\n",
    "count = 0\n",
    "for letter in seq:\n",
    "    if letter == \"T\":\n",
    "        count = count + 1\n",
    "print (count)"
   ]
  },
  {
   "cell_type": "markdown",
   "metadata": {},
   "source": [
    "Your guess: "
   ]
  },
  {
   "cell_type": "markdown",
   "metadata": {},
   "source": [
    " "
   ]
  },
  {
   "cell_type": "markdown",
   "metadata": {},
   "source": [
    "---\n",
    "## 2. Spot the endless loop (1pt)\n",
    "\n",
    "For the following examples, first guess whether or not the loop will be endless. Then run the code to find out (if it doesn't stop within a few seconds, you can assume it's endless).\n",
    "\n",
    "### NOTE: If you hit an endless loop, you will not be able to run anything else until you stop it! Use the kernel interrupt button (square button up top) to stop the execution of the loop. "
   ]
  },
  {
   "cell_type": "code",
   "execution_count": null,
   "metadata": {},
   "outputs": [],
   "source": [
    "count = 0\n",
    "while count < 5:\n",
    "    print (count)\n",
    "print (\"Done\")"
   ]
  },
  {
   "cell_type": "markdown",
   "metadata": {},
   "source": [
    "Endless loop or not? Your guess: "
   ]
  },
  {
   "cell_type": "markdown",
   "metadata": {},
   "source": [
    " "
   ]
  },
  {
   "cell_type": "code",
   "execution_count": null,
   "metadata": {},
   "outputs": [],
   "source": [
    "count = 0\n",
    "while count > 0:\n",
    "    print (count)\n",
    "print (\"Done\")"
   ]
  },
  {
   "cell_type": "markdown",
   "metadata": {},
   "source": [
    "Endless loop or not? Your guess: "
   ]
  },
  {
   "cell_type": "markdown",
   "metadata": {},
   "source": [
    " "
   ]
  },
  {
   "cell_type": "code",
   "execution_count": null,
   "metadata": {},
   "outputs": [],
   "source": [
    "count = 0\n",
    "while count < 10:\n",
    "    print (count)\n",
    "count = count + 1\n",
    "print (\"Done\")"
   ]
  },
  {
   "cell_type": "markdown",
   "metadata": {},
   "source": [
    "Endless loop or not? Your guess: "
   ]
  },
  {
   "cell_type": "markdown",
   "metadata": {},
   "source": [
    " "
   ]
  },
  {
   "cell_type": "code",
   "execution_count": null,
   "metadata": {},
   "outputs": [],
   "source": [
    "count = 10\n",
    "while count > 0:\n",
    "    count = count - 1\n",
    "print (\"Done\")"
   ]
  },
  {
   "cell_type": "markdown",
   "metadata": {},
   "source": [
    "Endless loop or not? Your guess: "
   ]
  },
  {
   "cell_type": "markdown",
   "metadata": {},
   "source": [
    " "
   ]
  },
  {
   "cell_type": "code",
   "execution_count": null,
   "metadata": {},
   "outputs": [],
   "source": [
    "a = True\n",
    "count = 0\n",
    "while a:\n",
    "    count = count + 1\n",
    "print (\"Done\")"
   ]
  },
  {
   "cell_type": "markdown",
   "metadata": {},
   "source": [
    "Endless loop or not? Your guess: "
   ]
  },
  {
   "cell_type": "markdown",
   "metadata": {},
   "source": [
    " "
   ]
  },
  {
   "cell_type": "code",
   "execution_count": null,
   "metadata": {},
   "outputs": [],
   "source": [
    "x = 1\n",
    "while x != 100:\n",
    "    x = x + 5\n",
    "print (\"Done\")"
   ]
  },
  {
   "cell_type": "markdown",
   "metadata": {},
   "source": [
    "Endless loop or not? Your guess: "
   ]
  },
  {
   "cell_type": "markdown",
   "metadata": {},
   "source": [
    " "
   ]
  },
  {
   "cell_type": "code",
   "execution_count": null,
   "metadata": {},
   "outputs": [],
   "source": [
    "x = 1\n",
    "while x <= 100:\n",
    "    x = x + 5\n",
    "print (\"Done\")"
   ]
  },
  {
   "cell_type": "markdown",
   "metadata": {},
   "source": [
    "Endless loop or not? Your guess: "
   ]
  },
  {
   "cell_type": "markdown",
   "metadata": {},
   "source": [
    " "
   ]
  },
  {
   "cell_type": "markdown",
   "metadata": {},
   "source": [
    "---\n",
    "## 3. Simple loop practice (4pts)\n",
    "\n",
    "Write code to accomplish each of the following tasks using a `for` loop or a `while` loop. Choose whichever type of loop you want for each problem (you can try both, if you want extra practice)."
   ]
  },
  {
   "cell_type": "markdown",
   "metadata": {},
   "source": [
    "**(A)** (1pt) Print the integers between 8 and 33, **inclusive**."
   ]
  },
  {
   "cell_type": "code",
   "execution_count": null,
   "metadata": {
    "collapsed": true
   },
   "outputs": [],
   "source": []
  },
  {
   "cell_type": "markdown",
   "metadata": {},
   "source": [
    "**(B)** (1pt) Starting with x = 1, double x until it's greater than 1000. Print each value of x as you go along."
   ]
  },
  {
   "cell_type": "code",
   "execution_count": null,
   "metadata": {
    "collapsed": true
   },
   "outputs": [],
   "source": []
  },
  {
   "cell_type": "markdown",
   "metadata": {},
   "source": [
    "**(C)** (1pt) Print the positive integers less than 500 that are multiples of 13."
   ]
  },
  {
   "cell_type": "code",
   "execution_count": null,
   "metadata": {
    "collapsed": true
   },
   "outputs": [],
   "source": []
  },
  {
   "cell_type": "markdown",
   "metadata": {},
   "source": [
    "**(D)** (1pt) Print each character of the string \"AGTAATCGCGATGAATACCATCGCAGCC\" on a separate line."
   ]
  },
  {
   "cell_type": "code",
   "execution_count": null,
   "metadata": {
    "collapsed": true
   },
   "outputs": [],
   "source": []
  },
  {
   "cell_type": "markdown",
   "metadata": {},
   "source": [
    "---\n",
    "## 4. Guess the output: scope practice (2pts)\n",
    "\n",
    "Refer to the code below to answer the following questions:"
   ]
  },
  {
   "cell_type": "code",
   "execution_count": null,
   "metadata": {},
   "outputs": [],
   "source": [
    "def fancy_calc(a, b, c):\n",
    "    x1 = basic_calc(a,b)\n",
    "    x2 = basic_calc(b,c)\n",
    "    x3 = basic_calc(c,a)\n",
    "    z = x1 * x2 * x3\n",
    "    return z\n",
    "\n",
    "def basic_calc(x, y):\n",
    "    result = x + y\n",
    "    return result\n",
    "\n",
    "x = 1\n",
    "y = 2\n",
    "z = 3\n",
    "result = fancy_calc(x, y, z)"
   ]
  },
  {
   "cell_type": "markdown",
   "metadata": {},
   "source": [
    "**(A)** List the line numbers of the code above in the order that they will be **executed**. If a line will be executed more than once, list it each time. \n",
    "\n",
    "**NOTE**: Select the cell above and hit \"L\" to activate line numbering!"
   ]
  },
  {
   "cell_type": "markdown",
   "metadata": {},
   "source": [
    "**(B)** Guess the output if you were to run each of the following pieces of code immediately after running the code above. Then run the code to see if you're right. (Remember to run the code above first)"
   ]
  },
  {
   "cell_type": "code",
   "execution_count": null,
   "metadata": {},
   "outputs": [],
   "source": [
    "print(x)"
   ]
  },
  {
   "cell_type": "markdown",
   "metadata": {},
   "source": [
    "Your guess: "
   ]
  },
  {
   "cell_type": "code",
   "execution_count": null,
   "metadata": {},
   "outputs": [],
   "source": [
    "print(z)"
   ]
  },
  {
   "cell_type": "markdown",
   "metadata": {},
   "source": [
    "Your guess: "
   ]
  },
  {
   "cell_type": "code",
   "execution_count": null,
   "metadata": {},
   "outputs": [],
   "source": [
    "print(x1)"
   ]
  },
  {
   "cell_type": "markdown",
   "metadata": {},
   "source": [
    "Your guess: "
   ]
  },
  {
   "cell_type": "code",
   "execution_count": null,
   "metadata": {},
   "outputs": [],
   "source": [
    "print(result)"
   ]
  },
  {
   "cell_type": "markdown",
   "metadata": {},
   "source": [
    "Your guess: "
   ]
  },
  {
   "cell_type": "markdown",
   "metadata": {},
   "source": [
    "---\n",
    "## 5. Writing and using custom functions (4pts)"
   ]
  },
  {
   "cell_type": "markdown",
   "metadata": {},
   "source": [
    "**(A)** (1pt) Create a function called \"gc\" that takes a single sequence as a parameter and returns the GC content of the sequence (as a 2 decimal place float). GC content is the number of G's and C's in a DNA sequence divided by the total sequence length."
   ]
  },
  {
   "cell_type": "code",
   "execution_count": null,
   "metadata": {},
   "outputs": [],
   "source": []
  },
  {
   "cell_type": "markdown",
   "metadata": {},
   "source": [
    "**(B)** (1pt) Create a function called \"reverse_compl\" that takes a single sequence as a parameter and returns the reverse complement. This means changing each nucleotide to its complement (A->T, T->A, G->C, C->G) and reversing the entire sequence. \n",
    "\n",
    "*Hint: we've already touched on everything you need to know to do this -- see problem 1 above for some clues!*\n",
    "\n",
    "**[ Check your answer ]** Spot check this by creating your own sequence and its reverse complement and make sure it looks correct."
   ]
  },
  {
   "cell_type": "code",
   "execution_count": null,
   "metadata": {},
   "outputs": [],
   "source": []
  },
  {
   "cell_type": "markdown",
   "metadata": {},
   "source": [
    "**(C)** (1pt) Unit tests are tests written and run by programmers to ensure that a section of an application (AKA the \"unit\") meets its design and behaves as intended. Run the code below, which is an example of a unit test, to show that your functions worked. Try to fix them if they have problems."
   ]
  },
  {
   "cell_type": "code",
   "execution_count": null,
   "metadata": {},
   "outputs": [],
   "source": [
    "##### testing gc\n",
    "gcCont = gc(\"ATGGGCCCAATGG\")\n",
    "\n",
    "if type(gcCont) != float:\n",
    "    print(\">> Problem with gc: answer is not a float, it is a %s.\" % type(gcCont))\n",
    "elif gcCont != 0.62:\n",
    "    print(\">> Problem with gc: incorrect answer (should be 0.62; your code gave\", gcCont, \")\")  \n",
    "else:\n",
    "    print(\"gc: Passed.\")\n",
    "    \n",
    "##### testing reverse_compl\n",
    "revCompl = reverse_compl(\"GGGGTCGATGCAAATTCAAA\")\n",
    "\n",
    "if type(revCompl) != str:\n",
    "        print (\">> Problem with reverse_compl: answer is not a string, it is a %s.\" % type(revCompl))  \n",
    "elif revCompl != \"TTTGAATTTGCATCGACCCC\":\n",
    "    print (\">> Problem with reverse_compl: answer (%s) does not match expected (%s)\" % (revCompl, \"TTTGAATTTGCATCGACCCC\"))       \n",
    "else:\n",
    "    print (\"reverse_compl: Passed.\")"
   ]
  },
  {
   "cell_type": "markdown",
   "metadata": {},
   "source": [
    "---\n",
    "## 6. File reading and processing (6pts)\n",
    "\n",
    "For these problems, use the file `sequences.txt` provided on Piazza. This file contains several DNA sequences of different lengths. You can assume each sequence is on a separate line.\n",
    "\n",
    "Note: I recommend saving `sequences.txt` in the same directory as this notebook to make things easier. "
   ]
  },
  {
   "cell_type": "markdown",
   "metadata": {},
   "source": [
    "**(A)** (1pt) Using a loop, read in each sequence from the file and print it. Make sure to remove any newline characters (\\n) while reading in the data."
   ]
  },
  {
   "cell_type": "code",
   "execution_count": null,
   "metadata": {
    "collapsed": true
   },
   "outputs": [],
   "source": []
  },
  {
   "cell_type": "markdown",
   "metadata": {},
   "source": [
    "**(B)** (1pt) Now, instead of printing the sequences themselves, print the *length* of each sequence. At the end, print the average length of the sequences.\n",
    "\n",
    "*Hint: use the concept of an \"accumulator\" variable to help with computing the average, and watch out for integer division!*\n",
    "\n",
    "**[ Check your answer ]** You should get 77.56 as the average."
   ]
  },
  {
   "cell_type": "code",
   "execution_count": null,
   "metadata": {
    "collapsed": true
   },
   "outputs": [],
   "source": []
  },
  {
   "cell_type": "markdown",
   "metadata": {},
   "source": [
    "**(C)** (2pts) Instead of printing lengths, print the GC content of each sequence rounded to the 2nd decimal place using the custom function you made in problem 5. At the end print the average GC content rounded to 2 decimal places. \n",
    "\n",
    "**[ Check your answer ]** You should get 0.49 as the average."
   ]
  },
  {
   "cell_type": "code",
   "execution_count": null,
   "metadata": {
    "collapsed": true
   },
   "outputs": [],
   "source": []
  },
  {
   "cell_type": "markdown",
   "metadata": {},
   "source": [
    "**(D)** (2pts) Convert each sequence to its reverse complement and print it using the custom function you made in problem 5. "
   ]
  },
  {
   "cell_type": "code",
   "execution_count": null,
   "metadata": {
    "collapsed": true
   },
   "outputs": [],
   "source": []
  },
  {
   "cell_type": "markdown",
   "metadata": {},
   "source": [
    "---\n",
    "## 5. Guessing game (2pts)\n",
    "\n",
    "Write code that plays a number guessing game with the user. The code will loop until the user gets the number right or quits. Follow the directions below.\n",
    "\n",
    "- First, have your program generate a random integer between 1 and 20 (the \"secret number\").\n",
    "- Then prompt the user `\"Guess a number between 1 and 20 (enter 0 to quit): \"` \n",
    "- Read in their answer with `raw_input()` (recall that you'll need to convert the return value to an `int`) and save it in a variable\n",
    "- Compare their guess to your \"secret number\":\n",
    "    - If the guess is correct, print `\"You got it!\"` and end the loop. \n",
    "    - If the guess is higher than the secret number, print `\"Too high!\"` and allow the user to keep guessing. \n",
    "    - If the guess is lower than the secret number, print `\"Too low!\"` and allow the user to keep guessing. \n",
    "    - If they entered 0, print `\"Ending program\"` and end the loop.\n",
    "\n",
    "*Tip: It will be easier for you to test your program if you initially set the secret number to be a number of your choosing instead of something random. Then when you run the program, you will know if the responses are correct. Make sure to test all possibilities (higher, lower, equal, zero). Once you're sure the logic is correct, you can change the secret number to random generation.*"
   ]
  },
  {
   "cell_type": "code",
   "execution_count": null,
   "metadata": {
    "collapsed": true
   },
   "outputs": [],
   "source": []
  },
  {
   "cell_type": "markdown",
   "metadata": {},
   "source": [
    "---\n",
    "## 6. Family simulation (5pts)\n",
    "\n",
    "Use a simulation to determine the average number of children in a family if all families had children until they had a girl (and then stopped). Assume equal probability of girls and boys and use a random generator to simulate each birth. Simulate 10,000 families and output the average number of children they had. Your answer should be close to 2.\n",
    "\n",
    "*Note: I'm purposely not giving any step by step instructions here because I'd like you to practice translating a word problem into code. It may help if you try break down the problem into smaller parts first. For example, see if you can simulate just one family first, then once that's working, add code to make it run through 10,000 families. Alternatively, you might feel more comfortable writing code to print \"hi\" 10,000 times, and then replace \"print hi\" with code for simulating each family. Do whatever makes the problem feel more manageable to you. Learning to break down big problems into smaller parts like this is an essential skill for programming, so I encourage you to work through this. If you get it, then I think it's safe to say you've mastered the material in this lesson and are well on your way to becoming a true programmer!*\n",
    "\n",
    "**I'll give partial credit for good efforts!**"
   ]
  },
  {
   "cell_type": "code",
   "execution_count": null,
   "metadata": {
    "collapsed": true
   },
   "outputs": [],
   "source": []
  },
  {
   "cell_type": "markdown",
   "metadata": {},
   "source": [
    "---\n",
    "## Extra Problems (0pts)\n",
    "\n",
    "The following problems are for people who would like more practice. They will not be counted for points."
   ]
  },
  {
   "cell_type": "markdown",
   "metadata": {},
   "source": [
    "**(A) Computing factorials.** The factorial of a number *n* is defined as: \n",
    "```\n",
    "n! = n * (n - 1) * (n - 2) * ... * 1\n",
    "```\n",
    "Prompt the user to enter a positive integer and then output the factorial of that number. Do not use any modules (i.e. don't use the factorial function in the math module)!"
   ]
  },
  {
   "cell_type": "code",
   "execution_count": null,
   "metadata": {
    "collapsed": true
   },
   "outputs": [],
   "source": []
  },
  {
   "cell_type": "markdown",
   "metadata": {},
   "source": [
    "**(B) Fibonacci sequence.** The Fibonacci sequence is a series where each number is the sum of pervious two numbers. The first two numbers are always 0 and 1. So for example, the first 10 numbers of the series are: 0, 1, 1, 2, 3, 5, 8, 13, 21, 34. Prompt the user to enter a positive integer, and then output that number of terms in the Fibonacci sequence."
   ]
  },
  {
   "cell_type": "code",
   "execution_count": null,
   "metadata": {
    "collapsed": true
   },
   "outputs": [],
   "source": []
  },
  {
   "cell_type": "markdown",
   "metadata": {},
   "source": [
    "**(C) Counting mutations.** Prompt the user to input two DNA sequences of the same length. Count up the number of nucleotides that differ between the sequences and output this number. \n",
    "\n",
    "**[ Check your answer ]** Try the following to check that your program is correct: <br>\n",
    "Seq1 = `AAGTCGTACA` <br>\n",
    "Seq2 = `AAGTCGGACG` <br>\n",
    "Num differences: 2\n",
    "\n",
    "Seq1 = `GTGTGATGAGCGCGACA` <br>\n",
    "Seq2 = `GAAAGATGAGCGTGTCA` <br>\n",
    "Num differences: 5"
   ]
  },
  {
   "cell_type": "code",
   "execution_count": null,
   "metadata": {
    "collapsed": true
   },
   "outputs": [],
   "source": []
  },
  {
   "cell_type": "markdown",
   "metadata": {},
   "source": [
    "**(D) Exact motif search.** Prompt the user to input a \"reference\" sequence (a longish DNA sequence) and a \"query\" (a shorter DNA sequence). Print out the locations (nt position) of all exact matches (if any) of the query within the reference.\n",
    "\n",
    "There are shortcuts for doing this in Python, such as the `.find()` function, but see if you can do it without such things.\n",
    "\n",
    "**[ Check your answer ]** <br>\n",
    "Reference: `ATGCGCTAAAGCGCTAGATCTCTAGCTAAAGCTAGCTTATTCGGATGGGCTAG` <br>\n",
    "Query: `AAAGC` <br>\n",
    "Matches at position 7 and 27 within the reference (counting starting at 0)\n"
   ]
  },
  {
   "cell_type": "code",
   "execution_count": null,
   "metadata": {
    "collapsed": true
   },
   "outputs": [],
   "source": []
  }
 ],
 "metadata": {
  "anaconda-cloud": {},
  "kernelspec": {
   "display_name": "Python 3",
   "language": "python",
   "name": "python3"
  },
  "language_info": {
   "codemirror_mode": {
    "name": "ipython",
    "version": 3
   },
   "file_extension": ".py",
   "mimetype": "text/x-python",
   "name": "python",
   "nbconvert_exporter": "python",
   "pygments_lexer": "ipython3",
   "version": "3.7.1"
  }
 },
 "nbformat": 4,
 "nbformat_minor": 1
}
