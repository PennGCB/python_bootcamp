{
 "cells": [
  {
   "cell_type": "markdown",
   "metadata": {},
   "source": [
    "# In class group activity\n",
    "## Create primers to PCR the given cDNA sequence"
   ]
  },
  {
   "cell_type": "markdown",
   "metadata": {},
   "source": [
    "**Instructions**\n",
    "* Work in groups of 2-3"
   ]
  },
  {
   "cell_type": "markdown",
   "metadata": {},
   "source": [
    "**Names:**"
   ]
  },
  {
   "cell_type": "markdown",
   "metadata": {},
   "source": [
    "### Assignment\n",
    "You have been given the cDNA sequence for a gene and its flanking 5' UTR and 3' UTR sequences"
   ]
  },
  {
   "cell_type": "markdown",
   "metadata": {},
   "source": [
    "**Part1:** Read in the file `Homo_sapiens_sequence.fa` and assign 3 string variables the sequence of the cDNA, 3' UTR, and 5' UTR. Note the unique format of fasta files. It is important to understand how to process these files as they are used often in biology."
   ]
  },
  {
   "cell_type": "code",
   "execution_count": 1,
   "metadata": {},
   "outputs": [
    {
     "name": "stdout",
     "output_type": "stream",
     "text": [
      "cdna: AATATTAGAGTCTCAACCCCCAATAAATATAGGACTGGAGATGTCTGAGGCTCATTCTGCCCTCGAGCCCACCGGGAACGAAAGAGAAGCTCTATCTCCCCTCCAGGAGCCCAGCTATGAACTCCTTCTCCACAAGCGCCTTCGGTCCAGTTGCCTTCTCCCTGGGGCTGCTCCTGGTGTTGCCTGCTGCCTTCCCTGCCCCAGTACCCCCAGGAGAAGATTCCAAAGATGTAGCCGCCCCACACAGACAGCCACTCACCTCTTCAGAACGAATTGACAAACAAATTCGGTACATCCTCGACGGCATCTCAGCCCTGAGAAAGGAGACATGTAACAAGAGTAACATGTGTGAAAGCAGCAAAGAGGCACTGGCAGAAAACAACCTGAACCTTCCAAAGATGGCTGAAAAAGATGGATGCTTCCAATCTGGATTCAATGAGGAGACTTGCCTGGTGAAAATCATCACTGGTCTTTTGGAGTTTGAGGTATACCTAGAGTACCTCCAGAACAGATTTGAGAGTAGTGAGGAACAAGCCAGAGCTGTGCAGATGAGTACAAAAGTCCTGATCCAGTTCCTGCAGAAAAAGGCAAAGAATCTAGATGCAATAACCACCCCTGACCCAACCACAAATGCCAGCCTGCTGACGAAGCTGCAGGCACAGAACCAGTGGCTGCAGGACATGACAACTCATCTCATTCTGCGCAGCTTTAAGGAGTTCCTGCAGTCCAGCCTGAGGGCTCTTCGGCAAATGTAGCATGGGCACCTCAGATTGTTGTTGTTAATGGGCATTCCTTCTTCTGGTCAGAAACCTGTCCACTGGGCACAGAACTTATGTTGTTCTCTATGGAGAACTAAAAGTATGAGCGTTAGGACACTATTTTAATTATTTTTAATTTATTAATATTTAAATATGTGAAGCTGAGTTAATTTATGTAAGTCATATTTATATTTTTAAGAAGTACCACTTGAAACATTTTATGTATTAGTTTTGAAATAATAATGGAAAGTGGCTATGCAGTTTGAATATCCTTTGTTTCAGAGCCAGATCATTTCTTGGAAAGTGTAGGCTTACCTCAAATAAATGGCTAACTTATACATATTTTTAAAGAAATATTTATATTGTATTTATATAATGTATAAATGGTTTTTATACCAATAAATGGCATTTT\n",
      "utr3: CATGGGCACCTCAGATTGTTGTTGTTAATGGGCATTCCTTCTTCTGGTCAGAAACCTGTCCACTGGGCACAGAACTTATGTTGTTCTCTATGGAGAACTAAAAGTATGAGCGTTAGGACACTATTTTAATTATTTTTAATTTATTAATATTTAAATATGTGAAGCTGAGTTAATTTATGTAAGTCATATTTATATTTTTAAGAAGTACCACTTGAAACATTTTATGTATTAGTTTTGAAATAATAATGGAAAGTGGCTATGCAGTTTGAATATCCTTTGTTTCAGAGCCAGATCATTTCTTGGAAAGTGTAGGCTTACCTCAAATAAATGGCTAACTTATACATATTTTTAAAGAAATATTTATATTGTATTTATATAATGTATAAATGGTTTTTATACCAATAAATGGCATTTT\n",
      "utr5: AATATTAGAGTCTCAACCCCCAATAAATATAGGACTGGAGATGTCTGAGGCTCATTCTGCCCTCGAGCCCACCGGGAACGAAAGAGAAGCTCTATCTCCCCTCCAGGAGCCCAGCT\n"
     ]
    }
   ],
   "source": [
    "fileName = 'Homo_sapiens_sequence.fa'\n",
    "inFile =  open(fileName)\n",
    "cdna = \"\"\n",
    "utr3 = \"\"\n",
    "utr5 = \"\"\n",
    "button = 0  # if button is 1 then \"cdna\"\n",
    "            # if button is 2 then \"utr3\"\n",
    "            # if button is 3 then \"utr5\"\n",
    "for line in inFile:\n",
    "    line = line.rstrip('\\n')\n",
    "    if line == \">cdna\":\n",
    "        button=1\n",
    "    elif line == \">utr3\":\n",
    "        button=2\n",
    "    elif line == \">utr5\":\n",
    "        button=3\n",
    "    else:\n",
    "        if button == 1:\n",
    "            cdna = cdna + line\n",
    "        elif button == 2:\n",
    "            utr3 = utr3 + line\n",
    "        elif button == 3:\n",
    "            utr5 = utr5 + line\n",
    "print(\"cdna: \"+ cdna)\n",
    "print(\"utr3: \"+ utr3)\n",
    "print(\"utr5: \"+ utr5)"
   ]
  },
  {
   "cell_type": "code",
   "execution_count": 3,
   "metadata": {},
   "outputs": [
    {
     "name": "stdout",
     "output_type": "stream",
     "text": [
      "cdna: AATATTAGAGTCTCAACCCCCAATAAATATAGGACTGGAGATGTCTGAGGCTCATTCTGCCCTCGAGCCCACCGGGAACGAAAGAGAAGCTCTATCTCCCCTCCAGGAGCCCAGCTATGAACTCCTTCTCCACAAGCGCCTTCGGTCCAGTTGCCTTCTCCCTGGGGCTGCTCCTGGTGTTGCCTGCTGCCTTCCCTGCCCCAGTACCCCCAGGAGAAGATTCCAAAGATGTAGCCGCCCCACACAGACAGCCACTCACCTCTTCAGAACGAATTGACAAACAAATTCGGTACATCCTCGACGGCATCTCAGCCCTGAGAAAGGAGACATGTAACAAGAGTAACATGTGTGAAAGCAGCAAAGAGGCACTGGCAGAAAACAACCTGAACCTTCCAAAGATGGCTGAAAAAGATGGATGCTTCCAATCTGGATTCAATGAGGAGACTTGCCTGGTGAAAATCATCACTGGTCTTTTGGAGTTTGAGGTATACCTAGAGTACCTCCAGAACAGATTTGAGAGTAGTGAGGAACAAGCCAGAGCTGTGCAGATGAGTACAAAAGTCCTGATCCAGTTCCTGCAGAAAAAGGCAAAGAATCTAGATGCAATAACCACCCCTGACCCAACCACAAATGCCAGCCTGCTGACGAAGCTGCAGGCACAGAACCAGTGGCTGCAGGACATGACAACTCATCTCATTCTGCGCAGCTTTAAGGAGTTCCTGCAGTCCAGCCTGAGGGCTCTTCGGCAAATGTAGCATGGGCACCTCAGATTGTTGTTGTTAATGGGCATTCCTTCTTCTGGTCAGAAACCTGTCCACTGGGCACAGAACTTATGTTGTTCTCTATGGAGAACTAAAAGTATGAGCGTTAGGACACTATTTTAATTATTTTTAATTTATTAATATTTAAATATGTGAAGCTGAGTTAATTTATGTAAGTCATATTTATATTTTTAAGAAGTACCACTTGAAACATTTTATGTATTAGTTTTGAAATAATAATGGAAAGTGGCTATGCAGTTTGAATATCCTTTGTTTCAGAGCCAGATCATTTCTTGGAAAGTGTAGGCTTACCTCAAATAAATGGCTAACTTATACATATTTTTAAAGAAATATTTATATTGTATTTATATAATGTATAAATGGTTTTTATACCAATAAATGGCATTTT\n",
      "utr3: CATGGGCACCTCAGATTGTTGTTGTTAATGGGCATTCCTTCTTCTGGTCAGAAACCTGTCCACTGGGCACAGAACTTATGTTGTTCTCTATGGAGAACTAAAAGTATGAGCGTTAGGACACTATTTTAATTATTTTTAATTTATTAATATTTAAATATGTGAAGCTGAGTTAATTTATGTAAGTCATATTTATATTTTTAAGAAGTACCACTTGAAACATTTTATGTATTAGTTTTGAAATAATAATGGAAAGTGGCTATGCAGTTTGAATATCCTTTGTTTCAGAGCCAGATCATTTCTTGGAAAGTGTAGGCTTACCTCAAATAAATGGCTAACTTATACATATTTTTAAAGAAATATTTATATTGTATTTATATAATGTATAAATGGTTTTTATACCAATAAATGGCATTTT\n",
      "utr5: AATATTAGAGTCTCAACCCCCAATAAATATAGGACTGGAGATGTCTGAGGCTCATTCTGCCCTCGAGCCCACCGGGAACGAAAGAGAAGCTCTATCTCCCCTCCAGGAGCCCAGCT\n"
     ]
    }
   ],
   "source": [
    "fileName = 'Homo_sapiens_sequence.fa'\n",
    "inFile =  open(fileName)\n",
    "cdna = \"\"\n",
    "utr3 = \"\"\n",
    "utr5 = \"\"\n",
    "cur_seq = \"\"\n",
    "for line in inFile:\n",
    "    line = line.rstrip('\\n')\n",
    "    if line[0] == \">\":\n",
    "        cur_seq = line[1:]\n",
    "    else:\n",
    "        if cur_seq == \"cdna\":\n",
    "            cdna = cdna + line\n",
    "        elif cur_seq == \"utr3\":\n",
    "            utr3 = utr3 + line\n",
    "        elif cur_seq == \"utr5\":\n",
    "            utr5 = utr5 + line\n",
    "print(\"cdna: \"+ cdna)\n",
    "print(\"utr3: \"+ utr3)\n",
    "print(\"utr5: \"+ utr5)"
   ]
  },
  {
   "cell_type": "markdown",
   "metadata": {},
   "source": [
    "**Part2:** Output a list of all possible primers from the 3'UTR/5'UTR sequence that have the following criteria:\n",
    "1. Length of 20 bases\n",
    "2. Start and end with a G/C pairs\n",
    "3. 40-60% G/C content\n",
    "\n",
    "> *Hints*\n",
    "> * Make a function to quickly access the GC content of any primer sequence.\n",
    "> * When you output the 3'UTR primers, make sure they are reverse complemented. Make a function to reverse- complement any primer sequence. "
   ]
  },
  {
   "cell_type": "code",
   "execution_count": 5,
   "metadata": {},
   "outputs": [],
   "source": [
    "#GC content function - where input is a string sequence:\n",
    "\n",
    "def gc_content(sequence):\n",
    "\tcount = 0\n",
    "\tfor base in sequence:\n",
    "\t\tif base ==\"G\" or base == \"C\":\n",
    "\t\t\tcount = count+1\n",
    "\tcontent = float(count)/len(sequence)\n",
    "\treturn (content)"
   ]
  },
  {
   "cell_type": "code",
   "execution_count": 6,
   "metadata": {},
   "outputs": [],
   "source": [
    "def reverse_complement(sequence):\n",
    "\tcomplement = \"\"\n",
    "\tfor base in sequence:\n",
    "\t\tif base == \"A\":\n",
    "\t\t\tcomplement = complement+\"T\"\n",
    "\t\telif base == \"G\":\n",
    "\t\t\tcomplement = complement+\"C\"\t\n",
    "\t\telif base == \"C\":\n",
    "\t\t\tcomplement = complement+\"G\"\n",
    "\t\telif base == \"T\":\n",
    "\t\t\tcomplement = complement+\"A\"\n",
    "\t#google the reverse shortcut\n",
    "\treverse_comp = complement[::-1]\n",
    "\treturn(reverse_comp)"
   ]
  },
  {
   "cell_type": "code",
   "execution_count": 30,
   "metadata": {},
   "outputs": [
    {
     "name": "stdout",
     "output_type": "stream",
     "text": [
      "['CCCAATAAATATAGGACTGG', 'GGACTGGAGATGTCTGAGGC']\n"
     ]
    }
   ],
   "source": [
    "#initialize list of possible primers \n",
    "utr5_primer = []\n",
    "\n",
    "count =0\n",
    "for pos in range(0,len(utr5)-19):\n",
    "\tprimer = utr5[pos:pos+20]\n",
    "\t# determine if the primer starts with the following: \n",
    "    # GG, GC, CC, or CG\n",
    "\tif primer[0:2] == \"GG\" \\\n",
    "        or primer[0:2] == \"GC\" \\\n",
    "        or primer[0:2] == \"CC\" \\\n",
    "        or primer[0:2] == \"CG\":\n",
    "\t\t# determine if the primer ends with the following: \n",
    "        # GG, GC, CC, or CG\n",
    "\t\tif primer[-2:] == \"GG\" or \\\n",
    "            primer[-2:] == \"GC\" or \\\n",
    "            primer[-2:] == \"CC\" or \\\n",
    "            primer[-2:] == \"CG\":\n",
    "\t\t\t#for all passing primers determine their GC content:\n",
    "\t\t\tif gc_content(primer) >= 0.4 and \\\n",
    "                gc_content(primer) <= 0.6:\n",
    "\t\t\t\t# for any primer that passes - \n",
    "                # add to the list of UTR'5 primers\n",
    "\t\t\t\t\tutr5_primer.append(primer)\n",
    "\n",
    "print(utr5_primer) #Students should get the following 2 primers as their answer \n",
    "# ['CCCAATAAATATAGGACTGG', 'GGACTGGAGATGTCTGAGGC']\n"
   ]
  },
  {
   "cell_type": "code",
   "execution_count": 32,
   "metadata": {},
   "outputs": [
    {
     "name": "stdout",
     "output_type": "stream",
     "text": [
      "CCTTCTTCTGGTCAGAAACC\n",
      "GGAGAACTAAAAGTATGAGC\n",
      "GCTATGCAGTTTGAATATCC\n",
      "GGCTTACCTCAAATAAATGG\n",
      "GCTTACCTCAAATAAATGGC\n",
      "['GGTTTCTGACCAGAAGAAGG', 'GCTCATACTTTTAGTTCTCC', 'GGATATTCAAACTGCATAGC', 'CCATTTATTTGAGGTAAGCC', 'GCCATTTATTTGAGGTAAGC']\n"
     ]
    }
   ],
   "source": [
    "# do the same thing for the 3'utr sequence but students should \n",
    "# output the primers as reverse complemented \n",
    "# - they should have a function to do this\n",
    "\n",
    "#initialize list of possible primers \n",
    "utr3_primer = []\n",
    "\n",
    "count =0\n",
    "for pos in range(0,len(utr3)-19):\n",
    "\tprimer = utr3[pos:pos+20]\n",
    "\n",
    "\t\n",
    "\n",
    "\t# determine if the primer starts with the following: GG, GC, CC, or CG\n",
    "\tif primer[0:2] == \"GG\" or \\\n",
    "        primer[0:2] == \"GC\" or \\\n",
    "        primer[0:2] == \"CC\" or \\\n",
    "        primer[0:2] == \"CG\":\n",
    "\t\t# determine if the primer ends with the following: GG, GC, CC, or CG\n",
    "\t\tif primer[-2:] == \"GG\" or \\\n",
    "            primer[-2:] == \"GC\" or \\\n",
    "            primer[-2:] == \"CC\" or \\\n",
    "            primer[-2:] == \"CG\":\n",
    "\t\t\t#for all passing primers determine their GC content:\n",
    "\t\t\tif gc_content(primer) >= 0.4 and gc_content(primer) <= 0.6:\n",
    "\t\t\t\t# for any primer that passes - add to the list of UTR'3 primers\n",
    "\t\t\t\t\tprint(primer)\n",
    "\t\t\t\t\t#print(reverse_complement(primer))\n",
    "\t\t\t\t\tutr3_primer.append(reverse_complement(primer))\n",
    "\n",
    "print(utr3_primer) #Students should get the following 2 primers as their answer \n",
    "\n",
    "#5'3': [\"CCTTCTTCTGGTCAGAAACC\",\"GGAGAACTAAAAGTATGAGC\"]\n",
    "#Reverse-complemented: ['GGTTTCTGACCAGAAGAAGG', 'GCTCATACTTTTAGTTCTCC']\n",
    "\n"
   ]
  },
  {
   "cell_type": "code",
   "execution_count": null,
   "metadata": {},
   "outputs": [],
   "source": []
  }
 ],
 "metadata": {
  "kernelspec": {
   "display_name": "Python 3",
   "language": "python",
   "name": "python3"
  },
  "language_info": {
   "codemirror_mode": {
    "name": "ipython",
    "version": 3
   },
   "file_extension": ".py",
   "mimetype": "text/x-python",
   "name": "python",
   "nbconvert_exporter": "python",
   "pygments_lexer": "ipython3",
   "version": "3.7.1"
  }
 },
 "nbformat": 4,
 "nbformat_minor": 2
}
