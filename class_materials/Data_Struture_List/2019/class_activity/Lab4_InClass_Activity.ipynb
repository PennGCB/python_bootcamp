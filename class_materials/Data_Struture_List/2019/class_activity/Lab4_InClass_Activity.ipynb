{
 "cells": [
  {
   "cell_type": "markdown",
   "metadata": {},
   "source": [
    "# In class group activity\n",
    "## Create primers to PCR the given cDNA sequence"
   ]
  },
  {
   "cell_type": "markdown",
   "metadata": {},
   "source": [
    "**Instructions**\n",
    "* Work in groups of 2-3"
   ]
  },
  {
   "cell_type": "markdown",
   "metadata": {},
   "source": [
    "**Names:**"
   ]
  },
  {
   "cell_type": "markdown",
   "metadata": {},
   "source": [
    "### Assignment\n",
    "You have been given the cDNA sequence for a gene and its flanking 5' UTR and 3' UTR sequences"
   ]
  },
  {
   "cell_type": "markdown",
   "metadata": {},
   "source": [
    "**Part1:** Read in the file `Homo_sapiens_sequence.fa` and assign 3 string variables the sequence of the cDNA, 3' UTR, and 5' UTR. Note the unique format of fasta files. It is important to understand how to process these files as they are used often in biology."
   ]
  },
  {
   "cell_type": "code",
   "execution_count": null,
   "metadata": {},
   "outputs": [],
   "source": []
  },
  {
   "cell_type": "markdown",
   "metadata": {},
   "source": [
    "**Part2:** Output a list of all possible primers from the 3'UTR/5'UTR sequence that have the following criteria:\n",
    "1. Length of 20 bases\n",
    "2. Start AND end with a G/C pair\n",
    "3. 40-60% G/C content\n",
    "\n",
    "> *Hints*\n",
    "> * Make a function to quickly access the GC content of any primer sequence.\n",
    "> * When you output the 3'UTR primers, make sure they are reverse complemented. Make a function to reverse- complement any primer sequence. "
   ]
  },
  {
   "cell_type": "code",
   "execution_count": null,
   "metadata": {},
   "outputs": [],
   "source": []
  }
 ],
 "metadata": {
  "kernelspec": {
   "display_name": "Python 3",
   "language": "python",
   "name": "python3"
  },
  "language_info": {
   "codemirror_mode": {
    "name": "ipython",
    "version": 3
   },
   "file_extension": ".py",
   "mimetype": "text/x-python",
   "name": "python",
   "nbconvert_exporter": "python",
   "pygments_lexer": "ipython3",
   "version": "3.7.1"
  }
 },
 "nbformat": 4,
 "nbformat_minor": 2
}
