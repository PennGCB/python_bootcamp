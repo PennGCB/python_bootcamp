{
 "cells": [
  {
   "cell_type": "markdown",
   "metadata": {},
   "source": [
    "# Programming Bootcamp 2018\n",
    "# Lesson 4 Exercises - ANSWERS\n",
    "---"
   ]
  },
  {
   "cell_type": "code",
   "execution_count": null,
   "metadata": {},
   "outputs": [],
   "source": [
    "str1 = \"Good morning, Mr. Mitsworth.\"\n",
    "print str1\n",
    "\n",
    "parts = str1.split()\n",
    "print parts\n"
   ]
  },
  {
   "cell_type": "code",
   "execution_count": null,
   "metadata": {},
   "outputs": [],
   "source": [
    "oldList = [2, 2, 6, 1, 2, 6]\n",
    "newList = []\n",
    "\n",
    "for item in oldList:\n",
    "    if item not in newList:\n",
    "        newList.append(item)\n",
    "print newList"
   ]
  },
  {
   "cell_type": "markdown",
   "metadata": {},
   "source": [
    "> This is an example of how to remove duplicates."
   ]
  },
  {
   "cell_type": "markdown",
   "metadata": {},
   "source": [
    "---\n",
    "## 2. On your own: Lists (3pts)\n",
    "\n",
    "Write code to accomplish each of the following tasks **using list functions**. Do not copy and paste the list to make changes. ***You must pretend you don't know what's in the list.***"
   ]
  },
  {
   "cell_type": "code",
   "execution_count": 1,
   "metadata": {},
   "outputs": [],
   "source": [
    "# run this first!\n",
    "geneNames = [\"Ppia\", \"Gria2\", \"Mecp2\", \"Omd\", \"Zfp410\", \"Hsp1\", \"Mtap1a\", \"Cfl1\", \n",
    "             \"Slc25a40\", \"Dync1i1\", \"V1ra4\", \"Fmnl1\", \"Mtap2\", \"Atp5b\", \"Olfr259\", \n",
    "             \"Atf3\", \"Vapb\", \"Dhx8\", \"Slc22a15\", \"Orai3\", \"Ifitm7\", \"Kcna2\", \"Timm23\", \"Shank1\"]"
   ]
  },
  {
   "cell_type": "markdown",
   "metadata": {},
   "source": [
    "**(A)** (1pt) Replace the 12th element in `geneNames` with the string `\"Camk2a\"`."
   ]
  },
  {
   "cell_type": "code",
   "execution_count": null,
   "metadata": {},
   "outputs": [],
   "source": [
    "geneNames[11] = \"Camk2a\""
   ]
  },
  {
   "cell_type": "code",
   "execution_count": 4,
   "metadata": {},
   "outputs": [
    {
     "name": "stdout",
     "output_type": "stream",
     "text": [
      "Input some cat names (separate by comma): Rob, Marley,      Cassio, Bob\n",
      " Bob\n"
     ]
    }
   ],
   "source": [
    "import random\n",
    "\n",
    "catNamesStr = raw_input(\"Input some cat names (separate by comma): \")\n",
    "catNamesList = catNamesStr.split(\",\")\n",
    "randNum = random.randint(0, len(catNamesList)-1)  ## the stop parameter for random.randint is different than range\n",
    "print catNamesList[randNum].strip(\"\\n\")"
   ]
  },
  {
   "cell_type": "markdown",
   "metadata": {},
   "source": [
    "> Note: if you want to strip off the extra whitespace, you can do this:\n",
    "```\n",
    "print catNamesList[randNum].strip(\" \")\n",
    "```"
   ]
  },
  {
   "cell_type": "markdown",
   "metadata": {},
   "source": [
    "---\n",
    "## 6. Cross-referencing (4pts)\n",
    "\n",
    "Here you will extract and print the data from `init_sites.txt` that corresponds to genes with high expression. There isn't gene expression data in `init_sites.txt`, so we'll have to integrate information from another file.\n",
    "\n",
    "- First, use `gene_expr.txt` to create a list of genes with high expression. We'll say high expression is anything >= 50. \n",
    "- Then read through `init_sites.txt` and print the GeneName (2nd column) and PeakScore (11th column) from any line that matches an ID in your high-expression list. \n",
    "- Finally, separately compute the average PeakScore for high expression genes and non-high expression genes. Print both averages to the screen.\n",
    "\n",
    "**[ Check your answer ]** There should be 10 lines corresponding to high-expression genes that you print info about. Your average peak scores should be 4.371 and 4.39325 for high and non-high expression genes, respectively."
   ]
  },
  {
   "cell_type": "code",
   "execution_count": null,
   "metadata": {},
   "outputs": [],
   "source": [
    "initFile = \"init_sites.txt\"\n",
    "exprFile = \"gene_expr.txt\"\n",
    "\n",
    "# create a list of \"high expression\" genes\n",
    "highExpr = []\n",
    "ins = open(exprFile)\n",
    "ins.readline() #skip header\n",
    "for line in ins:\n",
    "    line = line.rstrip('\\n')\n",
    "    lineParts = line.split()\n",
    "    if float(lineParts[1]) >= 50:\n",
    "        highExpr.append(lineParts[0])\n",
    "ins.close()\n",
    "\n",
    "# average the peak scores for high vs low genes\n",
    "highExprTotal = 0\n",
    "highExprCount = 0\n",
    "lowExprTotal = 0\n",
    "lowExprCount = 0\n",
    "\n",
    "ins = open(initFile, 'r')\n",
    "ins.readline() #skip header\n",
    "for line in ins:\n",
    "    line = line.rstrip('\\n')\n",
    "    lineParts = line.split()\n",
    "    if lineParts[0] in highExpr:\n",
    "        print lineParts[1], \"\\t\", lineParts[10]\n",
    "        highExprTotal = highExprTotal + float(lineParts[10])\n",
    "        highExprCount = highExprCount + 1\n",
    "    else:\n",
    "        lowExprTotal = lowExprTotal + float(lineParts[10])\n",
    "        lowExprCount = lowExprCount + 1\n",
    "ins.close()\n",
    "\n",
    "print \"\"\n",
    "print \"Avg PeakScore high expression genes:\", float(highExprTotal) / highExprCount\n",
    "print \"Avg PeakScore low expression genes:\", float(lowExprTotal) / lowExprCount"
   ]
  },
  {
   "cell_type": "markdown",
   "metadata": {},
   "source": [
    "---\n",
    "## 7. All-against-all comparisons (4pts)\n",
    "\n",
    "A common situation that arises in data analysis is that we have a list of data points and we would like to compare each data point to each other data point. Here, we will write a script that computes the \"distance\" between each pair of strings in a file and outputs a distance matrix. We will define \"distance\" between two strings as the number of mismatches between two strings when they are lined up, divided by their length.\n",
    "\n",
    "First we'll use a toy dataset. We'll create a list as follows:\n",
    "```\n",
    "things = [1, 2, 5, 10, 25, 50]\n",
    "```\n",
    "We'll start off by doing a very simple type of pairwise comparison: taking the numerical difference between two numbers. To systematically do this for all possible pairs of numbers in our list, we can make a nested for loop:"
   ]
  },
  {
   "cell_type": "code",
   "execution_count": null,
   "metadata": {},
   "outputs": [],
   "source": [
    "things = [1, 2, 5, 10, 25, 50]\n",
    "\n",
    "for i in range(len(things)):\n",
    "    for j in range(len(things)):\n",
    "        things[i] != things[j]\n",
    "        print abs(things[i] - things[j]) #absolute value of the difference"
   ]
  },
  {
   "cell_type": "markdown",
   "metadata": {},
   "source": [
    "Try running this code yourself and observe the output. Everything prints out on its own line, which isn't what we want -- we'd usually prefer a matrix-type format. Try this slightly modified code:"
   ]
  },
  {
   "cell_type": "code",
   "execution_count": null,
   "metadata": {},
   "outputs": [],
   "source": [
    "things = [1, 2, 5, 10, 25, 50]\n",
    "\n",
    "for i in range(len(things)):\n",
    "    for j in range(len(things)):\n",
    "        print abs(things[i] - things[j]), \"\\t\",\n",
    "    print \"\""
   ]
  },
  {
   "cell_type": "markdown",
   "metadata": {},
   "source": [
    "This gives us the matrix format we want. Make sure you understand how this code works. FYI, the \"\\t\" is a tab character, and much like \"\\n\", it is invisible once it's printed (it becomes a tab). The comma at the very end of the `print` statement suppresses the \\n that `print` usually adds on to the end.\n",
    "\n",
    "So now we know how to do an all-against-all comparison. But how do we compute the number of mismatches between strings? As long as the strings are the same length, we can do something simple like the following:"
   ]
  },
  {
   "cell_type": "code",
   "execution_count": null,
   "metadata": {},
   "outputs": [],
   "source": [
    "str1 = \"Wilfred\"\n",
    "str2 = \"Manfred\"\n",
    "diffs = 0\n",
    "\n",
    "for k in range(len(str1)):\n",
    "    if str1[k] != str2[k]: #compare the two strings at the same index\n",
    "        diffs = diffs + 1\n",
    "        \n",
    "print \"dist =\", round(float(diffs) / len(str1), 2)"
   ]
  },
  {
   "cell_type": "markdown",
   "metadata": {},
   "source": [
    "So this outputs the distance between the two strings, where the distance is defined as the fraction of the sequence length that is mismatched.\n",
    "\n",
    "**Using these two pieces of code as starting points, complete the following:**"
   ]
  },
  {
   "cell_type": "markdown",
   "metadata": {},
   "source": [
    "**(A)** (2 pt) Create a list of a few short strings *of the same length*. For example:\n",
    "```\n",
    "things = [\"bear\", \"pear\", \"boar\", \"tops\", \"bops\"]\n",
    "```\n",
    "Write code that prints a distance matrix for this list. As in the last example, use the fraction of mismatches between a given pair of words as the measure of their \"distance\" from each other. Round the distances to 2 decimals."
   ]
  },
  {
   "cell_type": "code",
   "execution_count": null,
   "metadata": {},
   "outputs": [],
   "source": [
    "things = [\"bear\", \"pear\", \"boar\", \"tops\", \"bops\"]\n",
    "for i in range(len(things)):\n",
    "    for j in range(len(things)):\n",
    "        str1 = things[i]\n",
    "        str2 = things[j]\n",
    "        diffs = 0\n",
    "        for k in range(len(str1)): ##\n",
    "            if things[i] != things[j]       ##wrong i = 0, j=2  \"bear\" != \"boar\"\n",
    "            if str1[k] != str2[k]: ###right\n",
    "                diffs += 1\n",
    "        print round(float(diffs)/len(str1),2), \"\\t\",\n",
    "    print \"\" "
   ]
  },
  {
   "cell_type": "markdown",
   "metadata": {},
   "source": [
    "**(B)** (2 pt) Now, instead of using a hard coded list like you did in (A), create a list of DNA sequences by reading in the file `sequences2.txt`. Compute the distance matrix between these sequences and print the distance matrix. Looking at this matrix, do you see a pair of sequences that are much less \"distant\" from each other than all the rest?"
   ]
  },
  {
   "cell_type": "code",
   "execution_count": null,
   "metadata": {
    "scrolled": true
   },
   "outputs": [],
   "source": [
    "# create list of sequences\n",
    "things = []\n",
    "ins = open(\"sequences2.txt\", 'r')\n",
    "for line in ins:\n",
    "    line = line.rstrip('\\n')\n",
    "    things.append(line)\n",
    "ins.close()\n",
    "\n",
    "# create distance matrix\n",
    "for i in range(len(things)):\n",
    "    for j in range(len(things)):\n",
    "        str1 = things[i]\n",
    "        str2 = things[j]\n",
    "        diffs = 0\n",
    "        for k in range(len(str1)):\n",
    "            if str1[k] != str2[k]:\n",
    "                diffs += 1\n",
    "        print round(float(diffs)/len(str1),2), \"\\t\",\n",
    "    print \"\" "
   ]
  }
 ],
 "metadata": {
  "anaconda-cloud": {},
  "kernelspec": {
   "display_name": "Python 3",
   "language": "python",
   "name": "python3"
  },
  "language_info": {
   "codemirror_mode": {
    "name": "ipython",
    "version": 3
   },
   "file_extension": ".py",
   "mimetype": "text/x-python",
   "name": "python",
   "nbconvert_exporter": "python",
   "pygments_lexer": "ipython3",
   "version": "3.7.1"
  }
 },
 "nbformat": 4,
 "nbformat_minor": 1
}
