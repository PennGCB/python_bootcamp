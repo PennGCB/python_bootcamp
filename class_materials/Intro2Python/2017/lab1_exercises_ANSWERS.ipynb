{
 "cells": [
  {
   "cell_type": "markdown",
   "metadata": {},
   "source": [
    "# Programming Bootcamp 2016\n",
    "# Lesson 1 Exercises -- ANSWER KEY\n",
    "---"
   ]
  },
  {
   "cell_type": "markdown",
   "metadata": {},
   "source": [
    "---\n",
    "** Notes on using this notebook **\n",
    "\n",
    "- Cells with `In []` next to them are code cells. Run code using Ctrl+Enter (or Shift+Enter)\n",
    "- In places where it says \"Your guess\" or \"Your answer\", double click to edit the cell with your answer.\n",
    "- I will often provide you with expected output for a given problem. Use this to check that your code is correct.\n",
    "- If the directions for a question don't specify a particular way of doing things, this means you can do it however you want (within reason). For example, if I don't specifically say \"print using one line of code\", then you can print using multiple print statements if you want."
   ]
  },
  {
   "cell_type": "markdown",
   "metadata": {
    "collapsed": true
   },
   "source": [
    "---\n",
    "## 1. Guess the output: print statement practice (1pt)\n",
    "\n",
    "For the following blocks of code, **first try to guess what the output will be**, and then run the code yourself. These examples may introduce some ideas and common pitfalls that were not explicitly covered in the lecture, so be sure to complete this section. Points will be given for filling in the guesses; guessing wrong won't be penalized."
   ]
  },
  {
   "cell_type": "markdown",
   "metadata": {},
   "source": [
    "> **I will add some comments on the ones that might have been the most confusing...**"
   ]
  },
  {
   "cell_type": "code",
   "execution_count": 1,
   "metadata": {},
   "outputs": [
    {
     "name": "stdout",
     "output_type": "stream",
     "text": [
      "what's up\n"
     ]
    }
   ],
   "source": [
    "print (\"what's\", \"up\")"
   ]
  },
  {
   "cell_type": "code",
   "execution_count": 2,
   "metadata": {},
   "outputs": [
    {
     "name": "stdout",
     "output_type": "stream",
     "text": [
      "what'sup\n"
     ]
    }
   ],
   "source": [
    "print (\"what's\" + \"up\")"
   ]
  },
  {
   "cell_type": "code",
   "execution_count": 3,
   "metadata": {},
   "outputs": [
    {
     "name": "stdout",
     "output_type": "stream",
     "text": [
      "I have 5 cats\n"
     ]
    }
   ],
   "source": [
    "print (\"I have\", 5, \"cats\")"
   ]
  },
  {
   "cell_type": "code",
   "execution_count": 5,
   "metadata": {},
   "outputs": [
    {
     "ename": "TypeError",
     "evalue": "must be str, not int",
     "output_type": "error",
     "traceback": [
      "\u001b[0;31m---------------------------------------------------------------------------\u001b[0m",
      "\u001b[0;31mTypeError\u001b[0m                                 Traceback (most recent call last)",
      "\u001b[0;32m<ipython-input-5-df02ab993e02>\u001b[0m in \u001b[0;36m<module>\u001b[0;34m()\u001b[0m\n\u001b[0;32m----> 1\u001b[0;31m \u001b[0mprint\u001b[0m \u001b[0;34m(\u001b[0m\u001b[0;34m\"I have\"\u001b[0m \u001b[0;34m+\u001b[0m \u001b[0;36m5\u001b[0m \u001b[0;34m+\u001b[0m \u001b[0;34m\"cats\"\u001b[0m\u001b[0;34m)\u001b[0m\u001b[0;34m\u001b[0m\u001b[0m\n\u001b[0m",
      "\u001b[0;31mTypeError\u001b[0m: must be str, not int"
     ]
    }
   ],
   "source": [
    "print (\"I have\" + 5 + \"cats\") #You can't add string to an integer!**"
   ]
  },
  {
   "cell_type": "code",
   "execution_count": 6,
   "metadata": {
    "scrolled": true
   },
   "outputs": [
    {
     "name": "stdout",
     "output_type": "stream",
     "text": [
      "-3\n"
     ]
    }
   ],
   "source": [
    "print (9 - 6 * 2)"
   ]
  },
  {
   "cell_type": "code",
   "execution_count": 7,
   "metadata": {
    "scrolled": true
   },
   "outputs": [
    {
     "name": "stdout",
     "output_type": "stream",
     "text": [
      "6\n"
     ]
    }
   ],
   "source": [
    "print ((9 - 6) * 2)"
   ]
  },
  {
   "cell_type": "code",
   "execution_count": 8,
   "metadata": {
    "scrolled": true
   },
   "outputs": [
    {
     "name": "stdout",
     "output_type": "stream",
     "text": [
      "0\n"
     ]
    }
   ],
   "source": [
    "print (24 % 6)"
   ]
  },
  {
   "cell_type": "code",
   "execution_count": 9,
   "metadata": {
    "scrolled": true
   },
   "outputs": [
    {
     "name": "stdout",
     "output_type": "stream",
     "text": [
      "3\n"
     ]
    }
   ],
   "source": [
    "print (24 % 7)"
   ]
  },
  {
   "cell_type": "code",
   "execution_count": 10,
   "metadata": {
    "scrolled": true
   },
   "outputs": [
    {
     "name": "stdout",
     "output_type": "stream",
     "text": [
      "-9\n"
     ]
    }
   ],
   "source": [
    "print (-3 ** 2)"
   ]
  },
  {
   "cell_type": "markdown",
   "metadata": {},
   "source": [
    "> **To make this work properly, you need to do:** `(-3) ** 2`"
   ]
  },
  {
   "cell_type": "markdown",
   "metadata": {},
   "source": [
    " "
   ]
  },
  {
   "cell_type": "code",
   "execution_count": 11,
   "metadata": {
    "scrolled": true
   },
   "outputs": [
    {
     "name": "stdout",
     "output_type": "stream",
     "text": [
      "4.5\n"
     ]
    }
   ],
   "source": [
    "print (9 / 2)"
   ]
  },
  {
   "cell_type": "markdown",
   "metadata": {},
   "source": [
    "**In python 2.7 the answer would be 4 but in python 3 the answer will be 4.5!**"
   ]
  },
  {
   "cell_type": "markdown",
   "metadata": {},
   "source": [
    " "
   ]
  },
  {
   "cell_type": "code",
   "execution_count": 11,
   "metadata": {
    "scrolled": true
   },
   "outputs": [
    {
     "name": "stdout",
     "output_type": "stream",
     "text": [
      "4.5\n"
     ]
    }
   ],
   "source": [
    "print (9.0 / 2) "
   ]
  },
  {
   "cell_type": "markdown",
   "metadata": {},
   "source": [
    "**This line was relevant when python 2.7 was taught to demonstrate how you would want to get a float**"
   ]
  },
  {
   "cell_type": "markdown",
   "metadata": {},
   "source": [
    " "
   ]
  },
  {
   "cell_type": "code",
   "execution_count": 12,
   "metadata": {
    "scrolled": true
   },
   "outputs": [
    {
     "name": "stdout",
     "output_type": "stream",
     "text": [
      "4.5\n"
     ]
    }
   ],
   "source": [
    "print (9 / float(2))"
   ]
  },
  {
   "cell_type": "markdown",
   "metadata": {},
   "source": [
    "**Another way to do!**"
   ]
  },
  {
   "cell_type": "markdown",
   "metadata": {},
   "source": [
    " "
   ]
  },
  {
   "cell_type": "markdown",
   "metadata": {},
   "source": [
    "---\n",
    "## 2. Guess the output: variables practice (1pt)\n",
    "\n",
    "For the following blocks of code, **first try to guess what the output will be**, and then run the code yourself."
   ]
  },
  {
   "cell_type": "code",
   "execution_count": 13,
   "metadata": {
    "scrolled": true
   },
   "outputs": [
    {
     "name": "stdout",
     "output_type": "stream",
     "text": [
      "15\n"
     ]
    }
   ],
   "source": [
    "x = 5\n",
    "print( x * 3)"
   ]
  },
  {
   "cell_type": "code",
   "execution_count": 14,
   "metadata": {
    "scrolled": true
   },
   "outputs": [
    {
     "name": "stdout",
     "output_type": "stream",
     "text": [
      "555\n"
     ]
    }
   ],
   "source": [
    "x = \"5\"\n",
    "print (x * 3)"
   ]
  },
  {
   "cell_type": "markdown",
   "metadata": {},
   "source": [
    "> **Yes, this works! It's a weird shortcut that Python provides for duplicating strings.**"
   ]
  },
  {
   "cell_type": "markdown",
   "metadata": {},
   "source": [
    " "
   ]
  },
  {
   "cell_type": "code",
   "execution_count": 15,
   "metadata": {
    "scrolled": true
   },
   "outputs": [
    {
     "name": "stdout",
     "output_type": "stream",
     "text": [
      "15\n"
     ]
    }
   ],
   "source": [
    "x = \"5\"\n",
    "print (int(x) * 3)"
   ]
  },
  {
   "cell_type": "code",
   "execution_count": 17,
   "metadata": {
    "scrolled": true
   },
   "outputs": [
    {
     "name": "stdout",
     "output_type": "stream",
     "text": [
      "cat\n"
     ]
    }
   ],
   "source": [
    "x = \"cat\"\n",
    "y = x\n",
    "print (y)"
   ]
  },
  {
   "cell_type": "code",
   "execution_count": 18,
   "metadata": {
    "scrolled": true
   },
   "outputs": [
    {
     "name": "stdout",
     "output_type": "stream",
     "text": [
      "dog\n"
     ]
    }
   ],
   "source": [
    "x = \"cat\"\n",
    "y = \"dog\"\n",
    "x = y\n",
    "y = x\n",
    "print( y)"
   ]
  },
  {
   "cell_type": "code",
   "execution_count": 19,
   "metadata": {
    "scrolled": true
   },
   "outputs": [
    {
     "name": "stdout",
     "output_type": "stream",
     "text": [
      "catdog\n"
     ]
    }
   ],
   "source": [
    "x = \"cat\"\n",
    "y = \"dog\"\n",
    "print (x + y)"
   ]
  },
  {
   "cell_type": "code",
   "execution_count": 20,
   "metadata": {
    "scrolled": true
   },
   "outputs": [
    {
     "name": "stdout",
     "output_type": "stream",
     "text": [
      "1\n"
     ]
    }
   ],
   "source": [
    "x = 5\n",
    "x = 1\n",
    "print (x)"
   ]
  },
  {
   "cell_type": "code",
   "execution_count": 21,
   "metadata": {
    "scrolled": true
   },
   "outputs": [
    {
     "name": "stdout",
     "output_type": "stream",
     "text": [
      "5\n"
     ]
    }
   ],
   "source": [
    "x = 5\n",
    "x + 1\n",
    "print (x)"
   ]
  },
  {
   "cell_type": "markdown",
   "metadata": {},
   "source": [
    "> ** Remember that to actually change a variable, you need to use the assignment operator (=). Saying \"x+1\" doesn't overwrite the value of x. We would need to say \"x = x+1\".**"
   ]
  },
  {
   "cell_type": "markdown",
   "metadata": {},
   "source": [
    " "
   ]
  },
  {
   "cell_type": "code",
   "execution_count": 23,
   "metadata": {
    "scrolled": true
   },
   "outputs": [
    {
     "name": "stdout",
     "output_type": "stream",
     "text": [
      "64\n"
     ]
    }
   ],
   "source": [
    "x = 2\n",
    "y = 4\n",
    "print ((x * y) ** x)"
   ]
  },
  {
   "cell_type": "code",
   "execution_count": 22,
   "metadata": {
    "scrolled": true
   },
   "outputs": [
    {
     "name": "stdout",
     "output_type": "stream",
     "text": [
      "4.0\n"
     ]
    }
   ],
   "source": [
    "x = 16\n",
    "print (x ** 0.5)"
   ]
  },
  {
   "cell_type": "markdown",
   "metadata": {},
   "source": [
    "> **Raising something to the power of 0.5 is the same as taking the square root.** *~MATH~*"
   ]
  },
  {
   "cell_type": "markdown",
   "metadata": {},
   "source": [
    " "
   ]
  },
  {
   "cell_type": "markdown",
   "metadata": {},
   "source": [
    "---\n",
    "## 3. On your own: printing (1pt)"
   ]
  },
  {
   "cell_type": "markdown",
   "metadata": {},
   "source": [
    "Write a single line of code that prints your name:"
   ]
  },
  {
   "cell_type": "code",
   "execution_count": 24,
   "metadata": {},
   "outputs": [
    {
     "name": "stdout",
     "output_type": "stream",
     "text": [
      "Raju\n"
     ]
    }
   ],
   "source": [
    "print (\"Raju\")"
   ]
  },
  {
   "cell_type": "markdown",
   "metadata": {},
   "source": [
    "Add a single line of code to what's already below to print the variables `color` and `number`:"
   ]
  },
  {
   "cell_type": "code",
   "execution_count": 25,
   "metadata": {},
   "outputs": [
    {
     "name": "stdout",
     "output_type": "stream",
     "text": [
      "magenta 2715\n"
     ]
    }
   ],
   "source": [
    "color = \"magenta\"\n",
    "number = 2715\n",
    "\n",
    "print (color, number)"
   ]
  },
  {
   "cell_type": "markdown",
   "metadata": {},
   "source": [
    "---\n",
    "## 4. Fix the code (1pt)\n",
    "The following code blocks have bugs. Fix each one so that it runs without error. There may be multiple errors!"
   ]
  },
  {
   "cell_type": "code",
   "execution_count": 26,
   "metadata": {},
   "outputs": [
    {
     "name": "stdout",
     "output_type": "stream",
     "text": [
      "I bought 10 pizzas\n"
     ]
    }
   ],
   "source": [
    "print (\"I bought\", 10, \"pizzas\")"
   ]
  },
  {
   "cell_type": "markdown",
   "metadata": {},
   "source": [
    "> Bug: tried to add together strings and ints.\n",
    "\n",
    "> There's more than one right way to fix this. Above is one option. You could also convert 10 to a string by putting it in quotes or using str(10)"
   ]
  },
  {
   "cell_type": "code",
   "execution_count": 27,
   "metadata": {},
   "outputs": [
    {
     "name": "stdout",
     "output_type": "stream",
     "text": [
      "Joe\n"
     ]
    }
   ],
   "source": [
    "firstPerson = \"Joe\"\n",
    "print (firstPerson)"
   ]
  },
  {
   "cell_type": "markdown",
   "metadata": {},
   "source": [
    "> Bug: illegal variable name (starts with a number)\n",
    "\n",
    "> Fix: change the variable name"
   ]
  },
  {
   "cell_type": "code",
   "execution_count": 28,
   "metadata": {},
   "outputs": [
    {
     "name": "stdout",
     "output_type": "stream",
     "text": [
      "I bought a Banana\n"
     ]
    }
   ],
   "source": [
    "fruit = \"Banana\"\n",
    "print (\"I bought a\", fruit)"
   ]
  },
  {
   "cell_type": "markdown",
   "metadata": {},
   "source": [
    "> Bug: typo in variable name (\"friut\")\n",
    "\n",
    "> Fix: fix typo"
   ]
  },
  {
   "cell_type": "code",
   "execution_count": 29,
   "metadata": {},
   "outputs": [
    {
     "name": "stdout",
     "output_type": "stream",
     "text": [
      "Hello, my name is Wilfred and I am 25 years old.\n"
     ]
    }
   ],
   "source": [
    "age = \"25\"\n",
    "name = \"Wilfred\"\n",
    "introduction = \"Hello, my name is \" + name + \" and I am \" + age + \" years old.\"\n",
    "print (introduction)"
   ]
  },
  {
   "cell_type": "markdown",
   "metadata": {},
   "source": [
    "> Bug 1: Wilfred is not enclosed in quotes. Python thinks it is a variable instead of a string.\n",
    "\n",
    "> Fix 1: Put Wilfred in quotes\n",
    "\n",
    "<br>\n",
    "> Bug 2: Missing a + between age and \" years old.\"\n",
    "\n",
    "> Fix 2: Add the +\n",
    "\n",
    "<br>\n",
    "> Bug 3: print misspelled on last line\n",
    "\n",
    "> Fix 3: fix typo"
   ]
  },
  {
   "cell_type": "markdown",
   "metadata": {},
   "source": [
    "---\n",
    "## 5. Math practice I (1pt)\n",
    "The equation for a line is\n",
    "```\n",
    "y = mx + b\n",
    "```\n",
    "Write code to solve for y for a given m, x, and b. Print the value of y at the end. Use the code below as a starting point, and fill in the rest of the needed code.\n",
    "\n",
    "**[ Check your answer ]** For the given values of m, x, and b below (0.5, 10, 3), you should get the answer 8.0."
   ]
  },
  {
   "cell_type": "code",
   "execution_count": 30,
   "metadata": {},
   "outputs": [
    {
     "name": "stdout",
     "output_type": "stream",
     "text": [
      "8.0\n"
     ]
    }
   ],
   "source": [
    "m = 0.5\n",
    "x = 10\n",
    "b = 3\n",
    "\n",
    "y = m * x + b\n",
    "print (y)"
   ]
  },
  {
   "cell_type": "markdown",
   "metadata": {},
   "source": [
    "---\n",
    "## 6. Math practice II (2pt)\n",
    "The quadratic formula is defined as:"
   ]
  },
  {
   "cell_type": "markdown",
   "metadata": {},
   "source": [
    "$$ x = \\frac{-b \\pm \\sqrt{b^2 - 4ac}}{2a} $$"
   ]
  },
  {
   "cell_type": "markdown",
   "metadata": {},
   "source": [
    "Write code to calculate the quadratic formula for a given a, b, and c. Your code should print both possible values for x (that is, the values produced by doing + or - for the $\\pm$). \n",
    "\n",
    "I haven't told you yet how to find the square root in Python because I'd like you to look this up for yourself! There are actually several different ways -- try googling it.\n",
    "\n",
    "**[ Check your answer ]** For the given values of a, b, and c (-2, 2, 1), you should get the answers -0.366 and 1.366. "
   ]
  },
  {
   "cell_type": "code",
   "execution_count": 31,
   "metadata": {},
   "outputs": [
    {
     "name": "stdout",
     "output_type": "stream",
     "text": [
      "x = -0.3660254037844386 or 1.3660254037844386\n"
     ]
    }
   ],
   "source": [
    "a = -2\n",
    "b = 2\n",
    "c = 1\n",
    "\n",
    "# raising to the 0.5 power is the same as taking the square root.\n",
    "# alternatively, you can use the sqrt() function from the math module.\n",
    "x1 = ( (-b) + (b**2 - 4*a*c) ** 0.5 ) / float(2*a)\n",
    "x2 = ( (-b) - (b**2 - 4*a*c) ** 0.5 ) / float(2*a)\n",
    "\n",
    "print (\"x =\", x1, \"or\", x2)"
   ]
  },
  {
   "cell_type": "markdown",
   "metadata": {},
   "source": [
    "After you verify that your code works, try a few different values of these variables. Note, you will get an error message if $b^2 - 4ac$ is negative, since you can't take the square root of a negative number. This is fine for now -- later we'll go over ways to prevent errors like that from occurring."
   ]
  },
  {
   "cell_type": "markdown",
   "metadata": {},
   "source": [
    "---\n",
    "## 7. Reading user input (1pt)\n",
    "\n",
    "We'll go over this next time, but here's a head start. Run the following code:"
   ]
  },
  {
   "cell_type": "code",
   "execution_count": 33,
   "metadata": {},
   "outputs": [
    {
     "name": "stdout",
     "output_type": "stream",
     "text": [
      "Enter your first name\n",
      "Raju\n",
      "Enter your last name\n",
      "Mishra\n",
      "Welcome, Raju Mishra\n"
     ]
    }
   ],
   "source": [
    "print (\"Enter your first name\")\n",
    "firstName = input()\n",
    "print (\"Enter your last name\")\n",
    "lastName = input()\n",
    "print (\"Welcome,\", firstName, lastName)"
   ]
  },
  {
   "cell_type": "markdown",
   "metadata": {},
   "source": [
    "What happens? What does `input()` do? "
   ]
  },
  {
   "cell_type": "markdown",
   "metadata": {},
   "source": [
    "\n",
    "\n",
    "> `input()` allows you to get user input. Execution pauses until the user enters some text and hits \"enter\". The input is then converted to a string and can be saved in a variable."
   ]
  },
  {
   "cell_type": "markdown",
   "metadata": {},
   "source": [
    "Google it to see if you're right.\n",
    "\n",
    "Here's another way you can use the `input()` function:"
   ]
  },
  {
   "cell_type": "code",
   "execution_count": 34,
   "metadata": {},
   "outputs": [
    {
     "name": "stdout",
     "output_type": "stream",
     "text": [
      "Enter your first name:Raju\n",
      "Enter your last name:Mishra\n",
      "Welcome, Raju Mishra\n"
     ]
    }
   ],
   "source": [
    "firstName = input(\"Enter your first name:\")\n",
    "lastName = input(\"Enter your last name:\")\n",
    "print (\"Welcome,\", firstName, lastName)"
   ]
  },
  {
   "cell_type": "markdown",
   "metadata": {},
   "source": [
    "Run this. What is different about the output?"
   ]
  },
  {
   "cell_type": "markdown",
   "metadata": {},
   "source": [
    "> Now there's a prompt on the same line instead of the line before. (This is not necessarily better, it's just another way of doing it.)"
   ]
  },
  {
   "cell_type": "markdown",
   "metadata": {},
   "source": [
    "Oftentimes we can change the behavior of a function by putting different things within the () braces. The values we put in these braces are called arguments. They're sort of like options that you send along with the function that make it do slightly different things. In this case, `input()` only takes one argument, which is a string that it uses as a \"prompt\". Different function take different types numbers of arguments. We're going to see this a lot in the future, so just keep it in the back of your mind."
   ]
  },
  {
   "cell_type": "markdown",
   "metadata": {},
   "source": [
    "---\n",
    "## 8. Interactive quadratic formula (2pt)\n",
    "\n",
    "Edit your quadratic formula code from problem 6 so that it takes the values of a, b, and c interactively using `input()`.\n",
    "\n",
    "*Hint:* you may have noticed when you looked up `input()` that it reads in everything as a string. So if you input `3.5`, what actually gets read is `\"3.5\"` (a string). This will cause an error when you try to do math using these values. To use them as decimal numbers, we must convert them from strings to floats using the `float()` function. \n",
    "\n",
    "Here's an example of how to do this:\n",
    "```\n",
    "age = input(\"Your age:\")\n",
    "age = float(age)\n",
    "```\n",
    "Or:\n",
    "```\n",
    "age = float(input(\"Your age:\"))\n",
    "```\n",
    "\n",
    "Now, apply this to your quadratic formula code to read in the values of a, b, and c. Check that you still get the correct answer!"
   ]
  },
  {
   "cell_type": "code",
   "execution_count": 35,
   "metadata": {},
   "outputs": [
    {
     "name": "stdout",
     "output_type": "stream",
     "text": [
      "a = 2\n",
      "b = 2\n",
      "c = 2\n",
      "x = (-0.49999999999999994+0.8660254037844386j) or (-0.5-0.8660254037844386j)\n"
     ]
    }
   ],
   "source": [
    "a = float(input(\"a = \"))\n",
    "b = float(input(\"b = \"))\n",
    "c = float(input(\"c = \"))\n",
    "\n",
    "x1 = ( (-b) + (b**2 - 4*a*c) ** 0.5 ) / float(2*a)\n",
    "x2 = ( (-b) - (b**2 - 4*a*c) ** 0.5 ) / float(2*a)\n",
    "print (\"x =\", x1, \"or\", x2)"
   ]
  }
 ],
 "metadata": {
  "anaconda-cloud": {},
  "kernelspec": {
   "display_name": "Python 3",
   "language": "python",
   "name": "python3"
  },
  "language_info": {
   "codemirror_mode": {
    "name": "ipython",
    "version": 3
   },
   "file_extension": ".py",
   "mimetype": "text/x-python",
   "name": "python",
   "nbconvert_exporter": "python",
   "pygments_lexer": "ipython3",
   "version": "3.7.1"
  },
  "name": "Lesson1.ipynb"
 },
 "nbformat": 4,
 "nbformat_minor": 1
}
