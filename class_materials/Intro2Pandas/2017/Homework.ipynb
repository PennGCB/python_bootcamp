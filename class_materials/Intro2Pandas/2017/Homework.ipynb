{
 "cells": [
  {
   "cell_type": "markdown",
   "metadata": {},
   "source": [
    "## Part 1\n",
    "Load the data (https://raw.githubusercontent.com/justmarkham/DAT5/master/data/auto_mpg.txt) \n",
    "into a DataFrame.  Try looking at the \"head\" of the file in the command line\n",
    "to see how the file is delimited and how to load it.\n",
    "Note:  You do not need to turn in any command line code you may use."
   ]
  },
  {
   "cell_type": "code",
   "execution_count": null,
   "metadata": {
    "collapsed": true
   },
   "outputs": [],
   "source": [
    "import pandas as pd\n",
    "import matplotlib.pyplot as plt\n",
    "import numpy as np"
   ]
  },
  {
   "cell_type": "markdown",
   "metadata": {},
   "source": [
    "Refer to https://pandas.pydata.org/pandas-docs/stable/generated/pandas.read_csv.html for pd.read_csv usage"
   ]
  },
  {
   "cell_type": "code",
   "execution_count": null,
   "metadata": {
    "collapsed": false
   },
   "outputs": [],
   "source": [
    "car_data = pd.read_csv('', delimiter='|') #Fill in the correct string"
   ]
  },
  {
   "cell_type": "markdown",
   "metadata": {},
   "source": [
    "Display only the first 5 rows of the dataset hint use .head(number) on the dataframe"
   ]
  },
  {
   "cell_type": "code",
   "execution_count": null,
   "metadata": {
    "collapsed": false
   },
   "outputs": [],
   "source": [
    "car_data."
   ]
  },
  {
   "cell_type": "markdown",
   "metadata": {},
   "source": [
    "## Part 2\n",
    "Get familiar with the data.  Answer the following questions:\n",
    "- What is the shape of the data?  How many rows and columns are there? Hint: use .shape\n",
    "- What variables are available?\n",
    "- What are the ranges for the values in each numeric column? Hint: sort the DataFrame or use min/max\n",
    "- What is the average value for each column?  Does that differ significantly\n",
    "  from the median?"
   ]
  },
  {
   "cell_type": "code",
   "execution_count": null,
   "metadata": {
    "collapsed": false
   },
   "outputs": [],
   "source": [
    "car_data"
   ]
  },
  {
   "cell_type": "markdown",
   "metadata": {},
   "source": [
    "## Part 3\n",
    "Use the data to answer the following questions:\n",
    "- Which 5 cars get the best gas mileage? Provide a DataFrame that only has the cars name and corresponding MPG\n",
    "- Which 5 cars with more than 4 cylinders get the best gas mileage? See if you can figure out how to use > and < operators\n",
    "- Which 5 cars get the worst gas mileage?  \n",
    "- Which 5 cars with 4 or fewer cylinders get the worst gas mileage?"
   ]
  },
  {
   "cell_type": "code",
   "execution_count": null,
   "metadata": {
    "collapsed": false
   },
   "outputs": [],
   "source": [
    "car_data"
   ]
  },
  {
   "cell_type": "markdown",
   "metadata": {},
   "source": [
    "## Part 4 - Group By function\n",
    "- What is the mean mpg for cars with each number of cylindres (i.e. 3 cylinders,\n",
    "  4 cylinders, 5 cylinders, etc)?\n",
    "- Did mpg rise or fall over the years contained in this dataset?"
   ]
  },
  {
   "cell_type": "code",
   "execution_count": null,
   "metadata": {
    "collapsed": false
   },
   "outputs": [],
   "source": [
    "car_data.groupby('').mpg.mean() # fill in the string Hint: it's a column name"
   ]
  },
  {
   "cell_type": "code",
   "execution_count": null,
   "metadata": {
    "collapsed": false
   },
   "outputs": [],
   "source": [
    "car_data.groupby('').mpg.mean() # fill in the string Hint: it's a column name"
   ]
  },
  {
   "cell_type": "markdown",
   "metadata": {},
   "source": [
    "## Part 5 - Quick visualization preview. \n",
    "Python is really powerful. \n",
    "Run the next cell and google the command used and describe what different colors mean and any interestesting relationships between the variables in this dataset."
   ]
  },
  {
   "cell_type": "code",
   "execution_count": null,
   "metadata": {
    "collapsed": false
   },
   "outputs": [],
   "source": [
    "import seaborn as sns; sns.set(style=\"ticks\", color_codes=True)\n",
    "car_plot = sns.pairplot(car_data, hue='origin')\n",
    "plt.show()"
   ]
  },
  {
   "cell_type": "code",
   "execution_count": null,
   "metadata": {
    "collapsed": true
   },
   "outputs": [],
   "source": []
  }
 ],
 "metadata": {
  "anaconda-cloud": {},
  "kernelspec": {
   "display_name": "Python [conda env:tensorflow]",
   "language": "python",
   "name": "conda-env-tensorflow-py"
  },
  "language_info": {
   "codemirror_mode": {
    "name": "ipython",
    "version": 3
   },
   "file_extension": ".py",
   "mimetype": "text/x-python",
   "name": "python",
   "nbconvert_exporter": "python",
   "pygments_lexer": "ipython3",
   "version": "3.5.4"
  }
 },
 "nbformat": 4,
 "nbformat_minor": 1
}
