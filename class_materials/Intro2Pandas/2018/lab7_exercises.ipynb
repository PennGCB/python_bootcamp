{
 "cells": [
  {
   "cell_type": "markdown",
   "metadata": {},
   "source": [
    "# Programming Bootcamp 2018\n",
    "# Lesson 7 Exercises\n",
    "---"
   ]
  },
  {
   "cell_type": "markdown",
   "metadata": {},
   "source": [
    "** 22 Earning points (optional) **\n",
    "- These excercises use the following files:\n",
    " * sequences3.txt\n",
    " * codon_table.txt\n",
    " * horrible.fasta"
   ]
  },
  {
   "cell_type": "code",
   "execution_count": null,
   "metadata": {},
   "outputs": [],
   "source": [
    "**Earning points (optional)**\n",
    "\n",
    "If you would like to get points/feedback for your work, please **submit your notebook to Piazza**. To do this, follow these steps:\n",
    "\n",
    "1. Click \"New Post\"\n",
    "2. For \"Post Type\" select `Question`\n",
    "3. For \"Post to\" select `Individual Student(s)/Instructors(s)`\n",
    "4. Where is says \"Enter one or more names...\" type `Instructors`\n",
    "5. For \"Select Folder(s)\" select `lab7`\n",
    "6. In \"Summary\" type in \"[Your Full Name] Lab7 Submission\"\n",
    "7. In the \"Details\" click \"Insert\" > \"Insert File\" and then insert your python notebook.\n",
    "8. You can then write whatever else you want in the Summary.\n",
    "9. Then click \"Post My Question to PROGRAMMING BOOTCAMP!\":\n",
    "\n",
    "Please also **write your name below**. "
   ]
  },
  {
   "cell_type": "markdown",
   "metadata": {},
   "source": [
    "**Name**: "
   ]
  },
  {
   "cell_type": "markdown",
   "metadata": {},
   "source": [
    "---\n",
    "## 1. Guess the output: DataFrame practice (1pt)\n",
    "\n",
    "For the following blocks of code, first try to guess what the output will be, and then run the code yourself. Points will be given for filling in the guesses; guessing wrong won't be penalized."
   ]
  },
  {
   "cell_type": "code",
   "execution_count": null,
   "metadata": {},
   "outputs": [],
   "source": [
    "# run this cell first!\n",
    "import pandas as pd\n",
    "\n",
    "peoples_df = pd.DataFrame({\"gender\":[\"F\",\"F\",\"M\",\"F\"],\n",
    "                          \"age\":[26,26,26,25]},\n",
    "                          index=[\"Sam\",\"Raju\",\"Scott\",\"Apexa\"])\n",
    "\n",
    "peoples_df"
   ]
  },
  {
   "cell_type": "code",
   "execution_count": null,
   "metadata": {},
   "outputs": [],
   "source": [
    "print peoples_df.loc[\"Scott\",\"gender\"]"
   ]
  },
  {
   "cell_type": "markdown",
   "metadata": {},
   "source": [
    "Your guess:"
   ]
  },
  {
   "cell_type": "code",
   "execution_count": null,
   "metadata": {},
   "outputs": [],
   "source": [
    "print peoples_df.iloc[2,1]"
   ]
  },
  {
   "cell_type": "markdown",
   "metadata": {},
   "source": [
    "Your guess:"
   ]
  },
  {
   "cell_type": "code",
   "execution_count": null,
   "metadata": {},
   "outputs": [],
   "source": [
    "print peoples_df.iloc[\"Sam\",0]"
   ]
  },
  {
   "cell_type": "markdown",
   "metadata": {},
   "source": [
    "Your guess:"
   ]
  },
  {
   "cell_type": "code",
   "execution_count": null,
   "metadata": {},
   "outputs": [],
   "source": [
    "print peoples_df.columns"
   ]
  },
  {
   "cell_type": "markdown",
   "metadata": {},
   "source": [
    "Your guess:"
   ]
  },
  {
   "cell_type": "code",
   "execution_count": null,
   "metadata": {},
   "outputs": [],
   "source": [
    "print peoples_df.index"
   ]
  },
  {
   "cell_type": "markdown",
   "metadata": {},
   "source": [
    "Your guess:"
   ]
  },
  {
   "cell_type": "code",
   "execution_count": null,
   "metadata": {},
   "outputs": [],
   "source": [
    "print peoples_df.shape"
   ]
  },
  {
   "cell_type": "markdown",
   "metadata": {},
   "source": [
    "Your guess:"
   ]
  },
  {
   "cell_type": "code",
   "execution_count": null,
   "metadata": {},
   "outputs": [],
   "source": [
    "print peoples_df.loc[peoples_df.loc[:,\"age\"]<26,:]"
   ]
  },
  {
   "cell_type": "markdown",
   "metadata": {},
   "source": [
    "Your guess:"
   ]
  },
  {
   "cell_type": "markdown",
   "metadata": {},
   "source": [
    "---\n",
    "## 2. Obtaining Information from a DataFrame (6 pts)\n",
    "\n",
    "Using the info in the table below, write code to accomplish the following tasks. Note that these and the following questions are similar to questions in lab5 (working with dictionaries), but now we are can accomplish the tasks with pandas DataFrames."
   ]
  },
  {
   "cell_type": "code",
   "execution_count": null,
   "metadata": {},
   "outputs": [],
   "source": [
    "# run this cell first!\n",
    "import pandas as pd\n",
    "\n",
    "favFood_df = pd.DataFrame([\n",
    "    {\"Name\":\"Wilfred\", \"Favorite Food\":\"Steak\"},\n",
    "    {\"Name\":\"Manfred\", \"Favorite Food\":\"Pizza\"},\n",
    "    {\"Name\":\"Wadsworth\", \"Favorite Food\":\"Spaghetti\"},\n",
    "    {\"Name\":\"Jeeves\", \"Favorite Food\":\"Spaghetti\"}\n",
    "])\n",
    "    \n",
    "favFood_df"
   ]
  },
  {
   "cell_type": "markdown",
   "metadata": {},
   "source": [
    "**(A)** (1pt) Using a `for` loop, go through the DataFrame you created above and print each name and food combination in the format:\n",
    "\n",
    "    <NAME>'s favorite food is <FOOD>\n",
    "    \n",
    "Reminder that to get the height of the DataFrame you use the `len()` function"
   ]
  },
  {
   "cell_type": "code",
   "execution_count": null,
   "metadata": {},
   "outputs": [],
   "source": []
  },
  {
   "cell_type": "markdown",
   "metadata": {},
   "source": [
    "**(B)**  (1pt) Print the names of the people who like Spaghetti. (Please do not hard code your answer)\n",
    "\n",
    "Hint: In a pandas Series use the `.values` function to get the values of the Series."
   ]
  },
  {
   "cell_type": "code",
   "execution_count": null,
   "metadata": {},
   "outputs": [],
   "source": []
  },
  {
   "cell_type": "markdown",
   "metadata": {},
   "source": [
    "**(C)** (1pt) TRUE or FALSE, does anyone in the DataFrame like Tuna? (Please do not hard code your answer)"
   ]
  },
  {
   "cell_type": "code",
   "execution_count": null,
   "metadata": {},
   "outputs": [],
   "source": []
  },
  {
   "cell_type": "markdown",
   "metadata": {},
   "source": [
    "**(D)** (1pt) TRUE or FALSE, Does anyone in the DataFrame like Pizza? (Please do not hard code your answer)"
   ]
  },
  {
   "cell_type": "code",
   "execution_count": null,
   "metadata": {},
   "outputs": [],
   "source": []
  },
  {
   "cell_type": "markdown",
   "metadata": {},
   "source": [
    "**(E)** (1pt) Prompt the user with the question \"Whose favorite food do you want to know?\" and if the name is in the DataFrame then report the person's favorite food. Otherwise print \"That name is not in our database\"."
   ]
  },
  {
   "cell_type": "code",
   "execution_count": null,
   "metadata": {},
   "outputs": [],
   "source": []
  },
  {
   "cell_type": "markdown",
   "metadata": {},
   "source": [
    "(F) (1pt) Each row represents a person. Set the row names (indexes) to their Name. It should look like:"
   ]
  },
  {
   "cell_type": "markdown",
   "metadata": {},
   "source": [
    "<table>\n",
    "<col />\n",
    "<thead>\n",
    "<tr>\n",
    "\t<th> </th>\n",
    "\t<th>Favorite Food</th>\n",
    "</tr>\n",
    "<tr>\n",
    "\t<th>Name</th>\n",
    "\t<th> </th>\n",
    "</tr>\n",
    "</thead>\n",
    "<tbody>\n",
    "<tr>\n",
    "\t<th>Wilfred</th>\n",
    "\t<td>Steak</td>\n",
    "</tr>\n",
    "<tr>\n",
    "\t<th>Manfred</th>\n",
    "\t<td>Pizza</td>\n",
    "</tr>\n",
    "<tr>\n",
    "\t<th>Wadsworth</th>\n",
    "\t<td>Spaghetti</td>\n",
    "</tr>\n",
    "<tr>\n",
    "\t<th>Jeeves</th>\n",
    "\t<td>Spaghetti</td>\n",
    "</tr>\n",
    "</tbody>\n",
    "</table>"
   ]
  },
  {
   "cell_type": "markdown",
   "metadata": {},
   "source": [
    "> Note that \"Name\" and \"Favorite Food\" should be on different lines since \"Name\" is the name of the index column and \"Favorite Food\" is the first column name."
   ]
  },
  {
   "cell_type": "code",
   "execution_count": null,
   "metadata": {},
   "outputs": [],
   "source": []
  },
  {
   "cell_type": "markdown",
   "metadata": {},
   "source": [
    "---\n",
    "## 3. The \"Many Counters\" Problem with DataFrames (3pts)\n",
    "**(A)**  (2pt)  Write code that reads a file of sequences and tallies how many sequences there are of each length. Use `sequences3.txt` as input. \n",
    "\n",
    "*Hint: you can use a DataFrames to keep track of all the tallies. For example:*"
   ]
  },
  {
   "cell_type": "code",
   "execution_count": null,
   "metadata": {},
   "outputs": [],
   "source": [
    "# hint code:\n",
    "import pandas as pd\n",
    "\n",
    "tally_df = pd.DataFrame(columns=[\"count\"])\n",
    "seq = \"ATGCTGATCGATATA\"\n",
    "length = len(seq)\n",
    "\n",
    "if length not in list(tally_df.index):\n",
    "    tally_df.loc[length,\"count\"] = 1  #initialize to 1 if this is the first occurrence of the length...\n",
    "else:\n",
    "    tally_df.loc[length,\"count\"] = tally_df.loc[length,\"count\"] + 1   #...otherwise just increment the count.\n",
    "    \n",
    "tally_df"
   ]
  },
  {
   "cell_type": "code",
   "execution_count": null,
   "metadata": {},
   "outputs": [],
   "source": []
  },
  {
   "cell_type": "markdown",
   "metadata": {},
   "source": [
    "**(B)** (1pt) Using the tally DataFrame you created above, figure out which sequence length was the most common, and print it to the screen."
   ]
  },
  {
   "cell_type": "code",
   "execution_count": null,
   "metadata": {},
   "outputs": [],
   "source": []
  },
  {
   "cell_type": "markdown",
   "metadata": {},
   "source": [
    "---\n",
    "## 4. Codon table (6pts)\n",
    "\n",
    "For this question, use `codon_table.txt`, which contains a list of all possible codons and their corresponding amino acids. We will be using this info to create a dictionary, which will allow us to translate a nucleotide sequence into amino acids. Each part of this question builds off the previous parts."
   ]
  },
  {
   "cell_type": "markdown",
   "metadata": {},
   "source": [
    "**(A)** (2pt) Read in `codon_table.txt` (note that it has a header line) into a Pandas DataFrame. Then use `input()` to prompt the user to enter a single codon (e.g. ATG) and print the amino acid corresponding to that codon to the screen."
   ]
  },
  {
   "cell_type": "code",
   "execution_count": null,
   "metadata": {},
   "outputs": [],
   "source": []
  },
  {
   "cell_type": "markdown",
   "metadata": {},
   "source": [
    "**(B)** (2pt) Now we will adapt the code in (A) to translate a longer sequence. Instead of prompting the user for a single codon, allow them to enter a longer sequence. First, check that the sequence they entered has a length that is a multiple of 3 (Hint: use the mod operator, %), and print an error message if it is not. If it is valid, then go on to translate every three nucleotides to an amino acid. Print the final amino acid sequence to the screen."
   ]
  },
  {
   "cell_type": "code",
   "execution_count": null,
   "metadata": {},
   "outputs": [],
   "source": []
  },
  {
   "cell_type": "markdown",
   "metadata": {},
   "source": [
    "**(C)** (2pt) Now, instead of taking user input, you will apply your translator to a set of sequences stored in a file. Read in the sequences from `sequences3.txt` (assume each line is a separate sequence), translate it to amino acids, and print it to a new file called `proteins.txt`."
   ]
  },
  {
   "cell_type": "markdown",
   "metadata": {},
   "source": [
    "---\n",
    "## 5. Using Custom Fuctions to Build a Data Frame (6pts)\n",
    "Last week you learned to build custom functions and then used these functions to write a tab-delimited file with new information. Another way to output a tab-delimited file is to create a pandas DataFrame and then export it to a file."
   ]
  },
  {
   "cell_type": "markdown",
   "metadata": {},
   "source": [
    "**(A)** (1pt) Let's turn a fasta file into a pandas DataFrame. \n",
    "\n",
    "1. Last week you created a function called \"read_fasta\" that takes a file name as a parameter (which is assumed to be in fasta format), puts each fasta entry into a dictionary (using the header line as a key and the sequence as a value), and then returns the dictionary. Copy and paste the \"read_fasta\" function here or write a better version.\n",
    "2. read in \"horrible.fasta\" into a dictionary.\n",
    "3. convert the dictionary into a pandas DataFrame called `horrible_df`. Note that you must set `index=[0]` inside the pandas DataFrame function since the keys of the dictionary only point to a single value. \n",
    "\n",
    "Note that you can use multiple cells for your answer so its easier to read."
   ]
  },
  {
   "cell_type": "code",
   "execution_count": null,
   "metadata": {},
   "outputs": [],
   "source": []
  },
  {
   "cell_type": "markdown",
   "metadata": {},
   "source": [
    "**(B)** (3pts) If you view the DataFrame in jupyter you see that the sequence IDs have become column names. However, we want them to be their own column. Therefore we use the `transpose()` function to rotate the DataFrame 90 degress. Then we `.reset_index()` the DataFrame to move the sequence IDs into a column and reset the row names to integers based on their respective order from top to bottom. Lastly, we can label the columns to \"SeqID\" and \"Seq\" resectively."
   ]
  },
  {
   "cell_type": "code",
   "execution_count": null,
   "metadata": {},
   "outputs": [],
   "source": [
    "horrible_df = horrible_df.transpose() # transpose DataFrame\n",
    "horrible_df = horrible_df.reset_index()# move the sequence IDs into a column\n",
    "horrible_df.columns = [\"SeqID\",\"Seq\"] # give columns their respective labels\n",
    "horrible_df.head() # view top 5 rows of the DataFrame"
   ]
  },
  {
   "cell_type": "markdown",
   "metadata": {},
   "source": [
    "To apply a function to each value in column of a DataFrame we can use the apply function. For example below we can get the length of each sequence using the `len` function:"
   ]
  },
  {
   "cell_type": "code",
   "execution_count": null,
   "metadata": {},
   "outputs": [],
   "source": [
    "horrible_df.loc[:,\"Seq\"].apply(len)"
   ]
  },
  {
   "cell_type": "markdown",
   "metadata": {},
   "source": [
    "Add two columns \"Length\" and \"GC\" to the DataFrame with the length and gc content of each sequence respectively. You can import your custom function \"gc\" from lab6 or create a new one."
   ]
  },
  {
   "cell_type": "code",
   "execution_count": null,
   "metadata": {},
   "outputs": [],
   "source": []
  },
  {
   "cell_type": "markdown",
   "metadata": {},
   "source": [
    "**(C)** (2pts) Update the DataFrame so that it only contains the columns \"SeqID\", \"Length\", and \"GC\". Then export as tab-delimited to a file called \"horrible_df.tsv\". Do not include the row names (also known as the indexes)."
   ]
  },
  {
   "cell_type": "code",
   "execution_count": null,
   "metadata": {},
   "outputs": [],
   "source": []
  }
 ],
 "metadata": {
  "kernelspec": {
   "display_name": "Python 3",
   "language": "python",
   "name": "python3"
  },
  "language_info": {
   "codemirror_mode": {
    "name": "ipython",
    "version": 3
   },
   "file_extension": ".py",
   "mimetype": "text/x-python",
   "name": "python",
   "nbconvert_exporter": "python",
   "pygments_lexer": "ipython3",
   "version": "3.7.1"
  }
 },
 "nbformat": 4,
 "nbformat_minor": 2
}
