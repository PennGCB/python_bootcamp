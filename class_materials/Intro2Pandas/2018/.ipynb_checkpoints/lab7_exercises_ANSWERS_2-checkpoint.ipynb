{
 "cells": [
  {
   "cell_type": "markdown",
   "metadata": {},
   "source": [
    "# Programming Bootcamp 2018\n",
    "# Lesson 7 Exercises\n",
    "---"
   ]
  },
  {
   "cell_type": "markdown",
   "metadata": {},
   "source": [
    "** Earning points (optional) **\n",
    "\n",
    "- Enter your name below.\n",
    "- Post your notebook privately to instructors on piazza **before 9:00 pm on 9/4**."
   ]
  },
  {
   "cell_type": "markdown",
   "metadata": {},
   "source": [
    "**Name**: "
   ]
  },
  {
   "cell_type": "markdown",
   "metadata": {},
   "source": [
    "---\n",
    "## 1. Guess the output: DataFrame practice (1pt)\n",
    "\n",
    "For the following blocks of code, first try to guess what the output will be, and then run the code yourself. Points will be given for filling in the guesses; guessing wrong won't be penalized."
   ]
  },
  {
   "cell_type": "code",
   "execution_count": 47,
   "metadata": {},
   "outputs": [
    {
     "data": {
      "text/html": [
       "<div>\n",
       "<style scoped>\n",
       "    .dataframe tbody tr th:only-of-type {\n",
       "        vertical-align: middle;\n",
       "    }\n",
       "\n",
       "    .dataframe tbody tr th {\n",
       "        vertical-align: top;\n",
       "    }\n",
       "\n",
       "    .dataframe thead th {\n",
       "        text-align: right;\n",
       "    }\n",
       "</style>\n",
       "<table border=\"1\" class=\"dataframe\">\n",
       "  <thead>\n",
       "    <tr style=\"text-align: right;\">\n",
       "      <th></th>\n",
       "      <th>age</th>\n",
       "      <th>gender</th>\n",
       "    </tr>\n",
       "  </thead>\n",
       "  <tbody>\n",
       "    <tr>\n",
       "      <th>Sam</th>\n",
       "      <td>26</td>\n",
       "      <td>F</td>\n",
       "    </tr>\n",
       "    <tr>\n",
       "      <th>Raju</th>\n",
       "      <td>26</td>\n",
       "      <td>F</td>\n",
       "    </tr>\n",
       "    <tr>\n",
       "      <th>Scott</th>\n",
       "      <td>26</td>\n",
       "      <td>M</td>\n",
       "    </tr>\n",
       "    <tr>\n",
       "      <th>Apexa</th>\n",
       "      <td>25</td>\n",
       "      <td>F</td>\n",
       "    </tr>\n",
       "  </tbody>\n",
       "</table>\n",
       "</div>"
      ],
      "text/plain": [
       "       age gender\n",
       "Sam     26      F\n",
       "Raju    26      F\n",
       "Scott   26      M\n",
       "Apexa   25      F"
      ]
     },
     "execution_count": 47,
     "metadata": {},
     "output_type": "execute_result"
    }
   ],
   "source": [
    "# run this cell first!\n",
    "import pandas as pd\n",
    "\n",
    "peoples_df = pd.DataFrame({\"gender\":[\"F\",\"F\",\"M\",\"F\"],\n",
    "                          \"age\":[26,26,26,25]},\n",
    "                          index=[\"Sam\",\"Raju\",\"Scott\",\"Apexa\"])\n",
    "\n",
    "peoples_df"
   ]
  },
  {
   "cell_type": "code",
   "execution_count": 38,
   "metadata": {},
   "outputs": [
    {
     "name": "stdout",
     "output_type": "stream",
     "text": [
      "M\n"
     ]
    }
   ],
   "source": [
    "print peoples_df.loc[\"Scott\",\"gender\"]"
   ]
  },
  {
   "cell_type": "markdown",
   "metadata": {},
   "source": [
    "Your guess:"
   ]
  },
  {
   "cell_type": "code",
   "execution_count": 44,
   "metadata": {},
   "outputs": [
    {
     "name": "stdout",
     "output_type": "stream",
     "text": [
      "M\n"
     ]
    }
   ],
   "source": [
    "print peoples_df.iloc[2,1]"
   ]
  },
  {
   "cell_type": "markdown",
   "metadata": {},
   "source": [
    "Your guess:"
   ]
  },
  {
   "cell_type": "code",
   "execution_count": null,
   "metadata": {},
   "outputs": [],
   "source": [
    "print peoples_df.iloc[\"Sammy\",0]"
   ]
  },
  {
   "cell_type": "markdown",
   "metadata": {},
   "source": [
    "Your guess:"
   ]
  },
  {
   "cell_type": "code",
   "execution_count": 46,
   "metadata": {},
   "outputs": [
    {
     "name": "stdout",
     "output_type": "stream",
     "text": [
      "Index([u'age', u'gender'], dtype='object')\n"
     ]
    }
   ],
   "source": [
    "print peoples_df.columns"
   ]
  },
  {
   "cell_type": "markdown",
   "metadata": {},
   "source": [
    "Your guess:"
   ]
  },
  {
   "cell_type": "code",
   "execution_count": 47,
   "metadata": {},
   "outputs": [
    {
     "name": "stdout",
     "output_type": "stream",
     "text": [
      "Index([u'Sam', u'Raju', u'Scott', u'Apexa'], dtype='object')\n"
     ]
    }
   ],
   "source": [
    "print peoples_df.index"
   ]
  },
  {
   "cell_type": "markdown",
   "metadata": {},
   "source": [
    "Your guess:"
   ]
  },
  {
   "cell_type": "code",
   "execution_count": 48,
   "metadata": {},
   "outputs": [
    {
     "name": "stdout",
     "output_type": "stream",
     "text": [
      "(4, 2)\n"
     ]
    }
   ],
   "source": [
    "print peoples_df.shape"
   ]
  },
  {
   "cell_type": "markdown",
   "metadata": {},
   "source": [
    "Your guess:"
   ]
  },
  {
   "cell_type": "code",
   "execution_count": 51,
   "metadata": {},
   "outputs": [
    {
     "name": "stdout",
     "output_type": "stream",
     "text": [
      "       age gender\n",
      "Apexa   25      F\n"
     ]
    }
   ],
   "source": [
    "print peoples_df.loc[peoples_df.loc[:,\"age\"]<26,:]"
   ]
  },
  {
   "cell_type": "markdown",
   "metadata": {},
   "source": [
    "Your guess:"
   ]
  },
  {
   "cell_type": "markdown",
   "metadata": {},
   "source": [
    "---\n",
    "## 2. Obtaining Information from a DataFrame (5 pts)\n",
    "\n",
    "Using the info in the table below, write code to accomplish the following tasks."
   ]
  },
  {
   "cell_type": "code",
   "execution_count": 3,
   "metadata": {},
   "outputs": [
    {
     "data": {
      "text/html": [
       "<div>\n",
       "<style scoped>\n",
       "    .dataframe tbody tr th:only-of-type {\n",
       "        vertical-align: middle;\n",
       "    }\n",
       "\n",
       "    .dataframe tbody tr th {\n",
       "        vertical-align: top;\n",
       "    }\n",
       "\n",
       "    .dataframe thead th {\n",
       "        text-align: right;\n",
       "    }\n",
       "</style>\n",
       "<table border=\"1\" class=\"dataframe\">\n",
       "  <thead>\n",
       "    <tr style=\"text-align: right;\">\n",
       "      <th></th>\n",
       "      <th>Favorite Food</th>\n",
       "      <th>Name</th>\n",
       "    </tr>\n",
       "  </thead>\n",
       "  <tbody>\n",
       "    <tr>\n",
       "      <th>0</th>\n",
       "      <td>Steak</td>\n",
       "      <td>Wilfred</td>\n",
       "    </tr>\n",
       "    <tr>\n",
       "      <th>1</th>\n",
       "      <td>Pizza</td>\n",
       "      <td>Manfred</td>\n",
       "    </tr>\n",
       "    <tr>\n",
       "      <th>2</th>\n",
       "      <td>Spaghetti</td>\n",
       "      <td>Wadsworth</td>\n",
       "    </tr>\n",
       "    <tr>\n",
       "      <th>3</th>\n",
       "      <td>Spaghetti</td>\n",
       "      <td>Jeeves</td>\n",
       "    </tr>\n",
       "  </tbody>\n",
       "</table>\n",
       "</div>"
      ],
      "text/plain": [
       "  Favorite Food       Name\n",
       "0         Steak    Wilfred\n",
       "1         Pizza    Manfred\n",
       "2     Spaghetti  Wadsworth\n",
       "3     Spaghetti     Jeeves"
      ]
     },
     "execution_count": 3,
     "metadata": {},
     "output_type": "execute_result"
    }
   ],
   "source": [
    "import pandas as pd\n",
    "\n",
    "favFood_df = pd.DataFrame({\"Name\":[\"Wilfred\",\"Manfred\",\"Wadsworth\",\"Jeeves\"],\n",
    "                          \"Favorite Food\":[\"Steak\",\"Pizza\",\"Spaghetti\", \"Spaghetti\"]})\n",
    "favFood_df"
   ]
  },
  {
   "cell_type": "markdown",
   "metadata": {},
   "source": [
    "**(A)** Using a `for` loop, go through the DataFrame you created above and print each name and food combination in the format:\n",
    "\n",
    "    <NAME>'s favorite food is <FOOD>\n",
    "    \n",
    "Reminder that to get the height of the DataFrame you use the `len()` function"
   ]
  },
  {
   "cell_type": "code",
   "execution_count": 4,
   "metadata": {},
   "outputs": [
    {
     "name": "stdout",
     "output_type": "stream",
     "text": [
      "Wilfred's favorite food is Steak\n",
      "Manfred's favorite food is Pizza\n",
      "Wadsworth's favorite food is Spaghetti\n",
      "Jeeves's favorite food is Spaghetti\n"
     ]
    }
   ],
   "source": [
    "# ANSWER FOR 2A\n",
    "for i in range(len(favFood_df)):\n",
    "    name = favFood_df.loc[i,\"Name\"]\n",
    "    food = favFood_df.loc[i,\"Favorite Food\"]\n",
    "    print name + \"'s favorite food is \"+ food"
   ]
  },
  {
   "cell_type": "markdown",
   "metadata": {},
   "source": [
    "**(B)** Print the names of the people who like Spaghetti. (Please do not hard code your answer)"
   ]
  },
  {
   "cell_type": "code",
   "execution_count": 9,
   "metadata": {},
   "outputs": [
    {
     "name": "stdout",
     "output_type": "stream",
     "text": [
      "Wadsworth\n",
      "Jeeves\n"
     ]
    }
   ],
   "source": [
    "# Answer 2B\n",
    "spaghetti_df = favFood_df.loc[favFood_df.loc[:,\"Favorite Food\"]==\"Spaghetti\",\"Name\"]\n",
    "for name in spaghetti_df.values:\n",
    "    print name"
   ]
  },
  {
   "cell_type": "markdown",
   "metadata": {},
   "source": [
    "**(C)** TRUE or FALSE, does anyone in the DataFrame like Tuna? (Please do not hard code your answer)"
   ]
  },
  {
   "cell_type": "code",
   "execution_count": 13,
   "metadata": {},
   "outputs": [
    {
     "name": "stdout",
     "output_type": "stream",
     "text": [
      "False\n"
     ]
    }
   ],
   "source": [
    "# Answer 2C\n",
    "food_series = favFood_df.loc[:,\"Favorite Food\"]\n",
    "print \"Tuna\" in food_series.values"
   ]
  },
  {
   "cell_type": "markdown",
   "metadata": {},
   "source": [
    "**(D)** TRUE or FALSE, Does anyone in the DataFrame like Pizza? (Please do not hard code your answer)"
   ]
  },
  {
   "cell_type": "code",
   "execution_count": 14,
   "metadata": {},
   "outputs": [
    {
     "name": "stdout",
     "output_type": "stream",
     "text": [
      "True\n"
     ]
    }
   ],
   "source": [
    "# Answer 2D\n",
    "food_series = favFood_df.loc[:,\"Favorite Food\"]\n",
    "print \"Pizza\" in food_series.values"
   ]
  },
  {
   "cell_type": "markdown",
   "metadata": {},
   "source": [
    "**(E)** Prompt the user with the question \"Whose favorite food do you want to know?\" and if the name is in the dataFrame then report the person's favorite food. Otherwise print \"That name is not in our database\"."
   ]
  },
  {
   "cell_type": "code",
   "execution_count": 87,
   "metadata": {},
   "outputs": [
    {
     "name": "stdout",
     "output_type": "stream",
     "text": [
      "Whose favorite food do you want to know? SAM\n",
      "That name is not in our database\n"
     ]
    }
   ],
   "source": [
    "# Answer 2E\n",
    "name_query = raw_input(\"Whose favorite food do you want to know? \")\n",
    "if name_query in favFood_df.loc[:,\"Name\"].values:\n",
    "    print str(favFood_df.loc[favFood_df.loc[:,\"Name\"] == name_query,\n",
    "                        \"Favorite Food\"])\n",
    "else:\n",
    "    print \"That name is not in our database\""
   ]
  },
  {
   "cell_type": "markdown",
   "metadata": {},
   "source": [
    "---\n",
    "## 3. Creating and Writing DataFrames (6pts)"
   ]
  },
  {
   "cell_type": "markdown",
   "metadata": {},
   "source": [
    "\n",
    "|        \"\"      | Treatment | CrazyProteinLevel | RichProteinLevel |\n",
    "|:--------------:|:---------:|:-----------------:|:----------------:|\n",
    "| Rachel Chu     | A         | 776,498           | 330,789          |\n",
    "| Nicholas Young | B         | 890,345           | 999,999,999,999  |\n",
    "| Goh Peik Lin   | A         | 98,764,678        | 78,656,877       |\n",
    "| Astrid Teo     | B         | 867,888           | 809,999,780,999  |\n",
    "| Alistair Cheng | B         | 120,444,558       | 859,919,120,799  |\n",
    "| Colin Khoo     | B         | 10,867,888        | 759,119,130,799  |\n",
    "| Araminta Lee   | B         | 109,347,111       | 129,239,132,199  |\n"
   ]
  },
  {
   "cell_type": "markdown",
   "metadata": {},
   "source": [
    "**(A)** Create a pandas dataFrame using a dictionary based on the data above, where we have three columns (\"Treatment\", \"CrazyProteinLevel\", and \"RichProteinLevel\") and 7 row names."
   ]
  },
  {
   "cell_type": "code",
   "execution_count": 61,
   "metadata": {},
   "outputs": [
    {
     "data": {
      "text/html": [
       "<div>\n",
       "<style scoped>\n",
       "    .dataframe tbody tr th:only-of-type {\n",
       "        vertical-align: middle;\n",
       "    }\n",
       "\n",
       "    .dataframe tbody tr th {\n",
       "        vertical-align: top;\n",
       "    }\n",
       "\n",
       "    .dataframe thead th {\n",
       "        text-align: right;\n",
       "    }\n",
       "</style>\n",
       "<table border=\"1\" class=\"dataframe\">\n",
       "  <thead>\n",
       "    <tr style=\"text-align: right;\">\n",
       "      <th></th>\n",
       "      <th>CrazyProteinLevel</th>\n",
       "      <th>RichProteinLevel</th>\n",
       "      <th>Treatment</th>\n",
       "    </tr>\n",
       "  </thead>\n",
       "  <tbody>\n",
       "    <tr>\n",
       "      <th>Rachel Chu</th>\n",
       "      <td>776498</td>\n",
       "      <td>330789</td>\n",
       "      <td>A</td>\n",
       "    </tr>\n",
       "    <tr>\n",
       "      <th>Nicholas Young</th>\n",
       "      <td>890345</td>\n",
       "      <td>999999999999</td>\n",
       "      <td>B</td>\n",
       "    </tr>\n",
       "    <tr>\n",
       "      <th>Goh Peik Lin</th>\n",
       "      <td>98764678</td>\n",
       "      <td>78656877</td>\n",
       "      <td>A</td>\n",
       "    </tr>\n",
       "    <tr>\n",
       "      <th>Astrid Teo</th>\n",
       "      <td>867888</td>\n",
       "      <td>809999780999</td>\n",
       "      <td>B</td>\n",
       "    </tr>\n",
       "    <tr>\n",
       "      <th>Alistair Cheng</th>\n",
       "      <td>120444558</td>\n",
       "      <td>859919120799</td>\n",
       "      <td>B</td>\n",
       "    </tr>\n",
       "    <tr>\n",
       "      <th>Colin Khoo</th>\n",
       "      <td>10867888</td>\n",
       "      <td>759119130799</td>\n",
       "      <td>B</td>\n",
       "    </tr>\n",
       "    <tr>\n",
       "      <th>Araminta Lee</th>\n",
       "      <td>109347111</td>\n",
       "      <td>129239132199</td>\n",
       "      <td>B</td>\n",
       "    </tr>\n",
       "  </tbody>\n",
       "</table>\n",
       "</div>"
      ],
      "text/plain": [
       "                CrazyProteinLevel  RichProteinLevel Treatment\n",
       "Rachel Chu                 776498            330789         A\n",
       "Nicholas Young             890345      999999999999         B\n",
       "Goh Peik Lin             98764678          78656877         A\n",
       "Astrid Teo                 867888      809999780999         B\n",
       "Alistair Cheng          120444558      859919120799         B\n",
       "Colin Khoo               10867888      759119130799         B\n",
       "Araminta Lee            109347111      129239132199         B"
      ]
     },
     "execution_count": 61,
     "metadata": {},
     "output_type": "execute_result"
    }
   ],
   "source": [
    "import pandas as pd\n",
    "\n",
    "crazyrich_df = pd.DataFrame({\"Treatment\":[\"A\",\"B\",\"A\",\"B\",\"B\",\"B\",\"B\"],\n",
    "                          \"CrazyProteinLevel\":[776498,890345,98764678,867888,120444558,10867888,109347111],\n",
    "                          \"RichProteinLevel\":[330789,999999999999,78656877,809999780999,859919120799,759119130799,129239132199]},\n",
    "                         index = [\"Rachel Chu\",\"Nicholas Young\",\"Goh Peik Lin\",\"Astrid Teo\",\"Alistair Cheng\",\"Colin Khoo\",\"Araminta Lee\"])\n",
    "crazyrich_df"
   ]
  },
  {
   "cell_type": "markdown",
   "metadata": {},
   "source": [
    "**(B)** Putting these long numbers into a dataframe was a headache its unnecessary for the data to be this exact. \n",
    "1. First, convert the protein levels into units of a million. For example, \"776,498\" would become \".776498\". \"120,444,558\" would become \"120.444558\". (Hint: You may have to convert these column into float datatypes using the `Series.astype()` function.)"
   ]
  },
  {
   "cell_type": "code",
   "execution_count": 62,
   "metadata": {},
   "outputs": [
    {
     "data": {
      "text/html": [
       "<div>\n",
       "<style scoped>\n",
       "    .dataframe tbody tr th:only-of-type {\n",
       "        vertical-align: middle;\n",
       "    }\n",
       "\n",
       "    .dataframe tbody tr th {\n",
       "        vertical-align: top;\n",
       "    }\n",
       "\n",
       "    .dataframe thead th {\n",
       "        text-align: right;\n",
       "    }\n",
       "</style>\n",
       "<table border=\"1\" class=\"dataframe\">\n",
       "  <thead>\n",
       "    <tr style=\"text-align: right;\">\n",
       "      <th></th>\n",
       "      <th>CrazyProteinLevel</th>\n",
       "      <th>RichProteinLevel</th>\n",
       "      <th>Treatment</th>\n",
       "    </tr>\n",
       "  </thead>\n",
       "  <tbody>\n",
       "    <tr>\n",
       "      <th>Rachel Chu</th>\n",
       "      <td>0.776498</td>\n",
       "      <td>0.330789</td>\n",
       "      <td>A</td>\n",
       "    </tr>\n",
       "    <tr>\n",
       "      <th>Nicholas Young</th>\n",
       "      <td>0.890345</td>\n",
       "      <td>999999.999999</td>\n",
       "      <td>B</td>\n",
       "    </tr>\n",
       "    <tr>\n",
       "      <th>Goh Peik Lin</th>\n",
       "      <td>98.764678</td>\n",
       "      <td>78.656877</td>\n",
       "      <td>A</td>\n",
       "    </tr>\n",
       "    <tr>\n",
       "      <th>Astrid Teo</th>\n",
       "      <td>0.867888</td>\n",
       "      <td>809999.780999</td>\n",
       "      <td>B</td>\n",
       "    </tr>\n",
       "    <tr>\n",
       "      <th>Alistair Cheng</th>\n",
       "      <td>120.444558</td>\n",
       "      <td>859919.120799</td>\n",
       "      <td>B</td>\n",
       "    </tr>\n",
       "    <tr>\n",
       "      <th>Colin Khoo</th>\n",
       "      <td>10.867888</td>\n",
       "      <td>759119.130799</td>\n",
       "      <td>B</td>\n",
       "    </tr>\n",
       "    <tr>\n",
       "      <th>Araminta Lee</th>\n",
       "      <td>109.347111</td>\n",
       "      <td>129239.132199</td>\n",
       "      <td>B</td>\n",
       "    </tr>\n",
       "  </tbody>\n",
       "</table>\n",
       "</div>"
      ],
      "text/plain": [
       "                CrazyProteinLevel  RichProteinLevel Treatment\n",
       "Rachel Chu               0.776498          0.330789         A\n",
       "Nicholas Young           0.890345     999999.999999         B\n",
       "Goh Peik Lin            98.764678         78.656877         A\n",
       "Astrid Teo               0.867888     809999.780999         B\n",
       "Alistair Cheng         120.444558     859919.120799         B\n",
       "Colin Khoo              10.867888     759119.130799         B\n",
       "Araminta Lee           109.347111     129239.132199         B"
      ]
     },
     "execution_count": 62,
     "metadata": {},
     "output_type": "execute_result"
    }
   ],
   "source": [
    "crazyrich_df.loc[:,\"CrazyProteinLevel\"] = crazyrich_df.loc[:,\"CrazyProteinLevel\"].astype(float)\n",
    "crazyrich_df.loc[:,\"CrazyProteinLevel\"] = crazyrich_df.loc[:,\"CrazyProteinLevel\"]/1000000\n",
    "\n",
    "crazyrich_df.loc[:,\"RichProteinLevel\"] = crazyrich_df.loc[:,\"RichProteinLevel\"].astype(float)\n",
    "crazyrich_df.loc[:,\"RichProteinLevel\"] = crazyrich_df.loc[:,\"RichProteinLevel\"]/1000000\n",
    "\n",
    "crazyrich_df"
   ]
  },
  {
   "cell_type": "markdown",
   "metadata": {},
   "source": [
    "2. Next, we use the pandas dataFrame `round` function to round these columns to the first decimal place. Here is an example of how to use the round function:"
   ]
  },
  {
   "cell_type": "code",
   "execution_count": 55,
   "metadata": {},
   "outputs": [
    {
     "name": "stdout",
     "output_type": "stream",
     "text": [
      "               A         B         C\n",
      "first   0.830801  0.001926  0.940413\n",
      "second  0.880234  0.716162  0.689289\n",
      "third   0.401798  0.545720  0.781179\n"
     ]
    }
   ],
   "source": [
    "import numpy as np\n",
    "df = pd.DataFrame(np.random.random([3, 3]),\n",
    "                  columns=['A', 'B', 'C'], index=['first', 'second', 'third'])\n",
    "print(df)"
   ]
  },
  {
   "cell_type": "code",
   "execution_count": 58,
   "metadata": {},
   "outputs": [
    {
     "name": "stdout",
     "output_type": "stream",
     "text": [
      "               A         B         C\n",
      "first   0.830801  0.001926  0.940413\n",
      "second  0.880234  0.716162  0.689289\n",
      "third   0.401798  0.545720  0.781179\n"
     ]
    }
   ],
   "source": [
    "# rounds column 'A' to the first decimal place \n",
    "# and column `B` to the second decimal place\n",
    "rounded_df = df.round({'A': 1, 'C': 2})\n",
    "print(rounded_df)"
   ]
  },
  {
   "cell_type": "code",
   "execution_count": 64,
   "metadata": {},
   "outputs": [
    {
     "data": {
      "text/html": [
       "<div>\n",
       "<style scoped>\n",
       "    .dataframe tbody tr th:only-of-type {\n",
       "        vertical-align: middle;\n",
       "    }\n",
       "\n",
       "    .dataframe tbody tr th {\n",
       "        vertical-align: top;\n",
       "    }\n",
       "\n",
       "    .dataframe thead th {\n",
       "        text-align: right;\n",
       "    }\n",
       "</style>\n",
       "<table border=\"1\" class=\"dataframe\">\n",
       "  <thead>\n",
       "    <tr style=\"text-align: right;\">\n",
       "      <th></th>\n",
       "      <th>CrazyProteinLevel</th>\n",
       "      <th>RichProteinLevel</th>\n",
       "      <th>Treatment</th>\n",
       "    </tr>\n",
       "  </thead>\n",
       "  <tbody>\n",
       "    <tr>\n",
       "      <th>Rachel Chu</th>\n",
       "      <td>0.8</td>\n",
       "      <td>0.3</td>\n",
       "      <td>A</td>\n",
       "    </tr>\n",
       "    <tr>\n",
       "      <th>Nicholas Young</th>\n",
       "      <td>0.9</td>\n",
       "      <td>1000000.0</td>\n",
       "      <td>B</td>\n",
       "    </tr>\n",
       "    <tr>\n",
       "      <th>Goh Peik Lin</th>\n",
       "      <td>98.8</td>\n",
       "      <td>78.7</td>\n",
       "      <td>A</td>\n",
       "    </tr>\n",
       "    <tr>\n",
       "      <th>Astrid Teo</th>\n",
       "      <td>0.9</td>\n",
       "      <td>809999.8</td>\n",
       "      <td>B</td>\n",
       "    </tr>\n",
       "    <tr>\n",
       "      <th>Alistair Cheng</th>\n",
       "      <td>120.4</td>\n",
       "      <td>859919.1</td>\n",
       "      <td>B</td>\n",
       "    </tr>\n",
       "    <tr>\n",
       "      <th>Colin Khoo</th>\n",
       "      <td>10.9</td>\n",
       "      <td>759119.1</td>\n",
       "      <td>B</td>\n",
       "    </tr>\n",
       "    <tr>\n",
       "      <th>Araminta Lee</th>\n",
       "      <td>109.3</td>\n",
       "      <td>129239.1</td>\n",
       "      <td>B</td>\n",
       "    </tr>\n",
       "  </tbody>\n",
       "</table>\n",
       "</div>"
      ],
      "text/plain": [
       "                CrazyProteinLevel  RichProteinLevel Treatment\n",
       "Rachel Chu                    0.8               0.3         A\n",
       "Nicholas Young                0.9         1000000.0         B\n",
       "Goh Peik Lin                 98.8              78.7         A\n",
       "Astrid Teo                    0.9          809999.8         B\n",
       "Alistair Cheng              120.4          859919.1         B\n",
       "Colin Khoo                   10.9          759119.1         B\n",
       "Araminta Lee                109.3          129239.1         B"
      ]
     },
     "execution_count": 64,
     "metadata": {},
     "output_type": "execute_result"
    }
   ],
   "source": [
    "crazyrich_df = crazyrich_df.round({'CrazyProteinLevel': 1, 'RichProteinLevel': 1})\n",
    "crazyrich_df"
   ]
  },
  {
   "cell_type": "markdown",
   "metadata": {},
   "source": [
    "**(D)** Add another row with the average protein level (in millions) called \"avgProtein\"."
   ]
  },
  {
   "cell_type": "code",
   "execution_count": 65,
   "metadata": {},
   "outputs": [
    {
     "data": {
      "text/html": [
       "<div>\n",
       "<style scoped>\n",
       "    .dataframe tbody tr th:only-of-type {\n",
       "        vertical-align: middle;\n",
       "    }\n",
       "\n",
       "    .dataframe tbody tr th {\n",
       "        vertical-align: top;\n",
       "    }\n",
       "\n",
       "    .dataframe thead th {\n",
       "        text-align: right;\n",
       "    }\n",
       "</style>\n",
       "<table border=\"1\" class=\"dataframe\">\n",
       "  <thead>\n",
       "    <tr style=\"text-align: right;\">\n",
       "      <th></th>\n",
       "      <th>CrazyProteinLevel</th>\n",
       "      <th>RichProteinLevel</th>\n",
       "      <th>Treatment</th>\n",
       "      <th>avgProtein</th>\n",
       "    </tr>\n",
       "  </thead>\n",
       "  <tbody>\n",
       "    <tr>\n",
       "      <th>Rachel Chu</th>\n",
       "      <td>0.8</td>\n",
       "      <td>0.3</td>\n",
       "      <td>A</td>\n",
       "      <td>0.55</td>\n",
       "    </tr>\n",
       "    <tr>\n",
       "      <th>Nicholas Young</th>\n",
       "      <td>0.9</td>\n",
       "      <td>1000000.0</td>\n",
       "      <td>B</td>\n",
       "      <td>500000.45</td>\n",
       "    </tr>\n",
       "    <tr>\n",
       "      <th>Goh Peik Lin</th>\n",
       "      <td>98.8</td>\n",
       "      <td>78.7</td>\n",
       "      <td>A</td>\n",
       "      <td>88.75</td>\n",
       "    </tr>\n",
       "    <tr>\n",
       "      <th>Astrid Teo</th>\n",
       "      <td>0.9</td>\n",
       "      <td>809999.8</td>\n",
       "      <td>B</td>\n",
       "      <td>405000.35</td>\n",
       "    </tr>\n",
       "    <tr>\n",
       "      <th>Alistair Cheng</th>\n",
       "      <td>120.4</td>\n",
       "      <td>859919.1</td>\n",
       "      <td>B</td>\n",
       "      <td>430019.75</td>\n",
       "    </tr>\n",
       "    <tr>\n",
       "      <th>Colin Khoo</th>\n",
       "      <td>10.9</td>\n",
       "      <td>759119.1</td>\n",
       "      <td>B</td>\n",
       "      <td>379565.00</td>\n",
       "    </tr>\n",
       "    <tr>\n",
       "      <th>Araminta Lee</th>\n",
       "      <td>109.3</td>\n",
       "      <td>129239.1</td>\n",
       "      <td>B</td>\n",
       "      <td>64674.20</td>\n",
       "    </tr>\n",
       "  </tbody>\n",
       "</table>\n",
       "</div>"
      ],
      "text/plain": [
       "                CrazyProteinLevel  RichProteinLevel Treatment  avgProtein\n",
       "Rachel Chu                    0.8               0.3         A        0.55\n",
       "Nicholas Young                0.9         1000000.0         B   500000.45\n",
       "Goh Peik Lin                 98.8              78.7         A       88.75\n",
       "Astrid Teo                    0.9          809999.8         B   405000.35\n",
       "Alistair Cheng              120.4          859919.1         B   430019.75\n",
       "Colin Khoo                   10.9          759119.1         B   379565.00\n",
       "Araminta Lee                109.3          129239.1         B    64674.20"
      ]
     },
     "execution_count": 65,
     "metadata": {},
     "output_type": "execute_result"
    }
   ],
   "source": [
    "crazyrich_df.loc[:,\"avgProtein\"]=(crazyrich_df.loc[:,\"CrazyProteinLevel\"]+crazyrich_df.loc[:,\"RichProteinLevel\"])/2\n",
    "crazyrich_df"
   ]
  },
  {
   "cell_type": "markdown",
   "metadata": {},
   "source": [
    "**(E)** Export rows with \"avgProtein\" > 1 (million) to \"CrazyRich.txt\" using tabs-delimiting marks."
   ]
  },
  {
   "cell_type": "code",
   "execution_count": 68,
   "metadata": {},
   "outputs": [],
   "source": [
    "crazyrich_df.to_csv(\"CrazyRich.txt\",sep=\"\\t\")"
   ]
  },
  {
   "cell_type": "markdown",
   "metadata": {},
   "source": [
    "---\n",
    "## 3. The \"Many Counters\" Problem with dataFrames (4pts)\n",
    "**(A)** Write code that reads a file of sequences and tallies how many sequences there are of each length. Use `sequences3.txt` as input. \n",
    "\n",
    "*Hint: you can use a dataFrames to keep track of all the tallies. For example:*"
   ]
  },
  {
   "cell_type": "code",
   "execution_count": 73,
   "metadata": {},
   "outputs": [
    {
     "data": {
      "text/html": [
       "<div>\n",
       "<style scoped>\n",
       "    .dataframe tbody tr th:only-of-type {\n",
       "        vertical-align: middle;\n",
       "    }\n",
       "\n",
       "    .dataframe tbody tr th {\n",
       "        vertical-align: top;\n",
       "    }\n",
       "\n",
       "    .dataframe thead th {\n",
       "        text-align: right;\n",
       "    }\n",
       "</style>\n",
       "<table border=\"1\" class=\"dataframe\">\n",
       "  <thead>\n",
       "    <tr style=\"text-align: right;\">\n",
       "      <th></th>\n",
       "      <th>count</th>\n",
       "    </tr>\n",
       "  </thead>\n",
       "  <tbody>\n",
       "    <tr>\n",
       "      <th>15</th>\n",
       "      <td>1</td>\n",
       "    </tr>\n",
       "  </tbody>\n",
       "</table>\n",
       "</div>"
      ],
      "text/plain": [
       "    count\n",
       "15      1"
      ]
     },
     "execution_count": 73,
     "metadata": {},
     "output_type": "execute_result"
    }
   ],
   "source": [
    "# hint code:\n",
    "import pandas as pd\n",
    "\n",
    "tally_df = pd.DataFrame(columns=[\"count\"])\n",
    "seq = \"ATGCTGATCGATATA\"\n",
    "length = len(seq)\n",
    "\n",
    "if length not in list(tally_df.index):\n",
    "    tally_df.loc[length,\"count\"] = 1  #initialize to 1 if this is the first occurrence of the length...\n",
    "else:\n",
    "    tally_df.loc[length,\"count\"] = tally_df.loc[length,\"count\"] + 1   #...otherwise just increment the count.\n",
    "    \n",
    "tally_df"
   ]
  },
  {
   "cell_type": "code",
   "execution_count": 74,
   "metadata": {},
   "outputs": [
    {
     "data": {
      "text/html": [
       "<div>\n",
       "<style scoped>\n",
       "    .dataframe tbody tr th:only-of-type {\n",
       "        vertical-align: middle;\n",
       "    }\n",
       "\n",
       "    .dataframe tbody tr th {\n",
       "        vertical-align: top;\n",
       "    }\n",
       "\n",
       "    .dataframe thead th {\n",
       "        text-align: right;\n",
       "    }\n",
       "</style>\n",
       "<table border=\"1\" class=\"dataframe\">\n",
       "  <thead>\n",
       "    <tr style=\"text-align: right;\">\n",
       "      <th></th>\n",
       "      <th>count</th>\n",
       "    </tr>\n",
       "  </thead>\n",
       "  <tbody>\n",
       "    <tr>\n",
       "      <th>39</th>\n",
       "      <td>4.0</td>\n",
       "    </tr>\n",
       "    <tr>\n",
       "      <th>57</th>\n",
       "      <td>3.0</td>\n",
       "    </tr>\n",
       "    <tr>\n",
       "      <th>51</th>\n",
       "      <td>7.0</td>\n",
       "    </tr>\n",
       "    <tr>\n",
       "      <th>60</th>\n",
       "      <td>4.0</td>\n",
       "    </tr>\n",
       "    <tr>\n",
       "      <th>27</th>\n",
       "      <td>4.0</td>\n",
       "    </tr>\n",
       "    <tr>\n",
       "      <th>90</th>\n",
       "      <td>6.0</td>\n",
       "    </tr>\n",
       "    <tr>\n",
       "      <th>81</th>\n",
       "      <td>5.0</td>\n",
       "    </tr>\n",
       "    <tr>\n",
       "      <th>45</th>\n",
       "      <td>5.0</td>\n",
       "    </tr>\n",
       "    <tr>\n",
       "      <th>36</th>\n",
       "      <td>4.0</td>\n",
       "    </tr>\n",
       "    <tr>\n",
       "      <th>84</th>\n",
       "      <td>3.0</td>\n",
       "    </tr>\n",
       "    <tr>\n",
       "      <th>42</th>\n",
       "      <td>6.0</td>\n",
       "    </tr>\n",
       "    <tr>\n",
       "      <th>93</th>\n",
       "      <td>3.0</td>\n",
       "    </tr>\n",
       "    <tr>\n",
       "      <th>75</th>\n",
       "      <td>2.0</td>\n",
       "    </tr>\n",
       "    <tr>\n",
       "      <th>78</th>\n",
       "      <td>3.0</td>\n",
       "    </tr>\n",
       "    <tr>\n",
       "      <th>102</th>\n",
       "      <td>3.0</td>\n",
       "    </tr>\n",
       "    <tr>\n",
       "      <th>66</th>\n",
       "      <td>3.0</td>\n",
       "    </tr>\n",
       "    <tr>\n",
       "      <th>30</th>\n",
       "      <td>2.0</td>\n",
       "    </tr>\n",
       "    <tr>\n",
       "      <th>54</th>\n",
       "      <td>5.0</td>\n",
       "    </tr>\n",
       "    <tr>\n",
       "      <th>96</th>\n",
       "      <td>3.0</td>\n",
       "    </tr>\n",
       "    <tr>\n",
       "      <th>72</th>\n",
       "      <td>2.0</td>\n",
       "    </tr>\n",
       "    <tr>\n",
       "      <th>63</th>\n",
       "      <td>3.0</td>\n",
       "    </tr>\n",
       "    <tr>\n",
       "      <th>99</th>\n",
       "      <td>3.0</td>\n",
       "    </tr>\n",
       "    <tr>\n",
       "      <th>33</th>\n",
       "      <td>3.0</td>\n",
       "    </tr>\n",
       "    <tr>\n",
       "      <th>69</th>\n",
       "      <td>3.0</td>\n",
       "    </tr>\n",
       "    <tr>\n",
       "      <th>48</th>\n",
       "      <td>3.0</td>\n",
       "    </tr>\n",
       "    <tr>\n",
       "      <th>105</th>\n",
       "      <td>5.0</td>\n",
       "    </tr>\n",
       "    <tr>\n",
       "      <th>87</th>\n",
       "      <td>3.0</td>\n",
       "    </tr>\n",
       "  </tbody>\n",
       "</table>\n",
       "</div>"
      ],
      "text/plain": [
       "     count\n",
       "39     4.0\n",
       "57     3.0\n",
       "51     7.0\n",
       "60     4.0\n",
       "27     4.0\n",
       "90     6.0\n",
       "81     5.0\n",
       "45     5.0\n",
       "36     4.0\n",
       "84     3.0\n",
       "42     6.0\n",
       "93     3.0\n",
       "75     2.0\n",
       "78     3.0\n",
       "102    3.0\n",
       "66     3.0\n",
       "30     2.0\n",
       "54     5.0\n",
       "96     3.0\n",
       "72     2.0\n",
       "63     3.0\n",
       "99     3.0\n",
       "33     3.0\n",
       "69     3.0\n",
       "48     3.0\n",
       "105    5.0\n",
       "87     3.0"
      ]
     },
     "execution_count": 74,
     "metadata": {},
     "output_type": "execute_result"
    }
   ],
   "source": [
    "seqFile = open(\"sequences3.txt\", 'r')\n",
    "tally_df = pd.DataFrame(columns=[\"count\"])\n",
    "for seq in seqFile:\n",
    "    seq = seq.rstrip('\\n')\n",
    "    length = len(seq)\n",
    "    if length not in list(tally_df.index):\n",
    "        tally_df.loc[length,\"count\"] = 1  #initialize to 1 if this is the first occurrence of the length...\n",
    "    else:\n",
    "        tally_df.loc[length,\"count\"] = tally_df.loc[length,\"count\"] + 1   #...otherwise just increment the count.\n",
    "\n",
    "tally_df"
   ]
  },
  {
   "cell_type": "markdown",
   "metadata": {},
   "source": [
    "**(B)** Using the tally dataFrame you created above, figure out which sequence length was the most common, and print it to the screen."
   ]
  },
  {
   "cell_type": "code",
   "execution_count": 80,
   "metadata": {},
   "outputs": [
    {
     "name": "stdout",
     "output_type": "stream",
     "text": [
      "51\n"
     ]
    }
   ],
   "source": [
    "max_row = tally_df.loc[tally_df.loc[:,\"count\"]==max(tally_df.loc[:,\"count\"]),:]\n",
    "print (max_row.index[0])"
   ]
  },
  {
   "cell_type": "markdown",
   "metadata": {},
   "source": [
    "---\n",
    "## 4. Codon table (6pts)\n",
    "\n",
    "For this question, use `codon_table.txt`, which contains a list of all possible codons and their corresponding amino acids. We will be using this info to create a dictionary, which will allow us to translate a nucleotide sequence into amino acids. Each part of this question builds off the previous parts."
   ]
  },
  {
   "cell_type": "markdown",
   "metadata": {},
   "source": [
    "**(A)** Read in `codon_table.txt` (note that it has a header line) and use it to create a codon dataFrame. Then use `input()` to prompt the user to enter a single codon (e.g. ATG) and print the amino acid corresponding to that codon to the screen.\n",
    "\n",
    "Hint: In a pandas Series use the `.values` function to get the values of the Series."
   ]
  },
  {
   "cell_type": "code",
   "execution_count": 113,
   "metadata": {},
   "outputs": [
    {
     "name": "stdout",
     "output_type": "stream",
     "text": [
      "enter a single codon: AAA\n",
      "K\n"
     ]
    }
   ],
   "source": [
    "# one correct answer\n",
    "inFile = \"codon_table.txt\"\n",
    "codon_t = open(inFile, 'r')\n",
    "codon_df1 = pd.read_table(inFile,sep=\"\\t\",index_col=0)\n",
    "\n",
    "user_codon = raw_input(\"enter a single codon: \").upper()\n",
    "if user_codon in codon_df1.index:\n",
    "    print(codon_df1.loc[user_codon,\"AA\"])\n",
    "else:\n",
    "    print(\"Error: that is not a codon\")"
   ]
  },
  {
   "cell_type": "code",
   "execution_count": 114,
   "metadata": {},
   "outputs": [
    {
     "name": "stdout",
     "output_type": "stream",
     "text": [
      "enter a single codon: AAA\n",
      "K\n"
     ]
    }
   ],
   "source": [
    "# another correct answer\n",
    "inFile = \"codon_table.txt\"\n",
    "codon_t = open(inFile, 'r')\n",
    "codon_df2 = pd.read_table(inFile,sep=\"\\t\")\n",
    "\n",
    "user_codon = raw_input(\"enter a single codon: \").upper()\n",
    "if user_codon in codon_df2.loc[:,\"Codon\"].values:\n",
    "    user_aa = codon_df2.loc[codon_df2.loc[:,\"Codon\"]==user_codon,\"AA\"].values\n",
    "    print (user_aa[0])\n",
    "else:\n",
    "    print(\"Error: that is not a codon\")"
   ]
  },
  {
   "cell_type": "markdown",
   "metadata": {},
   "source": [
    "**(C)** Now we will adapt the code in (B) to translate a longer sequence. Instead of prompting the user for a single codon, allow them to enter a longer sequence. First, check that the sequence they entered has a length that is a multiple of 3 (Hint: use the mod operator, %), and print an error message if it is not. If it is valid, then go on to translate every three nucleotides to an amino acid. Print the final amino acid sequence to the screen."
   ]
  },
  {
   "cell_type": "code",
   "execution_count": 116,
   "metadata": {},
   "outputs": [
    {
     "name": "stdout",
     "output_type": "stream",
     "text": [
      "enter a translatable DNA sequence (length must be divisable by 3): AAATAT\n",
      "KY\n"
     ]
    }
   ],
   "source": [
    "# if B was formatted like codon_df1\n",
    "seq = raw_input(\"enter a translatable DNA sequence (length must be divisable by 3): \").upper()\n",
    "if len(seq) % 3 == 0 and len(seq) > 0:\n",
    "    amino_seq=\"\"\n",
    "    for i in range(3,len(seq)+3,3):\n",
    "        codon = seq[i-3:i]\n",
    "        amino_seq = amino_seq + codon_df1.loc[codon,\"AA\"]\n",
    "    print amino_seq\n",
    "elif len(seq) == 0:\n",
    "    print(\"no sequence was entered.\")\n",
    "else:\n",
    "    print(\"sequence length must be divisable by 3.\")"
   ]
  },
  {
   "cell_type": "code",
   "execution_count": 117,
   "metadata": {},
   "outputs": [
    {
     "name": "stdout",
     "output_type": "stream",
     "text": [
      "enter a translatable DNA sequence (length must be divisable by 3): AAATTT\n",
      "KF\n"
     ]
    }
   ],
   "source": [
    "# if B was formatted like codon_df2\n",
    "seq = raw_input(\"enter a translatable DNA sequence (length must be divisable by 3): \").upper()\n",
    "if len(seq) % 3 == 0 and len(seq) > 0:\n",
    "    amino_seq=\"\"\n",
    "    for i in range(3,len(seq)+3,3):\n",
    "        codon = seq[i-3:i]\n",
    "        aa_list = codon_df2.loc[codon_df2.loc[:,\"Codon\"]==codon,\"AA\"].values\n",
    "        amino_seq = amino_seq + aa_list[0]\n",
    "    print amino_seq\n",
    "elif len(seq) == 0:\n",
    "    print(\"no sequence was entered.\")\n",
    "else:\n",
    "    print(\"sequence length must be divisable by 3.\")"
   ]
  },
  {
   "cell_type": "markdown",
   "metadata": {},
   "source": [
    "**(D)** Now, instead of taking user input, you will apply your translator to a set of sequences stored in a file. Read in the sequences from `sequences3.txt` (assume each line is a separate sequence), translate it to amino acids, and print it to a new file called `proteins.txt`."
   ]
  },
  {
   "cell_type": "code",
   "execution_count": 119,
   "metadata": {},
   "outputs": [],
   "source": [
    "# if B was formatted like codon_df1\n",
    "seqFile = open(\"sequences3.txt\", 'r')\n",
    "protFile = open(\"proteins.txt\", 'w')\n",
    "for seq in seqFile:\n",
    "    seq = seq.rstrip('\\n')\n",
    "    if len(seq) % 3 == 0 and len(seq) > 0:\n",
    "        amino_seq=\"\"\n",
    "        for i in range(3,len(seq)+3,3):\n",
    "            codon = seq[i-3:i]\n",
    "            amino_seq = amino_seq + codon_df1.loc[codon,\"AA\"]\n",
    "        protFile.write(amino_seq+\"\\n\")\n",
    "seqFile.close() \n",
    "protFile.close()"
   ]
  },
  {
   "cell_type": "code",
   "execution_count": 120,
   "metadata": {},
   "outputs": [],
   "source": [
    "# if B was formatted like codon_df2\n",
    "seqFile = open(\"sequences3.txt\", 'r')\n",
    "protFile = open(\"proteins.txt\", 'w')\n",
    "for seq in seqFile:\n",
    "    seq = seq.rstrip('\\n')\n",
    "    if len(seq) % 3 == 0 and len(seq) > 0:\n",
    "        amino_seq=\"\"\n",
    "        for i in range(3,len(seq)+3,3):\n",
    "            codon = seq[i-3:i]\n",
    "            aa_list = codon_df2.loc[codon_df2.loc[:,\"Codon\"]==codon,\"AA\"].values\n",
    "            amino_seq = amino_seq + aa_list[0]\n",
    "        protFile.write(amino_seq+\"\\n\")\n",
    "seqFile.close() \n",
    "protFile.close()"
   ]
  }
 ],
 "metadata": {
  "kernelspec": {
   "display_name": "Python 3",
   "language": "python",
   "name": "python3"
  },
  "language_info": {
   "codemirror_mode": {
    "name": "ipython",
    "version": 3
   },
   "file_extension": ".py",
   "mimetype": "text/x-python",
   "name": "python",
   "nbconvert_exporter": "python",
   "pygments_lexer": "ipython3",
   "version": "3.7.1"
  }
 },
 "nbformat": 4,
 "nbformat_minor": 2
}
