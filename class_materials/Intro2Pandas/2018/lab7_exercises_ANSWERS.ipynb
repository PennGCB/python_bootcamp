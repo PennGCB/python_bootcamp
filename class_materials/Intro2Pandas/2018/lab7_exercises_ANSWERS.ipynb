{
 "cells": [
  {
   "cell_type": "markdown",
   "metadata": {},
   "source": [
    "# Programming Bootcamp 2018\n",
    "# Lesson 7 Exercises\n",
    "---"
   ]
  },
  {
   "cell_type": "markdown",
   "metadata": {},
   "source": [
    "** 21 Earning points (optional) **\n",
    "- These excercises use the following files:\n",
    " * sequences3.txt\n",
    " * codon_table.txt\n",
    " * horrible.fasta\n",
    "\n",
    "- Enter your name below.\n",
    "- Post your notebook privately to instructors on piazza **before 9:00 pm on 9/4**."
   ]
  },
  {
   "cell_type": "markdown",
   "metadata": {},
   "source": [
    "**Name**: "
   ]
  },
  {
   "cell_type": "markdown",
   "metadata": {},
   "source": [
    "---\n",
    "## 1. Guess the output: DataFrame practice (1pt)\n",
    "\n",
    "For the following blocks of code, first try to guess what the output will be, and then run the code yourself. Points will be given for filling in the guesses; guessing wrong won't be penalized."
   ]
  },
  {
   "cell_type": "code",
   "execution_count": 16,
   "metadata": {},
   "outputs": [
    {
     "data": {
      "text/html": [
       "<div>\n",
       "<style scoped>\n",
       "    .dataframe tbody tr th:only-of-type {\n",
       "        vertical-align: middle;\n",
       "    }\n",
       "\n",
       "    .dataframe tbody tr th {\n",
       "        vertical-align: top;\n",
       "    }\n",
       "\n",
       "    .dataframe thead th {\n",
       "        text-align: right;\n",
       "    }\n",
       "</style>\n",
       "<table border=\"1\" class=\"dataframe\">\n",
       "  <thead>\n",
       "    <tr style=\"text-align: right;\">\n",
       "      <th></th>\n",
       "      <th>gender</th>\n",
       "      <th>age</th>\n",
       "    </tr>\n",
       "  </thead>\n",
       "  <tbody>\n",
       "    <tr>\n",
       "      <th>Apexa</th>\n",
       "      <td>F</td>\n",
       "      <td>25</td>\n",
       "    </tr>\n",
       "    <tr>\n",
       "      <th>Raju</th>\n",
       "      <td>F</td>\n",
       "      <td>26</td>\n",
       "    </tr>\n",
       "    <tr>\n",
       "      <th>Sam</th>\n",
       "      <td>F</td>\n",
       "      <td>26</td>\n",
       "    </tr>\n",
       "    <tr>\n",
       "      <th>Scott</th>\n",
       "      <td>M</td>\n",
       "      <td>26</td>\n",
       "    </tr>\n",
       "  </tbody>\n",
       "</table>\n",
       "</div>"
      ],
      "text/plain": [
       "      gender  age\n",
       "Apexa      F   25\n",
       "Raju       F   26\n",
       "Sam        F   26\n",
       "Scott      M   26"
      ]
     },
     "execution_count": 16,
     "metadata": {},
     "output_type": "execute_result"
    }
   ],
   "source": [
    "# run this cell first!\n",
    "import pandas as pd\n",
    "\n",
    "peoples_dictOfdict = {\"Sam\":{\"gender\":\"F\", \"age\":26},\n",
    "                          \"Raju\":{\"gender\":\"F\", \"age\":26},\n",
    "                          \"Scott\":{\"gender\":\"M\", \"age\":26},\n",
    "                          \"Apexa\":{\"gender\":\"F\", \"age\":25}}\n",
    "peoples_df = pd.DataFrame.from_dict(peoples_dictOfdict,\n",
    "                                   orient = \"index\")\n",
    "\n",
    "peoples_df"
   ]
  },
  {
   "cell_type": "code",
   "execution_count": 2,
   "metadata": {},
   "outputs": [
    {
     "name": "stdout",
     "output_type": "stream",
     "text": [
      "M\n"
     ]
    }
   ],
   "source": [
    "print peoples_df.loc[\"Scott\",\"gender\"]"
   ]
  },
  {
   "cell_type": "markdown",
   "metadata": {},
   "source": [
    "Your guess:"
   ]
  },
  {
   "cell_type": "code",
   "execution_count": 3,
   "metadata": {},
   "outputs": [
    {
     "name": "stdout",
     "output_type": "stream",
     "text": [
      "M\n"
     ]
    }
   ],
   "source": [
    "print peoples_df.iloc[2,1]"
   ]
  },
  {
   "cell_type": "markdown",
   "metadata": {},
   "source": [
    "Your guess:"
   ]
  },
  {
   "cell_type": "code",
   "execution_count": null,
   "metadata": {},
   "outputs": [],
   "source": [
    "print peoples_df.iloc[\"Sam\",0]"
   ]
  },
  {
   "cell_type": "markdown",
   "metadata": {},
   "source": [
    "Your guess:"
   ]
  },
  {
   "cell_type": "code",
   "execution_count": 46,
   "metadata": {},
   "outputs": [
    {
     "name": "stdout",
     "output_type": "stream",
     "text": [
      "Index([u'age', u'gender'], dtype='object')\n"
     ]
    }
   ],
   "source": [
    "print peoples_df.columns"
   ]
  },
  {
   "cell_type": "markdown",
   "metadata": {},
   "source": [
    "Your guess:"
   ]
  },
  {
   "cell_type": "code",
   "execution_count": 47,
   "metadata": {},
   "outputs": [
    {
     "name": "stdout",
     "output_type": "stream",
     "text": [
      "Index([u'Sam', u'Raju', u'Scott', u'Apexa'], dtype='object')\n"
     ]
    }
   ],
   "source": [
    "print peoples_df.index"
   ]
  },
  {
   "cell_type": "markdown",
   "metadata": {},
   "source": [
    "Your guess:"
   ]
  },
  {
   "cell_type": "code",
   "execution_count": 48,
   "metadata": {},
   "outputs": [
    {
     "name": "stdout",
     "output_type": "stream",
     "text": [
      "(4, 2)\n"
     ]
    }
   ],
   "source": [
    "print peoples_df.shape"
   ]
  },
  {
   "cell_type": "markdown",
   "metadata": {},
   "source": [
    "Your guess:"
   ]
  },
  {
   "cell_type": "code",
   "execution_count": 51,
   "metadata": {},
   "outputs": [
    {
     "name": "stdout",
     "output_type": "stream",
     "text": [
      "       age gender\n",
      "Apexa   25      F\n"
     ]
    }
   ],
   "source": [
    "print peoples_df.loc[peoples_df.loc[:,\"age\"]<26,:]"
   ]
  },
  {
   "cell_type": "markdown",
   "metadata": {},
   "source": [
    "Your guess:"
   ]
  },
  {
   "cell_type": "markdown",
   "metadata": {},
   "source": [
    "---\n",
    "## 2. Obtaining Information from a DataFrame (6 pts)\n",
    "\n",
    "Using the info in the table below, write code to accomplish the following tasks. Note that these and the following questions are similar to questions in lab5 (working with dictionaries), but now we are can accomplish the tasks with pandas DataFrames."
   ]
  },
  {
   "cell_type": "code",
   "execution_count": 1,
   "metadata": {},
   "outputs": [
    {
     "data": {
      "text/html": [
       "<div>\n",
       "<style scoped>\n",
       "    .dataframe tbody tr th:only-of-type {\n",
       "        vertical-align: middle;\n",
       "    }\n",
       "\n",
       "    .dataframe tbody tr th {\n",
       "        vertical-align: top;\n",
       "    }\n",
       "\n",
       "    .dataframe thead th {\n",
       "        text-align: right;\n",
       "    }\n",
       "</style>\n",
       "<table border=\"1\" class=\"dataframe\">\n",
       "  <thead>\n",
       "    <tr style=\"text-align: right;\">\n",
       "      <th></th>\n",
       "      <th>Favorite Food</th>\n",
       "      <th>Name</th>\n",
       "    </tr>\n",
       "  </thead>\n",
       "  <tbody>\n",
       "    <tr>\n",
       "      <th>0</th>\n",
       "      <td>Steak</td>\n",
       "      <td>Wilfred</td>\n",
       "    </tr>\n",
       "    <tr>\n",
       "      <th>1</th>\n",
       "      <td>Pizza</td>\n",
       "      <td>Manfred</td>\n",
       "    </tr>\n",
       "    <tr>\n",
       "      <th>2</th>\n",
       "      <td>Spaghetti</td>\n",
       "      <td>Wadsworth</td>\n",
       "    </tr>\n",
       "    <tr>\n",
       "      <th>3</th>\n",
       "      <td>Spaghetti</td>\n",
       "      <td>Jeeves</td>\n",
       "    </tr>\n",
       "  </tbody>\n",
       "</table>\n",
       "</div>"
      ],
      "text/plain": [
       "  Favorite Food       Name\n",
       "0         Steak    Wilfred\n",
       "1         Pizza    Manfred\n",
       "2     Spaghetti  Wadsworth\n",
       "3     Spaghetti     Jeeves"
      ]
     },
     "execution_count": 1,
     "metadata": {},
     "output_type": "execute_result"
    }
   ],
   "source": [
    "import pandas as pd\n",
    "\n",
    "favFood_df = pd.DataFrame([\n",
    "    {\"Name\":\"Wilfred\", \"Favorite Food\":\"Steak\"},\n",
    "    {\"Name\":\"Manfred\", \"Favorite Food\":\"Pizza\"},\n",
    "    {\"Name\":\"Wadsworth\", \"Favorite Food\":\"Spaghetti\"},\n",
    "    {\"Name\":\"Jeeves\", \"Favorite Food\":\"Spaghetti\"}\n",
    "])\n",
    "    \n",
    "favFood_df"
   ]
  },
  {
   "cell_type": "markdown",
   "metadata": {},
   "source": [
    "**(A)** (1pt)  Using a `for` loop, go through the DataFrame you created above and print each name and food combination in the format:\n",
    "\n",
    "    <NAME>'s favorite food is <FOOD>\n",
    "    \n",
    "Reminder that to get the height of the DataFrame you use the `len()` function"
   ]
  },
  {
   "cell_type": "code",
   "execution_count": 4,
   "metadata": {},
   "outputs": [
    {
     "name": "stdout",
     "output_type": "stream",
     "text": [
      "Wilfred's favorite food is Steak\n",
      "Manfred's favorite food is Pizza\n",
      "Wadsworth's favorite food is Spaghetti\n",
      "Jeeves's favorite food is Spaghetti\n"
     ]
    }
   ],
   "source": [
    "# ANSWER FOR 2A\n",
    "for i in range(len(favFood_df)):\n",
    "    name = favFood_df.loc[i,\"Name\"]\n",
    "    food = favFood_df.loc[i,\"Favorite Food\"]\n",
    "    print name + \"'s favorite food is \"+ food"
   ]
  },
  {
   "cell_type": "markdown",
   "metadata": {},
   "source": [
    "**(B)** (1pt) Print the names of the people who like Spaghetti. (Please do not hard code your answer)\n",
    "\n",
    "Hint: In a pandas Series use the `.values` function to get the values of the Series."
   ]
  },
  {
   "cell_type": "code",
   "execution_count": 9,
   "metadata": {},
   "outputs": [
    {
     "name": "stdout",
     "output_type": "stream",
     "text": [
      "Wadsworth\n",
      "Jeeves\n"
     ]
    }
   ],
   "source": [
    "# Answer 2B\n",
    "spaghetti_df = favFood_df.loc[favFood_df.loc[:,\"Favorite Food\"]==\"Spaghetti\",\"Name\"]\n",
    "for name in spaghetti_df.values:\n",
    "    print name"
   ]
  },
  {
   "cell_type": "markdown",
   "metadata": {},
   "source": [
    "**(C)** (1pt) TRUE or FALSE, does anyone in the DataFrame like Tuna? (Please do not hard code your answer)"
   ]
  },
  {
   "cell_type": "code",
   "execution_count": 13,
   "metadata": {},
   "outputs": [
    {
     "name": "stdout",
     "output_type": "stream",
     "text": [
      "False\n"
     ]
    }
   ],
   "source": [
    "# Answer 2C\n",
    "food_series = favFood_df.loc[:,\"Favorite Food\"]\n",
    "print \"Tuna\" in food_series.values"
   ]
  },
  {
   "cell_type": "markdown",
   "metadata": {},
   "source": [
    "**(D)** (1pt) TRUE or FALSE, Does anyone in the DataFrame like Pizza? (Please do not hard code your answer)"
   ]
  },
  {
   "cell_type": "code",
   "execution_count": 14,
   "metadata": {},
   "outputs": [
    {
     "name": "stdout",
     "output_type": "stream",
     "text": [
      "True\n"
     ]
    }
   ],
   "source": [
    "# Answer 2D\n",
    "food_series = favFood_df.loc[:,\"Favorite Food\"]\n",
    "print \"Pizza\" in food_series.values"
   ]
  },
  {
   "cell_type": "markdown",
   "metadata": {},
   "source": [
    "**(E)** (1pt) Prompt the user with the question \"Whose favorite food do you want to know?\" and if the name is in the dataFrame then report the person's favorite food. Otherwise print \"That name is not in our database\"."
   ]
  },
  {
   "cell_type": "code",
   "execution_count": 87,
   "metadata": {},
   "outputs": [
    {
     "name": "stdout",
     "output_type": "stream",
     "text": [
      "Whose favorite food do you want to know? SAM\n",
      "That name is not in our database\n"
     ]
    }
   ],
   "source": [
    "# Answer 2E\n",
    "name_query = raw_input(\"Whose favorite food do you want to know? \")\n",
    "if name_query in favFood_df.loc[:,\"Name\"].values:\n",
    "    print str(favFood_df.loc[favFood_df.loc[:,\"Name\"] == name_query,\n",
    "                        \"Favorite Food\"])\n",
    "else:\n",
    "    print \"That name is not in our database\""
   ]
  },
  {
   "cell_type": "markdown",
   "metadata": {},
   "source": [
    "**(F)** (1pt)  Each row represents a person. Set the row names (indexes) to their Name. It should look like:"
   ]
  },
  {
   "cell_type": "markdown",
   "metadata": {},
   "source": [
    "<table>\n",
    "<col />\n",
    "<thead>\n",
    "<tr>\n",
    "\t<th> </th>\n",
    "\t<th>Favorite Food</th>\n",
    "</tr>\n",
    "<tr>\n",
    "\t<th>Name</th>\n",
    "\t<th> </th>\n",
    "</tr>\n",
    "</thead>\n",
    "<tbody>\n",
    "<tr>\n",
    "\t<th>Wilfred</th>\n",
    "\t<td>Steak</td>\n",
    "</tr>\n",
    "<tr>\n",
    "\t<th>Manfred</th>\n",
    "\t<td>Pizza</td>\n",
    "</tr>\n",
    "<tr>\n",
    "\t<th>Wadsworth</th>\n",
    "\t<td>Spaghetti</td>\n",
    "</tr>\n",
    "<tr>\n",
    "\t<th>Jeeves</th>\n",
    "\t<td>Spaghetti</td>\n",
    "</tr>\n",
    "</tbody>\n",
    "</table>"
   ]
  },
  {
   "cell_type": "markdown",
   "metadata": {},
   "source": [
    "> Note that \"Name\" and \"Favorite Food\" should be on different lines since \"Name\" is the name of the index column and \"Favorite Food\" is the first column name."
   ]
  },
  {
   "cell_type": "code",
   "execution_count": 4,
   "metadata": {},
   "outputs": [
    {
     "data": {
      "text/html": [
       "<div>\n",
       "<style scoped>\n",
       "    .dataframe tbody tr th:only-of-type {\n",
       "        vertical-align: middle;\n",
       "    }\n",
       "\n",
       "    .dataframe tbody tr th {\n",
       "        vertical-align: top;\n",
       "    }\n",
       "\n",
       "    .dataframe thead th {\n",
       "        text-align: right;\n",
       "    }\n",
       "</style>\n",
       "<table border=\"1\" class=\"dataframe\">\n",
       "  <thead>\n",
       "    <tr style=\"text-align: right;\">\n",
       "      <th></th>\n",
       "      <th>Favorite Food</th>\n",
       "    </tr>\n",
       "    <tr>\n",
       "      <th>Name</th>\n",
       "      <th></th>\n",
       "    </tr>\n",
       "  </thead>\n",
       "  <tbody>\n",
       "    <tr>\n",
       "      <th>Wilfred</th>\n",
       "      <td>Steak</td>\n",
       "    </tr>\n",
       "    <tr>\n",
       "      <th>Manfred</th>\n",
       "      <td>Pizza</td>\n",
       "    </tr>\n",
       "    <tr>\n",
       "      <th>Wadsworth</th>\n",
       "      <td>Spaghetti</td>\n",
       "    </tr>\n",
       "    <tr>\n",
       "      <th>Jeeves</th>\n",
       "      <td>Spaghetti</td>\n",
       "    </tr>\n",
       "  </tbody>\n",
       "</table>\n",
       "</div>"
      ],
      "text/plain": [
       "          Favorite Food\n",
       "Name                   \n",
       "Wilfred           Steak\n",
       "Manfred           Pizza\n",
       "Wadsworth     Spaghetti\n",
       "Jeeves        Spaghetti"
      ]
     },
     "execution_count": 4,
     "metadata": {},
     "output_type": "execute_result"
    }
   ],
   "source": [
    "favFood_df = favFood_df.set_index(\"Name\")\n",
    "favFood_df"
   ]
  },
  {
   "cell_type": "markdown",
   "metadata": {},
   "source": [
    "---\n",
    "## 3. The \"Many Counters\" Problem with dataFrames (3pts)\n",
    "**(A)**  (2pt) Write code that reads a file of sequences and tallies how many sequences there are of each length. Use `sequences3.txt` as input. \n",
    "\n",
    "*Hint: you can use DataFrames to keep track of all the tallies. For example:*"
   ]
  },
  {
   "cell_type": "code",
   "execution_count": 73,
   "metadata": {},
   "outputs": [
    {
     "data": {
      "text/html": [
       "<div>\n",
       "<style scoped>\n",
       "    .dataframe tbody tr th:only-of-type {\n",
       "        vertical-align: middle;\n",
       "    }\n",
       "\n",
       "    .dataframe tbody tr th {\n",
       "        vertical-align: top;\n",
       "    }\n",
       "\n",
       "    .dataframe thead th {\n",
       "        text-align: right;\n",
       "    }\n",
       "</style>\n",
       "<table border=\"1\" class=\"dataframe\">\n",
       "  <thead>\n",
       "    <tr style=\"text-align: right;\">\n",
       "      <th></th>\n",
       "      <th>count</th>\n",
       "    </tr>\n",
       "  </thead>\n",
       "  <tbody>\n",
       "    <tr>\n",
       "      <th>15</th>\n",
       "      <td>1</td>\n",
       "    </tr>\n",
       "  </tbody>\n",
       "</table>\n",
       "</div>"
      ],
      "text/plain": [
       "    count\n",
       "15      1"
      ]
     },
     "execution_count": 73,
     "metadata": {},
     "output_type": "execute_result"
    }
   ],
   "source": [
    "# hint code:\n",
    "import pandas as pd\n",
    "\n",
    "tally_df = pd.DataFrame(columns=[\"count\"])\n",
    "seq = \"ATGCTGATCGATATA\"\n",
    "length = len(seq)\n",
    "\n",
    "if length not in list(tally_df.index):\n",
    "    tally_df.loc[length,\"count\"] = 1  #initialize to 1 if this is the first occurrence of the length...\n",
    "else:\n",
    "    tally_df.loc[length,\"count\"] = tally_df.loc[length,\"count\"] + 1   #...otherwise just increment the count.\n",
    "    \n",
    "tally_df"
   ]
  },
  {
   "cell_type": "code",
   "execution_count": 74,
   "metadata": {},
   "outputs": [
    {
     "data": {
      "text/html": [
       "<div>\n",
       "<style scoped>\n",
       "    .dataframe tbody tr th:only-of-type {\n",
       "        vertical-align: middle;\n",
       "    }\n",
       "\n",
       "    .dataframe tbody tr th {\n",
       "        vertical-align: top;\n",
       "    }\n",
       "\n",
       "    .dataframe thead th {\n",
       "        text-align: right;\n",
       "    }\n",
       "</style>\n",
       "<table border=\"1\" class=\"dataframe\">\n",
       "  <thead>\n",
       "    <tr style=\"text-align: right;\">\n",
       "      <th></th>\n",
       "      <th>count</th>\n",
       "    </tr>\n",
       "  </thead>\n",
       "  <tbody>\n",
       "    <tr>\n",
       "      <th>39</th>\n",
       "      <td>4.0</td>\n",
       "    </tr>\n",
       "    <tr>\n",
       "      <th>57</th>\n",
       "      <td>3.0</td>\n",
       "    </tr>\n",
       "    <tr>\n",
       "      <th>51</th>\n",
       "      <td>7.0</td>\n",
       "    </tr>\n",
       "    <tr>\n",
       "      <th>60</th>\n",
       "      <td>4.0</td>\n",
       "    </tr>\n",
       "    <tr>\n",
       "      <th>27</th>\n",
       "      <td>4.0</td>\n",
       "    </tr>\n",
       "    <tr>\n",
       "      <th>90</th>\n",
       "      <td>6.0</td>\n",
       "    </tr>\n",
       "    <tr>\n",
       "      <th>81</th>\n",
       "      <td>5.0</td>\n",
       "    </tr>\n",
       "    <tr>\n",
       "      <th>45</th>\n",
       "      <td>5.0</td>\n",
       "    </tr>\n",
       "    <tr>\n",
       "      <th>36</th>\n",
       "      <td>4.0</td>\n",
       "    </tr>\n",
       "    <tr>\n",
       "      <th>84</th>\n",
       "      <td>3.0</td>\n",
       "    </tr>\n",
       "    <tr>\n",
       "      <th>42</th>\n",
       "      <td>6.0</td>\n",
       "    </tr>\n",
       "    <tr>\n",
       "      <th>93</th>\n",
       "      <td>3.0</td>\n",
       "    </tr>\n",
       "    <tr>\n",
       "      <th>75</th>\n",
       "      <td>2.0</td>\n",
       "    </tr>\n",
       "    <tr>\n",
       "      <th>78</th>\n",
       "      <td>3.0</td>\n",
       "    </tr>\n",
       "    <tr>\n",
       "      <th>102</th>\n",
       "      <td>3.0</td>\n",
       "    </tr>\n",
       "    <tr>\n",
       "      <th>66</th>\n",
       "      <td>3.0</td>\n",
       "    </tr>\n",
       "    <tr>\n",
       "      <th>30</th>\n",
       "      <td>2.0</td>\n",
       "    </tr>\n",
       "    <tr>\n",
       "      <th>54</th>\n",
       "      <td>5.0</td>\n",
       "    </tr>\n",
       "    <tr>\n",
       "      <th>96</th>\n",
       "      <td>3.0</td>\n",
       "    </tr>\n",
       "    <tr>\n",
       "      <th>72</th>\n",
       "      <td>2.0</td>\n",
       "    </tr>\n",
       "    <tr>\n",
       "      <th>63</th>\n",
       "      <td>3.0</td>\n",
       "    </tr>\n",
       "    <tr>\n",
       "      <th>99</th>\n",
       "      <td>3.0</td>\n",
       "    </tr>\n",
       "    <tr>\n",
       "      <th>33</th>\n",
       "      <td>3.0</td>\n",
       "    </tr>\n",
       "    <tr>\n",
       "      <th>69</th>\n",
       "      <td>3.0</td>\n",
       "    </tr>\n",
       "    <tr>\n",
       "      <th>48</th>\n",
       "      <td>3.0</td>\n",
       "    </tr>\n",
       "    <tr>\n",
       "      <th>105</th>\n",
       "      <td>5.0</td>\n",
       "    </tr>\n",
       "    <tr>\n",
       "      <th>87</th>\n",
       "      <td>3.0</td>\n",
       "    </tr>\n",
       "  </tbody>\n",
       "</table>\n",
       "</div>"
      ],
      "text/plain": [
       "     count\n",
       "39     4.0\n",
       "57     3.0\n",
       "51     7.0\n",
       "60     4.0\n",
       "27     4.0\n",
       "90     6.0\n",
       "81     5.0\n",
       "45     5.0\n",
       "36     4.0\n",
       "84     3.0\n",
       "42     6.0\n",
       "93     3.0\n",
       "75     2.0\n",
       "78     3.0\n",
       "102    3.0\n",
       "66     3.0\n",
       "30     2.0\n",
       "54     5.0\n",
       "96     3.0\n",
       "72     2.0\n",
       "63     3.0\n",
       "99     3.0\n",
       "33     3.0\n",
       "69     3.0\n",
       "48     3.0\n",
       "105    5.0\n",
       "87     3.0"
      ]
     },
     "execution_count": 74,
     "metadata": {},
     "output_type": "execute_result"
    }
   ],
   "source": [
    "seqFile = open(\"sequences3.txt\", 'r')\n",
    "tally_df = pd.DataFrame(columns=[\"count\"])\n",
    "for seq in seqFile:\n",
    "    seq = seq.rstrip('\\n')\n",
    "    length = len(seq)\n",
    "    if length not in list(tally_df.index):\n",
    "        tally_df.loc[length,\"count\"] = 1  #initialize to 1 if this is the first occurrence of the length...\n",
    "    else:\n",
    "        tally_df.loc[length,\"count\"] = tally_df.loc[length,\"count\"] + 1   #...otherwise just increment the count.\n",
    "\n",
    "tally_df"
   ]
  },
  {
   "cell_type": "markdown",
   "metadata": {},
   "source": [
    "**(B)** (1pt) Using the tally DataFrame you created above, figure out which sequence length was the most common, and print it to the screen."
   ]
  },
  {
   "cell_type": "code",
   "execution_count": 80,
   "metadata": {},
   "outputs": [
    {
     "name": "stdout",
     "output_type": "stream",
     "text": [
      "51\n"
     ]
    }
   ],
   "source": [
    "max_row = tally_df.loc[tally_df.loc[:,\"count\"]==max(tally_df.loc[:,\"count\"]),:]\n",
    "print (max_row.index[0])"
   ]
  },
  {
   "cell_type": "markdown",
   "metadata": {},
   "source": [
    "---\n",
    "## 4. Codon table (6pts)\n",
    "\n",
    "For this question, use `codon_table.txt`, which contains a list of all possible codons and their corresponding amino acids. We will be using this info to create a dictionary, which will allow us to translate a nucleotide sequence into amino acids. Each part of this question builds off the previous parts."
   ]
  },
  {
   "cell_type": "markdown",
   "metadata": {},
   "source": [
    "**(A)** (2pt) Read in `codon_table.txt` (note that it has a header line) into a Pandas DataFrame. Then use `input()` to prompt the user to enter a single codon (e.g. ATG) and print the amino acid corresponding to that codon to the screen."
   ]
  },
  {
   "cell_type": "code",
   "execution_count": 19,
   "metadata": {},
   "outputs": [
    {
     "name": "stdout",
     "output_type": "stream",
     "text": [
      "enter a single codon: AAA\n",
      "K\n"
     ]
    }
   ],
   "source": [
    "# one correct answer\n",
    "inFile = \"codon_table.txt\"\n",
    "codon_df1 = pd.read_table(inFile,sep=\"\\t\",index_col=0)\n",
    "\n",
    "user_codon = raw_input(\"enter a single codon: \").upper()\n",
    "if user_codon in codon_df1.index:\n",
    "    print(codon_df1.loc[user_codon,\"AA\"])\n",
    "else:\n",
    "    print(\"Error: that is not a codon\")"
   ]
  },
  {
   "cell_type": "code",
   "execution_count": 114,
   "metadata": {},
   "outputs": [
    {
     "name": "stdout",
     "output_type": "stream",
     "text": [
      "enter a single codon: AAA\n",
      "K\n"
     ]
    }
   ],
   "source": [
    "# another correct answer\n",
    "inFile = \"codon_table.txt\"\n",
    "codon_df2 = pd.read_table(inFile,sep=\"\\t\")\n",
    "\n",
    "user_codon = raw_input(\"enter a single codon: \").upper()\n",
    "if user_codon in codon_df2.loc[:,\"Codon\"].values:\n",
    "    user_aa = codon_df2.loc[codon_df2.loc[:,\"Codon\"]==user_codon,\"AA\"].values\n",
    "    print (user_aa[0])\n",
    "else:\n",
    "    print(\"Error: that is not a codon\")"
   ]
  },
  {
   "cell_type": "markdown",
   "metadata": {},
   "source": [
    "**(B)** (2pt) Now we will adapt the code in (B) to translate a longer sequence. Instead of prompting the user for a single codon, allow them to enter a longer sequence. First, check that the sequence they entered has a length that is a multiple of 3 (Hint: use the mod operator, %), and print an error message if it is not. If it is valid, then go on to translate every three nucleotides to an amino acid. Print the final amino acid sequence to the screen."
   ]
  },
  {
   "cell_type": "code",
   "execution_count": 116,
   "metadata": {},
   "outputs": [
    {
     "name": "stdout",
     "output_type": "stream",
     "text": [
      "enter a translatable DNA sequence (length must be divisable by 3): AAATAT\n",
      "KY\n"
     ]
    }
   ],
   "source": [
    "# if A was formatted like codon_df1\n",
    "seq = raw_input(\"enter a translatable DNA sequence (length must be divisable by 3): \").upper()\n",
    "if len(seq) % 3 == 0 and len(seq) > 0:\n",
    "    amino_seq=\"\"\n",
    "    for i in range(3,len(seq)+3,3):\n",
    "        codon = seq[i-3:i]\n",
    "        amino_seq = amino_seq + codon_df1.loc[codon,\"AA\"]\n",
    "    print amino_seq\n",
    "elif len(seq) == 0:\n",
    "    print(\"no sequence was entered.\")\n",
    "else:\n",
    "    print(\"sequence length must be divisable by 3.\")"
   ]
  },
  {
   "cell_type": "code",
   "execution_count": 117,
   "metadata": {},
   "outputs": [
    {
     "name": "stdout",
     "output_type": "stream",
     "text": [
      "enter a translatable DNA sequence (length must be divisable by 3): AAATTT\n",
      "KF\n"
     ]
    }
   ],
   "source": [
    "# if A was formatted like codon_df2\n",
    "seq = raw_input(\"enter a translatable DNA sequence (length must be divisable by 3): \").upper()\n",
    "if len(seq) % 3 == 0 and len(seq) > 0:\n",
    "    amino_seq=\"\"\n",
    "    for i in range(3,len(seq)+3,3):\n",
    "        codon = seq[i-3:i]\n",
    "        aa_list = codon_df2.loc[codon_df2.loc[:,\"Codon\"]==codon,\"AA\"].values\n",
    "        amino_seq = amino_seq + aa_list[0]\n",
    "    print amino_seq\n",
    "elif len(seq) == 0:\n",
    "    print(\"no sequence was entered.\")\n",
    "else:\n",
    "    print(\"sequence length must be divisable by 3.\")"
   ]
  },
  {
   "cell_type": "markdown",
   "metadata": {},
   "source": [
    "**(C)** (2pt) Now, instead of taking user input, you will apply your translator to a set of sequences stored in a file. Read in the sequences from `sequences3.txt` (assume each line is a separate sequence), translate it to amino acids, and print it to a new file called `proteins.txt`."
   ]
  },
  {
   "cell_type": "code",
   "execution_count": 119,
   "metadata": {},
   "outputs": [],
   "source": [
    "# if A was formatted like codon_df1\n",
    "seqFile = open(\"sequences3.txt\", 'r')\n",
    "protFile = open(\"proteins.txt\", 'w')\n",
    "for seq in seqFile:\n",
    "    seq = seq.rstrip('\\n')\n",
    "    if len(seq) % 3 == 0 and len(seq) > 0:\n",
    "        amino_seq=\"\"\n",
    "        for i in range(3,len(seq)+3,3):\n",
    "            codon = seq[i-3:i]\n",
    "            amino_seq = amino_seq + codon_df1.loc[codon,\"AA\"]\n",
    "        protFile.write(amino_seq+\"\\n\")\n",
    "seqFile.close() \n",
    "protFile.close()"
   ]
  },
  {
   "cell_type": "code",
   "execution_count": 120,
   "metadata": {},
   "outputs": [],
   "source": [
    "# if A was formatted like codon_df2\n",
    "seqFile = open(\"sequences3.txt\", 'r')\n",
    "protFile = open(\"proteins.txt\", 'w')\n",
    "for seq in seqFile:\n",
    "    seq = seq.rstrip('\\n')\n",
    "    if len(seq) % 3 == 0 and len(seq) > 0:\n",
    "        amino_seq=\"\"\n",
    "        for i in range(3,len(seq)+3,3):\n",
    "            codon = seq[i-3:i]\n",
    "            aa_list = codon_df2.loc[codon_df2.loc[:,\"Codon\"]==codon,\"AA\"].values\n",
    "            amino_seq = amino_seq + aa_list[0]\n",
    "        protFile.write(amino_seq+\"\\n\")\n",
    "seqFile.close() \n",
    "protFile.close()"
   ]
  },
  {
   "cell_type": "markdown",
   "metadata": {},
   "source": [
    "---\n",
    "## 5. Using Custom Fuctions to Build a Data Frame (6pts)\n",
    "Last week you learned to build custom functions and then used these functions to write a tab-delimited file with new information. Another way to output a tab-delimited file is to create a pandas DataFrame and then export it to a file."
   ]
  },
  {
   "cell_type": "markdown",
   "metadata": {},
   "source": [
    "**(A)** (1pt) Let's turn a fasta file into a pandas DataFrame. \n",
    "\n",
    "1. Last week you created a function called \"read_fasta\" that takes a file name as a parameter (which is assumed to be in fasta format), puts each fasta entry into a dictionary (using the header line as a key and the sequence as a value), and then returns the dictionary. Copy and paste the \"read_fasta\" function here or write a better version.\n",
    "2. read in \"horrible.fasta\" into a dictionary.\n",
    "3. convert the dictionary into a pandas DataFrame called `horrible_df`. Note that you must set `index=[0]` inside the pandas DataFrame function since the keys of the dictionary only point to a single value. \n",
    "\n",
    "> Note that you can use multiple cells for your answer so its easier to read."
   ]
  },
  {
   "cell_type": "code",
   "execution_count": 17,
   "metadata": {},
   "outputs": [],
   "source": [
    "def read_fasta(inFile):\n",
    "    fasta_F = open(inFile, 'r')\n",
    "    seq_dict={}\n",
    "    seq_name=\"\"\n",
    "    seq=\"\"\n",
    "    for line in fasta_F:\n",
    "        line = line.rstrip('\\n')\n",
    "        if line[0] == \">\":\n",
    "            if len(seq)>0:\n",
    "                seq_dict[seq_name]=seq\n",
    "            seq=\"\"\n",
    "            seq_name=line[1:]\n",
    "        else:\n",
    "            seq = seq + line\n",
    "    fasta_F.close()\n",
    "    return(seq_dict)"
   ]
  },
  {
   "cell_type": "code",
   "execution_count": 53,
   "metadata": {},
   "outputs": [
    {
     "data": {
      "text/html": [
       "<div>\n",
       "<style scoped>\n",
       "    .dataframe tbody tr th:only-of-type {\n",
       "        vertical-align: middle;\n",
       "    }\n",
       "\n",
       "    .dataframe tbody tr th {\n",
       "        vertical-align: top;\n",
       "    }\n",
       "\n",
       "    .dataframe thead th {\n",
       "        text-align: right;\n",
       "    }\n",
       "</style>\n",
       "<table border=\"1\" class=\"dataframe\">\n",
       "  <thead>\n",
       "    <tr style=\"text-align: right;\">\n",
       "      <th></th>\n",
       "      <th>varlen2_uc001agr.3_7</th>\n",
       "      <th>varlen2_uc001pmn.3_3476</th>\n",
       "      <th>varlen2_uc002wkt.1_1569</th>\n",
       "      <th>varlen2_uc003hyy.2_273</th>\n",
       "      <th>varlen2_uc003its.2_2976</th>\n",
       "      <th>varlen2_uc003khi.3_3</th>\n",
       "      <th>varlen2_uc003nvg.4_2466</th>\n",
       "      <th>varlen2_uc003pij.1_129</th>\n",
       "      <th>varlen2_uc003yos.2_1634</th>\n",
       "      <th>varlen2_uc007fws.1_377</th>\n",
       "      <th>...</th>\n",
       "      <th>varlen2_uc007nte.2_374</th>\n",
       "      <th>varlen2_uc007xie.1_4456</th>\n",
       "      <th>varlen2_uc009div.2_242</th>\n",
       "      <th>varlen2_uc009wph.3_423</th>\n",
       "      <th>varlen2_uc010mlp.1_79</th>\n",
       "      <th>varlen2_uc010osx.2_1007</th>\n",
       "      <th>varlen2_uc010suq.2_3895</th>\n",
       "      <th>varlen2_uc011moe.2_5914</th>\n",
       "      <th>varlen2_uc021qfk.1&gt;2_1472</th>\n",
       "      <th>varlen2_uc029ygd.1_73</th>\n",
       "    </tr>\n",
       "  </thead>\n",
       "  <tbody>\n",
       "    <tr>\n",
       "      <th>0</th>\n",
       "      <td>TCGCTGCGCTGGGCCTCTCGGCGGTCCCCCCCACCCGGGTCCCGGGCCC</td>\n",
       "      <td>TCTTACTATTATGTGGAATTTAACTTTTCAGAGAAAATTTCCAAAG...</td>\n",
       "      <td>AGGCTCAGCCCGCTGGAGCATGAGCTCTGTGTGTACCGAGAACTGG...</td>\n",
       "      <td>CCACTCTGGAAATCTT</td>\n",
       "      <td>CGCCCACCTGGATGTCCCAAAGTGCTAGATTCCATGGAATTTTCCT...</td>\n",
       "      <td>CACTATGTGCTTCCGGTCTCCAATACCGCAGGAGGGCGGTCTTCCC...</td>\n",
       "      <td>CTCGGGCTGGCAGCAGTGAAAGTATTGCT</td>\n",
       "      <td>GATTTTATTATGGCAGAAGTCAATTT</td>\n",
       "      <td>CCATCAGGAAAATGCTTTTTCCAGGGAGACCACGGATTTGATAACA...</td>\n",
       "      <td>AAACCAGTCCCGGAAAGG</td>\n",
       "      <td>...</td>\n",
       "      <td>GGACTGACCTCTGTCTTCCAGATTCAAGTGCTACTGCTTTCTCAGC...</td>\n",
       "      <td>ACACCGGCTGAAACAGCTGGCAGCACCACAGGCCCAGCTGTAAGCA...</td>\n",
       "      <td>CCAACGGTCATCAAGAGAAGTGCGCCTTCCTCCTCAAACCGACGCG...</td>\n",
       "      <td>AAGGGGGTTTTCTGGGCCTCTCCAATATTAAGTTCAGGCCAGGATC...</td>\n",
       "      <td>CCGCGCAGCGCCTACCCTTTCCTCGCTCCGGGCCGGCAGTGTGGGG...</td>\n",
       "      <td>CAAATTTGATGGGAAGAGGTTCCAGAATGTTGTCAAGGAAGGAATG...</td>\n",
       "      <td>TAAGATGTCAGTATTCTCCTCATGGATATTTTCAGTCTCAATGTTG...</td>\n",
       "      <td>CTGAGGTCTAACATTGTTATCCTATATCATTTTCATCCCAAGTAGT...</td>\n",
       "      <td>CCTTGGATAAGGAAATTACATCAGCAAATTATGCTGGTGTCTGTAC...</td>\n",
       "      <td>AGAAGAATGGCTCTTAAGAAATTGAAGGTGATAC</td>\n",
       "    </tr>\n",
       "  </tbody>\n",
       "</table>\n",
       "<p>1 rows × 21 columns</p>\n",
       "</div>"
      ],
      "text/plain": [
       "                                varlen2_uc001agr.3_7  \\\n",
       "0  TCGCTGCGCTGGGCCTCTCGGCGGTCCCCCCCACCCGGGTCCCGGGCCC   \n",
       "\n",
       "                             varlen2_uc001pmn.3_3476  \\\n",
       "0  TCTTACTATTATGTGGAATTTAACTTTTCAGAGAAAATTTCCAAAG...   \n",
       "\n",
       "                             varlen2_uc002wkt.1_1569 varlen2_uc003hyy.2_273  \\\n",
       "0  AGGCTCAGCCCGCTGGAGCATGAGCTCTGTGTGTACCGAGAACTGG...       CCACTCTGGAAATCTT   \n",
       "\n",
       "                             varlen2_uc003its.2_2976  \\\n",
       "0  CGCCCACCTGGATGTCCCAAAGTGCTAGATTCCATGGAATTTTCCT...   \n",
       "\n",
       "                                varlen2_uc003khi.3_3  \\\n",
       "0  CACTATGTGCTTCCGGTCTCCAATACCGCAGGAGGGCGGTCTTCCC...   \n",
       "\n",
       "         varlen2_uc003nvg.4_2466      varlen2_uc003pij.1_129  \\\n",
       "0  CTCGGGCTGGCAGCAGTGAAAGTATTGCT  GATTTTATTATGGCAGAAGTCAATTT   \n",
       "\n",
       "                             varlen2_uc003yos.2_1634 varlen2_uc007fws.1_377  \\\n",
       "0  CCATCAGGAAAATGCTTTTTCCAGGGAGACCACGGATTTGATAACA...     AAACCAGTCCCGGAAAGG   \n",
       "\n",
       "                  ...                  \\\n",
       "0                 ...                   \n",
       "\n",
       "                              varlen2_uc007nte.2_374  \\\n",
       "0  GGACTGACCTCTGTCTTCCAGATTCAAGTGCTACTGCTTTCTCAGC...   \n",
       "\n",
       "                             varlen2_uc007xie.1_4456  \\\n",
       "0  ACACCGGCTGAAACAGCTGGCAGCACCACAGGCCCAGCTGTAAGCA...   \n",
       "\n",
       "                              varlen2_uc009div.2_242  \\\n",
       "0  CCAACGGTCATCAAGAGAAGTGCGCCTTCCTCCTCAAACCGACGCG...   \n",
       "\n",
       "                              varlen2_uc009wph.3_423  \\\n",
       "0  AAGGGGGTTTTCTGGGCCTCTCCAATATTAAGTTCAGGCCAGGATC...   \n",
       "\n",
       "                               varlen2_uc010mlp.1_79  \\\n",
       "0  CCGCGCAGCGCCTACCCTTTCCTCGCTCCGGGCCGGCAGTGTGGGG...   \n",
       "\n",
       "                             varlen2_uc010osx.2_1007  \\\n",
       "0  CAAATTTGATGGGAAGAGGTTCCAGAATGTTGTCAAGGAAGGAATG...   \n",
       "\n",
       "                             varlen2_uc010suq.2_3895  \\\n",
       "0  TAAGATGTCAGTATTCTCCTCATGGATATTTTCAGTCTCAATGTTG...   \n",
       "\n",
       "                             varlen2_uc011moe.2_5914  \\\n",
       "0  CTGAGGTCTAACATTGTTATCCTATATCATTTTCATCCCAAGTAGT...   \n",
       "\n",
       "                           varlen2_uc021qfk.1>2_1472  \\\n",
       "0  CCTTGGATAAGGAAATTACATCAGCAAATTATGCTGGTGTCTGTAC...   \n",
       "\n",
       "                varlen2_uc029ygd.1_73  \n",
       "0  AGAAGAATGGCTCTTAAGAAATTGAAGGTGATAC  \n",
       "\n",
       "[1 rows x 21 columns]"
      ]
     },
     "execution_count": 53,
     "metadata": {},
     "output_type": "execute_result"
    }
   ],
   "source": [
    "import pandas as pd\n",
    "\n",
    "horrible_dict = read_fasta(\"horrible.fasta\")\n",
    "horrible_df = pd.DataFrame(horrible_dict, index=[0])\n",
    "horrible_df.head()"
   ]
  },
  {
   "cell_type": "markdown",
   "metadata": {},
   "source": [
    "**(B)** (3pts) If you view the DataFrame in jupyter you see that the sequence IDs have become column names. However, we want them to be their own column. Therefore we use the `transpose()` function to rotate the DataFrame 90 degress. Then we `.reset_index()` the DataFrame to move the sequence IDs into a column and reset the row names to integers based on their respective order from top to bottom. Lastly, we can label the columns to \"SeqID\" and \"Seq\" resectively."
   ]
  },
  {
   "cell_type": "code",
   "execution_count": 54,
   "metadata": {},
   "outputs": [
    {
     "data": {
      "text/html": [
       "<div>\n",
       "<style scoped>\n",
       "    .dataframe tbody tr th:only-of-type {\n",
       "        vertical-align: middle;\n",
       "    }\n",
       "\n",
       "    .dataframe tbody tr th {\n",
       "        vertical-align: top;\n",
       "    }\n",
       "\n",
       "    .dataframe thead th {\n",
       "        text-align: right;\n",
       "    }\n",
       "</style>\n",
       "<table border=\"1\" class=\"dataframe\">\n",
       "  <thead>\n",
       "    <tr style=\"text-align: right;\">\n",
       "      <th></th>\n",
       "      <th>SeqID</th>\n",
       "      <th>Seq</th>\n",
       "    </tr>\n",
       "  </thead>\n",
       "  <tbody>\n",
       "    <tr>\n",
       "      <th>0</th>\n",
       "      <td>varlen2_uc001agr.3_7</td>\n",
       "      <td>TCGCTGCGCTGGGCCTCTCGGCGGTCCCCCCCACCCGGGTCCCGGGCCC</td>\n",
       "    </tr>\n",
       "    <tr>\n",
       "      <th>1</th>\n",
       "      <td>varlen2_uc001pmn.3_3476</td>\n",
       "      <td>TCTTACTATTATGTGGAATTTAACTTTTCAGAGAAAATTTCCAAAG...</td>\n",
       "    </tr>\n",
       "    <tr>\n",
       "      <th>2</th>\n",
       "      <td>varlen2_uc002wkt.1_1569</td>\n",
       "      <td>AGGCTCAGCCCGCTGGAGCATGAGCTCTGTGTGTACCGAGAACTGG...</td>\n",
       "    </tr>\n",
       "    <tr>\n",
       "      <th>3</th>\n",
       "      <td>varlen2_uc003hyy.2_273</td>\n",
       "      <td>CCACTCTGGAAATCTT</td>\n",
       "    </tr>\n",
       "    <tr>\n",
       "      <th>4</th>\n",
       "      <td>varlen2_uc003its.2_2976</td>\n",
       "      <td>CGCCCACCTGGATGTCCCAAAGTGCTAGATTCCATGGAATTTTCCT...</td>\n",
       "    </tr>\n",
       "  </tbody>\n",
       "</table>\n",
       "</div>"
      ],
      "text/plain": [
       "                     SeqID                                                Seq\n",
       "0     varlen2_uc001agr.3_7  TCGCTGCGCTGGGCCTCTCGGCGGTCCCCCCCACCCGGGTCCCGGGCCC\n",
       "1  varlen2_uc001pmn.3_3476  TCTTACTATTATGTGGAATTTAACTTTTCAGAGAAAATTTCCAAAG...\n",
       "2  varlen2_uc002wkt.1_1569  AGGCTCAGCCCGCTGGAGCATGAGCTCTGTGTGTACCGAGAACTGG...\n",
       "3   varlen2_uc003hyy.2_273                                   CCACTCTGGAAATCTT\n",
       "4  varlen2_uc003its.2_2976  CGCCCACCTGGATGTCCCAAAGTGCTAGATTCCATGGAATTTTCCT..."
      ]
     },
     "execution_count": 54,
     "metadata": {},
     "output_type": "execute_result"
    }
   ],
   "source": [
    "horrible_df = horrible_df.transpose() # transpose DataFrame\n",
    "horrible_df = horrible_df.reset_index()# move the sequence IDs into a column\n",
    "horrible_df.columns = [\"SeqID\",\"Seq\"] # give columns their respective labels\n",
    "horrible_df.head() # view top 5 rows of the DataFrame"
   ]
  },
  {
   "cell_type": "markdown",
   "metadata": {},
   "source": [
    "To apply a function to each value in column of a DataFrame we can use the apply function. For example below we can get the length of each sequence using the `len` function:"
   ]
  },
  {
   "cell_type": "code",
   "execution_count": 55,
   "metadata": {},
   "outputs": [
    {
     "data": {
      "text/plain": [
       "0      49\n",
       "1     289\n",
       "2      92\n",
       "3      16\n",
       "4     179\n",
       "5     459\n",
       "6      29\n",
       "7      26\n",
       "8     241\n",
       "9      18\n",
       "10     69\n",
       "11    448\n",
       "12    100\n",
       "13     65\n",
       "14     85\n",
       "15    208\n",
       "16    199\n",
       "17    491\n",
       "18    373\n",
       "19     76\n",
       "20     34\n",
       "Name: Seq, dtype: int64"
      ]
     },
     "execution_count": 55,
     "metadata": {},
     "output_type": "execute_result"
    }
   ],
   "source": [
    "horrible_df.loc[:,\"Seq\"].apply(len)"
   ]
  },
  {
   "cell_type": "markdown",
   "metadata": {},
   "source": [
    "Add two columns \"Length\" and \"GC\" to the DataFrame with the length and gc content of each sequence respectively. You can import your custom function \"gc\" from lab6 or create a new one."
   ]
  },
  {
   "cell_type": "code",
   "execution_count": 56,
   "metadata": {},
   "outputs": [],
   "source": [
    "def gc(seq):\n",
    "    total=0\n",
    "    gc_count=0\n",
    "    for n in seq:\n",
    "        if n==\"G\" or n==\"C\":\n",
    "            gc_count+=1\n",
    "        total+=1\n",
    "    gc_content = float(gc_count)/float(total)\n",
    "    gc_content_str = \"%.2f\" % gc_content\n",
    "    return(float(gc_content_str))"
   ]
  },
  {
   "cell_type": "code",
   "execution_count": 57,
   "metadata": {},
   "outputs": [
    {
     "data": {
      "text/html": [
       "<div>\n",
       "<style scoped>\n",
       "    .dataframe tbody tr th:only-of-type {\n",
       "        vertical-align: middle;\n",
       "    }\n",
       "\n",
       "    .dataframe tbody tr th {\n",
       "        vertical-align: top;\n",
       "    }\n",
       "\n",
       "    .dataframe thead th {\n",
       "        text-align: right;\n",
       "    }\n",
       "</style>\n",
       "<table border=\"1\" class=\"dataframe\">\n",
       "  <thead>\n",
       "    <tr style=\"text-align: right;\">\n",
       "      <th></th>\n",
       "      <th>SeqID</th>\n",
       "      <th>Seq</th>\n",
       "      <th>Length</th>\n",
       "      <th>GC</th>\n",
       "    </tr>\n",
       "  </thead>\n",
       "  <tbody>\n",
       "    <tr>\n",
       "      <th>0</th>\n",
       "      <td>varlen2_uc001agr.3_7</td>\n",
       "      <td>TCGCTGCGCTGGGCCTCTCGGCGGTCCCCCCCACCCGGGTCCCGGGCCC</td>\n",
       "      <td>49</td>\n",
       "      <td>0.84</td>\n",
       "    </tr>\n",
       "    <tr>\n",
       "      <th>1</th>\n",
       "      <td>varlen2_uc001pmn.3_3476</td>\n",
       "      <td>TCTTACTATTATGTGGAATTTAACTTTTCAGAGAAAATTTCCAAAG...</td>\n",
       "      <td>289</td>\n",
       "      <td>0.39</td>\n",
       "    </tr>\n",
       "    <tr>\n",
       "      <th>2</th>\n",
       "      <td>varlen2_uc002wkt.1_1569</td>\n",
       "      <td>AGGCTCAGCCCGCTGGAGCATGAGCTCTGTGTGTACCGAGAACTGG...</td>\n",
       "      <td>92</td>\n",
       "      <td>0.52</td>\n",
       "    </tr>\n",
       "    <tr>\n",
       "      <th>3</th>\n",
       "      <td>varlen2_uc003hyy.2_273</td>\n",
       "      <td>CCACTCTGGAAATCTT</td>\n",
       "      <td>16</td>\n",
       "      <td>0.44</td>\n",
       "    </tr>\n",
       "    <tr>\n",
       "      <th>4</th>\n",
       "      <td>varlen2_uc003its.2_2976</td>\n",
       "      <td>CGCCCACCTGGATGTCCCAAAGTGCTAGATTCCATGGAATTTTCCT...</td>\n",
       "      <td>179</td>\n",
       "      <td>0.50</td>\n",
       "    </tr>\n",
       "  </tbody>\n",
       "</table>\n",
       "</div>"
      ],
      "text/plain": [
       "                     SeqID                                                Seq  \\\n",
       "0     varlen2_uc001agr.3_7  TCGCTGCGCTGGGCCTCTCGGCGGTCCCCCCCACCCGGGTCCCGGGCCC   \n",
       "1  varlen2_uc001pmn.3_3476  TCTTACTATTATGTGGAATTTAACTTTTCAGAGAAAATTTCCAAAG...   \n",
       "2  varlen2_uc002wkt.1_1569  AGGCTCAGCCCGCTGGAGCATGAGCTCTGTGTGTACCGAGAACTGG...   \n",
       "3   varlen2_uc003hyy.2_273                                   CCACTCTGGAAATCTT   \n",
       "4  varlen2_uc003its.2_2976  CGCCCACCTGGATGTCCCAAAGTGCTAGATTCCATGGAATTTTCCT...   \n",
       "\n",
       "   Length    GC  \n",
       "0      49  0.84  \n",
       "1     289  0.39  \n",
       "2      92  0.52  \n",
       "3      16  0.44  \n",
       "4     179  0.50  "
      ]
     },
     "execution_count": 57,
     "metadata": {},
     "output_type": "execute_result"
    }
   ],
   "source": [
    "horrible_df.loc[:,\"Length\"] = horrible_df.loc[:,\"Seq\"].apply(len)\n",
    "horrible_df.loc[:,\"GC\"] = horrible_df.loc[:,\"Seq\"].apply(gc)\n",
    "horrible_df.head()"
   ]
  },
  {
   "cell_type": "markdown",
   "metadata": {},
   "source": [
    "**(C)** (2pts) Update the DataFrame so that it only contains the columns \"SeqID\", \"Length\", and \"GC\". Then export as tab-delimited to a file called \"horrible_df.tsv\". Do not include the row names (also known as the indexes)."
   ]
  },
  {
   "cell_type": "code",
   "execution_count": 58,
   "metadata": {},
   "outputs": [],
   "source": [
    "final_horrible_df = horrible_df.loc[:,[\"SeqID\", \"Length\",\"GC\"]]\n",
    "final_horrible_df.to_csv(\"horrible_df.tsv\",sep=\"\\t\", index=False)"
   ]
  }
 ],
 "metadata": {
  "kernelspec": {
   "display_name": "Python 3",
   "language": "python",
   "name": "python3"
  },
  "language_info": {
   "codemirror_mode": {
    "name": "ipython",
    "version": 3
   },
   "file_extension": ".py",
   "mimetype": "text/x-python",
   "name": "python",
   "nbconvert_exporter": "python",
   "pygments_lexer": "ipython3",
   "version": "3.7.1"
  }
 },
 "nbformat": 4,
 "nbformat_minor": 2
}
