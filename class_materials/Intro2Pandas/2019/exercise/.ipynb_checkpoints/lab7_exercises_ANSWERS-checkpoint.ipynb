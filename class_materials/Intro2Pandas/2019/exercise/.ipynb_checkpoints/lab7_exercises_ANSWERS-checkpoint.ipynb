{
 "cells": [
  {
   "cell_type": "markdown",
   "metadata": {},
   "source": [
    "# Programming Bootcamp 2019\n",
    "# Lesson 7 Exercises\n",
    "---\n",
    "Files needed for this activity:\n",
    "* codon_table.txt\n",
    "* sequences3.txt\n",
    "* cufflinks_results.zip\n",
    "* gene_annotations.tsv\n",
    "* horrible.fasta\n",
    "* auto_mpg.txt\n",
    "* snp_exp.tsv\n",
    "\n",
    "Total points: 42\n",
    "\n",
    "Possible points: 44"
   ]
  },
  {
   "cell_type": "markdown",
   "metadata": {},
   "source": [
    "---\n",
    "## 1. Guess the output: DataFrame practice (1pt)\n",
    "\n",
    "For the following blocks of code, first try to guess what the output will be, and then run the code yourself. Points will be given for filling in the guesses; guessing wrong won't be penalized. **If you expect an error, please state why you expect this error**."
   ]
  },
  {
   "cell_type": "code",
   "execution_count": 2,
   "metadata": {},
   "outputs": [
    {
     "data": {
      "text/html": [
       "<div>\n",
       "<style scoped>\n",
       "    .dataframe tbody tr th:only-of-type {\n",
       "        vertical-align: middle;\n",
       "    }\n",
       "\n",
       "    .dataframe tbody tr th {\n",
       "        vertical-align: top;\n",
       "    }\n",
       "\n",
       "    .dataframe thead th {\n",
       "        text-align: right;\n",
       "    }\n",
       "</style>\n",
       "<table border=\"1\" class=\"dataframe\">\n",
       "  <thead>\n",
       "    <tr style=\"text-align: right;\">\n",
       "      <th></th>\n",
       "      <th>gene_name</th>\n",
       "      <th>gene_exp</th>\n",
       "    </tr>\n",
       "  </thead>\n",
       "  <tbody>\n",
       "    <tr>\n",
       "      <th>AT1G01010</th>\n",
       "      <td>NAC001</td>\n",
       "      <td>6</td>\n",
       "    </tr>\n",
       "    <tr>\n",
       "      <th>AT1G03987</th>\n",
       "      <td>AT1G03987</td>\n",
       "      <td>0</td>\n",
       "    </tr>\n",
       "    <tr>\n",
       "      <th>AT1G01046</th>\n",
       "      <td>MIR838A</td>\n",
       "      <td>260</td>\n",
       "    </tr>\n",
       "    <tr>\n",
       "      <th>AT1G01050</th>\n",
       "      <td>PPa1</td>\n",
       "      <td>845</td>\n",
       "    </tr>\n",
       "  </tbody>\n",
       "</table>\n",
       "</div>"
      ],
      "text/plain": [
       "           gene_name  gene_exp\n",
       "AT1G01010     NAC001         6\n",
       "AT1G03987  AT1G03987         0\n",
       "AT1G01046    MIR838A       260\n",
       "AT1G01050       PPa1       845"
      ]
     },
     "execution_count": 2,
     "metadata": {},
     "output_type": "execute_result"
    }
   ],
   "source": [
    "# run this cell first!\n",
    "import pandas as pd\n",
    "\n",
    "expression_df = pd.DataFrame({\"gene_name\":[\"NAC001\",\"AT1G03987\",\"MIR838A\",\"PPa1\"],\n",
    "                          \"gene_exp\":[6,0,260,845]},\n",
    "                          index=[\"AT1G01010\",\"AT1G03987\",\"AT1G01046\",\"AT1G01050\"])\n",
    "\n",
    "expression_df"
   ]
  },
  {
   "cell_type": "code",
   "execution_count": 22,
   "metadata": {},
   "outputs": [
    {
     "name": "stdout",
     "output_type": "stream",
     "text": [
      "PPa1\n"
     ]
    }
   ],
   "source": [
    "print (expression_df.loc[\"AT1G01050\",\"gene_name\"])"
   ]
  },
  {
   "cell_type": "code",
   "execution_count": 23,
   "metadata": {},
   "outputs": [
    {
     "name": "stdout",
     "output_type": "stream",
     "text": [
      "260\n"
     ]
    }
   ],
   "source": [
    "print (expression_df.iloc[2,1])"
   ]
  },
  {
   "cell_type": "code",
   "execution_count": null,
   "metadata": {},
   "outputs": [],
   "source": [
    "print (expression_df.iloc[\"AT1G01010\",0])"
   ]
  },
  {
   "cell_type": "markdown",
   "metadata": {},
   "source": [
    "> The .iloc function gets values based on row and column locations. Since \"AT1G01010\" is not an integer it cannot be located in the data frame."
   ]
  },
  {
   "cell_type": "code",
   "execution_count": 26,
   "metadata": {},
   "outputs": [
    {
     "name": "stdout",
     "output_type": "stream",
     "text": [
      "['gene_name', 'gene_exp']\n"
     ]
    }
   ],
   "source": [
    "print (list(expression_df.columns))"
   ]
  },
  {
   "cell_type": "code",
   "execution_count": 27,
   "metadata": {},
   "outputs": [
    {
     "name": "stdout",
     "output_type": "stream",
     "text": [
      "['AT1G01010', 'AT1G03987', 'AT1G01046', 'AT1G01050']\n"
     ]
    }
   ],
   "source": [
    "print (list(expression_df.index))"
   ]
  },
  {
   "cell_type": "markdown",
   "metadata": {},
   "source": [
    "> Note that when you run the `columns` and `index` function on a pandas dataframe it returns an object that is of type Index. Index objects are not the same as list objects. Therefore, if you want to use these strings as list, you must specify as such."
   ]
  },
  {
   "cell_type": "code",
   "execution_count": 28,
   "metadata": {},
   "outputs": [
    {
     "name": "stdout",
     "output_type": "stream",
     "text": [
      "(4, 2)\n"
     ]
    }
   ],
   "source": [
    "print (expression_df.shape)"
   ]
  },
  {
   "cell_type": "code",
   "execution_count": 29,
   "metadata": {},
   "outputs": [
    {
     "name": "stdout",
     "output_type": "stream",
     "text": [
      "           gene_name  gene_exp\n",
      "AT1G01010     NAC001         6\n",
      "AT1G03987  AT1G03987         0\n"
     ]
    }
   ],
   "source": [
    "print (expression_df.loc[expression_df.loc[:,\"gene_exp\"]<10,:])"
   ]
  },
  {
   "cell_type": "markdown",
   "metadata": {},
   "source": [
    "---\n",
    "## 2. Codon table (7pts)\n",
    "\n",
    "For this question, use `codon_table.txt`, which contains a list of all possible codons and their corresponding amino acids. \n",
    "\n",
    "This problem is almost exactly the same as question 5 in lab 5. However, instead of using dictionaries to match nucleotides to amino acids, here I want you to use pandas dataframes. \n",
    "\n",
    "Each part of this question builds off the previous parts."
   ]
  },
  {
   "cell_type": "markdown",
   "metadata": {},
   "source": [
    "**(A)** (2pt) Read in `codon_table.txt` (note that it has a header line) into a Pandas DataFrame. Then use `input()` to prompt the user to enter a single codon (e.g. ATG) and print the amino acid corresponding to that codon to the screen."
   ]
  },
  {
   "cell_type": "code",
   "execution_count": 3,
   "metadata": {},
   "outputs": [
    {
     "name": "stdout",
     "output_type": "stream",
     "text": [
      "enter a single codon: ATC\n",
      "I\n"
     ]
    }
   ],
   "source": [
    "# one correct answer\n",
    "inFile = \"codon_table.txt\"\n",
    "codon_df1 = pd.read_csv(inFile,sep=\"\\t\",index_col=0)\n",
    "\n",
    "user_codon = input(\"enter a single codon: \").upper()\n",
    "if user_codon in codon_df1.index:\n",
    "    print(codon_df1.loc[user_codon,\"AA\"])\n",
    "else:\n",
    "    print(\"Error: that is not a codon\")"
   ]
  },
  {
   "cell_type": "code",
   "execution_count": 5,
   "metadata": {},
   "outputs": [
    {
     "name": "stdout",
     "output_type": "stream",
     "text": [
      "enter a single codon: ATC\n",
      "I\n"
     ]
    }
   ],
   "source": [
    "# another correct answer\n",
    "inFile = \"codon_table.txt\"\n",
    "codon_df2 = pd.read_csv(inFile,sep=\"\\t\")\n",
    "\n",
    "user_codon = input(\"enter a single codon: \").upper()\n",
    "if user_codon in codon_df2.loc[:,\"Codon\"].values:\n",
    "    user_aa = codon_df2.loc[codon_df2.loc[:,\"Codon\"]==user_codon,\"AA\"].values\n",
    "    print (user_aa[0])\n",
    "else:\n",
    "    print(\"Error: that is not a codon\")"
   ]
  },
  {
   "cell_type": "markdown",
   "metadata": {},
   "source": [
    "**(B)** (2pt) Now we will adapt the code in (A) to translate a longer sequence. Instead of prompting the user for a single codon, allow them to enter a longer sequence. First, check that the sequence they entered has a length that is a multiple of 3 (Hint: use the mod operator, %), and print an error message if it is not. If it is valid, then go on to translate every three nucleotides to an amino acid. Print the final amino acid sequence to the screen."
   ]
  },
  {
   "cell_type": "code",
   "execution_count": 160,
   "metadata": {},
   "outputs": [
    {
     "name": "stdout",
     "output_type": "stream",
     "text": [
      "enter a translatable DNA sequence (length must be divisable by 3): ATCGTGGGGCATTAT\n",
      "IVGHY\n"
     ]
    }
   ],
   "source": [
    "# if A was formatted like codon_df1\n",
    "seq = input(\"enter a translatable DNA sequence (length must be divisable by 3): \").upper()\n",
    "if len(seq) % 3 == 0 and len(seq) > 0:\n",
    "    amino_seq=\"\"\n",
    "    for i in range(3,len(seq)+3,3):\n",
    "        codon = seq[i-3:i]\n",
    "        amino_seq = amino_seq + codon_df1.loc[codon,\"AA\"]\n",
    "    print (amino_seq)\n",
    "elif len(seq) == 0:\n",
    "    print(\"no sequence was entered.\")\n",
    "else:\n",
    "    print(\"sequence length must be divisable by 3.\")"
   ]
  },
  {
   "cell_type": "code",
   "execution_count": 161,
   "metadata": {},
   "outputs": [
    {
     "name": "stdout",
     "output_type": "stream",
     "text": [
      "enter a translatable DNA sequence (length must be divisable by 3): ATCGTGGGGCATTAT\n",
      "IVGHY\n"
     ]
    }
   ],
   "source": [
    "# if A was formatted like codon_df2\n",
    "seq = input(\"enter a translatable DNA sequence (length must be divisable by 3): \").upper()\n",
    "if len(seq) % 3 == 0 and len(seq) > 0:\n",
    "    amino_seq=\"\"\n",
    "    for i in range(3,len(seq)+3,3):\n",
    "        codon = seq[i-3:i]\n",
    "        aa_list = codon_df2.loc[codon_df2.loc[:,\"Codon\"]==codon,\"AA\"].values\n",
    "        amino_seq = amino_seq + aa_list[0]\n",
    "    print (amino_seq)\n",
    "elif len(seq) == 0:\n",
    "    print(\"no sequence was entered.\")\n",
    "else:\n",
    "    print(\"sequence length must be divisable by 3.\")"
   ]
  },
  {
   "cell_type": "markdown",
   "metadata": {},
   "source": [
    "**(C)** (3pt) Now, instead of taking user input, you will apply your translator to a set of sequences stored in a file. Read in the sequences from `sequences3.txt` (assume each line is a separate sequence) and translate it to amino acids. Create a new data frame with columns containing the nucleotide and protein sequences. Print the dataframe to a new file called `proteins.tsv`."
   ]
  },
  {
   "cell_type": "code",
   "execution_count": 4,
   "metadata": {},
   "outputs": [],
   "source": [
    "# create an empty list of pandas dataframes\n",
    "# this list will eventually contain\n",
    "# rows of the final data frame\n",
    "proteins_df_list=[]\n",
    "\n",
    "# if A was formatted like codon_df1\n",
    "seqFile = open(\"sequences3.txt\", 'r')\n",
    "for seq in seqFile:\n",
    "    seq = seq.rstrip('\\n')\n",
    "    # make sure the sequence is divisable by 3\n",
    "    # and skip empty lines\n",
    "    if len(seq) % 3 == 0 and len(seq) > 0:\n",
    "        amino_seq=\"\"\n",
    "        for i in range(3,len(seq)+3,3):\n",
    "            codon = seq[i-3:i]\n",
    "            amino_seq = amino_seq + codon_df1.loc[codon,\"AA\"]\n",
    "    \n",
    "        seq_df = pd.DataFrame({\"nuc\":[seq],\"prot\":[amino_seq]}, \n",
    "                              index=[0])\n",
    "        proteins_df_list.append(seq_df)\n",
    "    elif (len(seq) % 3 == 0):\n",
    "        print(\">>>ERROR:%s is not divisable by 3. Skipping.\")\n",
    "seqFile.close()\n",
    "proteins_df = pd.concat(proteins_df_list, ignore_index=True) \n",
    "proteins_df.to_csv(\"proteins.tsv\", sep=\"\\t\", index=False)"
   ]
  },
  {
   "cell_type": "code",
   "execution_count": 6,
   "metadata": {},
   "outputs": [],
   "source": [
    "# create an empty list of pandas dataframes\n",
    "# this list will eventually contain\n",
    "# rows of the final data frame\n",
    "proteins_df_list=[]\n",
    "\n",
    "# if A was formatted like codon_df2\n",
    "seqFile = open(\"sequences3.txt\", 'r')\n",
    "protFile = open(\"proteins.txt\", 'w')\n",
    "for seq in seqFile:\n",
    "    seq = seq.rstrip('\\n')\n",
    "    # make sure the sequence is divisable by 3\n",
    "    # and skip empty lines\n",
    "    if len(seq) % 3 == 0 and len(seq) > 0:\n",
    "        amino_seq=\"\"\n",
    "        for i in range(3,len(seq)+3,3):\n",
    "            codon = seq[i-3:i]\n",
    "            aa_list = codon_df2.loc[codon_df2.loc[:,\"Codon\"]==codon,\"AA\"].values\n",
    "            amino_seq = amino_seq + aa_list[0]\n",
    "        seq_df = pd.DataFrame({\"nuc\":[seq],\"prot\":[amino_seq]}, \n",
    "                          index=[0])\n",
    "        proteins_df_list.append(seq_df)\n",
    "    elif (len(seq) % 3 == 0):\n",
    "        print(\">>>ERROR:%s is not divisable by 3. Skipping.\")\n",
    "seqFile.close()\n",
    "proteins_df = pd.concat(proteins_df_list, ignore_index=True) \n",
    "proteins_df.to_csv(\"proteins.tsv\", sep=\"\\t\", index=False)"
   ]
  },
  {
   "cell_type": "markdown",
   "metadata": {},
   "source": [
    "---\n",
    "## 3. Use Custom Fuctions to Build a Data Frame (8pts)\n",
    "In the lab 5 you used custom functions to write a table with new information. Another way to output tables is by using pandas!\n",
    "\n",
    "**Hint: For these questions, you may want to import the  module with our custom methods that we created in lab6.**"
   ]
  },
  {
   "cell_type": "markdown",
   "metadata": {},
   "source": [
    "**(A)** (2pts) Now let's turn a fasta file into a pandas DataFrame. Read in \"horrible.fasta\" into a dictionary and then convert the dictionary into a Pandas Series."
   ]
  },
  {
   "cell_type": "code",
   "execution_count": 8,
   "metadata": {},
   "outputs": [],
   "source": [
    "import my_utils\n",
    "\n",
    "seq_dict = my_utils.read_fasta(\"horrible.fasta\")\n",
    "seq_series = pd.Series(seq_dict)"
   ]
  },
  {
   "cell_type": "markdown",
   "metadata": {},
   "source": [
    "**(B)** (2pts) Get the length and GC content of each of the sequences in the series and create a dataframe called `horrible_df`. Each index in `horrible_df` should be a sequence name and each row should contain a value for the sequence, the length of the sequence, and the GC content. \n"
   ]
  },
  {
   "cell_type": "code",
   "execution_count": 32,
   "metadata": {},
   "outputs": [
    {
     "data": {
      "text/html": [
       "<div>\n",
       "<style scoped>\n",
       "    .dataframe tbody tr th:only-of-type {\n",
       "        vertical-align: middle;\n",
       "    }\n",
       "\n",
       "    .dataframe tbody tr th {\n",
       "        vertical-align: top;\n",
       "    }\n",
       "\n",
       "    .dataframe thead th {\n",
       "        text-align: right;\n",
       "    }\n",
       "</style>\n",
       "<table border=\"1\" class=\"dataframe\">\n",
       "  <thead>\n",
       "    <tr style=\"text-align: right;\">\n",
       "      <th></th>\n",
       "      <th>sequence</th>\n",
       "      <th>length</th>\n",
       "      <th>gc_content</th>\n",
       "    </tr>\n",
       "  </thead>\n",
       "  <tbody>\n",
       "    <tr>\n",
       "      <th>varlen2_uc007xie.1_4456</th>\n",
       "      <td>ACACCGGCTGAAACAGCTGGCAGCACCACAGGCCCAGCTGTAAGCA...</td>\n",
       "      <td>100</td>\n",
       "      <td>0.61</td>\n",
       "    </tr>\n",
       "    <tr>\n",
       "      <th>varlen2_uc010mlp.1_79</th>\n",
       "      <td>CCGCGCAGCGCCTACCCTTTCCTCGCTCCGGGCCGGCAGTGTGGGG...</td>\n",
       "      <td>208</td>\n",
       "      <td>0.57</td>\n",
       "    </tr>\n",
       "    <tr>\n",
       "      <th>varlen2_uc009div.2_242</th>\n",
       "      <td>CCAACGGTCATCAAGAGAAGTGCGCCTTCCTCCTCAAACCGACGCG...</td>\n",
       "      <td>65</td>\n",
       "      <td>0.58</td>\n",
       "    </tr>\n",
       "    <tr>\n",
       "      <th>varlen2_uc003its.2_2976</th>\n",
       "      <td>CGCCCACCTGGATGTCCCAAAGTGCTAGATTCCATGGAATTTTCCT...</td>\n",
       "      <td>179</td>\n",
       "      <td>0.50</td>\n",
       "    </tr>\n",
       "    <tr>\n",
       "      <th>varlen2_uc003nvg.4_2466</th>\n",
       "      <td>CTCGGGCTGGCAGCAGTGAAAGTATTGCT</td>\n",
       "      <td>29</td>\n",
       "      <td>0.55</td>\n",
       "    </tr>\n",
       "  </tbody>\n",
       "</table>\n",
       "</div>"
      ],
      "text/plain": [
       "                                                                  sequence  \\\n",
       "varlen2_uc007xie.1_4456  ACACCGGCTGAAACAGCTGGCAGCACCACAGGCCCAGCTGTAAGCA...   \n",
       "varlen2_uc010mlp.1_79    CCGCGCAGCGCCTACCCTTTCCTCGCTCCGGGCCGGCAGTGTGGGG...   \n",
       "varlen2_uc009div.2_242   CCAACGGTCATCAAGAGAAGTGCGCCTTCCTCCTCAAACCGACGCG...   \n",
       "varlen2_uc003its.2_2976  CGCCCACCTGGATGTCCCAAAGTGCTAGATTCCATGGAATTTTCCT...   \n",
       "varlen2_uc003nvg.4_2466                      CTCGGGCTGGCAGCAGTGAAAGTATTGCT   \n",
       "\n",
       "                         length  gc_content  \n",
       "varlen2_uc007xie.1_4456     100        0.61  \n",
       "varlen2_uc010mlp.1_79       208        0.57  \n",
       "varlen2_uc009div.2_242       65        0.58  \n",
       "varlen2_uc003its.2_2976     179        0.50  \n",
       "varlen2_uc003nvg.4_2466      29        0.55  "
      ]
     },
     "execution_count": 32,
     "metadata": {},
     "output_type": "execute_result"
    }
   ],
   "source": [
    "# create length and gc series\n",
    "length_series = seq_series.apply(len)\n",
    "gc_series = seq_series.apply(my_utils.gc)\n",
    "# create a dict of series\n",
    "horrible_dict = {\"sequence\":seq_series,\n",
    "                \"length\":length_series,\n",
    "                \"gc_content\":gc_series}\n",
    "# conver the dict to a dataframe\n",
    "horrible_df = pd.DataFrame(horrible_dict)\n",
    "horrible_df.head()"
   ]
  },
  {
   "cell_type": "markdown",
   "metadata": {},
   "source": [
    "**(C)** (1pt) Print the median length of the sequences."
   ]
  },
  {
   "cell_type": "code",
   "execution_count": 33,
   "metadata": {},
   "outputs": [
    {
     "data": {
      "text/plain": [
       "96.0"
      ]
     },
     "execution_count": 33,
     "metadata": {},
     "output_type": "execute_result"
    }
   ],
   "source": [
    "# answer A\n",
    "horrible_df[\"length\"].median()"
   ]
  },
  {
   "cell_type": "code",
   "execution_count": 36,
   "metadata": {},
   "outputs": [
    {
     "data": {
      "text/plain": [
       "96.0"
      ]
     },
     "execution_count": 36,
     "metadata": {},
     "output_type": "execute_result"
    }
   ],
   "source": [
    "# answer B\n",
    "np.median(horrible_df[\"length\"])"
   ]
  },
  {
   "cell_type": "markdown",
   "metadata": {},
   "source": [
    "**(D)** (1pt) Print the average length of the sequences with 40% GC content"
   ]
  },
  {
   "cell_type": "code",
   "execution_count": 69,
   "metadata": {},
   "outputs": [
    {
     "data": {
      "text/plain": [
       "401.0"
      ]
     },
     "execution_count": 69,
     "metadata": {},
     "output_type": "execute_result"
    }
   ],
   "source": [
    "# answer A: using .groupby()\n",
    "grouped_horrible = horrible_df.groupby('gc_content')\n",
    "gc_40_df = grouped_horrible.get_group(.40)\n",
    "print(gc_40_df[\"length\"].mean())"
   ]
  },
  {
   "cell_type": "code",
   "execution_count": 70,
   "metadata": {},
   "outputs": [
    {
     "data": {
      "text/plain": [
       "401.0"
      ]
     },
     "execution_count": 70,
     "metadata": {},
     "output_type": "execute_result"
    }
   ],
   "source": [
    "# answer B: using .loc\n",
    "gc_40_df = horrible_df.loc[horrible_df[\"gc_content\"]==.4,:]\n",
    "print(gc_40_df[\"length\"].mean())"
   ]
  },
  {
   "cell_type": "markdown",
   "metadata": {},
   "source": [
    "**(E)** (2pts) Update the DataFrame so that it only contains the length and GC content of each sequence. Then export as tab-delimited to a file called \"horrible.tsv\"."
   ]
  },
  {
   "cell_type": "code",
   "execution_count": 29,
   "metadata": {},
   "outputs": [],
   "source": [
    "final_horrible_df = horrible_df.loc[:,[\"length\",\"gc_content\"]]\n",
    "final_horrible_df.to_csv(\"horrible.tsv\",sep=\"\\t\")"
   ]
  },
  {
   "cell_type": "markdown",
   "metadata": {},
   "source": [
    "---\n",
    "## 4.  Grouping (5pts)\n",
    "**(A)**(1 pt) Create a pandas dataframe from `snp_exp.tsv`."
   ]
  },
  {
   "cell_type": "code",
   "execution_count": 11,
   "metadata": {},
   "outputs": [
    {
     "data": {
      "text/html": [
       "<div>\n",
       "<style scoped>\n",
       "    .dataframe tbody tr th:only-of-type {\n",
       "        vertical-align: middle;\n",
       "    }\n",
       "\n",
       "    .dataframe tbody tr th {\n",
       "        vertical-align: top;\n",
       "    }\n",
       "\n",
       "    .dataframe thead th {\n",
       "        text-align: right;\n",
       "    }\n",
       "</style>\n",
       "<table border=\"1\" class=\"dataframe\">\n",
       "  <thead>\n",
       "    <tr style=\"text-align: right;\">\n",
       "      <th></th>\n",
       "      <th>sample_id</th>\n",
       "      <th>age</th>\n",
       "      <th>gender</th>\n",
       "      <th>snp1</th>\n",
       "      <th>snp2</th>\n",
       "    </tr>\n",
       "  </thead>\n",
       "  <tbody>\n",
       "    <tr>\n",
       "      <th>0</th>\n",
       "      <td>1</td>\n",
       "      <td>19</td>\n",
       "      <td>M</td>\n",
       "      <td>A</td>\n",
       "      <td>T</td>\n",
       "    </tr>\n",
       "    <tr>\n",
       "      <th>1</th>\n",
       "      <td>2</td>\n",
       "      <td>20</td>\n",
       "      <td>M</td>\n",
       "      <td>A</td>\n",
       "      <td>T</td>\n",
       "    </tr>\n",
       "    <tr>\n",
       "      <th>2</th>\n",
       "      <td>3</td>\n",
       "      <td>42</td>\n",
       "      <td>F</td>\n",
       "      <td>C</td>\n",
       "      <td>A</td>\n",
       "    </tr>\n",
       "    <tr>\n",
       "      <th>3</th>\n",
       "      <td>4</td>\n",
       "      <td>35</td>\n",
       "      <td>F</td>\n",
       "      <td>C</td>\n",
       "      <td>T</td>\n",
       "    </tr>\n",
       "    <tr>\n",
       "      <th>4</th>\n",
       "      <td>5</td>\n",
       "      <td>4</td>\n",
       "      <td>F</td>\n",
       "      <td>G</td>\n",
       "      <td>T</td>\n",
       "    </tr>\n",
       "    <tr>\n",
       "      <th>5</th>\n",
       "      <td>6</td>\n",
       "      <td>45</td>\n",
       "      <td>M</td>\n",
       "      <td>A</td>\n",
       "      <td>A</td>\n",
       "    </tr>\n",
       "    <tr>\n",
       "      <th>6</th>\n",
       "      <td>7</td>\n",
       "      <td>60</td>\n",
       "      <td>F</td>\n",
       "      <td>C</td>\n",
       "      <td>T</td>\n",
       "    </tr>\n",
       "    <tr>\n",
       "      <th>7</th>\n",
       "      <td>8</td>\n",
       "      <td>26</td>\n",
       "      <td>M</td>\n",
       "      <td>C</td>\n",
       "      <td>A</td>\n",
       "    </tr>\n",
       "    <tr>\n",
       "      <th>8</th>\n",
       "      <td>9</td>\n",
       "      <td>10</td>\n",
       "      <td>F</td>\n",
       "      <td>C</td>\n",
       "      <td>T</td>\n",
       "    </tr>\n",
       "    <tr>\n",
       "      <th>9</th>\n",
       "      <td>10</td>\n",
       "      <td>35</td>\n",
       "      <td>F</td>\n",
       "      <td>A</td>\n",
       "      <td>A</td>\n",
       "    </tr>\n",
       "  </tbody>\n",
       "</table>\n",
       "</div>"
      ],
      "text/plain": [
       "   sample_id  age gender snp1 snp2\n",
       "0          1   19      M    A    T\n",
       "1          2   20      M    A    T\n",
       "2          3   42      F    C    A\n",
       "3          4   35      F    C    T\n",
       "4          5    4      F    G    T\n",
       "5          6   45      M    A    A\n",
       "6          7   60      F    C    T\n",
       "7          8   26      M    C    A\n",
       "8          9   10      F    C    T\n",
       "9         10   35      F    A    A"
      ]
     },
     "execution_count": 11,
     "metadata": {},
     "output_type": "execute_result"
    }
   ],
   "source": [
    "snp_exp_df = pd.read_csv(\"snp_exp.tsv\", \n",
    "            sep=\"\\t\",header=0)\n",
    "snp_exp_df"
   ]
  },
  {
   "cell_type": "markdown",
   "metadata": {},
   "source": [
    "**(B)** (1 pt) Group the dataframe by `snp2`. Using a grouped data frame. "
   ]
  },
  {
   "cell_type": "code",
   "execution_count": 12,
   "metadata": {},
   "outputs": [],
   "source": [
    "snp2_grouped_df = snp_exp_df.groupby('snp2')"
   ]
  },
  {
   "cell_type": "markdown",
   "metadata": {},
   "source": [
    "**(C)** (1 pt) Print a pandas series of the average age of each `snp2` group."
   ]
  },
  {
   "cell_type": "code",
   "execution_count": 13,
   "metadata": {},
   "outputs": [
    {
     "data": {
      "text/plain": [
       "snp2\n",
       "A    37.000000\n",
       "T    24.666667\n",
       "Name: age, dtype: float64"
      ]
     },
     "execution_count": 13,
     "metadata": {},
     "output_type": "execute_result"
    }
   ],
   "source": [
    "snp2_grouped_df[\"age\"].mean()"
   ]
  },
  {
   "cell_type": "markdown",
   "metadata": {},
   "source": [
    "**(D)** (2 pts) Print the most common `snp1` values for each `snp2` group."
   ]
  },
  {
   "cell_type": "code",
   "execution_count": 18,
   "metadata": {},
   "outputs": [
    {
     "name": "stdout",
     "output_type": "stream",
     "text": [
      "snp2 group: A ; max snp1: ['A', 'C']\n",
      "snp2 group: T ; max snp1: ['C']\n"
     ]
    }
   ],
   "source": [
    "for snp2_val, snp2_df in snp2_grouped_df:\n",
    "    max_snp1 = list(snp2_df[\"snp1\"].mode())\n",
    "    print (\"snp2 group:\", snp2_val,\"; max snp1:\", max_snp1)"
   ]
  },
  {
   "cell_type": "markdown",
   "metadata": {},
   "source": [
    "---\n",
    "## 5. RNA-seq analysis (21 pts)\n",
    "Background: You are given three replicates each of raw *Arabidopsis* RNA-sequencing reads files labeled \"withTreatment\" and \"noTreatment\"."
   ]
  },
  {
   "cell_type": "markdown",
   "metadata": {},
   "source": [
    "**(A)** (1pts) Given these files, what are questions you should ask the person who created the data? There are almost no wrong answers here. I am both curious what you would ask and just want you to be aware that you MUST ASK questions when given data."
   ]
  },
  {
   "cell_type": "markdown",
   "metadata": {},
   "source": [
    "* What treatment was given?\n",
    "* What tissue are the samples?\n",
    "* What timepoint were the samples treated?\n",
    "* How were the tissues collected?\n",
    "* Was this single-end or paired-end sequencing?\n",
    "* How was the sequencing prepared?"
   ]
  },
  {
   "cell_type": "markdown",
   "metadata": {},
   "source": [
    "**(B)** (1pts) You map the raw reads to the *Arabidopsis* transcriptome. Then you can quantify how many reads were mapped using a tool called *Cufflinks*. Unzip `cufflinks_results.zip` and read each of the files into their own pandas data frame.\n",
    "\n",
    "> **Hints**\n",
    "* Check how the file is delimited\n",
    "* Check if the file contains a header or not"
   ]
  },
  {
   "cell_type": "code",
   "execution_count": 26,
   "metadata": {},
   "outputs": [],
   "source": [
    "df_noTreatment_r1 = pd.read_csv(\"cufflinks_results/noTreatment_R1_genes.fpkm_tracking\", \n",
    "            sep=\"\\t\",header=0)\n",
    "df_noTreatment_r2 = pd.read_csv(\"cufflinks_results/noTreatment_R2_genes.fpkm_tracking\", \n",
    "            sep=\"\\t\",header=0)\n",
    "df_noTreatment_r3 = pd.read_csv(\"cufflinks_results/noTreatment_R3_genes.fpkm_tracking\", \n",
    "            sep=\"\\t\",header=0)\n",
    "df_wiTreatment_r1 = pd.read_csv(\"cufflinks_results/withTreatment_R1_genes.fpkm_tracking\", \n",
    "            sep=\"\\t\",header=0)\n",
    "df_wiTreatment_r2 = pd.read_csv(\"cufflinks_results/withTreatment_R2_genes.fpkm_tracking\", \n",
    "            sep=\"\\t\",header=0)\n",
    "df_wiTreatment_r3 = pd.read_csv(\"cufflinks_results/withTreatment_R3_genes.fpkm_tracking\", \n",
    "            sep=\"\\t\",header=0)"
   ]
  },
  {
   "cell_type": "markdown",
   "metadata": {},
   "source": [
    "**(C)** (1pts) There is a column named \"FPKM_status\". For each table you created in Part B, remove the rows where the \"FPKM_status\" is \"FAIL\"."
   ]
  },
  {
   "cell_type": "code",
   "execution_count": 27,
   "metadata": {},
   "outputs": [],
   "source": [
    "df_noTreatment_r1 = df_noTreatment_r1.loc[df_noTreatment_r1[\"FPKM_status\"]!=\"FAIL\",:]\n",
    "df_noTreatment_r2 = df_noTreatment_r2.loc[df_noTreatment_r2[\"FPKM_status\"]!=\"FAIL\",:]\n",
    "df_noTreatment_r3 = df_noTreatment_r3.loc[df_noTreatment_r3[\"FPKM_status\"]!=\"FAIL\",:]\n",
    "df_wiTreatment_r1 = df_wiTreatment_r1.loc[df_wiTreatment_r1[\"FPKM_status\"]!=\"FAIL\",:]\n",
    "df_wiTreatment_r2 = df_wiTreatment_r2.loc[df_wiTreatment_r2[\"FPKM_status\"]!=\"FAIL\",:]\n",
    "df_wiTreatment_r3 = df_wiTreatment_r3.loc[df_wiTreatment_r3[\"FPKM_status\"]!=\"FAIL\",:]"
   ]
  },
  {
   "cell_type": "markdown",
   "metadata": {},
   "source": [
    "**(D)** (1pts) These files also have a lot of extra unnecessary columns that do not provide any useful informaiton. For the rest of the questions, we are only interested in each genes gene_id, length, and FPKM of that sample. In each table, filter for these 3 columns."
   ]
  },
  {
   "cell_type": "code",
   "execution_count": 31,
   "metadata": {},
   "outputs": [],
   "source": [
    "columnsOfinterest=[\"gene_id\",\"length\",\"FPKM\"]\n",
    "df_noTreatment_r1 = df_noTreatment_r1.loc[:,columnsOfinterest]\n",
    "df_noTreatment_r2 = df_noTreatment_r2.loc[:,columnsOfinterest]\n",
    "df_noTreatment_r3 = df_noTreatment_r3.loc[:,columnsOfinterest]\n",
    "df_wiTreatment_r1 = df_wiTreatment_r1.loc[:,columnsOfinterest]\n",
    "df_wiTreatment_r2 = df_wiTreatment_r2.loc[:,columnsOfinterest]\n",
    "df_wiTreatment_r3 = df_wiTreatment_r3.loc[:,columnsOfinterest]"
   ]
  },
  {
   "cell_type": "markdown",
   "metadata": {},
   "source": [
    "**(E)** (5pts) Looking at the FPKM of each gene in each sample can be annoying when you have 6 different files. Merge the 6 tables into one that contains the FPKM of each gene.\n",
    "\n",
    "> **Hints:** \n",
    "* Each gene ID should have the same corresponding length in each of the files, but not all genes may be found in each data frame (this is because we removed genes in part C)\n",
    "* Use `help(pd.merge)` or google \"pandas merge\" to see the manual for merging pandas data frames"
   ]
  },
  {
   "cell_type": "code",
   "execution_count": 39,
   "metadata": {},
   "outputs": [
    {
     "data": {
      "text/html": [
       "<div>\n",
       "<style scoped>\n",
       "    .dataframe tbody tr th:only-of-type {\n",
       "        vertical-align: middle;\n",
       "    }\n",
       "\n",
       "    .dataframe tbody tr th {\n",
       "        vertical-align: top;\n",
       "    }\n",
       "\n",
       "    .dataframe thead th {\n",
       "        text-align: right;\n",
       "    }\n",
       "</style>\n",
       "<table border=\"1\" class=\"dataframe\">\n",
       "  <thead>\n",
       "    <tr style=\"text-align: right;\">\n",
       "      <th></th>\n",
       "      <th>gene_id</th>\n",
       "      <th>length</th>\n",
       "      <th>FPKM_noTreatment_R1</th>\n",
       "      <th>FPKM_noTreatment_R2</th>\n",
       "      <th>FPKM_noTreatment_R3</th>\n",
       "      <th>FPKM_wiTreatment_R1</th>\n",
       "      <th>FPKM_wiTreatment_R2</th>\n",
       "      <th>FPKM_wiTreatment_R3</th>\n",
       "    </tr>\n",
       "  </thead>\n",
       "  <tbody>\n",
       "    <tr>\n",
       "      <th>37326</th>\n",
       "      <td>ATMG01390</td>\n",
       "      <td>775</td>\n",
       "      <td>0.000015</td>\n",
       "      <td>0.000004</td>\n",
       "      <td>0.194662</td>\n",
       "      <td>0.01015</td>\n",
       "      <td>0.01015</td>\n",
       "      <td>0.01015</td>\n",
       "    </tr>\n",
       "    <tr>\n",
       "      <th>37327</th>\n",
       "      <td>ATMG01400</td>\n",
       "      <td>4010</td>\n",
       "      <td>3.955550</td>\n",
       "      <td>7.307110</td>\n",
       "      <td>4.874060</td>\n",
       "      <td>8.08683</td>\n",
       "      <td>8.08683</td>\n",
       "      <td>8.08683</td>\n",
       "    </tr>\n",
       "    <tr>\n",
       "      <th>37328</th>\n",
       "      <td>ATMG01410</td>\n",
       "      <td>5271</td>\n",
       "      <td>42.133200</td>\n",
       "      <td>40.374500</td>\n",
       "      <td>50.415200</td>\n",
       "      <td>107.30600</td>\n",
       "      <td>107.30600</td>\n",
       "      <td>107.30600</td>\n",
       "    </tr>\n",
       "    <tr>\n",
       "      <th>37329</th>\n",
       "      <td>AT5G04520</td>\n",
       "      <td>23544</td>\n",
       "      <td>0.000000</td>\n",
       "      <td>7.029500</td>\n",
       "      <td>0.000000</td>\n",
       "      <td>1.60565</td>\n",
       "      <td>1.60565</td>\n",
       "      <td>1.60565</td>\n",
       "    </tr>\n",
       "    <tr>\n",
       "      <th>37330</th>\n",
       "      <td>AT5G64390</td>\n",
       "      <td>4030</td>\n",
       "      <td>0.000000</td>\n",
       "      <td>190.280000</td>\n",
       "      <td>191.757000</td>\n",
       "      <td>0.00000</td>\n",
       "      <td>0.00000</td>\n",
       "      <td>0.00000</td>\n",
       "    </tr>\n",
       "  </tbody>\n",
       "</table>\n",
       "</div>"
      ],
      "text/plain": [
       "         gene_id  length  FPKM_noTreatment_R1  FPKM_noTreatment_R2  \\\n",
       "37326  ATMG01390     775             0.000015             0.000004   \n",
       "37327  ATMG01400    4010             3.955550             7.307110   \n",
       "37328  ATMG01410    5271            42.133200            40.374500   \n",
       "37329  AT5G04520   23544             0.000000             7.029500   \n",
       "37330  AT5G64390    4030             0.000000           190.280000   \n",
       "\n",
       "       FPKM_noTreatment_R3  FPKM_wiTreatment_R1  FPKM_wiTreatment_R2  \\\n",
       "37326             0.194662              0.01015              0.01015   \n",
       "37327             4.874060              8.08683              8.08683   \n",
       "37328            50.415200            107.30600            107.30600   \n",
       "37329             0.000000              1.60565              1.60565   \n",
       "37330           191.757000              0.00000              0.00000   \n",
       "\n",
       "       FPKM_wiTreatment_R3  \n",
       "37326              0.01015  \n",
       "37327              8.08683  \n",
       "37328            107.30600  \n",
       "37329              1.60565  \n",
       "37330              0.00000  "
      ]
     },
     "execution_count": 39,
     "metadata": {},
     "output_type": "execute_result"
    }
   ],
   "source": [
    "# rename the FPKM columns so that when we merge them\n",
    "# they are unique to each sample\n",
    "df_noTreatment_r1 = df_noTreatment_r1.rename(columns={\"FPKM\":\"FPKM_noTreatment_R1\"})\n",
    "df_noTreatment_r2 = df_noTreatment_r2.rename(columns={\"FPKM\":\"FPKM_noTreatment_R2\"})\n",
    "df_noTreatment_r3 = df_noTreatment_r3.rename(columns={\"FPKM\":\"FPKM_noTreatment_R3\"})\n",
    "df_wiTreatment_r1 = df_wiTreatment_r1.rename(columns={\"FPKM\":\"FPKM_wiTreatment_R1\"})\n",
    "df_wiTreatment_r2 = df_wiTreatment_r2.rename(columns={\"FPKM\":\"FPKM_wiTreatment_R2\"})\n",
    "df_wiTreatment_r3 = df_wiTreatment_r3.rename(columns={\"FPKM\":\"FPKM_wiTreatment_R3\"})\n",
    "\n",
    "# perform an OUTER merge on these data frames\n",
    "fpkm_df = df_noTreatment_r1.merge(df_noTreatment_r2, \n",
    "                        how='outer', \n",
    "                        on=[\"gene_id\",\"length\"])\n",
    "fpkm_df = fpkm_df.merge(df_noTreatment_r3, \n",
    "                        how='outer', \n",
    "                        on=[\"gene_id\",\"length\"])\n",
    "fpkm_df = fpkm_df.merge(df_wiTreatment_r1, \n",
    "                        how='outer', \n",
    "                        on=[\"gene_id\",\"length\"])\n",
    "fpkm_df = fpkm_df.merge(df_wiTreatment_r2, \n",
    "                        how='outer', \n",
    "                        on=[\"gene_id\",\"length\"])\n",
    "fpkm_df = fpkm_df.merge(df_wiTreatment_r3, \n",
    "                        how='outer', \n",
    "                        on=[\"gene_id\",\"length\"])\n",
    "\n",
    "# If we have no FPKM value for a specific gene\n",
    "# we can just say it has an FPKM of 0.0.\n",
    "# Note that we use 0.0 instead of 0 so that\n",
    "# its type is a float.\n",
    "fpkm_df = fpkm_df.fillna(value=0.0)\n",
    "fpkm_df.tail()"
   ]
  },
  {
   "cell_type": "markdown",
   "metadata": {},
   "source": [
    "*Grading*:\n",
    "* 1 point for attempt\n",
    "* 1 point should be given if the student was able to merge the 6 files together\n",
    "* 1 point should be given if the students performed the joined correctly (there are genes with the same gene-ID but different lengths so they need \"gene_id\" and \"length\")\n",
    "* 1 point should be given if they handeled creating corresponding \"FPKM\" columns for each sample\n",
    "* 1 point should be given if they joined each table using 'outer'\n",
    "* 1 bonus point should be given if they dealt with possible NA values"
   ]
  },
  {
   "cell_type": "markdown",
   "metadata": {},
   "source": [
    "**(F)** (2pts) Given reproducible replicates, it may be easier to look at the average of each of the 3 replicates for treated and non-treated respecively. Add two columns for the averaged FPKM values."
   ]
  },
  {
   "cell_type": "markdown",
   "metadata": {},
   "source": [
    "> There are multiple ways to get the average. Here are two:"
   ]
  },
  {
   "cell_type": "code",
   "execution_count": 40,
   "metadata": {},
   "outputs": [
    {
     "data": {
      "text/html": [
       "<div>\n",
       "<style scoped>\n",
       "    .dataframe tbody tr th:only-of-type {\n",
       "        vertical-align: middle;\n",
       "    }\n",
       "\n",
       "    .dataframe tbody tr th {\n",
       "        vertical-align: top;\n",
       "    }\n",
       "\n",
       "    .dataframe thead th {\n",
       "        text-align: right;\n",
       "    }\n",
       "</style>\n",
       "<table border=\"1\" class=\"dataframe\">\n",
       "  <thead>\n",
       "    <tr style=\"text-align: right;\">\n",
       "      <th></th>\n",
       "      <th>gene_id</th>\n",
       "      <th>length</th>\n",
       "      <th>FPKM_noTreatment_R1</th>\n",
       "      <th>FPKM_noTreatment_R2</th>\n",
       "      <th>FPKM_noTreatment_R3</th>\n",
       "      <th>FPKM_wiTreatment_R1</th>\n",
       "      <th>FPKM_wiTreatment_R2</th>\n",
       "      <th>FPKM_wiTreatment_R3</th>\n",
       "      <th>FPKM_mean_noTreatment</th>\n",
       "      <th>FPKM_mean_wiTreatment</th>\n",
       "    </tr>\n",
       "  </thead>\n",
       "  <tbody>\n",
       "    <tr>\n",
       "      <th>37326</th>\n",
       "      <td>ATMG01390</td>\n",
       "      <td>775</td>\n",
       "      <td>0.000015</td>\n",
       "      <td>0.000004</td>\n",
       "      <td>0.194662</td>\n",
       "      <td>0.01015</td>\n",
       "      <td>0.01015</td>\n",
       "      <td>0.01015</td>\n",
       "      <td>0.064894</td>\n",
       "      <td>0.01015</td>\n",
       "    </tr>\n",
       "    <tr>\n",
       "      <th>37327</th>\n",
       "      <td>ATMG01400</td>\n",
       "      <td>4010</td>\n",
       "      <td>3.955550</td>\n",
       "      <td>7.307110</td>\n",
       "      <td>4.874060</td>\n",
       "      <td>8.08683</td>\n",
       "      <td>8.08683</td>\n",
       "      <td>8.08683</td>\n",
       "      <td>5.378907</td>\n",
       "      <td>8.08683</td>\n",
       "    </tr>\n",
       "    <tr>\n",
       "      <th>37328</th>\n",
       "      <td>ATMG01410</td>\n",
       "      <td>5271</td>\n",
       "      <td>42.133200</td>\n",
       "      <td>40.374500</td>\n",
       "      <td>50.415200</td>\n",
       "      <td>107.30600</td>\n",
       "      <td>107.30600</td>\n",
       "      <td>107.30600</td>\n",
       "      <td>44.307633</td>\n",
       "      <td>107.30600</td>\n",
       "    </tr>\n",
       "    <tr>\n",
       "      <th>37329</th>\n",
       "      <td>AT5G04520</td>\n",
       "      <td>23544</td>\n",
       "      <td>0.000000</td>\n",
       "      <td>7.029500</td>\n",
       "      <td>0.000000</td>\n",
       "      <td>1.60565</td>\n",
       "      <td>1.60565</td>\n",
       "      <td>1.60565</td>\n",
       "      <td>2.343167</td>\n",
       "      <td>1.60565</td>\n",
       "    </tr>\n",
       "    <tr>\n",
       "      <th>37330</th>\n",
       "      <td>AT5G64390</td>\n",
       "      <td>4030</td>\n",
       "      <td>0.000000</td>\n",
       "      <td>190.280000</td>\n",
       "      <td>191.757000</td>\n",
       "      <td>0.00000</td>\n",
       "      <td>0.00000</td>\n",
       "      <td>0.00000</td>\n",
       "      <td>127.345667</td>\n",
       "      <td>0.00000</td>\n",
       "    </tr>\n",
       "  </tbody>\n",
       "</table>\n",
       "</div>"
      ],
      "text/plain": [
       "         gene_id  length  FPKM_noTreatment_R1  FPKM_noTreatment_R2  \\\n",
       "37326  ATMG01390     775             0.000015             0.000004   \n",
       "37327  ATMG01400    4010             3.955550             7.307110   \n",
       "37328  ATMG01410    5271            42.133200            40.374500   \n",
       "37329  AT5G04520   23544             0.000000             7.029500   \n",
       "37330  AT5G64390    4030             0.000000           190.280000   \n",
       "\n",
       "       FPKM_noTreatment_R3  FPKM_wiTreatment_R1  FPKM_wiTreatment_R2  \\\n",
       "37326             0.194662              0.01015              0.01015   \n",
       "37327             4.874060              8.08683              8.08683   \n",
       "37328            50.415200            107.30600            107.30600   \n",
       "37329             0.000000              1.60565              1.60565   \n",
       "37330           191.757000              0.00000              0.00000   \n",
       "\n",
       "       FPKM_wiTreatment_R3  FPKM_mean_noTreatment  FPKM_mean_wiTreatment  \n",
       "37326              0.01015               0.064894                0.01015  \n",
       "37327              8.08683               5.378907                8.08683  \n",
       "37328            107.30600              44.307633              107.30600  \n",
       "37329              1.60565               2.343167                1.60565  \n",
       "37330              0.00000             127.345667                0.00000  "
      ]
     },
     "execution_count": 40,
     "metadata": {},
     "output_type": "execute_result"
    }
   ],
   "source": [
    "# One way\n",
    "\n",
    "import numpy as np\n",
    "fpkm_noTreatment_cols = [\"FPKM_noTreatment_R1\", \\\n",
    "                         \"FPKM_noTreatment_R2\", \\\n",
    "                         \"FPKM_noTreatment_R3\"]\n",
    "fpkm_wiTreatment_cols = [\"FPKM_wiTreatment_R1\", \\\n",
    "                         \"FPKM_wiTreatment_R2\", \\\n",
    "                         \"FPKM_wiTreatment_R3\"]\n",
    "fpkm_df.loc[:,\"FPKM_mean_noTreatment\"] = \\\n",
    "    fpkm_df.loc[:,fpkm_noTreatment_cols].apply(np.mean, axis=1)\n",
    "fpkm_df.loc[:,\"FPKM_mean_wiTreatment\"] = \\\n",
    "    fpkm_df.loc[:,fpkm_wiTreatment_cols].apply(np.mean, axis=1)\n",
    "\n",
    "fpkm_df.tail()"
   ]
  },
  {
   "cell_type": "code",
   "execution_count": 46,
   "metadata": {},
   "outputs": [
    {
     "data": {
      "text/html": [
       "<div>\n",
       "<style scoped>\n",
       "    .dataframe tbody tr th:only-of-type {\n",
       "        vertical-align: middle;\n",
       "    }\n",
       "\n",
       "    .dataframe tbody tr th {\n",
       "        vertical-align: top;\n",
       "    }\n",
       "\n",
       "    .dataframe thead th {\n",
       "        text-align: right;\n",
       "    }\n",
       "</style>\n",
       "<table border=\"1\" class=\"dataframe\">\n",
       "  <thead>\n",
       "    <tr style=\"text-align: right;\">\n",
       "      <th></th>\n",
       "      <th>gene_id</th>\n",
       "      <th>length</th>\n",
       "      <th>FPKM_noTreatment_R1</th>\n",
       "      <th>FPKM_noTreatment_R2</th>\n",
       "      <th>FPKM_noTreatment_R3</th>\n",
       "      <th>FPKM_wiTreatment_R1</th>\n",
       "      <th>FPKM_wiTreatment_R2</th>\n",
       "      <th>FPKM_wiTreatment_R3</th>\n",
       "      <th>FPKM_mean_noTreatment</th>\n",
       "      <th>FPKM_mean_wiTreatment</th>\n",
       "    </tr>\n",
       "  </thead>\n",
       "  <tbody>\n",
       "    <tr>\n",
       "      <th>37326</th>\n",
       "      <td>ATMG01390</td>\n",
       "      <td>775</td>\n",
       "      <td>0.000015</td>\n",
       "      <td>0.000004</td>\n",
       "      <td>0.194662</td>\n",
       "      <td>0.01015</td>\n",
       "      <td>0.01015</td>\n",
       "      <td>0.01015</td>\n",
       "      <td>0.064894</td>\n",
       "      <td>0.01015</td>\n",
       "    </tr>\n",
       "    <tr>\n",
       "      <th>37327</th>\n",
       "      <td>ATMG01400</td>\n",
       "      <td>4010</td>\n",
       "      <td>3.955550</td>\n",
       "      <td>7.307110</td>\n",
       "      <td>4.874060</td>\n",
       "      <td>8.08683</td>\n",
       "      <td>8.08683</td>\n",
       "      <td>8.08683</td>\n",
       "      <td>5.378907</td>\n",
       "      <td>8.08683</td>\n",
       "    </tr>\n",
       "    <tr>\n",
       "      <th>37328</th>\n",
       "      <td>ATMG01410</td>\n",
       "      <td>5271</td>\n",
       "      <td>42.133200</td>\n",
       "      <td>40.374500</td>\n",
       "      <td>50.415200</td>\n",
       "      <td>107.30600</td>\n",
       "      <td>107.30600</td>\n",
       "      <td>107.30600</td>\n",
       "      <td>44.307633</td>\n",
       "      <td>107.30600</td>\n",
       "    </tr>\n",
       "    <tr>\n",
       "      <th>37329</th>\n",
       "      <td>AT5G04520</td>\n",
       "      <td>23544</td>\n",
       "      <td>0.000000</td>\n",
       "      <td>7.029500</td>\n",
       "      <td>0.000000</td>\n",
       "      <td>1.60565</td>\n",
       "      <td>1.60565</td>\n",
       "      <td>1.60565</td>\n",
       "      <td>2.343167</td>\n",
       "      <td>1.60565</td>\n",
       "    </tr>\n",
       "    <tr>\n",
       "      <th>37330</th>\n",
       "      <td>AT5G64390</td>\n",
       "      <td>4030</td>\n",
       "      <td>0.000000</td>\n",
       "      <td>190.280000</td>\n",
       "      <td>191.757000</td>\n",
       "      <td>0.00000</td>\n",
       "      <td>0.00000</td>\n",
       "      <td>0.00000</td>\n",
       "      <td>127.345667</td>\n",
       "      <td>0.00000</td>\n",
       "    </tr>\n",
       "  </tbody>\n",
       "</table>\n",
       "</div>"
      ],
      "text/plain": [
       "         gene_id  length  FPKM_noTreatment_R1  FPKM_noTreatment_R2  \\\n",
       "37326  ATMG01390     775             0.000015             0.000004   \n",
       "37327  ATMG01400    4010             3.955550             7.307110   \n",
       "37328  ATMG01410    5271            42.133200            40.374500   \n",
       "37329  AT5G04520   23544             0.000000             7.029500   \n",
       "37330  AT5G64390    4030             0.000000           190.280000   \n",
       "\n",
       "       FPKM_noTreatment_R3  FPKM_wiTreatment_R1  FPKM_wiTreatment_R2  \\\n",
       "37326             0.194662              0.01015              0.01015   \n",
       "37327             4.874060              8.08683              8.08683   \n",
       "37328            50.415200            107.30600            107.30600   \n",
       "37329             0.000000              1.60565              1.60565   \n",
       "37330           191.757000              0.00000              0.00000   \n",
       "\n",
       "       FPKM_wiTreatment_R3  FPKM_mean_noTreatment  FPKM_mean_wiTreatment  \n",
       "37326              0.01015               0.064894                0.01015  \n",
       "37327              8.08683               5.378907                8.08683  \n",
       "37328            107.30600              44.307633              107.30600  \n",
       "37329              1.60565               2.343167                1.60565  \n",
       "37330              0.00000             127.345667                0.00000  "
      ]
     },
     "execution_count": 46,
     "metadata": {},
     "output_type": "execute_result"
    }
   ],
   "source": [
    "# Second way\n",
    "\n",
    "fpkm_noTreatment_cols = [\"FPKM_noTreatment_R1\", \\\n",
    "                         \"FPKM_noTreatment_R2\", \\\n",
    "                         \"FPKM_noTreatment_R3\"]\n",
    "fpkm_wiTreatment_cols = [\"FPKM_wiTreatment_R1\", \\\n",
    "                         \"FPKM_wiTreatment_R2\", \\\n",
    "                         \"FPKM_wiTreatment_R3\"]\n",
    "fpkm_df.loc[:,\"FPKM_mean_noTreatment\"] = \\\n",
    "    fpkm_df.loc[:,fpkm_noTreatment_cols].mean(axis=1)\n",
    "fpkm_df.loc[:,\"FPKM_mean_wiTreatment\"] = \\\n",
    "    fpkm_df.loc[:,fpkm_wiTreatment_cols].mean(axis=1)\n",
    "\n",
    "fpkm_df.tail()"
   ]
  },
  {
   "cell_type": "markdown",
   "metadata": {},
   "source": [
    "**(G)** (3pts) Create a row that contains the log10 fold-change of the average FPKM counts with treatment over without treatment. \n",
    "\n",
    "> **Hints** \n",
    "* You can use numpy's `numpy.log10` function\n",
    "* Since you cannot divide by zero, you may want to add a number close to zero to each of the average FPKM values. Otherwise, you can come up with your own way to deal with this problem."
   ]
  },
  {
   "cell_type": "code",
   "execution_count": 41,
   "metadata": {},
   "outputs": [],
   "source": [
    "import numpy as np\n",
    "\n",
    "def log10FC(row):\n",
    "    almost_zero=10**-8\n",
    "    noTreatment_val = row[\"FPKM_mean_noTreatment\"] + almost_zero\n",
    "    wiTreatment_val = row[\"FPKM_mean_wiTreatment\"] + almost_zero\n",
    "    return(np.log10(wiTreatment_val/noTreatment_val))\n",
    "           \n",
    "# calculate log10(FPKM_mean_wiTreatment/FPKM_mean_noTreatment)\n",
    "[\"fpkm_log10FC\"] = fpkm_df.apply(log10FC, axis=1)"
   ]
  },
  {
   "cell_type": "markdown",
   "metadata": {},
   "source": [
    "*Grading*:\n",
    "* 1 point for a new column that contains a fold-change value\n",
    "* 1 point for dealing with a denominator of 0\n",
    "* 1 point if the new column contains the correct values"
   ]
  },
  {
   "cell_type": "markdown",
   "metadata": {},
   "source": [
    "**(H)** (1pts) Print the gene-ids of the top 3 genes with most upregulation after given treatment? "
   ]
  },
  {
   "cell_type": "code",
   "execution_count": 47,
   "metadata": {},
   "outputs": [
    {
     "data": {
      "text/plain": [
       "['AT1G31960', 'AT4G33760', 'AT4G37340']"
      ]
     },
     "execution_count": 47,
     "metadata": {},
     "output_type": "execute_result"
    }
   ],
   "source": [
    "top3_df = fpkm_df.sort_values(\"fpkm_log10FC\", ascending=False).head(n=3)\n",
    "list(top3_df[\"gene_id\"])"
   ]
  },
  {
   "cell_type": "markdown",
   "metadata": {},
   "source": [
    "**(I)** (1pts) Print the gene-ids of the top 3 genes with the most downregulation after given treatment?"
   ]
  },
  {
   "cell_type": "code",
   "execution_count": 49,
   "metadata": {},
   "outputs": [
    {
     "data": {
      "text/plain": [
       "['AT5G64390', 'AT2G24050', 'AT4G17730']"
      ]
     },
     "execution_count": 49,
     "metadata": {},
     "output_type": "execute_result"
    }
   ],
   "source": [
    "tail3_df = fpkm_df.sort_values(\"fpkm_log10FC\", ascending=True).head(n=3)\n",
    "list(tail3_df[\"gene_id\"])"
   ]
  },
  {
   "cell_type": "markdown",
   "metadata": {},
   "source": [
    "**(J)** (4pts) You have been given a file called `gene_annotations.tsv` which contains a  table that matches gene IDs to gene names and annotation. Add columns \"gene_name\" and \"gene_annotation\" from `gene_annotations.tsv` to the data frame containing the fpkm values."
   ]
  },
  {
   "cell_type": "code",
   "execution_count": 71,
   "metadata": {},
   "outputs": [],
   "source": [
    "gene_ann_df = pd.read_csv(\"gene_annotations.tsv\", \n",
    "            sep=\"\\t\",header=0)\n",
    "fpkm_ann_df = gene_ann_df.merge(fpkm_df, \n",
    "                        right_on=\"gene_id\", \n",
    "                        left_on=\"AGI_identifier\",\n",
    "                        how=\"right\")\n",
    "\n",
    "# Since the `gene_id` column contains all of the gene IDs\n",
    "# since we did a right merge I set it to be the row names\n",
    "# (indexes)\n",
    "fpkm_ann_df = fpkm_ann_df.set_index(\"gene_id\")\n",
    "# I removed the AGI_identifier column since it is mostly redundant to\n",
    "#  gene_id column, but contains less information.\n",
    "fpkm_ann_df = fpkm_ann_df.drop(\"AGI_identifier\",axis=1)"
   ]
  },
  {
   "cell_type": "markdown",
   "metadata": {},
   "source": [
    "*Grading*:\n",
    "* 1 point for reading in the annotation file correctly\n",
    "* 1 point for performing a left/right merge\n",
    "* 1 point for adding the new columns\n",
    "* 1 point for joining on the correct column names\n",
    "* 1 Bonus point if they reshaped the data in anyway (eg. set the index to gene id, dropped the \"AGI_identifier\" column) or did anything extra that deserves a bonus "
   ]
  },
  {
   "cell_type": "markdown",
   "metadata": {},
   "source": [
    "**(K)** (1pts) Write out your final data frame into a tab-delimited file called `fpkm_ann.tsv`."
   ]
  },
  {
   "cell_type": "code",
   "execution_count": 72,
   "metadata": {},
   "outputs": [],
   "source": [
    "fpkm_ann_df.to_csv(\"fpkm_ann.tsv\", sep=\"\\t\")"
   ]
  },
  {
   "cell_type": "markdown",
   "metadata": {},
   "source": [
    "---\n",
    "## Extra Practice"
   ]
  },
  {
   "cell_type": "markdown",
   "metadata": {},
   "source": [
    "**(A)** (1pt) Load the following data (https://raw.githubusercontent.com/justmarkham/DAT5/master/data/auto_mpg.txt) \n",
    "into a DataFrame. You can either import the data using the full html path or by downloading it locally. \n",
    "\n",
    "**Hint:** In your terminal on the command line use the `head` function to see how the file is delimited and how to load it. For example, I ran the following command on my command line:\n",
    "\n",
    "`head /home/sklasfeld/python_bootcamp_2019/lab7/auto_mpg.txt`\n",
    "\n",
    "**Note:  You do not need to turn in any command line code you may use.**"
   ]
  },
  {
   "cell_type": "code",
   "execution_count": 50,
   "metadata": {},
   "outputs": [],
   "source": [
    "# load pandas\n",
    "import pandas as pd\n",
    "\n",
    "# load the dataframe\n",
    "car_data_path = 'https://raw.githubusercontent.com/justmarkham/DAT5/master/data/auto_mpg.txt'\n",
    "car_data = pd.read_csv(car_data_path, \n",
    "                       sep='|') #Fill in the correct string"
   ]
  },
  {
   "cell_type": "markdown",
   "metadata": {},
   "source": [
    "**(B)** (1pt) Display only the first 5 rows of the dataset"
   ]
  },
  {
   "cell_type": "code",
   "execution_count": 3,
   "metadata": {},
   "outputs": [
    {
     "data": {
      "text/html": [
       "<div>\n",
       "<style scoped>\n",
       "    .dataframe tbody tr th:only-of-type {\n",
       "        vertical-align: middle;\n",
       "    }\n",
       "\n",
       "    .dataframe tbody tr th {\n",
       "        vertical-align: top;\n",
       "    }\n",
       "\n",
       "    .dataframe thead th {\n",
       "        text-align: right;\n",
       "    }\n",
       "</style>\n",
       "<table border=\"1\" class=\"dataframe\">\n",
       "  <thead>\n",
       "    <tr style=\"text-align: right;\">\n",
       "      <th></th>\n",
       "      <th>mpg</th>\n",
       "      <th>cylinders</th>\n",
       "      <th>displacement</th>\n",
       "      <th>horsepower</th>\n",
       "      <th>weight</th>\n",
       "      <th>acceleration</th>\n",
       "      <th>model_year</th>\n",
       "      <th>origin</th>\n",
       "      <th>car_name</th>\n",
       "    </tr>\n",
       "  </thead>\n",
       "  <tbody>\n",
       "    <tr>\n",
       "      <th>0</th>\n",
       "      <td>18.0</td>\n",
       "      <td>8</td>\n",
       "      <td>307.0</td>\n",
       "      <td>130</td>\n",
       "      <td>3504</td>\n",
       "      <td>12.0</td>\n",
       "      <td>70</td>\n",
       "      <td>1</td>\n",
       "      <td>chevrolet chevelle malibu</td>\n",
       "    </tr>\n",
       "    <tr>\n",
       "      <th>1</th>\n",
       "      <td>15.0</td>\n",
       "      <td>8</td>\n",
       "      <td>350.0</td>\n",
       "      <td>165</td>\n",
       "      <td>3693</td>\n",
       "      <td>11.5</td>\n",
       "      <td>70</td>\n",
       "      <td>1</td>\n",
       "      <td>buick skylark 320</td>\n",
       "    </tr>\n",
       "    <tr>\n",
       "      <th>2</th>\n",
       "      <td>18.0</td>\n",
       "      <td>8</td>\n",
       "      <td>318.0</td>\n",
       "      <td>150</td>\n",
       "      <td>3436</td>\n",
       "      <td>11.0</td>\n",
       "      <td>70</td>\n",
       "      <td>1</td>\n",
       "      <td>plymouth satellite</td>\n",
       "    </tr>\n",
       "    <tr>\n",
       "      <th>3</th>\n",
       "      <td>16.0</td>\n",
       "      <td>8</td>\n",
       "      <td>304.0</td>\n",
       "      <td>150</td>\n",
       "      <td>3433</td>\n",
       "      <td>12.0</td>\n",
       "      <td>70</td>\n",
       "      <td>1</td>\n",
       "      <td>amc rebel sst</td>\n",
       "    </tr>\n",
       "    <tr>\n",
       "      <th>4</th>\n",
       "      <td>17.0</td>\n",
       "      <td>8</td>\n",
       "      <td>302.0</td>\n",
       "      <td>140</td>\n",
       "      <td>3449</td>\n",
       "      <td>10.5</td>\n",
       "      <td>70</td>\n",
       "      <td>1</td>\n",
       "      <td>ford torino</td>\n",
       "    </tr>\n",
       "  </tbody>\n",
       "</table>\n",
       "</div>"
      ],
      "text/plain": [
       "    mpg  cylinders  displacement  horsepower  weight  acceleration  \\\n",
       "0  18.0          8         307.0         130    3504          12.0   \n",
       "1  15.0          8         350.0         165    3693          11.5   \n",
       "2  18.0          8         318.0         150    3436          11.0   \n",
       "3  16.0          8         304.0         150    3433          12.0   \n",
       "4  17.0          8         302.0         140    3449          10.5   \n",
       "\n",
       "   model_year  origin                   car_name  \n",
       "0          70       1  chevrolet chevelle malibu  \n",
       "1          70       1          buick skylark 320  \n",
       "2          70       1         plymouth satellite  \n",
       "3          70       1              amc rebel sst  \n",
       "4          70       1                ford torino  "
      ]
     },
     "execution_count": 3,
     "metadata": {},
     "output_type": "execute_result"
    }
   ],
   "source": [
    "car_data.head(5)"
   ]
  },
  {
   "cell_type": "markdown",
   "metadata": {},
   "source": [
    "**(C)** (1pt) What is the shape of the data?  How many rows and columns are there?"
   ]
  },
  {
   "cell_type": "code",
   "execution_count": 4,
   "metadata": {},
   "outputs": [
    {
     "data": {
      "text/plain": [
       "(392, 9)"
      ]
     },
     "execution_count": 4,
     "metadata": {},
     "output_type": "execute_result"
    }
   ],
   "source": [
    "car_data.shape"
   ]
  },
  {
   "cell_type": "markdown",
   "metadata": {},
   "source": [
    "Answer: The data frame has 392 rows and 9 columns"
   ]
  },
  {
   "cell_type": "markdown",
   "metadata": {},
   "source": [
    "**(D)** (1pt) What is the minimum and maximum value for each numeric column?"
   ]
  },
  {
   "cell_type": "code",
   "execution_count": 51,
   "metadata": {},
   "outputs": [
    {
     "data": {
      "text/html": [
       "<div>\n",
       "<style scoped>\n",
       "    .dataframe tbody tr th:only-of-type {\n",
       "        vertical-align: middle;\n",
       "    }\n",
       "\n",
       "    .dataframe tbody tr th {\n",
       "        vertical-align: top;\n",
       "    }\n",
       "\n",
       "    .dataframe thead th {\n",
       "        text-align: right;\n",
       "    }\n",
       "</style>\n",
       "<table border=\"1\" class=\"dataframe\">\n",
       "  <thead>\n",
       "    <tr style=\"text-align: right;\">\n",
       "      <th></th>\n",
       "      <th>mpg</th>\n",
       "      <th>cylinders</th>\n",
       "      <th>displacement</th>\n",
       "      <th>horsepower</th>\n",
       "      <th>weight</th>\n",
       "      <th>acceleration</th>\n",
       "      <th>model_year</th>\n",
       "      <th>origin</th>\n",
       "    </tr>\n",
       "  </thead>\n",
       "  <tbody>\n",
       "    <tr>\n",
       "      <th>min</th>\n",
       "      <td>9.0</td>\n",
       "      <td>3.0</td>\n",
       "      <td>68.0</td>\n",
       "      <td>46.0</td>\n",
       "      <td>1613.0</td>\n",
       "      <td>8.0</td>\n",
       "      <td>70.0</td>\n",
       "      <td>1.0</td>\n",
       "    </tr>\n",
       "    <tr>\n",
       "      <th>max</th>\n",
       "      <td>46.6</td>\n",
       "      <td>8.0</td>\n",
       "      <td>455.0</td>\n",
       "      <td>230.0</td>\n",
       "      <td>5140.0</td>\n",
       "      <td>24.8</td>\n",
       "      <td>82.0</td>\n",
       "      <td>3.0</td>\n",
       "    </tr>\n",
       "  </tbody>\n",
       "</table>\n",
       "</div>"
      ],
      "text/plain": [
       "      mpg  cylinders  displacement  horsepower  weight  acceleration  \\\n",
       "min   9.0        3.0          68.0        46.0  1613.0           8.0   \n",
       "max  46.6        8.0         455.0       230.0  5140.0          24.8   \n",
       "\n",
       "     model_year  origin  \n",
       "min        70.0     1.0  \n",
       "max        82.0     3.0  "
      ]
     },
     "execution_count": 51,
     "metadata": {},
     "output_type": "execute_result"
    }
   ],
   "source": [
    "car_data.describe().loc[[\"min\",\"max\"],:]"
   ]
  },
  {
   "cell_type": "markdown",
   "metadata": {},
   "source": [
    "**(E)** (1pt) What is the `car_name` of the car with the most horsepower?"
   ]
  },
  {
   "cell_type": "markdown",
   "metadata": {},
   "source": [
    "> Since we know from the previous question that the car with the maximum horse power has 230.0 horse power we can just use the `.loc` function"
   ]
  },
  {
   "cell_type": "code",
   "execution_count": null,
   "metadata": {},
   "outputs": [],
   "source": [
    "car_data.loc[car_data.loc[:,\"horsepower\"]==230.0,\"car_name\"]"
   ]
  },
  {
   "cell_type": "markdown",
   "metadata": {},
   "source": [
    "> Answer: pontiac grand prix"
   ]
  },
  {
   "cell_type": "markdown",
   "metadata": {},
   "source": [
    "**(F)** (1pt) How many cars have 4 or fewer cylinders?"
   ]
  },
  {
   "cell_type": "code",
   "execution_count": null,
   "metadata": {},
   "outputs": [],
   "source": [
    "print(len(car_data.loc[car_data.loc[:,\"cylinders\"]<=4.0,:]))"
   ]
  },
  {
   "cell_type": "markdown",
   "metadata": {},
   "source": [
    "> Answer: 203"
   ]
  },
  {
   "cell_type": "markdown",
   "metadata": {},
   "source": [
    "**(G)** (1pt) Write code that prompts a user for a car_name and then returns the car's horsepower, mpg, and weight."
   ]
  },
  {
   "cell_type": "code",
   "execution_count": 52,
   "metadata": {},
   "outputs": [
    {
     "name": "stdout",
     "output_type": "stream",
     "text": [
      "Please give a car name:pontiac grand prix\n",
      "     horsepower   mpg  weight\n",
      "115         230  16.0    4278\n"
     ]
    }
   ],
   "source": [
    "user_carName = input(\"Please give a car name:\")\n",
    "if user_carName in list(car_data.loc[:,\"car_name\"]):\n",
    "    print(car_data.loc[car_data.loc[:,\"car_name\"]==user_carName,[\"horsepower\",\"mpg\",\"weight\"]])\n",
    "else:\n",
    "    print(\"Sorry, that car name isn't available.\")"
   ]
  },
  {
   "cell_type": "markdown",
   "metadata": {},
   "source": [
    "**(H)** (1pt) Which 5 cars get the best gas mileage? Provide a DataFrame that only has the cars name and corresponding MPG"
   ]
  },
  {
   "cell_type": "code",
   "execution_count": 8,
   "metadata": {},
   "outputs": [
    {
     "data": {
      "text/html": [
       "<div>\n",
       "<style scoped>\n",
       "    .dataframe tbody tr th:only-of-type {\n",
       "        vertical-align: middle;\n",
       "    }\n",
       "\n",
       "    .dataframe tbody tr th {\n",
       "        vertical-align: top;\n",
       "    }\n",
       "\n",
       "    .dataframe thead th {\n",
       "        text-align: right;\n",
       "    }\n",
       "</style>\n",
       "<table border=\"1\" class=\"dataframe\">\n",
       "  <thead>\n",
       "    <tr style=\"text-align: right;\">\n",
       "      <th></th>\n",
       "      <th>mpg</th>\n",
       "      <th>car_name</th>\n",
       "    </tr>\n",
       "  </thead>\n",
       "  <tbody>\n",
       "    <tr>\n",
       "      <th>320</th>\n",
       "      <td>46.6</td>\n",
       "      <td>mazda glc</td>\n",
       "    </tr>\n",
       "    <tr>\n",
       "      <th>327</th>\n",
       "      <td>44.6</td>\n",
       "      <td>honda civic 1500 gl</td>\n",
       "    </tr>\n",
       "    <tr>\n",
       "      <th>323</th>\n",
       "      <td>44.3</td>\n",
       "      <td>vw rabbit c (diesel)</td>\n",
       "    </tr>\n",
       "    <tr>\n",
       "      <th>388</th>\n",
       "      <td>44.0</td>\n",
       "      <td>vw pickup</td>\n",
       "    </tr>\n",
       "    <tr>\n",
       "      <th>324</th>\n",
       "      <td>43.4</td>\n",
       "      <td>vw dasher (diesel)</td>\n",
       "    </tr>\n",
       "  </tbody>\n",
       "</table>\n",
       "</div>"
      ],
      "text/plain": [
       "      mpg              car_name\n",
       "320  46.6             mazda glc\n",
       "327  44.6   honda civic 1500 gl\n",
       "323  44.3  vw rabbit c (diesel)\n",
       "388  44.0             vw pickup\n",
       "324  43.4    vw dasher (diesel)"
      ]
     },
     "execution_count": 8,
     "metadata": {},
     "output_type": "execute_result"
    }
   ],
   "source": [
    "car_data.sort_values(\"mpg\",ascending=False).loc[:,[\"mpg\",\"car_name\"]].head()"
   ]
  },
  {
   "cell_type": "markdown",
   "metadata": {},
   "source": [
    "**(I)** (1pt) Which 5 cars with more than 4 cylinders get the best gas mileage? "
   ]
  },
  {
   "cell_type": "code",
   "execution_count": 14,
   "metadata": {},
   "outputs": [
    {
     "data": {
      "text/html": [
       "<div>\n",
       "<style scoped>\n",
       "    .dataframe tbody tr th:only-of-type {\n",
       "        vertical-align: middle;\n",
       "    }\n",
       "\n",
       "    .dataframe tbody tr th {\n",
       "        vertical-align: top;\n",
       "    }\n",
       "\n",
       "    .dataframe thead th {\n",
       "        text-align: right;\n",
       "    }\n",
       "</style>\n",
       "<table border=\"1\" class=\"dataframe\">\n",
       "  <thead>\n",
       "    <tr style=\"text-align: right;\">\n",
       "      <th></th>\n",
       "      <th>car_name</th>\n",
       "    </tr>\n",
       "  </thead>\n",
       "  <tbody>\n",
       "    <tr>\n",
       "      <th>381</th>\n",
       "      <td>oldsmobile cutlass ciera (diesel)</td>\n",
       "    </tr>\n",
       "    <tr>\n",
       "      <th>325</th>\n",
       "      <td>audi 5000s (diesel)</td>\n",
       "    </tr>\n",
       "    <tr>\n",
       "      <th>330</th>\n",
       "      <td>datsun 280-zx</td>\n",
       "    </tr>\n",
       "    <tr>\n",
       "      <th>355</th>\n",
       "      <td>volvo diesel</td>\n",
       "    </tr>\n",
       "    <tr>\n",
       "      <th>304</th>\n",
       "      <td>chevrolet citation</td>\n",
       "    </tr>\n",
       "  </tbody>\n",
       "</table>\n",
       "</div>"
      ],
      "text/plain": [
       "                              car_name\n",
       "381  oldsmobile cutlass ciera (diesel)\n",
       "325                audi 5000s (diesel)\n",
       "330                      datsun 280-zx\n",
       "355                       volvo diesel\n",
       "304                 chevrolet citation"
      ]
     },
     "execution_count": 14,
     "metadata": {},
     "output_type": "execute_result"
    }
   ],
   "source": [
    "car_data.loc[car_data.loc[:,\"cylinders\"]>4.0,:].sort_values(\"mpg\",ascending=False).loc[:,[\"car_name\"]].head()"
   ]
  },
  {
   "cell_type": "markdown",
   "metadata": {},
   "source": [
    "**(J)** (1pt) What is the mean mpg for cars with EACH number of cylinders (i.e. 3 cylinders, 4 cylinders, 5 cylinders, etc)? \n",
    "> *Hint: Use the Group By function*"
   ]
  },
  {
   "cell_type": "code",
   "execution_count": 10,
   "metadata": {},
   "outputs": [
    {
     "data": {
      "text/plain": [
       "cylinders\n",
       "3    20.550000\n",
       "4    29.283920\n",
       "5    27.366667\n",
       "6    19.973494\n",
       "8    14.963107\n",
       "Name: mpg, dtype: float64"
      ]
     },
     "execution_count": 10,
     "metadata": {},
     "output_type": "execute_result"
    }
   ],
   "source": [
    "car_data.groupby('cylinders').mpg.mean()"
   ]
  },
  {
   "cell_type": "markdown",
   "metadata": {},
   "source": [
    "**(K)** Did mpg rise or fall over the years contained in this dataset?"
   ]
  },
  {
   "cell_type": "code",
   "execution_count": 11,
   "metadata": {},
   "outputs": [
    {
     "data": {
      "text/plain": [
       "model_year\n",
       "70    17.689655\n",
       "71    21.111111\n",
       "72    18.714286\n",
       "73    17.100000\n",
       "74    22.769231\n",
       "75    20.266667\n",
       "76    21.573529\n",
       "77    23.375000\n",
       "78    24.061111\n",
       "79    25.093103\n",
       "80    33.803704\n",
       "81    30.185714\n",
       "82    32.000000\n",
       "Name: mpg, dtype: float64"
      ]
     },
     "execution_count": 11,
     "metadata": {},
     "output_type": "execute_result"
    }
   ],
   "source": [
    "car_data.groupby('model_year').mpg.mean()"
   ]
  },
  {
   "cell_type": "code",
   "execution_count": 19,
   "metadata": {},
   "outputs": [
    {
     "data": {
      "text/plain": [
       "model_year\n",
       "70    17.689655\n",
       "71    21.111111\n",
       "72    18.714286\n",
       "73    17.100000\n",
       "74    22.769231\n",
       "75    20.266667\n",
       "76    21.573529\n",
       "77    23.375000\n",
       "78    24.061111\n",
       "79    25.093103\n",
       "80    33.803704\n",
       "81    30.185714\n",
       "82    32.000000\n",
       "Name: mpg, dtype: float64"
      ]
     },
     "execution_count": 19,
     "metadata": {},
     "output_type": "execute_result"
    }
   ],
   "source": [
    "import numpy as np\n",
    "car_data.groupby('model_year')[\"mpg\"].apply(np.mean)"
   ]
  },
  {
   "cell_type": "markdown",
   "metadata": {},
   "source": [
    "Answer: Rise"
   ]
  }
 ],
 "metadata": {
  "kernelspec": {
   "display_name": "Python 3",
   "language": "python",
   "name": "python3"
  },
  "language_info": {
   "codemirror_mode": {
    "name": "ipython",
    "version": 3
   },
   "file_extension": ".py",
   "mimetype": "text/x-python",
   "name": "python",
   "nbconvert_exporter": "python",
   "pygments_lexer": "ipython3",
   "version": "3.7.1"
  }
 },
 "nbformat": 4,
 "nbformat_minor": 2
}
