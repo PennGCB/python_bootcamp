{
 "cells": [
  {
   "cell_type": "markdown",
   "metadata": {},
   "source": [
    "# Programming Bootcamp 2019\n",
    "# Lesson 7 Exercises\n",
    "---"
   ]
  },
  {
   "cell_type": "markdown",
   "metadata": {},
   "source": [
    "**Earning points (optional)**\n",
    "\n",
    "If you would like to get points/feedback for your work, please **submit your notebook to Piazza**. To do this, follow these steps:\n",
    "\n",
    "1. Click \"New Post\"\n",
    "2. For \"Post Type\" select `Question`\n",
    "3. For \"Post to\" select `Individual Student(s)/Instructors(s)`\n",
    "4. Where is says \"Enter one or more names...\" type `Instructors`\n",
    "5. For \"Select Folder(s)\" select `lab7`\n",
    "6. In \"Summary\" type in \"[Your Full Name] Lab7 Submission\"\n",
    "7. In the \"Details\" click \"Insert\" > \"Insert File\" and then **insert the following files**:\n",
    " * your completed python notebook\n",
    "8. You can then write whatever else you want in the Summary.\n",
    "9. Then click \"Post My Question to PROGRAMMING BOOTCAMP!\":\n",
    "\n",
    "Please also **write your name below**. \n",
    "\n",
    "\n",
    "**Due Date:** Sunday 8/11"
   ]
  },
  {
   "cell_type": "markdown",
   "metadata": {},
   "source": [
    "**Name**: "
   ]
  },
  {
   "cell_type": "markdown",
   "metadata": {},
   "source": [
    "---\n",
    "## 1. Guess the output: DataFrame practice (1pt)\n",
    "\n",
    "For the following blocks of code, first try to guess what the output will be, and then run the code yourself. Points will be given for filling in the guesses; guessing wrong won't be penalized. **If you expect an error, please state why you expect this error**."
   ]
  },
  {
   "cell_type": "code",
   "execution_count": null,
   "metadata": {},
   "outputs": [],
   "source": [
    "# run this cell first!\n",
    "import pandas as pd\n",
    "\n",
    "expression_df = pd.DataFrame({\"gene_name\":[\"NAC001\",\"AT1G03987\",\"MIR838A\",\"PPa1\"],\n",
    "                          \"gene_exp\":[6,0,260,845]},\n",
    "                          index=[\"AT1G01010\",\"AT1G03987\",\"AT1G01046\",\"AT1G01050\"])\n",
    "\n",
    "expression_df"
   ]
  },
  {
   "cell_type": "markdown",
   "metadata": {},
   "source": [
    "Your guess:"
   ]
  },
  {
   "cell_type": "code",
   "execution_count": null,
   "metadata": {},
   "outputs": [],
   "source": [
    "print (expression_df.loc[\"AT1G01050\",\"gene_name\"])"
   ]
  },
  {
   "cell_type": "markdown",
   "metadata": {},
   "source": [
    "Your guess:"
   ]
  },
  {
   "cell_type": "code",
   "execution_count": null,
   "metadata": {},
   "outputs": [],
   "source": [
    "print (expression_df.iloc[2,1])"
   ]
  },
  {
   "cell_type": "markdown",
   "metadata": {},
   "source": [
    "Your guess:"
   ]
  },
  {
   "cell_type": "code",
   "execution_count": null,
   "metadata": {},
   "outputs": [],
   "source": [
    "print (expression_df.iloc[\"AT1G01010\",0])"
   ]
  },
  {
   "cell_type": "markdown",
   "metadata": {},
   "source": [
    "Your guess:"
   ]
  },
  {
   "cell_type": "code",
   "execution_count": null,
   "metadata": {},
   "outputs": [],
   "source": [
    "print (list(expression_df.columns))"
   ]
  },
  {
   "cell_type": "markdown",
   "metadata": {},
   "source": [
    "Your guess:"
   ]
  },
  {
   "cell_type": "code",
   "execution_count": null,
   "metadata": {},
   "outputs": [],
   "source": [
    "print (list(expression_df.index))"
   ]
  },
  {
   "cell_type": "markdown",
   "metadata": {},
   "source": [
    "Your guess:"
   ]
  },
  {
   "cell_type": "markdown",
   "metadata": {},
   "source": [
    "> Note that when you run the `columns` and `index` function on a pandas dataframe it returns an object that is of type Index. Index objects are not the same as list objects. Therefore, if you want to use these strings as list, you must specify as such."
   ]
  },
  {
   "cell_type": "code",
   "execution_count": null,
   "metadata": {},
   "outputs": [],
   "source": [
    "print (expression_df.shape)"
   ]
  },
  {
   "cell_type": "markdown",
   "metadata": {},
   "source": [
    "Your guess:"
   ]
  },
  {
   "cell_type": "code",
   "execution_count": null,
   "metadata": {},
   "outputs": [],
   "source": [
    "print (expression_df.loc[expression_df.loc[:,\"gene_exp\"]<10,:])"
   ]
  },
  {
   "cell_type": "markdown",
   "metadata": {},
   "source": [
    "Your guess:"
   ]
  },
  {
   "cell_type": "markdown",
   "metadata": {},
   "source": [
    "---\n",
    "## 2. Codon table (7pts)\n",
    "\n",
    "For this question, use `codon_table.txt`, which contains a list of all possible codons and their corresponding amino acids. \n",
    "\n",
    "This problem is almost exactly the same as question 5 in lab 5. However, instead of using dictionaries to match nucleotides to amino acids, here I want you to use pandas dataframes. \n",
    "\n",
    "Each part of this question builds off the previous parts."
   ]
  },
  {
   "cell_type": "markdown",
   "metadata": {},
   "source": [
    "**(A)** (2pt) Read in `codon_table.txt` (note that it has a header line) into a Pandas DataFrame. Then use `input()` to prompt the user to enter a single codon (e.g. ATG) and print the amino acid corresponding to that codon to the screen."
   ]
  },
  {
   "cell_type": "code",
   "execution_count": null,
   "metadata": {},
   "outputs": [],
   "source": []
  },
  {
   "cell_type": "markdown",
   "metadata": {},
   "source": [
    "**(B)** (2pt) Now we will adapt the code in (A) to translate a longer sequence. Instead of prompting the user for a single codon, allow them to enter a longer sequence. First, check that the sequence they entered has a length that is a multiple of 3 (Hint: use the mod operator, %), and print an error message if it is not. If it is valid, then go on to translate every three nucleotides to an amino acid. Print the final amino acid sequence to the screen."
   ]
  },
  {
   "cell_type": "code",
   "execution_count": null,
   "metadata": {},
   "outputs": [],
   "source": []
  },
  {
   "cell_type": "markdown",
   "metadata": {},
   "source": [
    "**(C)** (3pt) Now, instead of taking user input, you will apply your translator to a set of sequences stored in a file. Read in the sequences from `sequences3.txt` (assume each line is a separate sequence) and translate it to amino acids. Create a new data frame with columns containing the nucleotide and protein sequences. Print the dataframe to a new file called `proteins.tsv`."
   ]
  },
  {
   "cell_type": "code",
   "execution_count": null,
   "metadata": {},
   "outputs": [],
   "source": []
  },
  {
   "cell_type": "markdown",
   "metadata": {},
   "source": [
    "---\n",
    "## 3. Use Custom Fuctions to Build a Data Frame (6pts)\n",
    "In the lab 5 you used custom functions to write a table with new information. Another way to output tables is by using pandas!\n",
    "\n",
    "**Hint: For these questions, you may want to import the  module with our custom methods that we created in lab6.**"
   ]
  },
  {
   "cell_type": "markdown",
   "metadata": {},
   "source": [
    "**(A)** (2pts) Now let's turn a fasta file into a pandas DataFrame. Read in \"horrible.fasta\" into a dictionary and then convert the dictionary into a Pandas Series."
   ]
  },
  {
   "cell_type": "code",
   "execution_count": null,
   "metadata": {},
   "outputs": [],
   "source": []
  },
  {
   "cell_type": "markdown",
   "metadata": {},
   "source": [
    "**(B)** (2pts) Get the length and GC content of each of the sequences in the series and create a dataframe called `horrible_df`. Each index in `horrible_df` should be a sequence name and each row should contain a value for the sequence, the length of the sequence, and the GC content. \n"
   ]
  },
  {
   "cell_type": "code",
   "execution_count": null,
   "metadata": {},
   "outputs": [],
   "source": []
  },
  {
   "cell_type": "markdown",
   "metadata": {},
   "source": [
    "**(C)** (1pt) Print the median length of the sequences."
   ]
  },
  {
   "cell_type": "code",
   "execution_count": null,
   "metadata": {},
   "outputs": [],
   "source": []
  },
  {
   "cell_type": "markdown",
   "metadata": {},
   "source": [
    "**(D)** (1pt) Print the average length of the sequences with 40% GC content"
   ]
  },
  {
   "cell_type": "code",
   "execution_count": null,
   "metadata": {},
   "outputs": [],
   "source": []
  },
  {
   "cell_type": "markdown",
   "metadata": {},
   "source": [
    "**(E)** (2pts) Update the DataFrame so that it only contains the length and GC content of each sequence. Then export as tab-delimited to a file called \"horrible.tsv\"."
   ]
  },
  {
   "cell_type": "code",
   "execution_count": null,
   "metadata": {},
   "outputs": [],
   "source": []
  },
  {
   "cell_type": "markdown",
   "metadata": {},
   "source": [
    "---\n",
    "## 4.  Grouping (5pts)\n",
    "**(A)**(1 pt) Create a pandas dataframe from `snp_exp.tsv`."
   ]
  },
  {
   "cell_type": "code",
   "execution_count": null,
   "metadata": {},
   "outputs": [],
   "source": []
  },
  {
   "cell_type": "markdown",
   "metadata": {},
   "source": [
    "**(B)** (1 pt) Group the dataframe by `snp2`. Using a grouped data frame. "
   ]
  },
  {
   "cell_type": "code",
   "execution_count": null,
   "metadata": {},
   "outputs": [],
   "source": []
  },
  {
   "cell_type": "markdown",
   "metadata": {},
   "source": [
    "**(C)** (1 pt) Print a pandas series of the average age of each `snp2` group."
   ]
  },
  {
   "cell_type": "code",
   "execution_count": null,
   "metadata": {},
   "outputs": [],
   "source": []
  },
  {
   "cell_type": "markdown",
   "metadata": {},
   "source": [
    "**(D)** (2 pts) Print the most common `snp1` values for each `snp2` group."
   ]
  },
  {
   "cell_type": "code",
   "execution_count": null,
   "metadata": {},
   "outputs": [],
   "source": []
  },
  {
   "cell_type": "markdown",
   "metadata": {},
   "source": [
    "---\n",
    "## 5. RNA-seq analysis: Real World Practice (21 pts)\n",
    "\n",
    "Each part of this question builds off the previous parts."
   ]
  },
  {
   "cell_type": "markdown",
   "metadata": {},
   "source": [
    "**(A)** (1pts) You are given three replicates each of raw *Arabidopsis* RNA-sequencing reads files labeled \"withTreatment\" and \"noTreatment\". Given these files, **what are questions you should ask the person who created the data?**\n",
    "\n",
    "There are almost no wrong answers here. I am both curious what you would ask and just want you to be aware that you MUST ASK questions whenever you are given data that someone else produced."
   ]
  },
  {
   "cell_type": "markdown",
   "metadata": {},
   "source": [
    "Your answer: "
   ]
  },
  {
   "cell_type": "markdown",
   "metadata": {},
   "source": [
    "**(B)** (1pts) You map the raw reads to the *Arabidopsis* transcriptome. Then you can quantify how many reads were mapped using a tool called *Cufflinks*. Unzip `cufflinks_results.zip` and read each of the files into their own pandas data frame.\n",
    "\n",
    "> **Hints**\n",
    "* Check how the file is delimited\n",
    "* Check if the file contains a header or not"
   ]
  },
  {
   "cell_type": "code",
   "execution_count": null,
   "metadata": {},
   "outputs": [],
   "source": []
  },
  {
   "cell_type": "markdown",
   "metadata": {},
   "source": [
    "**(C)** (1pts) There is a column named \"FPKM_status\". For each table you created in Part B, remove the rows where the \"FPKM_status\" is \"FAIL\"."
   ]
  },
  {
   "cell_type": "code",
   "execution_count": null,
   "metadata": {},
   "outputs": [],
   "source": []
  },
  {
   "cell_type": "markdown",
   "metadata": {},
   "source": [
    "**(D)** (1pts) These files also have a lot of extra unnecessary columns that do not provide any useful informaiton. For the rest of the questions, we are only interested in each genes gene_id, length, and FPKM of that sample. In each table, filter for these 3 columns."
   ]
  },
  {
   "cell_type": "code",
   "execution_count": null,
   "metadata": {},
   "outputs": [],
   "source": []
  },
  {
   "cell_type": "markdown",
   "metadata": {},
   "source": [
    "**(E)** (5pts) Looking at the FPKM of each gene in each sample can be annoying when you have 6 different files. Merge the 6 tables into one that contains the FPKM of each gene.\n",
    "\n",
    "> **Hints:** \n",
    "* Each gene ID should have the same corresponding length in each of the files, but not all genes may be found in each data frame (this is because we removed genes in part C)\n",
    "* Use `help(pd.merge)` or google \"pandas merge\" to see the manual for merging pandas data frames"
   ]
  },
  {
   "cell_type": "code",
   "execution_count": null,
   "metadata": {},
   "outputs": [],
   "source": []
  },
  {
   "cell_type": "markdown",
   "metadata": {},
   "source": [
    "**(F)** (2pts) Given reproducible replicates, it may be easier to look at the average of each of the 3 replicates for treated and non-treated respecively. Add two columns for the averaged FPKM values."
   ]
  },
  {
   "cell_type": "code",
   "execution_count": null,
   "metadata": {},
   "outputs": [],
   "source": []
  },
  {
   "cell_type": "markdown",
   "metadata": {},
   "source": [
    "**(G)** (3pts) Create a row that contains the log10 fold-change of the average FPKM counts with treatment over without treatment. \n",
    "\n",
    "> **Hints** \n",
    "* You can use numpy's `numpy.log10` function\n",
    "* Since you cannot divide by zero, you may want to add a number close to zero to each of the average FPKM values. Otherwise, you can come up with your own way to deal with this problem."
   ]
  },
  {
   "cell_type": "code",
   "execution_count": null,
   "metadata": {},
   "outputs": [],
   "source": []
  },
  {
   "cell_type": "markdown",
   "metadata": {},
   "source": [
    "**(H)** (1pts) Print the gene-ids of the top 3 genes with most upregulation after given treatment? "
   ]
  },
  {
   "cell_type": "code",
   "execution_count": null,
   "metadata": {},
   "outputs": [],
   "source": []
  },
  {
   "cell_type": "markdown",
   "metadata": {},
   "source": [
    "**(I)** (1pts) Print the gene-ids of the top 3 genes with the most downregulation after given treatment?"
   ]
  },
  {
   "cell_type": "code",
   "execution_count": null,
   "metadata": {},
   "outputs": [],
   "source": []
  },
  {
   "cell_type": "markdown",
   "metadata": {},
   "source": [
    "**(J)** (4pts) You have been given a file called `gene_annotations.tsv` which contains a  table that matches gene IDs to gene names and annotation. Add columns \"gene_name\" and \"gene_annotation\" from `gene_annotations.tsv` to the data frame containing the fpkm values."
   ]
  },
  {
   "cell_type": "code",
   "execution_count": null,
   "metadata": {},
   "outputs": [],
   "source": []
  },
  {
   "cell_type": "markdown",
   "metadata": {},
   "source": [
    "**(K)** (1pts) Write out your final data frame into a tab-delimited file called `fpkm_ann.tsv`."
   ]
  },
  {
   "cell_type": "code",
   "execution_count": null,
   "metadata": {},
   "outputs": [],
   "source": []
  },
  {
   "cell_type": "markdown",
   "metadata": {},
   "source": [
    "---\n",
    "## Extra Practice"
   ]
  },
  {
   "cell_type": "markdown",
   "metadata": {},
   "source": [
    "**(A)** (1pt) Load the following data (https://raw.githubusercontent.com/justmarkham/DAT5/master/data/auto_mpg.txt) \n",
    "into a DataFrame. You can either import the data using the full html path or by downloading it locally. \n",
    "\n",
    "**Hint:** In your terminal on the command line use the `head` function to see how the file is delimited and how to load it. For example, I ran the following command on my command line:\n",
    "\n",
    "`head /home/sklasfeld/python_bootcamp_2019/lab7/auto_mpg.txt`\n",
    "\n",
    "**Note:  You do not need to turn in any command line code you may use.**"
   ]
  },
  {
   "cell_type": "code",
   "execution_count": null,
   "metadata": {},
   "outputs": [],
   "source": [
    "# Load the DataFrame here\n"
   ]
  },
  {
   "cell_type": "markdown",
   "metadata": {},
   "source": [
    "**(B)** (1pt) Display only the first 5 rows of the dataset"
   ]
  },
  {
   "cell_type": "code",
   "execution_count": null,
   "metadata": {},
   "outputs": [],
   "source": []
  },
  {
   "cell_type": "markdown",
   "metadata": {},
   "source": [
    "**(C)** (1pt) What is the shape of the data?  How many rows and columns are there?"
   ]
  },
  {
   "cell_type": "code",
   "execution_count": null,
   "metadata": {},
   "outputs": [],
   "source": [
    "# code here"
   ]
  },
  {
   "cell_type": "markdown",
   "metadata": {},
   "source": [
    "Your Answer:"
   ]
  },
  {
   "cell_type": "markdown",
   "metadata": {},
   "source": [
    "**(D)** (1pt) What is the minimum and maximum value for each numeric column?"
   ]
  },
  {
   "cell_type": "code",
   "execution_count": null,
   "metadata": {},
   "outputs": [],
   "source": []
  },
  {
   "cell_type": "markdown",
   "metadata": {},
   "source": [
    "**(E)** (1pt) What is the `car_name` of the car with the most horsepower?"
   ]
  },
  {
   "cell_type": "code",
   "execution_count": null,
   "metadata": {},
   "outputs": [],
   "source": [
    "# code here"
   ]
  },
  {
   "cell_type": "markdown",
   "metadata": {},
   "source": [
    "**(F)** (1pt) How many cars have 4 or fewer cylinders?"
   ]
  },
  {
   "cell_type": "code",
   "execution_count": null,
   "metadata": {},
   "outputs": [],
   "source": [
    "# code here"
   ]
  },
  {
   "cell_type": "markdown",
   "metadata": {},
   "source": [
    "Your Answer:"
   ]
  },
  {
   "cell_type": "markdown",
   "metadata": {},
   "source": [
    "**(G)** (1pt) Write code that prompts a user for a car_name and then returns the car's horsepower, mpg, and weight."
   ]
  },
  {
   "cell_type": "code",
   "execution_count": null,
   "metadata": {},
   "outputs": [],
   "source": []
  },
  {
   "cell_type": "markdown",
   "metadata": {},
   "source": [
    "**(H)** (1pt) Which 5 cars get the best gas mileage? Provide a DataFrame that only has the cars name and corresponding MPG"
   ]
  },
  {
   "cell_type": "code",
   "execution_count": null,
   "metadata": {},
   "outputs": [],
   "source": []
  },
  {
   "cell_type": "markdown",
   "metadata": {},
   "source": [
    "**(I)** (1pt) Which 5 cars with more than 4 cylinders get the best gas mileage? "
   ]
  },
  {
   "cell_type": "code",
   "execution_count": null,
   "metadata": {},
   "outputs": [],
   "source": []
  },
  {
   "cell_type": "markdown",
   "metadata": {},
   "source": [
    "**(J)** (1pt) What is the mean mpg for cars with each number of cylinders (i.e. 3 cylinders, 4 cylinders, 5 cylinders, etc)? \n",
    "> *Hint: Use the Group By function*"
   ]
  },
  {
   "cell_type": "code",
   "execution_count": null,
   "metadata": {},
   "outputs": [],
   "source": []
  },
  {
   "cell_type": "markdown",
   "metadata": {},
   "source": [
    "**(K)** Did mpg rise or fall over the years contained in this dataset?"
   ]
  },
  {
   "cell_type": "code",
   "execution_count": 2,
   "metadata": {},
   "outputs": [],
   "source": [
    "# your code goes here"
   ]
  },
  {
   "cell_type": "markdown",
   "metadata": {},
   "source": [
    "Your answer:"
   ]
  }
 ],
 "metadata": {
  "kernelspec": {
   "display_name": "Python 3",
   "language": "python",
   "name": "python3"
  },
  "language_info": {
   "codemirror_mode": {
    "name": "ipython",
    "version": 3
   },
   "file_extension": ".py",
   "mimetype": "text/x-python",
   "name": "python",
   "nbconvert_exporter": "python",
   "pygments_lexer": "ipython3",
   "version": "3.7.1"
  }
 },
 "nbformat": 4,
 "nbformat_minor": 2
}
