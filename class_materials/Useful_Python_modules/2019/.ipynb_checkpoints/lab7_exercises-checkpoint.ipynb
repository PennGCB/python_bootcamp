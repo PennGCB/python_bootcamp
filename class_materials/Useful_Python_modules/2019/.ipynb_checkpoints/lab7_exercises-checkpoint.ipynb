{
 "cells": [
  {
   "cell_type": "markdown",
   "metadata": {},
   "source": [
    "# Programming Bootcamp 2019\n",
    "# Lesson 7 Exercises\n",
    "---"
   ]
  },
  {
   "cell_type": "markdown",
   "metadata": {},
   "source": [
    "**Earning points (optional)**\n",
    "\n",
    "If you would like to get points/feedback for your work, please **submit your notebook to Piazza**. To do this, follow these steps:\n",
    "\n",
    "1. Click \"New Post\"\n",
    "2. For \"Post Type\" select `Question`\n",
    "3. For \"Post to\" select `Individual Student(s)/Instructors(s)`\n",
    "4. Where is says \"Enter one or more names...\" type `Instructors`\n",
    "5. For \"Select Folder(s)\" select `lab7`\n",
    "6. In \"Summary\" type in \"[Your Full Name] Lab7 Submission\"\n",
    "7. In the \"Details\" click \"Insert\" > \"Insert File\" and then **insert the following files**:\n",
    " * your completed python notebook\n",
    " * useful_functions.py\n",
    " * horrible_df.tsv\n",
    "8. You can then write whatever else you want in the Summary.\n",
    "9. Then click \"Post My Question to PROGRAMMING BOOTCAMP!\":\n",
    "\n",
    "Please also **write your name below**. "
   ]
  },
  {
   "cell_type": "markdown",
   "metadata": {},
   "source": [
    "**Name**: "
   ]
  },
  {
   "cell_type": "markdown",
   "metadata": {},
   "source": [
    "---\n",
    "## 1. Familiarizing yourself with a Data Frame (6pts)"
   ]
  },
  {
   "cell_type": "markdown",
   "metadata": {},
   "source": [
    "**(A)** (1pt) Load the following data (https://raw.githubusercontent.com/justmarkham/DAT5/master/data/auto_mpg.txt) \n",
    "into a DataFrame and display the first 5 rows of the data frame. Note that this is the same data frame we used in the last lab and your code should be exactly the same. You can either import the data using the full html path or by downloading it locally. \n",
    "\n",
    "In your terminal on the command line use the `head` function to see how the file is delimited and how to load it. \n",
    "\n",
    "For example, I ran the following command on my command line:\n",
    "\n",
    "`head /home/sklasfeld/python_bootcamp_2019/Intro2Pandas_PartII/auto_mpg.txt`\n",
    "\n",
    "> Note:  You do not need to turn in any command line code you may use."
   ]
  },
  {
   "cell_type": "code",
   "execution_count": null,
   "metadata": {},
   "outputs": [],
   "source": []
  },
  {
   "cell_type": "markdown",
   "metadata": {},
   "source": [
    "**(B)** (1pt) Which 5 cars get the best gas mileage? Provide a DataFrame that only has the cars name and corresponding MPG"
   ]
  },
  {
   "cell_type": "code",
   "execution_count": null,
   "metadata": {},
   "outputs": [],
   "source": []
  },
  {
   "cell_type": "markdown",
   "metadata": {},
   "source": [
    "**(C)** (1pt) Which 5 cars with more than 4 cylinders get the best gas mileage? "
   ]
  },
  {
   "cell_type": "code",
   "execution_count": null,
   "metadata": {},
   "outputs": [],
   "source": []
  },
  {
   "cell_type": "markdown",
   "metadata": {},
   "source": [
    "**(D)** (1pt) What is the mean mpg for cars with each number of cylinders (i.e. 3 cylinders, 4 cylinders, 5 cylinders, etc)? \n",
    "> *Hint: Use the Group By function*"
   ]
  },
  {
   "cell_type": "code",
   "execution_count": null,
   "metadata": {},
   "outputs": [],
   "source": []
  },
  {
   "cell_type": "markdown",
   "metadata": {},
   "source": [
    "**(E)** Did mpg rise or fall over the years contained in this dataset?"
   ]
  },
  {
   "cell_type": "code",
   "execution_count": null,
   "metadata": {},
   "outputs": [],
   "source": [
    "# your code goes here"
   ]
  },
  {
   "cell_type": "markdown",
   "metadata": {},
   "source": [
    "Your answer:"
   ]
  }
 ],
 "metadata": {
  "kernelspec": {
   "display_name": "Python 3",
   "language": "python",
   "name": "python3"
  },
  "language_info": {
   "codemirror_mode": {
    "name": "ipython",
    "version": 3
   },
   "file_extension": ".py",
   "mimetype": "text/x-python",
   "name": "python",
   "nbconvert_exporter": "python",
   "pygments_lexer": "ipython3",
   "version": "3.7.1"
  }
 },
 "nbformat": 4,
 "nbformat_minor": 2
}
