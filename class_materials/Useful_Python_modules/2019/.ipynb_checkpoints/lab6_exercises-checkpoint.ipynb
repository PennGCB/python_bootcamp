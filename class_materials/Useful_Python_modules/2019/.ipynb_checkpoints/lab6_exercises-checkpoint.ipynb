{
 "cells": [
  {
   "cell_type": "markdown",
   "metadata": {},
   "source": [
    "# Programming Bootcamp 2019\n",
    "# Lesson 6 Exercises\n",
    "---"
   ]
  },
  {
   "cell_type": "markdown",
   "metadata": {},
   "source": [
    "** 26 Earning points (optional) **\n",
    "- These excercises use the following files:\n",
    " * horrible.fasta\n",
    " * madlibs.py"
   ]
  },
  {
   "cell_type": "markdown",
   "metadata": {},
   "source": [
    "**Earning points (optional)**\n",
    "\n",
    "If you would like to get points/feedback for your work, please **submit your notebook to Piazza**. To do this, follow these steps:\n",
    "\n",
    "1. Click \"New Post\"\n",
    "2. For \"Post Type\" select `Question`\n",
    "3. For \"Post to\" select `Individual Student(s)/Instructors(s)`\n",
    "4. Where is says \"Enter one or more names...\" type `Instructors`\n",
    "5. For \"Select Folder(s)\" select `lab6`\n",
    "6. In \"Summary\" type in \"[Your Full Name] Lab6 Submission\"\n",
    "7. In the \"Details\" click \"Insert\" > \"Insert File\" and then insert your python notebook.\n",
    "8. You can then write whatever else you want in the Summary.\n",
    "9. Then click \"Post My Question to PROGRAMMING BOOTCAMP!\":\n",
    "\n",
    "Please also **write your name below**. "
   ]
  },
  {
   "cell_type": "markdown",
   "metadata": {},
   "source": [
    "**Name**: "
   ]
  },
  {
   "cell_type": "markdown",
   "metadata": {},
   "source": [
    "---\n",
    "## 1. Guess the output: os practice (1pt)\n",
    "\n",
    "For the following blocks of code, first try to **guess what the output will be, and then run the code yourself**. Points will be given for filling in the guesses; guessing wrong won't be penalized. **If you expect an error, please explain why you expect that.**\n",
    "\n",
    "Note: that you may need to add a path to `horrible.fasta` or make sure that the file is in the current directory"
   ]
  },
  {
   "cell_type": "code",
   "execution_count": null,
   "metadata": {},
   "outputs": [],
   "source": [
    "import os\n",
    "\n",
    "print(os.path.exists(\"easy.fasta\"))"
   ]
  },
  {
   "cell_type": "markdown",
   "metadata": {},
   "source": [
    "Guess:"
   ]
  },
  {
   "cell_type": "code",
   "execution_count": null,
   "metadata": {},
   "outputs": [],
   "source": [
    "import os\n",
    "\n",
    "print(os.path.exists(\"horrible.fasta\"))"
   ]
  },
  {
   "cell_type": "markdown",
   "metadata": {},
   "source": [
    "Guess:"
   ]
  },
  {
   "cell_type": "code",
   "execution_count": null,
   "metadata": {},
   "outputs": [],
   "source": [
    "import os\n",
    "\n",
    "print(os.path.isfile(\"horrible.fasta\"))"
   ]
  },
  {
   "cell_type": "markdown",
   "metadata": {},
   "source": [
    "Guess:"
   ]
  },
  {
   "cell_type": "code",
   "execution_count": null,
   "metadata": {},
   "outputs": [],
   "source": [
    "import os\n",
    "\n",
    "print(os.path.isdir(\"newFolder\"))"
   ]
  },
  {
   "cell_type": "markdown",
   "metadata": {},
   "source": [
    "Guess:"
   ]
  },
  {
   "cell_type": "code",
   "execution_count": null,
   "metadata": {},
   "outputs": [],
   "source": [
    "import os\n",
    "\n",
    "if not os.path.isdir(\"newFolder\"):\n",
    "    os.mkdir(\"newFolder\")\n",
    "print(os.path.isdir(\"newFolder\"))"
   ]
  },
  {
   "cell_type": "markdown",
   "metadata": {},
   "source": [
    "Guess:"
   ]
  },
  {
   "cell_type": "code",
   "execution_count": null,
   "metadata": {},
   "outputs": [],
   "source": [
    "import os\n",
    "\n",
    "fullPath = os.path.abspath(\"horrible.fasta\")\n",
    "print(os.path.basename(fullPath))"
   ]
  },
  {
   "cell_type": "markdown",
   "metadata": {},
   "source": [
    "Guess:"
   ]
  },
  {
   "cell_type": "markdown",
   "metadata": {},
   "source": [
    "---\n",
    "## 2. Guess the command line output: argparse and sys practice (1pt)\n",
    "\n",
    "The following cells run the script `madlibs.py` on the command line. Open the script in your text editor to read the code. \n",
    "\n",
    "For each command,\n",
    "1. If you expect no errors:\n",
    " * state whether output will be sent to standard output or standard error\n",
    " * guess what the output will be\n",
    "2. Otherwise, if you expect an error, please explain why you expect that\n",
    "3. Run the code yourself by copying and pasting the code to the command line. \n",
    "\n",
    "Points will be given for filling in the guesses; guessing wrong won't be penalized.\n",
    "\n",
    "**Note**: that you may need to add a path to `madlibs.py` or make sure that the script is in the current directory"
   ]
  },
  {
   "cell_type": "raw",
   "metadata": {},
   "source": [
    "python madlibs.py -n Bob Patrick rock scissors"
   ]
  },
  {
   "cell_type": "markdown",
   "metadata": {},
   "source": [
    "Guess:"
   ]
  },
  {
   "cell_type": "raw",
   "metadata": {},
   "source": [
    "python madlibs.py rock rock -n Krabs Pearl -a 45 18"
   ]
  },
  {
   "cell_type": "markdown",
   "metadata": {},
   "source": [
    "Guess:"
   ]
  },
  {
   "cell_type": "raw",
   "metadata": {},
   "source": [
    "python madlibs.py -n Sheldon Karen -a 42 3.14 paper rock"
   ]
  },
  {
   "cell_type": "markdown",
   "metadata": {},
   "source": [
    "Guess:"
   ]
  },
  {
   "cell_type": "raw",
   "metadata": {},
   "source": [
    "python madlibs.py -n Sheldon Karen"
   ]
  },
  {
   "cell_type": "markdown",
   "metadata": {},
   "source": [
    "Guess:"
   ]
  },
  {
   "cell_type": "raw",
   "metadata": {},
   "source": [
    "python madlibs.py paper rock"
   ]
  },
  {
   "cell_type": "markdown",
   "metadata": {},
   "source": [
    "Guess:"
   ]
  },
  {
   "cell_type": "raw",
   "metadata": {},
   "source": [
    "python madlibs.py -n Sandy Gary -a 45 18 Rock paper"
   ]
  },
  {
   "cell_type": "markdown",
   "metadata": {},
   "source": [
    "Guess:"
   ]
  },
  {
   "cell_type": "raw",
   "metadata": {},
   "source": [
    "python madlibs.py -n Squidward Squidward -a 45 18 scissors paper"
   ]
  },
  {
   "cell_type": "markdown",
   "metadata": {},
   "source": [
    "Guess:"
   ]
  },
  {
   "cell_type": "raw",
   "metadata": {},
   "source": [
    "python madlibs.py paper paper -n Puff Larry -a 20"
   ]
  },
  {
   "cell_type": "markdown",
   "metadata": {},
   "source": [
    "Guess:"
   ]
  },
  {
   "cell_type": "markdown",
   "metadata": {},
   "source": [
    "---\n",
    "## 3. Creating your module file (1pt)\n",
    "\n",
    "\n",
    "Up until now, we've created all of our functions inside the Jupyter notebook. However, in order to use your functions across different scripts, it's best to put them into a separate file. Then you can load this file from anywhere with a single line of code and have access to all your custom functions!\n",
    "\n",
    "**Do the following:**\n",
    "- Open up your plain-text editor. \n",
    "- Copy and paste the functions below into a blank file (you may recognize them from previous homeworks) and save it as **my_utils.py** (don't forget the .py extension). Save it anywhere on your computer.\n"
   ]
  },
  {
   "cell_type": "code",
   "execution_count": null,
   "metadata": {},
   "outputs": [],
   "source": [
    "def gc(seq):\n",
    "    gcCount = seq.count(\"C\") + seq.count(\"G\")\n",
    "    gcFrac = float(gcCount) / len(seq)\n",
    "    \n",
    "    return round(gcFrac,2)\n",
    "\n",
    "def rand_seq(length):\n",
    "    import random\n",
    "    \n",
    "    nts = ['A','C','G','T']\n",
    "    seq = \"\"\n",
    "    for i in range(length):\n",
    "        seq = seq + random.choice(nts)\n",
    "    \n",
    "    return seq\n",
    "\n",
    "def shuffle_nt(seq):\n",
    "    import random\n",
    "    \n",
    "    strList = list(seq)\n",
    "    random.shuffle(strList)\n",
    "    shuffSeq = \"\".join(strList)\n",
    "    \n",
    "    return shuffSeq\n",
    "\n",
    "def reverse_compl(seq):\n",
    "    complements = {'A':'T', 'C':'G', 'G':'C', 'T':'A'}\n",
    "    compl = \"\"\n",
    "    for char in seq:\n",
    "        compl = complements[char] + compl\n",
    "    \n",
    "    return compl\n",
    "\n",
    "def read_fasta(fileName):\n",
    "    ins = open(fileName, 'r')\n",
    "    seqDict = {}\n",
    "    activeID = \"\"\n",
    "\n",
    "    for line in ins:\n",
    "        line = line.rstrip('\\r\\n')\n",
    "        \n",
    "        if line[0] == \">\":\n",
    "            activeID = line[1:] \n",
    "            if activeID in seqDict:\n",
    "                print (\">>> Warning: repeat id:\", activeID, \"-- overwriting previous ID.\")\n",
    "            seqDict[activeID] = \"\"\n",
    "            \n",
    "        else:\n",
    "            seqDict[activeID] += line \n",
    "    \n",
    "    ins.close()    \n",
    "    \n",
    "    return seqDict"
   ]
  },
  {
   "cell_type": "markdown",
   "metadata": {},
   "source": [
    "Some notes:\n",
    "- You need to supply the path *relative to where this notebook is*. See the slides for some examples on how to specify paths.\n",
    "- Remember you can use this method to import your functions from *anywhere* on your computer! In contrast, the regular `import` function will only find custom functions that are in the same directory as the current notebook/script."
   ]
  },
  {
   "cell_type": "code",
   "execution_count": null,
   "metadata": {},
   "outputs": [],
   "source": [
    "import sys\n",
    "sys.path.append('../utilities/') #CHANGE THIS PATH TO FIND THE MODULE\n",
    "import my_utils \n",
    "\n",
    "# test that this worked\n",
    "print (\"Test my_utils.gc():\", my_utils.gc(\"ATGGGCCCAATGG\"))\n",
    "print (\"Test my_utils.reverse_compl():\", my_utils.reverse_compl(\"GGGGTCGATGCAAATTCAAA\"))\n",
    "print (\"Test my_utils.read_fasta():\", my_utils.read_fasta(\"horrible.fasta\"))\n",
    "print (\"Test my_utils.rand_seq():\", my_utils.rand_seq(23))\n",
    "print (\"Test my_utils.shuffle_nt():\", my_utils.shuffle_nt(\"AAAAAAGTTTCCC\"))\n",
    "\n",
    "print (\"\\nIf the above produced no errors, then you're good!\")"
   ]
  },
  {
   "cell_type": "markdown",
   "metadata": {},
   "source": [
    "Feel free to use these functions (and any others you've created) to solve the problems below. You can see in the test code above how they can be accessed."
   ]
  },
  {
   "cell_type": "markdown",
   "metadata": {},
   "source": [
    "---\n",
    "## 4. Command line arguments (6pts)\n",
    "\n",
    "**Note: Do the following in a SCRIPT, not in the notebook**. You can not use command line arguments within Jupyter notebooks.\n",
    "\n",
    "After testing your code as a script, copy and paste it here for grading purposes only."
   ]
  },
  {
   "cell_type": "markdown",
   "metadata": {},
   "source": [
    "**(A)** Write a script that expects 4 arguments, and prints those four arguments to the screen. Test this script by running it (on the command line) as shown in the lecture. Copy and paste the code below once you have it working."
   ]
  },
  {
   "cell_type": "code",
   "execution_count": null,
   "metadata": {},
   "outputs": [],
   "source": []
  },
  {
   "cell_type": "markdown",
   "metadata": {},
   "source": [
    "**(B)** Recall the quadratic formula is defined as:"
   ]
  },
  {
   "cell_type": "markdown",
   "metadata": {},
   "source": [
    "$$ x = \\frac{-b \\pm \\sqrt{b^2 - 4ac}}{2a} $$"
   ]
  },
  {
   "cell_type": "markdown",
   "metadata": {},
   "source": [
    "In lab2 question 4, you wrote code to calculate the quadratic formula for a given a, b, and c. "
   ]
  },
  {
   "cell_type": "code",
   "execution_count": null,
   "metadata": {},
   "outputs": [],
   "source": [
    "a = float(input(\"Enter value for a: \"))\n",
    "b = float(input(\"Enter value for b: \"))\n",
    "c = float(input(\"Enter value for c: \"))\n",
    "\n",
    "underRoot = (b**2 - 4*a*c)\n",
    "\n",
    "if underRoot >= 0:\n",
    "    x1 = ( (-b) + underRoot ** 0.5 ) / float(2*a)\n",
    "    x2 = ( (-b) - underRoot ** 0.5 ) / float(2*a)\n",
    "    print (\"x =\", x1, \"or\", x2)\n",
    "else:\n",
    "    print (\"non-real answer\")"
   ]
  },
  {
   "cell_type": "markdown",
   "metadata": {},
   "source": [
    "Write a script that expects 3 float arguments from the command line and outputs both possible values for x (that is, the values produced by doing + or - for the $\\pm$) to **standard output** rounded to 3 decimal places. \n",
    "\n",
    "In lab2, your code printed \"non-real answer\" if $b^2 - 4ac$ is negative. However, your script should instead send an error message to **standard error** and exit.\n",
    "\n",
    "Copy and paste the code below once you have it working."
   ]
  },
  {
   "cell_type": "markdown",
   "metadata": {},
   "source": [
    "**[ Check your answer ]** \n",
    "- If a=1, b=4, and c=1, expected standard output is:\n",
    "```\n",
    "x = -0.268 or -3.732\n",
    "```\n",
    "- If a=2, b=2, and c=2, expected standard error is:\n",
    "```\n",
    "ERROR: non-real answer. Exiting.\n",
    "```"
   ]
  },
  {
   "cell_type": "code",
   "execution_count": null,
   "metadata": {},
   "outputs": [],
   "source": []
  },
  {
   "cell_type": "markdown",
   "metadata": {},
   "source": [
    "**(C)** Here you will create a script that generates a random dataset of sequences. \n",
    "\n",
    "**Your script should expect the following command line arguments, in this order. Remember to convert strings to ints when needed:**\n",
    "1. outFile - string; name of the output file the generated sequences will be printed to\n",
    "1. numSeqs - integer; number of sequences to create\n",
    "1. minLength - integer; minimum sequence length\n",
    "1. maxLength - integer; maximum sequence length\n",
    "\n",
    "The script should read in these arguments and check if the correct number of arguments is supplied (exit if not). \n",
    "\n",
    "**If all looks good, then print the indicated number of randomly generated sequences as follows:**\n",
    "- the length of each individual sequence should be randomly chosen to be between minLength and maxLength (so that not all sequences are the same length)\n",
    "- each sequence should be given a unique ID (e.g. using a counter to make names like seq1, seq2, ...)\n",
    "- the output should be in fasta format (>seqID\\nsequence\\n)\n",
    "- the output shold be printed to the indicated file\n",
    "\n",
    "Then, run your script to create a file called `fake.fasta` containing 100,000 random sequences of random length 50-500 nt.\n",
    "\n",
    "Copy and paste your code below once you have it working."
   ]
  },
  {
   "cell_type": "code",
   "execution_count": null,
   "metadata": {},
   "outputs": [],
   "source": []
  },
  {
   "cell_type": "markdown",
   "metadata": {},
   "source": [
    "---\n",
    "## 5. More `os` practice (6pts)\n",
    "\n",
    "Use `horrible.fasta` as a test fasta file for the following."
   ]
  },
  {
   "cell_type": "markdown",
   "metadata": {},
   "source": [
    "**(A)** **Note: Do the following in a SCRIPT, not in the notebook**. You can not use command line arguments within Jupyter notebooks.\n",
    "\n",
    "After testing your code as a script, copy and paste it here for grading purposes only.\n",
    "\n",
    "Write a script that takes two positional arguments: an input file name (assumed to be a fasta file) and an output folder name (does not need to already exist). Then do the following:\n",
    "- Check if the input file exists\n",
    "- If it doesn't, print an error message\n",
    "- Otherwise, go on to check if the output folder exists\n",
    "- If it doesn't, create it"
   ]
  },
  {
   "cell_type": "code",
   "execution_count": null,
   "metadata": {},
   "outputs": [],
   "source": []
  },
  {
   "cell_type": "markdown",
   "metadata": {},
   "source": [
    "**(B)** Add to the code above so that it also does the following after creating the output folder:\n",
    "- Read in the fasta file (**ONLY** if it exists) \n",
    "- Print each individual sequence to a separate fasta file **in the specified output folder**. \n",
    "- The files should be named `<SEQID>.fasta`, where `<SEQID>` is the name of the sequence (from the fasta header)"
   ]
  },
  {
   "cell_type": "code",
   "execution_count": null,
   "metadata": {},
   "outputs": [],
   "source": []
  },
  {
   "cell_type": "markdown",
   "metadata": {},
   "source": [
    "---\n",
    "## Extra Problem: `re` practice\n",
    "\n",
    "> Note that we did not go over the `re` module in class, but there are extra slides at the end of the lecture slides that explain the `re` module. Here are questions relavent to the `re` module. These questions will not give you any more or less points."
   ]
  },
  {
   "cell_type": "markdown",
   "metadata": {},
   "source": [
    "**(A)** We use restriction enzyme to cut a specific parts of a genomic sequence. The BisI restriction enzyme recognition site is GCNGC where N can be any base. Create a method that prints \"restriction site found!\" if a sequence has an BisI restriction enzyme recognition site."
   ]
  },
  {
   "cell_type": "code",
   "execution_count": null,
   "metadata": {},
   "outputs": [],
   "source": []
  },
  {
   "cell_type": "markdown",
   "metadata": {},
   "source": [
    "**(B)** An RNA sequence has the following pattern:\n",
    "* Starts with a Start Codon AUG\n",
    "* Contains about 30-1000 bases which can be A, U, G, or C\n",
    "* Ends with a poly-A tail of about 5-10 bases at the end of the sequences\n",
    "\n",
    "Write a function `check_rna_seq` that search a string for this patterns. Return the string \"RNA found\" if the sequence is an RNA. Otherwise return \"no RNA found\"."
   ]
  },
  {
   "cell_type": "code",
   "execution_count": null,
   "metadata": {},
   "outputs": [],
   "source": []
  },
  {
   "cell_type": "markdown",
   "metadata": {},
   "source": [
    "Run the unit test below to show that your `check_rna_seq` functions work. "
   ]
  },
  {
   "cell_type": "code",
   "execution_count": null,
   "metadata": {},
   "outputs": [],
   "source": [
    "##### testing check_rna_seq\n",
    "rna=\"AUGGGGGUCGAUGCAAAUUCAAAGGGGUCGAUGCAAAUUCAAAGGGGUCGAGAGAUUUAUGCAAAUUCAAAAA\"\n",
    "if (rna) == \"no RNA found\":\n",
    "    print(\"Problem with check_rna_seq: answer (%s) has RNA format\" % rna)\n",
    "elif check_rna_seq(rna+\"AAAAA\") == \"no RNA found\":\n",
    "    print(\"Problem with check_rna_seq: answer (%s) has RNA format\" % rna)\n",
    "elif rna_check[1:] == \"RNA found\":\n",
    "    print (\"Problem with check_rna_seq: should fail if START codon is unavailable\")\n",
    "elif check_rna_seq(\"AUGCCCCCCCCCCCCCCCCCCCCCCCCCCCCCCAAAA\") == \"RNA found\":\n",
    "    print (\"Problem with check_rna_seq: should fail if there are less than 5 adenines at the end\")\n",
    "elif check_rna_seq(\"AUG\"+\"C\"*1000+\"AAAAAAAAAAA\") == \"RNA found\":\n",
    "    print (\"Problem with check_rna_seq: should fail if there are more than 5 adenines at the end\")\n",
    "elif check_rna_seq(rna*100) == \"RNA found\":\n",
    "    print (\"Problem with check_rna_seq: should fail if sequence is >1013 bp\")\n",
    "else:\n",
    "    print (\"check_rna_seq:PASSED\")"
   ]
  },
  {
   "cell_type": "markdown",
   "metadata": {},
   "source": [
    "**(C)** Prompt the user to input a password. Make sure that the password is\n",
    "* at least 8 characters long \n",
    "* contains at least one numeric character. \n",
    "\n",
    "Otherwise print a warning message and ask for a different password."
   ]
  },
  {
   "cell_type": "code",
   "execution_count": null,
   "metadata": {},
   "outputs": [],
   "source": []
  },
  {
   "cell_type": "markdown",
   "metadata": {},
   "source": [
    "---\n",
    "## Extra Problem: `time` practice\n",
    "\n",
    "> Note that we did not go over the `time` module in class, but there are extra slides at the end of the lecture slides that explain the `time` module. Here are questions relavent to the `time` module. These questions will not give you any more or less points.\n",
    "\n",
    "For the following problems, use the file you created in problem 2 (`fake.fasta`) and the `time.time()` function. (Note: there is also a copy of `fake.fasta` on Piazza if you need it.)\n",
    "\n",
    "**Note: Do not include the time it takes to read the file in your time calculation! Loading files can take a while.**"
   ]
  },
  {
   "cell_type": "markdown",
   "metadata": {},
   "source": [
    "**(A) Initial practice with timing.** Add code to the following cell to time how long it takes to run. Print the result."
   ]
  },
  {
   "cell_type": "code",
   "execution_count": null,
   "metadata": {},
   "outputs": [],
   "source": [
    "sillyList = []\n",
    "for i in range(50000):\n",
    "    sillyList.append(sum(sillyList))"
   ]
  },
  {
   "cell_type": "markdown",
   "metadata": {},
   "source": [
    "**(B) Counting characters.** Is it faster to use the built-in function `str.count()` or to loop through a string and count characters manually? Compare the two by counting all the A's in all the sequences in `fake.fasta` using each method and comparing how long they take to run. \n",
    "\n",
    "(You do not need to output the counts)"
   ]
  },
  {
   "cell_type": "code",
   "execution_count": null,
   "metadata": {},
   "outputs": [],
   "source": [
    "# Method 1 (Manual counting)"
   ]
  },
  {
   "cell_type": "code",
   "execution_count": null,
   "metadata": {},
   "outputs": [],
   "source": [
    "# Method 2 (.count())"
   ]
  },
  {
   "cell_type": "markdown",
   "metadata": {},
   "source": [
    "*Which was faster?*"
   ]
  },
  {
   "cell_type": "markdown",
   "metadata": {},
   "source": [
    "**(C) Replacing characters.** Is it faster to use the built-in function `str.replace()` or to loop through a string and replace characters manually? Compare the two by replacing all the T's with U's in all the sequences in `fake.fasta` using each method, and comparing how long they take to run. \n",
    "\n",
    "(You do not need to output the edited sequences)"
   ]
  },
  {
   "cell_type": "code",
   "execution_count": null,
   "metadata": {},
   "outputs": [],
   "source": [
    "# Method 1 (Manual replacement)"
   ]
  },
  {
   "cell_type": "code",
   "execution_count": null,
   "metadata": {},
   "outputs": [],
   "source": [
    "# Method 2 (.replace())"
   ]
  },
  {
   "cell_type": "markdown",
   "metadata": {},
   "source": [
    "*Which was faster?*"
   ]
  },
  {
   "cell_type": "markdown",
   "metadata": {},
   "source": [
    "**(D) Lookup speed in data structures.** Is it faster to get unique IDs using a list or a dictionary? Read in `fake.fasta`, ignoring everything but the header lines. Count the number of unique IDs (headers) using a list or dictionary, and compare how long each method takes to run. \n",
    "\n",
    "Be patient; this one might take a while to run!"
   ]
  },
  {
   "cell_type": "code",
   "execution_count": null,
   "metadata": {},
   "outputs": [],
   "source": [
    "# Method 1 (list)"
   ]
  },
  {
   "cell_type": "code",
   "execution_count": null,
   "metadata": {},
   "outputs": [],
   "source": [
    "# Method 2 (dictionary)"
   ]
  },
  {
   "cell_type": "markdown",
   "metadata": {},
   "source": [
    "*Which was faster?*"
   ]
  },
  {
   "cell_type": "markdown",
   "metadata": {},
   "source": [
    "If you're curious, below is a brief explanation of the outcomes you should have observed:\n",
    "\n",
    "> (B) The built-in method should be much faster! Most built in functions are pretty well optimized, so they will often (but not always) be faster.\n",
    "\n",
    "> (C) Again, the built in function should be quite a bit faster.\n",
    "\n",
    "> (D) If you did this right, then the dictionary should be faster by several orders of magnitude. When you use a dictionary, Python jumps directly to where the requested key *should* be, if it were in the dictionary. This is very fast (it's an O(1) operation, for those who are familiar with the terminology). With lists, on the other hand, Python will scan through the whole list until it finds the requested element (or until it reaches the end). This gets slower and slower on average as you add more elements (it's an O(n) operation). Just something to keep in mind if you start working with very large datasets!\n",
    " "
   ]
  }
 ],
 "metadata": {
  "kernelspec": {
   "display_name": "Python 3",
   "language": "python",
   "name": "python3"
  },
  "language_info": {
   "codemirror_mode": {
    "name": "ipython",
    "version": 3
   },
   "file_extension": ".py",
   "mimetype": "text/x-python",
   "name": "python",
   "nbconvert_exporter": "python",
   "pygments_lexer": "ipython3",
   "version": "3.7.1"
  }
 },
 "nbformat": 4,
 "nbformat_minor": 2
}
