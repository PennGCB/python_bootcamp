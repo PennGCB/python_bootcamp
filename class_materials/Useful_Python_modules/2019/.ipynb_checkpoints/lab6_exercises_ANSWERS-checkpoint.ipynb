{
 "cells": [
  {
   "cell_type": "markdown",
   "metadata": {},
   "source": [
    "# Programming Bootcamp 2019\n",
    "# Lesson 6 Exercises\n",
    "---"
   ]
  },
  {
   "cell_type": "markdown",
   "metadata": {},
   "source": [
    " ** 26 Earning points (optional) **\n",
    "- These excercises use the following files:\n",
    " * horrible.fasta\n",
    " * madlibs.py\n",
    " \n",
    "\n",
    "- Enter your name below.\n",
    "- Post your notebook privately to instructors on piazza **before 9:00 pm on 8/4**."
   ]
  },
  {
   "cell_type": "markdown",
   "metadata": {},
   "source": [
    "**Name**: "
   ]
  },
  {
   "cell_type": "markdown",
   "metadata": {},
   "source": [
    "---\n",
    "## 1. Guess the output: os practice (1pt)\n",
    "\n",
    "For the following blocks of code, first try to **guess what the output will be, and then run the code yourself**. Points will be given for filling in the guesses; guessing wrong won't be penalized. **If you expect an error, please explain why you expect that.**\n",
    "\n",
    "Note: that you may need to add a path to `horrible.fasta` or make sure that the file is in the current directory"
   ]
  },
  {
   "cell_type": "code",
   "execution_count": 14,
   "metadata": {},
   "outputs": [
    {
     "name": "stdout",
     "output_type": "stream",
     "text": [
      "False\n"
     ]
    }
   ],
   "source": [
    "import os\n",
    "\n",
    "print(os.path.exists(\"easy.fasta\"))"
   ]
  },
  {
   "cell_type": "code",
   "execution_count": 15,
   "metadata": {},
   "outputs": [
    {
     "name": "stdout",
     "output_type": "stream",
     "text": [
      "True\n"
     ]
    }
   ],
   "source": [
    "import os\n",
    "\n",
    "print(os.path.exists(\"horrible.fasta\"))"
   ]
  },
  {
   "cell_type": "code",
   "execution_count": 16,
   "metadata": {},
   "outputs": [
    {
     "name": "stdout",
     "output_type": "stream",
     "text": [
      "True\n"
     ]
    }
   ],
   "source": [
    "import os\n",
    "\n",
    "print(os.path.isfile(\"horrible.fasta\"))"
   ]
  },
  {
   "cell_type": "code",
   "execution_count": 17,
   "metadata": {},
   "outputs": [
    {
     "name": "stdout",
     "output_type": "stream",
     "text": [
      "True\n"
     ]
    }
   ],
   "source": [
    "import os\n",
    "\n",
    "print(os.path.isdir(\"newFolder\"))"
   ]
  },
  {
   "cell_type": "markdown",
   "metadata": {},
   "source": [
    ">This should print false if you haven't already created this directory"
   ]
  },
  {
   "cell_type": "code",
   "execution_count": 6,
   "metadata": {},
   "outputs": [
    {
     "name": "stdout",
     "output_type": "stream",
     "text": [
      "True\n"
     ]
    }
   ],
   "source": [
    "import os\n",
    "\n",
    "if not os.path.isdir(\"newFolder\"):\n",
    "    os.mkdir(\"newFolder\")\n",
    "print(os.path.isdir(\"newFolder\"))"
   ]
  },
  {
   "cell_type": "markdown",
   "metadata": {},
   "source": [
    "> If the last question was false, we created the directory so the output should be true"
   ]
  },
  {
   "cell_type": "code",
   "execution_count": 8,
   "metadata": {},
   "outputs": [
    {
     "name": "stdout",
     "output_type": "stream",
     "text": [
      "horrible.fasta\n"
     ]
    }
   ],
   "source": [
    "import os\n",
    "\n",
    "fullPath = os.path.abspath(\"horrible.fasta\")\n",
    "print(os.path.basename(fullPath))"
   ]
  },
  {
   "cell_type": "markdown",
   "metadata": {},
   "source": [
    "---\n",
    "## 2. Guess the command line output: argparse and sys practice (1pt)\n",
    "\n",
    "The following cells run the script `madlibs.py` on the command line. Open the script in your text editor to read the code. \n",
    "\n",
    "For each command,\n",
    "1. If you expect no errors:\n",
    " * state whether output will be sent to standard output or standard error\n",
    " * guess what the output will be\n",
    "2. Otherwise, if you expect an error, please explain why you expect that\n",
    "3. Run the code yourself by copying and pasting the code to the command line. \n",
    "\n",
    "Points will be given for filling in the guesses; guessing wrong won't be penalized.\n",
    "\n",
    "**Note**: that you may need to add a path to `madlibs.py` or make sure that the script is in the current directory"
   ]
  },
  {
   "cell_type": "raw",
   "metadata": {},
   "source": [
    "python madlibs.py -n Bob Patrick rock scissors"
   ]
  },
  {
   "cell_type": "markdown",
   "metadata": {},
   "source": [
    "Answer: \n",
    "\n",
    "[prints to standard out]   \n",
    "\n",
    "Bob and Patrick are friends.\n",
    "They decide to play rock, paper, scissors.\n",
    "Bob chose rock and Patrick chose scissors. Bob won.\n"
   ]
  },
  {
   "cell_type": "raw",
   "metadata": {},
   "source": [
    "python madlibs.py rock rock -n Krabs Pearl -a 45 18"
   ]
  },
  {
   "cell_type": "markdown",
   "metadata": {},
   "source": [
    "Answer:\n",
    "\n",
    "[prints to standard out]\n",
    "\n",
    "Krabs and Pearl are friends.\n",
    "Krabs is 45 years old.\n",
    "Pearl is 18 years old.\n",
    "They decide to play rock, paper, scissors.\n",
    "Both chose rock and they tied."
   ]
  },
  {
   "cell_type": "raw",
   "metadata": {},
   "source": [
    "python madlibs.py -n Sheldon Karen -a 42 3.14 paper rock"
   ]
  },
  {
   "cell_type": "markdown",
   "metadata": {},
   "source": [
    "Answer: This prints an error since the optional \"ages\" parameter must be an int and `3.14` is a float."
   ]
  },
  {
   "cell_type": "raw",
   "metadata": {},
   "source": [
    "python madlibs.py -n Sheldon Karen"
   ]
  },
  {
   "cell_type": "markdown",
   "metadata": {},
   "source": [
    "Answer: This prints an error since the `move_by_p1` and `move_by_p2` argparse parameters are positional arguments."
   ]
  },
  {
   "cell_type": "raw",
   "metadata": {},
   "source": [
    "python madlibs.py paper rock"
   ]
  },
  {
   "cell_type": "markdown",
   "metadata": {},
   "source": [
    "Answer: This prints an error since the `names` argparse parameter is set to required."
   ]
  },
  {
   "cell_type": "raw",
   "metadata": {},
   "source": [
    "python madlibs.py -n Sandy Gary -a 45 18 Rock paper"
   ]
  },
  {
   "cell_type": "markdown",
   "metadata": {},
   "source": [
    "Answer: This prints an error since the argparse options for `move_by_p1` are \"rock\", \"paper\", and \"scissor\". Python is case-sensitive so \"ROCK\" is not included in this list"
   ]
  },
  {
   "cell_type": "markdown",
   "metadata": {},
   "source": [
    "python madlibs.py -n Squidward Squidward -a 45 18 scissors paper"
   ]
  },
  {
   "cell_type": "markdown",
   "metadata": {},
   "source": [
    "Answer: \n",
    "    \n",
    "[prints to standard error]    \n",
    "`>>> ERROR: people argument cannot have the same name`"
   ]
  },
  {
   "cell_type": "raw",
   "metadata": {},
   "source": [
    "python madlibs.py paper paper -n Puff Larry -a 20"
   ]
  },
  {
   "cell_type": "markdown",
   "metadata": {},
   "source": [
    "Answer: Error, `ages` parameter expects 2 arguments"
   ]
  },
  {
   "cell_type": "markdown",
   "metadata": {},
   "source": [
    "---\n",
    "## 3. Creating your module file (1pt)\n",
    "\n",
    "\n",
    "Up until now, we've created all of our functions inside the Jupyter notebook. However, in order to use your functions across different scripts, it's best to put them into a separate file. Then you can load this file from anywhere with a single line of code and have access to all your custom functions!\n",
    "\n",
    "**Do the following:**\n",
    "- Open up your plain-text editor. \n",
    "- Copy and paste the functions below into a blank file (you may recognize them from previous homeworks) and save it as **my_utils.py** (don't forget the .py extension). Save it anywhere on your computer.\n"
   ]
  },
  {
   "cell_type": "code",
   "execution_count": null,
   "metadata": {},
   "outputs": [],
   "source": [
    "def gc(seq):\n",
    "    gcCount = seq.count(\"C\") + seq.count(\"G\")\n",
    "    gcFrac = float(gcCount) / len(seq)\n",
    "    \n",
    "    return round(gcFrac,2)\n",
    "\n",
    "def rand_seq(length):\n",
    "    import random\n",
    "    \n",
    "    nts = ['A','C','G','T']\n",
    "    seq = \"\"\n",
    "    for i in range(length):\n",
    "        seq = seq + random.choice(nts)\n",
    "    \n",
    "    return seq\n",
    "\n",
    "def shuffle_nt(seq):\n",
    "    import random\n",
    "    \n",
    "    strList = list(seq)\n",
    "    random.shuffle(strList)\n",
    "    shuffSeq = \"\".join(strList)\n",
    "    \n",
    "    return shuffSeq\n",
    "\n",
    "def reverse_compl(seq):\n",
    "    complements = {'A':'T', 'C':'G', 'G':'C', 'T':'A'}\n",
    "    compl = \"\"\n",
    "    for char in seq:\n",
    "        compl = complements[char] + compl\n",
    "    \n",
    "    return compl\n",
    "\n",
    "def read_fasta(fileName):\n",
    "    ins = open(fileName, 'r')\n",
    "    seqDict = {}\n",
    "    activeID = \"\"\n",
    "\n",
    "    for line in ins:\n",
    "        line = line.rstrip('\\r\\n')\n",
    "        \n",
    "        if line[0] == \">\":\n",
    "            activeID = line[1:] \n",
    "            if activeID in seqDict:\n",
    "                print (\">>> Warning: repeat id:\", activeID, \"-- overwriting previous ID.\")\n",
    "            seqDict[activeID] = \"\"\n",
    "            \n",
    "        else:\n",
    "            seqDict[activeID] += line \n",
    "    \n",
    "    ins.close()    \n",
    "    \n",
    "    return seqDict"
   ]
  },
  {
   "cell_type": "markdown",
   "metadata": {},
   "source": [
    "Some notes:\n",
    "- You need to supply the path *relative to where this notebook is*. See the slides for some examples on how to specify paths.\n",
    "- You can use this method to import your functions from *anywhere* on your computer! In contrast, the regular `import` function will only find custom functions that are in the same directory as the current notebook/script."
   ]
  },
  {
   "cell_type": "code",
   "execution_count": 8,
   "metadata": {},
   "outputs": [
    {
     "name": "stdout",
     "output_type": "stream",
     "text": [
      "Test my_utils.gc(): 0.62\n",
      "Test my_utils.reverse_compl(): TTTGAATTTGCATCGACCCC\n",
      "Test my_utils.read_fasta(): {'varlen2_uc007xie.1_4456': 'ACACCGGCTGAAACAGCTGGCAGCACCACAGGCCCAGCTGTAAGCACAACCTCTGCTGGTTCCACATCTGCAAGAGCCGCCACCACCTCCCCAGGAGGTT', 'varlen2_uc010mlp.1_79': 'CCGCGCAGCGCCTACCCTTTCCTCGCTCCGGGCCGGCAGTGTGGGGCGGCGCGCTGGGGGCGCGGCGTGTCTGGGGACATCTTGTGATGTTGGCGAGAACAGGACATGATCTCACATGGCGAGAAGCTCTTTAGTTCCTTAATCATTTCACGGTGCCTTCGGACGCTTTTTTTCCACCTAAAACGTTTAGTTTCAGCTCAGTGATCAG', 'varlen2_uc009div.2_242': 'CCAACGGTCATCAAGAGAAGTGCGCCTTCCTCCTCAAACCGACGCGAGGGACGTTCCTTAGGGGT', 'varlen2_uc003its.2_2976': 'CGCCCACCTGGATGTCCCAAAGTGCTAGATTCCATGGAATTTTCCTGCATGGAGTGCTACATCCTCTTGTTCCAGTCTCAGCTGGCTGCTCCGTGGGCATACTTCATACCTTTCATCACAGAGCTTTGCTTGGCCTCTCTCCTGTGTGTAATCTCTGTTTCTTGGATCCTGTGCTTACC', 'varlen2_uc003nvg.4_2466': 'CTCGGGCTGGCAGCAGTGAAAGTATTGCT', 'varlen2_uc029ygd.1_73': 'AGAAGAATGGCTCTTAAGAAATTGAAGGTGATAC', 'varlen2_uc007kxx.1_2963': 'TGTGTACAAAGATCAAATATCAGTATTGCCAAATGAACAAGACCTTGCGAGAGAAGAAGCTCAGAAAAT', 'varlen2_uc007nte.2_374': 'GGACTGACCTCTGTCTTCCAGATTCAAGTGCTACTGCTTTCTCAGCTTCTGGAGATGGTGTAGTTTCAAGAAACCAGAGTTTCCTGAGAACTGCAATTCAAAGGACACCTCATGAAGTAATGAGAAGAGAAAGCCACAGACTGTCTGCCCCTTCTTACCTTGTCAGGAGCCTAGCAGATGTCCCTCGAGAGTGTGGCTCATCACAGTCATTTTTGACAGAAGTTAACTTTGCTGTTGAGAATGGAGACTCTGGCTCCCGATACTTCTTCTCAGATAACTTTTTTGATGGACAGAGAAGGCGGCCACTTGGAGATCGTGCACAAGAAGATTACAGATATTATGAATACAACCATGATCTCTTCCAGAGGATGCCACAGAGTCAGGGGAGGCACACTTCAGGTATTGGGAGAGTCACGGCTACATCTCTAGGGAATTTAACTAACCATGG', 'varlen2_uc009wph.3_423': 'AAGGGGGTTTTCTGGGCCTCTCCAATATTAAGTTCAGGCCAGGATCTGTGGTGGTACAATTGACTCTGGCCTTCCGAGAAGGTAC', 'varlen2_uc010osx.2_1007': 'CAAATTTGATGGGAAGAGGTTCCAGAATGTTGTCAAGGAAGGAATGAAGTTTGATAAAAGTGAGAAAACTAAGGAGAGTCATGAAGCAGTTGAGAAAGAATTTGAGCCTCTGCTCAATTGGATGAAAGATAAAGCCCTTAAGGACAAAATTGAGAAGGCTGTGGTGTCTCAGCACCTGACAGAATCTCTGTGTGCTTTG', 'varlen2_uc001pmn.3_3476': 'TCTTACTATTATGTGGAATTTAACTTTTCAGAGAAAATTTCCAAAGTCCTCTACCTTATTTGGCTTTTATCTGTGTCTTTTGGAAAAGGAGCTGCATGGCCTCAGTGCCTCCATAAAAAGCTTAAGTTGAGTTCATGGGAGAACATTAAGATCGTTTTTTTTCCCTTTTAGCTCGGTAATCTCATGTACCACAGGTAATGACCAAGCATCTCTGCTAGAGGATGTAACTCTCATAACTCCTGTGTAAAATGAGGATCCTGTTGGTGATCCTCATTCCAGTTTCCAAAGC', 'varlen2_uc003khi.3_3': 'CACTATGTGCTTCCGGTCTCCAATACCGCAGGAGGGCGGTCTTCCCCGGCTCGCCAACTCGGCTGCTCTGGGGGATTCGTGCGCGGTACCACTGATGAAATTATGACCAGGTGGGCCCGAGTTAGTACCACATATAACAAGAGACCCTTGCCTGCAACATCATGGGAGGACATGAAGAAGGGATCCTTTGAGGGAACAAGCCAAAACCTACCAAAGCGTAAACAACTTGAAGCCAATAGGCTATCCCTCAAAAATGATGCACCCCAAGCAAAACATAAAAAGAACAAAAAGAAAAAAGAGTACTTAAATGAAGATGTGAATGGATTCATGGAATACCTAAGACAGAATTCACAGATGGTTCACAATGGGCAAATTATAGCAACAGACAGTGAGGAAGTAAGGGAAGAAATTGCAGTTGCTTTAAAGAAAGACAGTCGACGGGAAGGAAGAAGATTAAAA', 'varlen2_uc001agr.3_7': 'TCGCTGCGCTGGGCCTCTCGGCGGTCCCCCCCACCCGGGTCCCGGGCCC', 'varlen2_uc011moe.2_5914': 'CTGAGGTCTAACATTGTTATCCTATATCATTTTCATCCCAAGTAGTGATATCTGTGAAATCACAGGTTTGATGTGTGCTAATTATGTATTCTTCTAATACATATTAAAAGACATAACTATCAAAACAAAATAAATTTGTCTGTTTTCAACCAAAGAAGTCACGTACCACTGGTGGTACTGTGTGCCATAATTTGGCAAATGCTGGCCTTTATGGACGAGCACAATTCGGGGGTCAGACCTGGTTCAAATTCTAGCTGTAGAAACTTGTGCAAGTTACTTCACCTCTGAGCCTAAGTTTCCACATCTGTAAAAGGAGATAATAAACACCTACCTTGCAGTAGTGAAGCAAAGAGAAAATTAAATATATATGAAG', 'varlen2_uc003hyy.2_273': 'CCACTCTGGAAATCTT', 'varlen2_uc007fws.1_377': 'AAACCAGTCCCGGAAAGG', 'varlen2_uc003pij.1_129': 'GATTTTATTATGGCAGAAGTCAATTT', 'varlen2_uc002wkt.1_1569': 'AGGCTCAGCCCGCTGGAGCATGAGCTCTGTGTGTACCGAGAACTGGGGTGATGTTTTACTTTTCACAGTATGGGCTACACAGCAGCTGTTCA', 'varlen2_uc010suq.2_3895': 'TAAGATGTCAGTATTCTCCTCATGGATATTTTCAGTCTCAATGTTGCCAGTCTAATAGTATAGTATGTGGTTGCTTTACTGCTGTTCTCCCCACCCCCGTGGAGTTGTGTCATTATTTTAATGAATGTGAGCTCTTGACTTACTCTAGAATTCTAATACAGATACTTTCTGCACTAGTATCACTTTTATTATTGCAGTTCCATTTAAAAGCATAACTGGCTAAGTCACCGCCCCACCCGCCGCATTACATTTCCTAAAACATACTGCTGCCAAAGACCAACTGTAGAATCCTTAAGTCCTGTTCAAGTGTCACTTCATTTTTTATTAGGGGTTTCTTAGTTGGAGGGCATGAGAAACTTGGCCCTTTCCAATGTTGTCTTCACATTGGAGTATAAGAATTCTCTATAGGACTCTTTAATTTTTTTTTTTTTTTGGTAGAGATGGGGTCTTGCTGTGTTGCCCAGGCTGGTCTCAAACTCCTAGGCTTAAGC', 'varlen2_uc021qfk.1>2_1472': 'CCTTGGATAAGGAAATTACATCAGCAAATTATGCTGGTGTCTGTACATCATCTGTGATTAAAGAAGAAAACATTGA', 'varlen2_uc003yos.2_1634': 'CCATCAGGAAAATGCTTTTTCCAGGGAGACCACGGATTTGATAACAAGGTCAACAGCATGCAGACTGTTTTTGTAGGTTATGGCTCAACATTTAAGTACAAGACTAAAGTGCCTCCATTTGAAAACATTGAACTTTACAATGTTATGTGTGATCTCCTGGGATTGAAGCCAGCTCCTAATAATGGGACCCATGGAAGTTTGAATCATCTCCTGCGCACTAATACCTTCAGGCCAACCATGC', 'varlen2_uc009bxt.1_1728': 'AGAAGAAGGTTTTTATGAGTTAATTTTACCCATAAATATTTCAGTAATTTTGGAGTGGAAGTTGGGTTGCTAACATCAGAGCTCATGTTCATGTTTTAGAAGCCCTTTCTTTCTAGGTGTCTCTCAAAAGACTGGCTTAATTGGAATAAAATAGCTTTTTTTTTTTAAGTGTCCCAAAGATAAGATATCTTGGGGTCCACCATGAGCTTCCAGTTTCAGCCGAGGCAGCAGTTTTCCTGGGATAATTAGCCAAGGGTTCCCCAGAGTCTTCCTAGGTATCTCTGGGAACCAGCAGAAGGAATTTTCACCTA'}\n",
      "Test my_utils.rand_seq(): CCTGAAAACTCAACAGCACTTAG\n",
      "Test my_utils.shuffle_nt(): AGCATCAAATCAT\n",
      "\n",
      "If the above produced no errors, then you're good!\n"
     ]
    }
   ],
   "source": [
    "import sys\n",
    "sys.path.append('../utilities/') #CHANGE THIS PATH TO FIND THE MODULE\n",
    "import my_utils \n",
    "\n",
    "# test that this worked\n",
    "print (\"Test my_utils.gc():\", my_utils.gc(\"ATGGGCCCAATGG\"))\n",
    "print (\"Test my_utils.reverse_compl():\", my_utils.reverse_compl(\"GGGGTCGATGCAAATTCAAA\"))\n",
    "print (\"Test my_utils.read_fasta():\", my_utils.read_fasta(\"horrible.fasta\"))\n",
    "print (\"Test my_utils.rand_seq():\", my_utils.rand_seq(23))\n",
    "print (\"Test my_utils.shuffle_nt():\", my_utils.shuffle_nt(\"AAAAAAGTTTCCC\"))\n",
    "\n",
    "print (\"\\nIf the above produced no errors, then you're good!\")"
   ]
  },
  {
   "cell_type": "markdown",
   "metadata": {},
   "source": [
    "Feel free to use these functions (and any others you've created) to solve the problems below. You can see in the test code above how they can be accessed."
   ]
  },
  {
   "cell_type": "markdown",
   "metadata": {},
   "source": [
    "---\n",
    "## 4. Command line arguments (17pts)\n",
    "\n",
    "**Note: Do the following in a SCRIPT, not in the notebook**. You can not use command line arguments within Jupyter notebooks.\n",
    "\n",
    "After testing your code as a script, copy and paste it here for grading purposes only."
   ]
  },
  {
   "cell_type": "markdown",
   "metadata": {},
   "source": [
    "**(A)** (1pt) Write a script that expects 4 arguments, and prints those four arguments to the screen. Test this script by running it (on the command line) as shown in the lecture. Copy and paste the code below once you have it working."
   ]
  },
  {
   "cell_type": "code",
   "execution_count": null,
   "metadata": {},
   "outputs": [],
   "source": [
    "import argparse\n",
    "\n",
    "parser=argparse.ArgumentParser()\n",
    "parser.add_argument(\"var1\")\n",
    "parser.add_argument(\"var2\")\n",
    "parser.add_argument(\"var3\")\n",
    "parser.add_argument(\"var4\")\n",
    "args=parser.parse_args()\n",
    "\n",
    "print(args.var1)\n",
    "print(args.var2)\n",
    "print(args.var3)\n",
    "print(args.var4)"
   ]
  },
  {
   "cell_type": "markdown",
   "metadata": {},
   "source": [
    "**(B)** (8pts) Recall the quadratic formula is defined as:"
   ]
  },
  {
   "cell_type": "markdown",
   "metadata": {},
   "source": [
    "$$ x = \\frac{-b \\pm \\sqrt{b^2 - 4ac}}{2a} $$"
   ]
  },
  {
   "cell_type": "markdown",
   "metadata": {},
   "source": [
    "In lab2 question 4, you wrote code to calculate the quadratic formula for a given a, b, and c. "
   ]
  },
  {
   "cell_type": "code",
   "execution_count": null,
   "metadata": {},
   "outputs": [],
   "source": [
    "a = float(input(\"Enter value for a: \"))\n",
    "b = float(input(\"Enter value for b: \"))\n",
    "c = float(input(\"Enter value for c: \"))\n",
    "\n",
    "underRoot = (b**2 - 4*a*c)\n",
    "\n",
    "if underRoot >= 0:\n",
    "    x1 = ( (-b) + underRoot ** 0.5 ) / float(2*a)\n",
    "    x2 = ( (-b) - underRoot ** 0.5 ) / float(2*a)\n",
    "    print (\"x =\", x1, \"or\", x2)\n",
    "else:\n",
    "    print (\"non-real answer\")"
   ]
  },
  {
   "cell_type": "markdown",
   "metadata": {},
   "source": [
    "Write a script that expects 3 float arguments from the command line and outputs both possible values for x (that is, the values produced by doing + or - for the $\\pm$) to **standard output** rounded to 3 decimal places. \n",
    "\n",
    "In lab2, your code printed \"non-real answer\" if $b^2 - 4ac$ is negative. However, your script should instead send an error message to **standard error** and exit."
   ]
  },
  {
   "cell_type": "markdown",
   "metadata": {},
   "source": [
    "**[ Check your answer ]** \n",
    "- If a=1, b=4, and c=1, expected standard output is:\n",
    "```\n",
    "x = -0.268 or -3.732\n",
    "```\n",
    "- If a=2, b=2, and c=2, expected standard error is:\n",
    "```\n",
    ">>>Error: non-real answer. Exiting.\n",
    "```"
   ]
  },
  {
   "cell_type": "code",
   "execution_count": null,
   "metadata": {},
   "outputs": [],
   "source": [
    "import argparse, sys\n",
    "\n",
    "parser=argparse.ArgumentParser(\n",
    "    description=\"return the quadratic formula\")\n",
    "parser.add_argument(\"a\", type=float)\n",
    "parser.add_argument(\"b\", type=float)\n",
    "parser.add_argument(\"c\", type=float)\n",
    "args=parser.parse_args()\n",
    "\n",
    "a = args.a\n",
    "b = args.b\n",
    "c = args.c\n",
    "underRoot = (b**2 - 4*a*c)\n",
    "if underRoot >= 0:\n",
    "    x1 = ( (-b) + underRoot ** 0.5 ) / float(2*a)\n",
    "    x2 = ( (-b) - underRoot ** 0.5 ) / float(2*a)\n",
    "    x1 = round(x1,3)\n",
    "    x2 = round(x2,3)\n",
    "    sys.stdout.write(\"x = {x1} or {x2}\\n\".format(x1=x1,x2=x2))\n",
    "else:\n",
    "    sys.exit(\">>>Error: non-real answer. Exiting.\")"
   ]
  },
  {
   "cell_type": "markdown",
   "metadata": {},
   "source": [
    "**For grading purposes only**\n",
    "- 1 point if the 3 arguments are required in argparse\n",
    "- 1 point if code prints values of x\n",
    "- 1 point if code prints correct values of x\n",
    "- 1 point if values of x are round to 3 decimal places\n",
    "- 1 point if code prints error message\n",
    "- 1 point if values of x are printed to standard output\n",
    "- 1 point if error is printed to standard error\n",
    "- 1 point if student specifies floats in `add_argument`\n",
    "- Comment if they did or did not put a description in `argparse.ArgumentParse`"
   ]
  },
  {
   "cell_type": "markdown",
   "metadata": {},
   "source": [
    "**(C)** (8pts) Here you will create a script that generates a random dataset of sequences. \n",
    "\n",
    "**Your script should expect the following command line arguments, in this order.**\n",
    "1. outFile - string; name of the output file the generated sequences will be printed to\n",
    "1. numSeqs - integer; number of sequences to create\n",
    "1. minLength - integer; minimum sequence length\n",
    "1. maxLength - integer; maximum sequence length\n",
    "\n",
    "**Using these arguments, your script will print the indicated number of randomly generated sequences as follows:**\n",
    "- the length of each individual sequence should be randomly chosen to be between minLength and maxLength (so that not all sequences are the same length)\n",
    "- each sequence should be given a unique ID (e.g. using a counter to make names like seq1, seq2, ...)\n",
    "- the output should be in fasta format (>seqID\\nsequence\\n)\n",
    "- the output shold be printed to the indicated file\n",
    "\n",
    "Then, run your script to create a file called `fake.fasta` containing 100,000 random sequences of random length 50-500 nt.\n",
    "\n",
    "**Hint: You can utilize the module you created in question 1**\n",
    "\n",
    "Copy and paste your code below once you have it working."
   ]
  },
  {
   "cell_type": "code",
   "execution_count": null,
   "metadata": {},
   "outputs": [],
   "source": [
    "import sys, random, argparse\n",
    "sys.path.append('../utilities/') #CHANGE THIS PATH IF SCR\n",
    "import my_utils\n",
    "\n",
    "parser=argparse.ArgumentParser(\n",
    "    description=\"generates a random dataset of sequences\")\n",
    "parser.add_argument(\"outFile\", type=str,\n",
    "                   help=\"name of the output file the \\\n",
    "                   generated sequences will be printed to\")\n",
    "parser.add_argument(\"numSeqs\", type=int, \n",
    "                    help=\"number of sequences to create\")\n",
    "parser.add_argument(\"minLength\", type=int,\n",
    "                   help=\"minimum sequence length\")\n",
    "parser.add_argument(\"maxLength\", type=int,\n",
    "                   help=\"maximum sequence length\")\n",
    "args=parser.parse_args()\n",
    "\n",
    "outs = open(args.outFile, 'w')\n",
    "for i in range(args.numSeqs):\n",
    "    randLen = random.randint(args.minLength, args.maxLength)\n",
    "    randSeq = my_utils.rand_seq(randLen)\n",
    "    seqName = \"seq\" + str(i)\n",
    "    outs.write(\">\" + seqName + \"\\n\" + randSeq + \"\\n\")\n",
    "\n",
    "outs.close()"
   ]
  },
  {
   "cell_type": "markdown",
   "metadata": {},
   "source": [
    "**For grading purposes only**\n",
    "- 1 point if the 4 arguments are required in argparse\n",
    "- 1 point if code executes without any errors\n",
    "- 1 point if code write output to `outFile`\n",
    "- 1 point if sequence sizes are random lengths\n",
    "- 1 point if sequence sizes are between `minLength` and `maxLength`\n",
    "- 1 point if code output `numSeqs` sequences\n",
    "- 1 point if student specifies ints and strings in `add_argument` for each argument respectively\n",
    "- 1 point if code is perfectly executed\n",
    "- Comment if they did or did not put a description in `argparse.ArgumentParse`\n",
    "- Comment if they did or did not put write a help string for each argument"
   ]
  },
  {
   "cell_type": "markdown",
   "metadata": {},
   "source": [
    "---\n",
    "## 5. More `os` practice (6pts)\n",
    "\n",
    "Use `horrible.fasta` as a test fasta file for the following."
   ]
  },
  {
   "cell_type": "markdown",
   "metadata": {},
   "source": [
    "**(A)** **Note: Do the following in a SCRIPT, not in the notebook**. You can not use command line arguments within Jupyter notebooks.\n",
    "\n",
    "After testing your code as a script, copy and paste it here for grading purposes only.\n",
    "\n",
    "Write a script that takes two positional arguments: an input file name (assumed to be a fasta file) and an output folder name (does not need to already exist). Then do the following:\n",
    "- Check if the input file exists\n",
    "- If it doesn't, print an error message\n",
    "- Otherwise, go on to check if the output folder exists\n",
    "- If it doesn't, create it"
   ]
  },
  {
   "cell_type": "code",
   "execution_count": null,
   "metadata": {},
   "outputs": [],
   "source": [
    "import sys, os, argparse\n",
    "\n",
    "parser=argparse.ArgumentParser(\n",
    "    description=\"check file existance\")\n",
    "parser.add_argument(\"inputFile\", type=str,\n",
    "                   help=\"an input file name\")\n",
    "parser.add_argument(\"outputFolder\", type=str, \n",
    "                    help=\"output folder name\")\n",
    "args=parser.parse_args()\n",
    "\n",
    "\n",
    "# check if input file / output directory exist\n",
    "if not os.path.exists(args.inputFile):\n",
    "    err_msg = (\">>Error: input file (%s) does not exist. Exiting.\" \n",
    "        % args.inputFile)\n",
    "    sys.exit(err_msg)\n",
    "    \n",
    "# if output directory does not exist\n",
    "# create output directory\n",
    "if not os.path.exists(args.outputFolder):\n",
    "    print (\"Creating output folder (%s)\"\n",
    "           % args.outputFolder)\n",
    "    os.mkdir(args.outputFolder)"
   ]
  },
  {
   "cell_type": "markdown",
   "metadata": {},
   "source": [
    "**(B)** Add to the code above so that it also does the following after creating the output folder:\n",
    "- Read in the fasta file (**ONLY** if it exists) \n",
    "- Print each individual sequence to a separate file **in the specified output folder**. \n",
    "- The files should be named `<SEQID>.fasta`, where `<SEQID>` is the name of the sequence (from the fasta header)"
   ]
  },
  {
   "cell_type": "code",
   "execution_count": null,
   "metadata": {},
   "outputs": [],
   "source": [
    "import sys, os, argparse\n",
    "sys.path.append('../utilities/') #CHANGE THIS PATH IF SCR\n",
    "import my_utils\n",
    "\n",
    "parser=argparse.ArgumentParser(\n",
    "    description=\"check file existance\")\n",
    "parser.add_argument(\"inputFile\", type=str,\n",
    "                   help=\"an input file name\")\n",
    "parser.add_argument(\"outputFolder\", type=str, \n",
    "                    help=\"output folder name\")\n",
    "args=parser.parse_args()\n",
    "\n",
    "# check if input file / output directory exist\n",
    "if not os.path.exists(args.inputFile):\n",
    "    err_msg = (\">>Error: input file (%s) does not exist. Exiting.\" \n",
    "        % args.inputFile)\n",
    "    sys.exit(err_msg)\n",
    "    \n",
    "# if output directory does not exist\n",
    "# create output directory\n",
    "if not os.path.exists(args.outputFolder):\n",
    "    print (\"Creating output folder (%s)\"\n",
    "           % args.outputFolder)\n",
    "    os.mkdir(args.outputFolder)\n",
    "    \n",
    "# read in sequences from fasta file & print to separate output files\n",
    "# you'll may get an error for one of them because there's a \">\" in the sequence id,\n",
    "# which is not allowed in a file name. you can handle this however you want.\n",
    "# here I used a try-except statement and just skipped the problematic file (with a warning message)\n",
    "seqs = my_utils.read_fasta(args.inputFile)\n",
    "for seqID in seqs:\n",
    "    outFile = (\"%s/%s.fasta\" % (args.outputFolder, seqID))\n",
    "    outStr = (\">%s\\n%s\\n\" % (seqID, seqs[seqID]))\n",
    "    \n",
    "    try:\n",
    "        outs = open(args.outFile, 'w')\n",
    "        outs.write(outStr)\n",
    "        outs.close()\n",
    "    except IOError:\n",
    "        sys.stderr.write(\">>Warning: Could not print (%s) file. Skipping.\" % outFile)\n",
    "    "
   ]
  },
  {
   "cell_type": "markdown",
   "metadata": {},
   "source": [
    "---\n",
    "## Extra Problem: `re` practice\n",
    "\n",
    "> Note that we did not go over the `re` module in class, but there are extra slides at the end of the lecture slides that explain the `re` module. Here are questions relavent to the `re` module. These questions will not give you any more or less points."
   ]
  },
  {
   "cell_type": "markdown",
   "metadata": {},
   "source": [
    "**(A)** We use restriction enzyme to cut a specific parts of a genomic sequence. The BisI restriction enzyme recognition site is GCNGC where N can be any base. Create a method that prints \"restriction site found!\" if a sequence has an BisI restriction enzyme recognition site."
   ]
  },
  {
   "cell_type": "code",
   "execution_count": 40,
   "metadata": {},
   "outputs": [],
   "source": [
    "import re \n",
    "\n",
    "def bisi_site(seq):\n",
    "    if re.search(r\"GC[ATCG]GC\", seq):\n",
    "        print(\"restriction site found!\")"
   ]
  },
  {
   "cell_type": "markdown",
   "metadata": {},
   "source": [
    "**(B)** An RNA sequence has the following pattern:\n",
    "* Starts with a Start Codon AUG\n",
    "* Contains about 30-1000 bases which can be A, U, G, or C\n",
    "* Ends with a poly-A tail of about 5-10 bases at the end of the sequences\n",
    "Write a function `check_rna_seq` that search a string for this patterns. Return the string \"RNA found\" if the sequence is an RNA. Otherwise return \"no RNA found\"."
   ]
  },
  {
   "cell_type": "code",
   "execution_count": 69,
   "metadata": {},
   "outputs": [],
   "source": [
    "def check_rna_seq(seq):\n",
    "    if re.search(r\"^AUG[AUGC]{30,1000}A{5,10}$\",seq):\n",
    "        return(\"RNA found\")\n",
    "    else:\n",
    "        return(\"no RNA found\")"
   ]
  },
  {
   "cell_type": "markdown",
   "metadata": {},
   "source": [
    "Run the unit test below to show that your `check_rna_seq` functions work. "
   ]
  },
  {
   "cell_type": "code",
   "execution_count": 85,
   "metadata": {},
   "outputs": [
    {
     "name": "stdout",
     "output_type": "stream",
     "text": [
      "check_rna_seq:PASSED\n"
     ]
    }
   ],
   "source": [
    "##### testing check_rna_seq\n",
    "rna=\"AUGGGGGUCGAUGCAAAUUCAAAGGGGUCGAUGCAAAUUCAAAGGGGUCGAGAGAUUUAUGCAAAUUCAAAAA\"\n",
    "if (rna) == \"no RNA found\":\n",
    "    print(\"Problem with check_rna_seq: answer (%s) has RNA format\" % rna)\n",
    "elif check_rna_seq(rna+\"AAAAA\") == \"no RNA found\":\n",
    "    print(\"Problem with check_rna_seq: answer (%s) has RNA format\" % rna)\n",
    "elif rna_check[1:] == \"RNA found\":\n",
    "    print (\"Problem with check_rna_seq: should fail if START codon is unavailable\")\n",
    "elif check_rna_seq(\"AUGCCCCCCCCCCCCCCCCCCCCCCCCCCCCCCAAAA\") == \"RNA found\":\n",
    "    print (\"Problem with check_rna_seq: should fail if there are less than 5 adenines at the end\")\n",
    "elif check_rna_seq(\"AUG\"+\"C\"*1000+\"AAAAAAAAAAA\") == \"RNA found\":\n",
    "    print (\"Problem with check_rna_seq: should fail if there are more than 5 adenines at the end\")\n",
    "elif check_rna_seq(rna*100) == \"RNA found\":\n",
    "    print (\"Problem with check_rna_seq: should fail if sequence is >1013 bp\")\n",
    "else:\n",
    "    print (\"check_rna_seq:PASSED\")"
   ]
  },
  {
   "cell_type": "markdown",
   "metadata": {},
   "source": [
    "**(C)** Prompt the user to input a password. Make sure that the password is\n",
    "* at least 8 characters long \n",
    "* contains at least one numeric character. \n",
    "\n",
    "Otherwise print a warning message and ask for a different password."
   ]
  },
  {
   "cell_type": "code",
   "execution_count": 29,
   "metadata": {},
   "outputs": [
    {
     "name": "stdout",
     "output_type": "stream",
     "text": [
      "Please insert a password (must contain at least one numeric charcter):\n",
      "12345678\n",
      ">> Warning: you need a longer password.\n",
      "Great!\n"
     ]
    }
   ],
   "source": [
    "import re \n",
    "password=\"\"\n",
    "\n",
    "while not (len(password) >= 8 and re.search(r\"[0-9]\", password)):\n",
    "    password=input(\"Please insert a password \"+\n",
    "               \"(must contain at least one numeric charcter):\\n\")\n",
    "        \n",
    "    if not re.search(r\"[0-9]\", password):\n",
    "        print(\">> Warning: you need a numeric character.\")\n",
    "    if not len(password) > 8:\n",
    "        print(\">> Warning: you need a longer password.\")\n",
    "print(\"Great!\")"
   ]
  },
  {
   "cell_type": "markdown",
   "metadata": {},
   "source": [
    "---\n",
    "## Extra Problem: `time` practice\n",
    "\n",
    "> Note that we did not go over the `time` module in class, but there are extra slides at the end of the lecture slides that explain the `time` module. Here are questions relavent to the `time` module. These questions will not give you any more or less points.\n",
    "\n",
    "For the following problems, use the file you created in problem 2 (`fake.fasta`) and the `time.time()` function. (Note: there is also a copy of `fake.fasta` on Piazza if you need it.)\n",
    "\n",
    "**Note: Do not include the time it takes to read the file in your time calculation! Loading files can take a while.**"
   ]
  },
  {
   "cell_type": "markdown",
   "metadata": {},
   "source": [
    "**(A) Initial practice with timing.** Add code to the following cell to time how long it takes to run. Print the result."
   ]
  },
  {
   "cell_type": "code",
   "execution_count": 10,
   "metadata": {},
   "outputs": [
    {
     "name": "stdout",
     "output_type": "stream",
     "text": [
      "5.347170352935791\n"
     ]
    }
   ],
   "source": [
    "import time\n",
    "\n",
    "start = time.time()\n",
    "\n",
    "sillyList = []\n",
    "for i in range(50000):\n",
    "    sillyList.append(sum(sillyList))\n",
    "\n",
    "end = time.time()\n",
    "\n",
    "print (end - start)"
   ]
  },
  {
   "cell_type": "markdown",
   "metadata": {},
   "source": [
    "**(B) Counting characters.** Is it faster to use the built-in function `str.count()` or to loop through a string and count characters manually? Compare the two by counting all the A's in all the sequences in `fake.fasta` using each method and comparing how long they take to run. \n",
    "\n",
    "(You do not need to output the counts)"
   ]
  },
  {
   "cell_type": "code",
   "execution_count": 11,
   "metadata": {},
   "outputs": [
    {
     "name": "stdout",
     "output_type": "stream",
     "text": [
      "0.0001537799835205078\n"
     ]
    }
   ],
   "source": [
    "# Method 1 (Manual counting)\n",
    "seqDict = my_utils.read_fasta(\"fake.fasta\")\n",
    "\n",
    "start = time.time()\n",
    "\n",
    "for seqID in seqDict:\n",
    "    seq = seqDict[seqID]\n",
    "    count = 0\n",
    "    for char in seq:\n",
    "        if char == \"A\":\n",
    "            count += 1\n",
    "            \n",
    "end = time.time()\n",
    "print (end - start)"
   ]
  },
  {
   "cell_type": "code",
   "execution_count": 12,
   "metadata": {},
   "outputs": [
    {
     "name": "stdout",
     "output_type": "stream",
     "text": [
      "7.486343383789062e-05\n"
     ]
    }
   ],
   "source": [
    "# Method 2 (.count())\n",
    "seqDict = my_utils.read_fasta(\"fake.fasta\")\n",
    "\n",
    "start = time.time()\n",
    "\n",
    "for seqID in seqDict:\n",
    "    seq = seqDict[seqID]\n",
    "    count = seq.count(\"A\")\n",
    "            \n",
    "end = time.time()\n",
    "print (end - start)"
   ]
  },
  {
   "cell_type": "markdown",
   "metadata": {},
   "source": [
    "*Which was faster?* **Method 2, str.count()**"
   ]
  },
  {
   "cell_type": "markdown",
   "metadata": {},
   "source": [
    "**(C) Replacing characters.** Is it faster to use the built-in function `str.replace()` or to loop through a string and replace characters manually? Compare the two by replacing all the T's with U's in all the sequences in `fake.fasta` using each method, and comparing how long they take to run. \n",
    "\n",
    "(You do not need to output the edited sequences)"
   ]
  },
  {
   "cell_type": "code",
   "execution_count": 13,
   "metadata": {},
   "outputs": [
    {
     "name": "stdout",
     "output_type": "stream",
     "text": [
      "9.942054748535156e-05\n"
     ]
    }
   ],
   "source": [
    "# Method 1 (Manual replacement)\n",
    "seqDict = my_utils.read_fasta(\"fake.fasta\")\n",
    "\n",
    "start = time.time()\n",
    "\n",
    "for seqID in seqDict:\n",
    "    seq = seqDict[seqID]\n",
    "    newSeq = \"\"\n",
    "    for char in seq:\n",
    "        if char == \"T\":\n",
    "            newSeq += \"U\"\n",
    "        else:\n",
    "            newSeq += char\n",
    "            \n",
    "end = time.time()\n",
    "print (end - start)"
   ]
  },
  {
   "cell_type": "code",
   "execution_count": 14,
   "metadata": {},
   "outputs": [
    {
     "name": "stdout",
     "output_type": "stream",
     "text": [
      "0.00012493133544921875\n"
     ]
    }
   ],
   "source": [
    "# Method 2 (.replace())\n",
    "seqDict = my_utils.read_fasta(\"fake.fasta\")\n",
    "\n",
    "start = time.time()\n",
    "\n",
    "for seqID in seqDict:\n",
    "    seq = seqDict[seqID]\n",
    "    newSeq = seq.replace(\"T\", \"U\")\n",
    "            \n",
    "end = time.time()\n",
    "print (end - start)"
   ]
  },
  {
   "cell_type": "markdown",
   "metadata": {},
   "source": [
    "*Which was faster?* **Method 2, str.replace()**"
   ]
  },
  {
   "cell_type": "markdown",
   "metadata": {},
   "source": [
    "**(D) Lookup speed in data structures.** Is it faster to get unique IDs using a list or a dictionary? Read in `fake.fasta`, ignoring everything but the header lines. Count the number of unique IDs (headers) using a list or dictionary, and compare how long each method takes to run. \n",
    "\n",
    "Be patient; this one might take a while to run!"
   ]
  },
  {
   "cell_type": "code",
   "execution_count": 15,
   "metadata": {},
   "outputs": [
    {
     "name": "stdout",
     "output_type": "stream",
     "text": [
      "0.000133514404296875\n"
     ]
    }
   ],
   "source": [
    "# Method 1 (list)\n",
    "seqDict = my_utils.read_fasta(\"fake.fasta\")\n",
    "\n",
    "uniqueIDs = []\n",
    "start = time.time()\n",
    "\n",
    "for seqID in seqDict:\n",
    "    if seqID not in uniqueIDs:\n",
    "        uniqueIDs.append(seqID)\n",
    "            \n",
    "end = time.time()\n",
    "print (end - start)"
   ]
  },
  {
   "cell_type": "code",
   "execution_count": 16,
   "metadata": {},
   "outputs": [
    {
     "name": "stdout",
     "output_type": "stream",
     "text": [
      "0.0001087188720703125\n"
     ]
    }
   ],
   "source": [
    "# Method 2 (dictionary)\n",
    "seqDict = my_utils.read_fasta(\"fake.fasta\")\n",
    "\n",
    "uniqueIDs = {}\n",
    "start = time.time()\n",
    "\n",
    "for seqID in seqDict:\n",
    "    if seqID not in uniqueIDs:\n",
    "        uniqueIDs[seqID] = True\n",
    "            \n",
    "end = time.time()\n",
    "print (end - start)"
   ]
  },
  {
   "cell_type": "markdown",
   "metadata": {},
   "source": [
    "*Which was faster?* **Method 2, dictionary**"
   ]
  },
  {
   "cell_type": "markdown",
   "metadata": {},
   "source": [
    "If you're curious, below is a brief explanation of the outcomes you should have observed:\n",
    "\n",
    "> (B) The built-in method should be much faster! Most built in functions are pretty well optimized, so they will often (but not always) be faster.\n",
    "\n",
    "> (C) Again, the built in function should be quite a bit faster.\n",
    "\n",
    "> (D) If you did this right, then the dictionary should be faster by several orders of magnitude. When you use a dictionary, Python jumps directly to where the requested key *should* be, if it were in the dictionary. This is very fast (it's an O(1) operation, for those who are familiar with the terminology). With lists, on the other hand, Python will scan through the whole list until it finds the requested element (or until it reaches the end). This gets slower and slower on average as you add more elements (it's an O(n) operation). Just something to keep in mind if you start working with very large datasets!\n",
    " "
   ]
  },
  {
   "cell_type": "code",
   "execution_count": null,
   "metadata": {},
   "outputs": [],
   "source": []
  }
 ],
 "metadata": {
  "kernelspec": {
   "display_name": "Python 3",
   "language": "python",
   "name": "python3"
  },
  "language_info": {
   "codemirror_mode": {
    "name": "ipython",
    "version": 3
   },
   "file_extension": ".py",
   "mimetype": "text/x-python",
   "name": "python",
   "nbconvert_exporter": "python",
   "pygments_lexer": "ipython3",
   "version": "3.7.1"
  }
 },
 "nbformat": 4,
 "nbformat_minor": 2
}
