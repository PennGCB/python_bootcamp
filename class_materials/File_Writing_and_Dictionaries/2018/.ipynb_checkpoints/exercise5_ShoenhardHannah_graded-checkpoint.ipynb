{
 "cells": [
  {
   "cell_type": "markdown",
   "metadata": {},
   "source": [
    "# Programming Bootcamp 2018\n",
    "# Lesson 5 Exercises\n",
    "---"
   ]
  },
  {
   "cell_type": "markdown",
   "metadata": {},
   "source": [
    "** Earning points (optional) **\n",
    "\n",
    "- Enter your name below.\n",
    "- Post your notebook privately to instructors on piazza **before 9:00 pm on 8/21**."
   ]
  },
  {
   "cell_type": "markdown",
   "metadata": {},
   "source": [
    "**Name**: Hannah Shoenhard"
   ]
  },
  {
   "cell_type": "markdown",
   "metadata": {},
   "source": [
    "---\n",
    "## 1. Guess the output: dictionary practice (1pt)\n",
    "\n",
    "For the following blocks of code, first try to guess what the output will be, and then run the code yourself. Points will be given for filling in the guesses; guessing wrong won't be penalized."
   ]
  },
  {
   "cell_type": "code",
   "execution_count": 2,
   "metadata": {},
   "outputs": [],
   "source": [
    "# run this cell first!\n",
    "fruits = {\"apple\":\"red\", \"banana\":\"yellow\", \"grape\":\"purple\"}"
   ]
  },
  {
   "cell_type": "code",
   "execution_count": 3,
   "metadata": {},
   "outputs": [
    {
     "name": "stdout",
     "output_type": "stream",
     "text": [
      "yellow\n"
     ]
    }
   ],
   "source": [
    "print fruits[\"banana\"]"
   ]
  },
  {
   "cell_type": "markdown",
   "metadata": {},
   "source": [
    "Your guess: \"yellow\""
   ]
  },
  {
   "cell_type": "markdown",
   "metadata": {},
   "source": [
    " "
   ]
  },
  {
   "cell_type": "code",
   "execution_count": 4,
   "metadata": {},
   "outputs": [
    {
     "name": "stdout",
     "output_type": "stream",
     "text": [
      "red\n"
     ]
    }
   ],
   "source": [
    "query = \"apple\"\n",
    "print fruits[query]"
   ]
  },
  {
   "cell_type": "markdown",
   "metadata": {},
   "source": [
    "Your guess: \"red\""
   ]
  },
  {
   "cell_type": "markdown",
   "metadata": {},
   "source": [
    " "
   ]
  },
  {
   "cell_type": "code",
   "execution_count": 5,
   "metadata": {},
   "outputs": [
    {
     "ename": "KeyError",
     "evalue": "0",
     "output_type": "error",
     "traceback": [
      "\u001b[1;31m---------------------------------------------------------------------------\u001b[0m",
      "\u001b[1;31mKeyError\u001b[0m                                  Traceback (most recent call last)",
      "\u001b[1;32m<ipython-input-5-20060b6afa7b>\u001b[0m in \u001b[0;36m<module>\u001b[1;34m()\u001b[0m\n\u001b[1;32m----> 1\u001b[1;33m \u001b[1;32mprint\u001b[0m \u001b[0mfruits\u001b[0m\u001b[1;33m[\u001b[0m\u001b[1;36m0\u001b[0m\u001b[1;33m]\u001b[0m\u001b[1;33m\u001b[0m\u001b[0m\n\u001b[0m",
      "\u001b[1;31mKeyError\u001b[0m: 0"
     ]
    }
   ],
   "source": [
    "print fruits[0]"
   ]
  },
  {
   "cell_type": "markdown",
   "metadata": {},
   "source": [
    "Your guess: Key error"
   ]
  },
  {
   "cell_type": "markdown",
   "metadata": {},
   "source": [
    " "
   ]
  },
  {
   "cell_type": "code",
   "execution_count": 6,
   "metadata": {},
   "outputs": [
    {
     "name": "stdout",
     "output_type": "stream",
     "text": [
      "['grape', 'apple', 'banana']\n"
     ]
    }
   ],
   "source": [
    "print fruits.keys()"
   ]
  },
  {
   "cell_type": "markdown",
   "metadata": {},
   "source": [
    "Your guess: [\"apple\", \"banana\", \"grape\"] in some seemingly random order"
   ]
  },
  {
   "cell_type": "markdown",
   "metadata": {},
   "source": [
    " "
   ]
  },
  {
   "cell_type": "code",
   "execution_count": 7,
   "metadata": {},
   "outputs": [
    {
     "name": "stdout",
     "output_type": "stream",
     "text": [
      "['purple', 'red', 'yellow']\n"
     ]
    }
   ],
   "source": [
    "print fruits.values()"
   ]
  },
  {
   "cell_type": "markdown",
   "metadata": {},
   "source": [
    "Your guess: [\"red\", \"yellow\", \"purple\"] in some seemingly random order"
   ]
  },
  {
   "cell_type": "markdown",
   "metadata": {},
   "source": [
    " "
   ]
  },
  {
   "cell_type": "code",
   "execution_count": 8,
   "metadata": {},
   "outputs": [
    {
     "name": "stdout",
     "output_type": "stream",
     "text": [
      "purple\n",
      "red\n",
      "yellow\n"
     ]
    }
   ],
   "source": [
    "for key in fruits:\n",
    "    print fruits[key]"
   ]
  },
  {
   "cell_type": "markdown",
   "metadata": {},
   "source": [
    "Your guess: red\n",
    "yellow\n",
    "purple"
   ]
  },
  {
   "cell_type": "markdown",
   "metadata": {},
   "source": [
    " "
   ]
  },
  {
   "cell_type": "code",
   "execution_count": 10,
   "metadata": {},
   "outputs": [
    {
     "name": "stdout",
     "output_type": "stream",
     "text": [
      "{'grape': 'purple', 'apple': 'red'}\n"
     ]
    }
   ],
   "source": [
    "del fruits[\"banana\"]\n",
    "print fruits"
   ]
  },
  {
   "cell_type": "markdown",
   "metadata": {},
   "source": [
    "Your guess: {\"apple\":\"red\", \"grape\":\"purple\"}"
   ]
  },
  {
   "cell_type": "code",
   "execution_count": 9,
   "metadata": {},
   "outputs": [
    {
     "ename": "KeyError",
     "evalue": "'pear'",
     "output_type": "error",
     "traceback": [
      "\u001b[1;31m---------------------------------------------------------------------------\u001b[0m",
      "\u001b[1;31mKeyError\u001b[0m                                  Traceback (most recent call last)",
      "\u001b[1;32m<ipython-input-9-1704fdb2b6e9>\u001b[0m in \u001b[0;36m<module>\u001b[1;34m()\u001b[0m\n\u001b[1;32m----> 1\u001b[1;33m \u001b[1;32mprint\u001b[0m \u001b[0mfruits\u001b[0m\u001b[1;33m[\u001b[0m\u001b[1;34m\"pear\"\u001b[0m\u001b[1;33m]\u001b[0m\u001b[1;33m\u001b[0m\u001b[0m\n\u001b[0m",
      "\u001b[1;31mKeyError\u001b[0m: 'pear'"
     ]
    }
   ],
   "source": [
    "print fruits[\"pear\"]"
   ]
  },
  {
   "cell_type": "markdown",
   "metadata": {},
   "source": [
    "Your guess: Key error"
   ]
  },
  {
   "cell_type": "markdown",
   "metadata": {},
   "source": [
    " "
   ]
  },
  {
   "cell_type": "code",
   "execution_count": 11,
   "metadata": {},
   "outputs": [
    {
     "name": "stdout",
     "output_type": "stream",
     "text": [
      "green\n"
     ]
    }
   ],
   "source": [
    "fruits[\"pear\"] = \"green\"\n",
    "print fruits[\"pear\"] "
   ]
  },
  {
   "cell_type": "markdown",
   "metadata": {},
   "source": [
    "Your guess: \"green\""
   ]
  },
  {
   "cell_type": "markdown",
   "metadata": {},
   "source": [
    " "
   ]
  },
  {
   "cell_type": "code",
   "execution_count": 12,
   "metadata": {},
   "outputs": [
    {
     "name": "stdout",
     "output_type": "stream",
     "text": [
      "red or green\n"
     ]
    }
   ],
   "source": [
    "fruits[\"apple\"] = fruits[\"apple\"] + \" or green\"\n",
    "print fruits[\"apple\"]"
   ]
  },
  {
   "cell_type": "markdown",
   "metadata": {},
   "source": [
    "Your guess: \"red or green\""
   ]
  },
  {
   "cell_type": "markdown",
   "metadata": {},
   "source": [
    " "
   ]
  },
  {
   "cell_type": "markdown",
   "metadata": {},
   "source": [
    "---\n",
    "## 2. On your own: using dictionaries (6pts)\n",
    "\n",
    "Using the info in the table below, write code to accomplish the following tasks.\n",
    "\n",
    "|    Name   | Favorite Food |\n",
    "|:---------:|:-------------:|\n",
    "|  Wilfred  |     Steak     |\n",
    "|  Manfred  |  French fries |\n",
    "| Wadsworth |   Spaghetti   |\n",
    "|   Jeeves  |   Ice cream   |\n"
   ]
  },
  {
   "cell_type": "markdown",
   "metadata": {},
   "source": [
    "**(A)** Create a dictionary based on the data above, where each person's name is a key, and their favorite foods are the values."
   ]
  },
  {
   "cell_type": "code",
   "execution_count": 1,
   "metadata": {},
   "outputs": [],
   "source": [
    "favfoods = {\"Wilfred\": \"steak\", \"Manfred\":\"french fries\",\"Wadsworth\":\"spaghetti\", \"Jeeves\":\"ice cream\"}"
   ]
  },
  {
   "cell_type": "markdown",
   "metadata": {},
   "source": [
    "**(B)** Using a `for` loop, go through the dictionary you created above and print each name and food combination in the format:\n",
    "\n",
    "    <NAME>'s favorite food is <FOOD>"
   ]
  },
  {
   "cell_type": "code",
   "execution_count": 2,
   "metadata": {},
   "outputs": [
    {
     "name": "stdout",
     "output_type": "stream",
     "text": [
      "Manfred's favorite food is french fries\n",
      "Wadsworth's favorite food is spaghetti\n",
      "Wilfred's favorite food is steak\n",
      "Jeeves's favorite food is ice cream\n"
     ]
    }
   ],
   "source": [
    "for key in favfoods:\n",
    "    print key + \"'s favorite food is \" + favfoods[key]"
   ]
  },
  {
   "cell_type": "markdown",
   "metadata": {},
   "source": [
    "**(C)** (1) Change the dictionary so that Wilfred's favorite food is Pizza. (2) Add a new entry for Mitsworth, whose favorite food is Tuna. \n",
    "\n",
    "Do not recreate the whole dictionary while doing these things. Edit the dictionary you created in (A) using the syntax described in the lecture."
   ]
  },
  {
   "cell_type": "code",
   "execution_count": 3,
   "metadata": {},
   "outputs": [],
   "source": [
    "favfoods[\"Wilfred\"] = \"pizza\"\n",
    "favfoods[\"Mitsworth\"] = \"tuna\""
   ]
  },
  {
   "cell_type": "markdown",
   "metadata": {},
   "source": [
    "**(D)** Prompt the user to input a name. Check if the name they entered is a valid key in the dictionary using an `if` statement. If the name is in the dictionary, print out the corresponding favorite food. If not, print a message saying \"That name is not in our database\"."
   ]
  },
  {
   "cell_type": "code",
   "execution_count": 6,
   "metadata": {},
   "outputs": [
    {
     "name": "stdout",
     "output_type": "stream",
     "text": [
      "Please enter a name. Mitsworth\n",
      "tuna\n"
     ]
    }
   ],
   "source": [
    "theirName = raw_input(\"Please enter a name. \")\n",
    "if theirName in favfoods:\n",
    "    print favfoods[theirName]\n",
    "else:\n",
    "    print \"That name is not in our database.\""
   ]
  },
  {
   "cell_type": "markdown",
   "metadata": {},
   "source": [
    "**(E)** Print just the names in the dictionary in alphabetical order. Use the sorting example from the slides."
   ]
  },
  {
   "cell_type": "code",
   "execution_count": 7,
   "metadata": {},
   "outputs": [
    {
     "name": "stdout",
     "output_type": "stream",
     "text": [
      "['Jeeves', 'Manfred', 'Mitsworth', 'Wadsworth', 'Wilfred']\n",
      "Jeeves\n",
      "Manfred\n",
      "Mitsworth\n",
      "Wadsworth\n",
      "Wilfred\n"
     ]
    }
   ],
   "source": [
    "nameList = []\n",
    "for key in favfoods:\n",
    "    nameList.append(key)\n",
    "    nameList.sort()\n",
    "    \n",
    "print nameList\n",
    "\n",
    "#or, as shown in slides,\n",
    "\n",
    "for name in sorted(favfoods.keys()):\n",
    "    print name\n",
    "    "
   ]
  },
  {
   "cell_type": "markdown",
   "metadata": {},
   "source": [
    "**(F)** Print just the names in sorted order based on their favorite food. Use the value-sorting example from the slides."
   ]
  },
  {
   "cell_type": "code",
   "execution_count": 8,
   "metadata": {},
   "outputs": [
    {
     "name": "stdout",
     "output_type": "stream",
     "text": [
      "Manfred\n",
      "Jeeves\n",
      "Wilfred\n",
      "Wadsworth\n",
      "Mitsworth\n"
     ]
    }
   ],
   "source": [
    "for name in sorted(favfoods, key= favfoods.get):\n",
    "    print name"
   ]
  },
  {
   "cell_type": "markdown",
   "metadata": {},
   "source": [
    "---\n",
    "## 3. File writing (3pts)"
   ]
  },
  {
   "cell_type": "markdown",
   "metadata": {},
   "source": [
    "**(A)** Write code that prints \"Hello, world\" to a file called `hello.txt`"
   ]
  },
  {
   "cell_type": "code",
   "execution_count": 9,
   "metadata": {},
   "outputs": [],
   "source": [
    "outFile = open(\"hello.txt\", 'w')\n",
    "outFile.write(\"Hello, world \\n\")\n",
    "outFile.close()\n"
   ]
  },
  {
   "cell_type": "markdown",
   "metadata": {},
   "source": [
    "**(B)** Write code that prints the following text to a file called `meow.txt`. It must be formatted exactly as it here (you will need to use \\n and \\t):\n",
    "```\n",
    "Dear Mitsworth,\n",
    "    \n",
    "    Meow, meow meow meow.\n",
    "    \n",
    "Sincerely,\n",
    "A friend\n",
    "```"
   ]
  },
  {
   "cell_type": "code",
   "execution_count": 10,
   "metadata": {},
   "outputs": [],
   "source": [
    "outFile = open(\"meow.txt\",'w')\n",
    "outFile.write(\"Dear Mitsworth, \\n \\n \\t Meow, meow meow meow. \\n \\n Sincerely, \\n A friend \\n\")\n",
    "outFile.close()"
   ]
  },
  {
   "cell_type": "markdown",
   "metadata": {},
   "source": [
    "**(C)** Write code that reads in the gene IDs from `genes.txt` and prints the **unique** gene IDs to a **new file** called `genes_unique.txt`. (You can re-use your code or the answer sheet from lab4 for getting the unique IDs.)"
   ]
  },
  {
   "cell_type": "code",
   "execution_count": 11,
   "metadata": {},
   "outputs": [],
   "source": [
    "fileName = \"genes.txt\"\n",
    "outFileName = \"genes_unique.txt\"\n",
    "\n",
    "newList = []\n",
    "inFile = open(fileName,'r')\n",
    "outFile = open(outFileName, 'w')\n",
    "for line in inFile:\n",
    "    line = line.rstrip('\\n')\n",
    "    if line not in newList:\n",
    "        outFile.write(str(line)+'\\n')\n",
    "        newList.append(line)\n",
    "\n",
    "inFile.close()\n",
    "outFile.close()"
   ]
  },
  {
   "cell_type": "markdown",
   "metadata": {},
   "source": [
    "---\n",
    "## 4. The \"many counters\" problem (4pts)"
   ]
  },
  {
   "cell_type": "markdown",
   "metadata": {},
   "source": [
    "**(A)** Write code that reads a file of sequences and tallies how many sequences there are of each length. Use `sequences3.txt` as input. \n",
    "\n",
    "*Hint: you can use a dictionary to keep track of all the tallies. For example:*"
   ]
  },
  {
   "cell_type": "code",
   "execution_count": 12,
   "metadata": {},
   "outputs": [],
   "source": [
    "# hint code:\n",
    "\n",
    "tallyDict = {}\n",
    "seq = \"ATGCTGATCGATATA\"\n",
    "length = len(seq)\n",
    "\n",
    "if length not in tallyDict:\n",
    "    tallyDict[length] = 1  #initialize to 1 if this is the first occurrence of the length...\n",
    "else:\n",
    "    tallyDict[length] = tallyDict[length] + 1   #...otherwise just increment the count."
   ]
  },
  {
   "cell_type": "code",
   "execution_count": 13,
   "metadata": {},
   "outputs": [
    {
     "name": "stdout",
     "output_type": "stream",
     "text": [
      "{28: 4, 31: 2, 34: 3, 37: 4, 40: 4, 43: 6, 46: 5, 49: 3, 52: 7, 55: 5, 58: 3, 61: 4, 64: 3, 67: 3, 70: 3, 73: 2, 76: 2, 79: 3, 82: 5, 85: 3, 88: 3, 91: 6, 93: 1, 94: 2, 97: 3, 100: 3, 103: 3, 106: 5}\n"
     ]
    }
   ],
   "source": [
    "fileName = \"sequences3.txt\"\n",
    "inFile = open(fileName,'r')\n",
    "\n",
    "tallyDict = {}\n",
    "for line in inFile:\n",
    "    length = len(line)\n",
    "    \n",
    "    if length not in tallyDict:\n",
    "        tallyDict[length] = 1            #creates an entry in tallyDict with Len as the key and 1 as the value\n",
    "    else:\n",
    "        tallyDict[length] += 1           #increments count by 1 if key already in dictionary\n",
    "        \n",
    "print tallyDict\n",
    "\n",
    "inFile.close()\n"
   ]
  },
  {
   "cell_type": "markdown",
   "metadata": {},
   "source": [
    "**(B)** Using the tally dictionary you created above, figure out which sequence length was the most common, and print it to the screen."
   ]
  },
  {
   "cell_type": "code",
   "execution_count": 14,
   "metadata": {},
   "outputs": [
    {
     "name": "stdout",
     "output_type": "stream",
     "text": [
      "{28: 4, 31: 2, 34: 3, 37: 4, 40: 4, 43: 6, 46: 5, 49: 3, 52: 7, 55: 5, 58: 3, 61: 4, 64: 3, 67: 3, 70: 3, 73: 2, 76: 2, 79: 3, 82: 5, 85: 3, 88: 3, 91: 6, 93: 1, 94: 2, 97: 3, 100: 3, 103: 3, 106: 5}\n",
      "The most common sequence appeared 7 times.\n"
     ]
    }
   ],
   "source": [
    "#can't do backwards lookups, right????\n",
    "\n",
    "\n",
    "print tallyDict\n",
    "\n",
    "bigCount = max(tallyDict.values())\n",
    "\n",
    "print \"The most common sequence appeared\", str(bigCount), \"times.\""
   ]
  },
  {
   "cell_type": "markdown",
   "metadata": {},
   "source": [
    "### Comment: You forgot to strip endline character, so the sequence length  of 51 (not 52) appeared 7 times."
   ]
  },
  {
   "cell_type": "markdown",
   "metadata": {},
   "source": [
    "---\n",
    "## 5. Codon table (6pts)\n",
    "\n",
    "For this question, use `codon_table.txt`, which contains a list of all possible codons and their corresponding amino acids. We will be using this info to create a dictionary, which will allow us to translate a nucleotide sequence into amino acids. Each part of this question builds off the previous parts."
   ]
  },
  {
   "cell_type": "markdown",
   "metadata": {},
   "source": [
    "**(A)** Thinkin' question (short answer, not code): If we want to create a codon dictionary and use it to translate nucleotide sequences, would it be better to use the codons or amino acids as keys? "
   ]
  },
  {
   "cell_type": "markdown",
   "metadata": {},
   "source": [
    "Your answer: The codons should be keys. There can be multiple codons that produce the same amino acid, which means that if you were trying to look up using the amino acid as a key, you would potentially need to retrieve multiple codons, and I don't know if it's possible to give a single key multiple values. I guess you could make the value a list of codons, but this seems clunky and difficult to work with. "
   ]
  },
  {
   "cell_type": "markdown",
   "metadata": {},
   "source": [
    "**(B)** Read in `codon_table.txt` (note that it has a header line) and use it to create a codon dictionary. Then use `input()` to prompt the user to enter a single codon (e.g. ATG) and print the amino acid corresponding to that codon to the screen."
   ]
  },
  {
   "cell_type": "code",
   "execution_count": 15,
   "metadata": {},
   "outputs": [
    {
     "name": "stdout",
     "output_type": "stream",
     "text": [
      "Please enter a single codon: ATG\n",
      "The amino acid that codon encodes is M\n"
     ]
    }
   ],
   "source": [
    "fileName = \"codon_table.txt\"\n",
    "inFile = open(fileName,'r')\n",
    "inFile.readline()             #gets rid of header\n",
    "codonDict = {}\n",
    "\n",
    "for line in inFile:\n",
    "    line = line.rstrip('\\n')\n",
    "    data = line.split()\n",
    "    codon = data[0]\n",
    "    aA = data[1]\n",
    "    codonDict[codon] = aA\n",
    "    \n",
    "lookUp = raw_input(\"Please enter a single codon: \")\n",
    "print \"The amino acid that codon encodes is \" + codonDict[lookUp]\n",
    "    \n",
    "inFile.close()"
   ]
  },
  {
   "cell_type": "markdown",
   "metadata": {},
   "source": [
    "**(C)** Now we will adapt the code in (B) to translate a longer sequence. Instead of prompting the user for a single codon, allow them to enter a longer sequence. First, check that the sequence they entered has a length that is a multiple of 3 (Hint: use the mod operator, %), and print an error message if it is not. If it is valid, then go on to translate every three nucleotides to an amino acid. Print the final amino acid sequence to the screen."
   ]
  },
  {
   "cell_type": "code",
   "execution_count": 16,
   "metadata": {},
   "outputs": [
    {
     "name": "stdout",
     "output_type": "stream",
     "text": [
      "Please enter the sequence you wish to be translated. Make sure it's a multiple of 3: ATGGTATTT\n",
      "MVF\n"
     ]
    }
   ],
   "source": [
    "fileName = \"codon_table.txt\"\n",
    "inFile = open(fileName,'r')\n",
    "inFile.readline()             #gets rid of header\n",
    "codonDict = {}\n",
    "\n",
    "#making the codon dictionary\n",
    "\n",
    "for line in inFile:\n",
    "    line = line.rstrip('\\n')\n",
    "    data = line.split()\n",
    "    codon = data[0]\n",
    "    aA = data[1]\n",
    "    codonDict[codon] = aA\n",
    "    \n",
    "proteinSeq = \"\"\n",
    "sc1 = 0                         #sc stands for slice counter -- a way of slicing by 3s to cut codons out of seq provided\n",
    "sc2 = 3                         #sc 1 is the start of the slice (inclusive) and sc2 is the end (exclusive)\n",
    "    \n",
    "#asking for user input\n",
    "    \n",
    "lookUp = raw_input(\"Please enter the sequence you wish to be translated. Make sure it's a multiple of 3: \")\n",
    "\n",
    "#translating input\n",
    "\n",
    "if len(lookUp)%3 == 0:                                  #proceeds only if multiple of 3\n",
    "    while sc2 <= len(lookUp):\n",
    "        currentCodon = lookUp[sc1:sc2]\n",
    "        currentaA = codonDict[currentCodon]\n",
    "        proteinSeq += currentaA\n",
    "        sc1 += 3\n",
    "        sc2 += 3\n",
    "else:\n",
    "    print \"I'm sorry, your sequence needs to be a multiple of 3.\"\n",
    "    \n",
    "print proteinSeq\n",
    " \n",
    "inFile.close()"
   ]
  },
  {
   "cell_type": "markdown",
   "metadata": {},
   "source": [
    "**(D)** Now, instead of taking user input, you will apply your translator to a set of sequences stored in a file. Read in the sequences from `sequences3.txt` (assume each line is a separate sequence), translate it to amino acids, and print it to a new file called `proteins.txt`."
   ]
  },
  {
   "cell_type": "code",
   "execution_count": 17,
   "metadata": {},
   "outputs": [],
   "source": [
    "#import files\n",
    "\n",
    "fileName1 = \"codon_table.txt\"\n",
    "inFile1 = open(fileName1,'r')\n",
    "inFile1.readline()             #gets rid of header\n",
    "\n",
    "fileName2 = \"sequences3.txt\"\n",
    "inFile2 = open(fileName2,'r')\n",
    "\n",
    "#export files\n",
    "outFileName = \"proteins.txt\"\n",
    "outFile = open(outFileName, 'w')\n",
    "\n",
    "#making the codon dictionary\n",
    "\n",
    "codonDict = {}\n",
    "\n",
    "for line in inFile1:\n",
    "    line = line.rstrip('\\n')\n",
    "    data = line.split()\n",
    "    codon = data[0]\n",
    "    aA = data[1]\n",
    "    codonDict[codon] = aA   \n",
    "    \n",
    "#translating input\n",
    "\n",
    "def translator(seq):\n",
    "    proteinSeq = \"\"\n",
    "    sc1 = 0                         #sc stands for slice counter -- a way of slicing by 3s to cut codons out of seq provided\n",
    "    sc2 = 3                         #sc 1 is the start of the slice (inclusive) and sc2 is the end (exclusive)\n",
    "    if len(seq)%3 == 0:                                  #proceeds only if multiple of 3\n",
    "        while sc2 <= len(seq):\n",
    "            currentCodon = seq[sc1:sc2]\n",
    "            currentaA = codonDict[currentCodon]\n",
    "            proteinSeq += currentaA\n",
    "            sc1 += 3\n",
    "            sc2 += 3\n",
    "        return proteinSeq\n",
    "    else:\n",
    "        print \"I'm sorry, your sequence needs to be a multiple of 3.\"\n",
    "    \n",
    "for line in inFile2:\n",
    "    line = line.rstrip('\\n')\n",
    "    outFile.write(translator(line)+ '\\n')\n",
    " \n",
    "inFile1.close()\n",
    "inFile2.close()\n",
    "outFile.close()     #without this the file will be empty!"
   ]
  },
  {
   "cell_type": "markdown",
   "metadata": {},
   "source": [
    "### Comment: Check the answers to see an alternative way to do this using for loops. "
   ]
  }
 ],
 "metadata": {
  "anaconda-cloud": {},
  "kernelspec": {
   "display_name": "Python 2",
   "language": "python",
   "name": "python2"
  },
  "language_info": {
   "codemirror_mode": {
    "name": "ipython",
    "version": 2
   },
   "file_extension": ".py",
   "mimetype": "text/x-python",
   "name": "python",
   "nbconvert_exporter": "python",
   "pygments_lexer": "ipython2",
   "version": "2.7.15"
  }
 },
 "nbformat": 4,
 "nbformat_minor": 1
}
