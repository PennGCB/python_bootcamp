{
 "cells": [
  {
   "cell_type": "markdown",
   "metadata": {},
   "source": [
    "# Programming Bootcamp 2018\n",
    "# Lesson 5 Exercises\n",
    "---"
   ]
  },
  {
   "cell_type": "markdown",
   "metadata": {},
   "source": [
    "** Earning points (optional) **\n",
    "\n",
    "- Enter your name below.\n",
    "- Post your notebook privately to instructors on piazza **before 9:00 pm on 8/21**."
   ]
  },
  {
   "cell_type": "markdown",
   "metadata": {},
   "source": [
    "**Name**: "
   ]
  },
  {
   "cell_type": "markdown",
   "metadata": {},
   "source": [
    "---\n",
    "## 1. Guess the output: dictionary practice (1pt)\n",
    "\n",
    "For the following blocks of code, first try to guess what the output will be, and then run the code yourself. Points will be given for filling in the guesses; guessing wrong won't be penalized."
   ]
  },
  {
   "cell_type": "code",
   "execution_count": 2,
   "metadata": {},
   "outputs": [
    {
     "name": "stdout",
     "output_type": "stream",
     "text": [
      "{'grape': 'purple', 'apple': 'red', 'banana': 'yellow'}\n"
     ]
    }
   ],
   "source": [
    "# run this cell first!\n",
    "fruits = {\"apple\":\"red\", \"banana\":\"yellow\", \"grape\":\"purple\"}\n",
    "print fruits"
   ]
  },
  {
   "cell_type": "code",
   "execution_count": 3,
   "metadata": {},
   "outputs": [
    {
     "name": "stdout",
     "output_type": "stream",
     "text": [
      "yellow\n"
     ]
    }
   ],
   "source": [
    "print fruits[\"banana\"]"
   ]
  },
  {
   "cell_type": "markdown",
   "metadata": {},
   "source": [
    "Your guess: yellow"
   ]
  },
  {
   "cell_type": "markdown",
   "metadata": {},
   "source": [
    " "
   ]
  },
  {
   "cell_type": "code",
   "execution_count": 4,
   "metadata": {},
   "outputs": [
    {
     "name": "stdout",
     "output_type": "stream",
     "text": [
      "red\n"
     ]
    }
   ],
   "source": [
    "query = \"apple\"\n",
    "print fruits[query]"
   ]
  },
  {
   "cell_type": "markdown",
   "metadata": {},
   "source": [
    "Your guess: red"
   ]
  },
  {
   "cell_type": "markdown",
   "metadata": {},
   "source": [
    " "
   ]
  },
  {
   "cell_type": "code",
   "execution_count": 5,
   "metadata": {},
   "outputs": [
    {
     "ename": "KeyError",
     "evalue": "0",
     "output_type": "error",
     "traceback": [
      "\u001b[1;31m---------------------------------------------------------------------------\u001b[0m",
      "\u001b[1;31mKeyError\u001b[0m                                  Traceback (most recent call last)",
      "\u001b[1;32m<ipython-input-5-20060b6afa7b>\u001b[0m in \u001b[0;36m<module>\u001b[1;34m()\u001b[0m\n\u001b[1;32m----> 1\u001b[1;33m \u001b[1;32mprint\u001b[0m \u001b[0mfruits\u001b[0m\u001b[1;33m[\u001b[0m\u001b[1;36m0\u001b[0m\u001b[1;33m]\u001b[0m\u001b[1;33m\u001b[0m\u001b[0m\n\u001b[0m",
      "\u001b[1;31mKeyError\u001b[0m: 0"
     ]
    }
   ],
   "source": [
    "print fruits[0]"
   ]
  },
  {
   "cell_type": "markdown",
   "metadata": {},
   "source": [
    "Your guess: error"
   ]
  },
  {
   "cell_type": "markdown",
   "metadata": {},
   "source": [
    " "
   ]
  },
  {
   "cell_type": "code",
   "execution_count": 6,
   "metadata": {},
   "outputs": [
    {
     "name": "stdout",
     "output_type": "stream",
     "text": [
      "['grape', 'apple', 'banana']\n"
     ]
    }
   ],
   "source": [
    "print fruits.keys()"
   ]
  },
  {
   "cell_type": "markdown",
   "metadata": {},
   "source": [
    "Your guess: ['apple', 'banana', 'grape']"
   ]
  },
  {
   "cell_type": "markdown",
   "metadata": {},
   "source": [
    " "
   ]
  },
  {
   "cell_type": "code",
   "execution_count": 7,
   "metadata": {},
   "outputs": [
    {
     "name": "stdout",
     "output_type": "stream",
     "text": [
      "['purple', 'red', 'yellow']\n"
     ]
    }
   ],
   "source": [
    "print fruits.values()"
   ]
  },
  {
   "cell_type": "markdown",
   "metadata": {},
   "source": [
    "Your guess: ['red', 'yellow', 'purple']"
   ]
  },
  {
   "cell_type": "markdown",
   "metadata": {},
   "source": [
    " "
   ]
  },
  {
   "cell_type": "code",
   "execution_count": 8,
   "metadata": {},
   "outputs": [
    {
     "name": "stdout",
     "output_type": "stream",
     "text": [
      "purple\n",
      "red\n",
      "yellow\n"
     ]
    }
   ],
   "source": [
    "for key in fruits:\n",
    "    print fruits[key]"
   ]
  },
  {
   "cell_type": "markdown",
   "metadata": {},
   "source": [
    "Your guess:  ['red', 'yellow', 'purple']  //This is what I initially put.  I get why it's that with the for loop now."
   ]
  },
  {
   "cell_type": "markdown",
   "metadata": {},
   "source": [
    " "
   ]
  },
  {
   "cell_type": "code",
   "execution_count": 9,
   "metadata": {},
   "outputs": [
    {
     "name": "stdout",
     "output_type": "stream",
     "text": [
      "{'grape': 'purple', 'apple': 'red'}\n"
     ]
    }
   ],
   "source": [
    "del fruits[\"banana\"]\n",
    "print fruits"
   ]
  },
  {
   "cell_type": "markdown",
   "metadata": {},
   "source": [
    "Your guess: {'apple':'red', 'grape':'purple'}"
   ]
  },
  {
   "cell_type": "markdown",
   "metadata": {},
   "source": [
    " "
   ]
  },
  {
   "cell_type": "code",
   "execution_count": 10,
   "metadata": {},
   "outputs": [
    {
     "ename": "KeyError",
     "evalue": "'pear'",
     "output_type": "error",
     "traceback": [
      "\u001b[1;31m---------------------------------------------------------------------------\u001b[0m",
      "\u001b[1;31mKeyError\u001b[0m                                  Traceback (most recent call last)",
      "\u001b[1;32m<ipython-input-10-1704fdb2b6e9>\u001b[0m in \u001b[0;36m<module>\u001b[1;34m()\u001b[0m\n\u001b[1;32m----> 1\u001b[1;33m \u001b[1;32mprint\u001b[0m \u001b[0mfruits\u001b[0m\u001b[1;33m[\u001b[0m\u001b[1;34m\"pear\"\u001b[0m\u001b[1;33m]\u001b[0m\u001b[1;33m\u001b[0m\u001b[0m\n\u001b[0m",
      "\u001b[1;31mKeyError\u001b[0m: 'pear'"
     ]
    }
   ],
   "source": [
    "print fruits[\"pear\"]"
   ]
  },
  {
   "cell_type": "markdown",
   "metadata": {},
   "source": [
    "Your guess: key error"
   ]
  },
  {
   "cell_type": "markdown",
   "metadata": {},
   "source": [
    " "
   ]
  },
  {
   "cell_type": "code",
   "execution_count": 11,
   "metadata": {},
   "outputs": [
    {
     "name": "stdout",
     "output_type": "stream",
     "text": [
      "green\n",
      "green\n"
     ]
    }
   ],
   "source": [
    "fruits[\"pear\"] = \"green\"\n",
    "print fruits['pear'] \n",
    "print fruits[\"pear\"] #just seeing if I need single or double quotes, doesn't matter apparently"
   ]
  },
  {
   "cell_type": "markdown",
   "metadata": {},
   "source": [
    "Your guess: green"
   ]
  },
  {
   "cell_type": "markdown",
   "metadata": {},
   "source": [
    " "
   ]
  },
  {
   "cell_type": "code",
   "execution_count": 12,
   "metadata": {},
   "outputs": [
    {
     "name": "stdout",
     "output_type": "stream",
     "text": [
      "red or green\n"
     ]
    }
   ],
   "source": [
    "fruits[\"apple\"] = fruits[\"apple\"] + \" or green\"\n",
    "print fruits[\"apple\"]"
   ]
  },
  {
   "cell_type": "markdown",
   "metadata": {},
   "source": [
    "Your guess: red or green"
   ]
  },
  {
   "cell_type": "markdown",
   "metadata": {},
   "source": [
    " "
   ]
  },
  {
   "cell_type": "markdown",
   "metadata": {},
   "source": [
    "---\n",
    "## 2. On your own: using dictionaries (6pts)\n",
    "\n",
    "Using the info in the table below, write code to accomplish the following tasks.\n",
    "\n",
    "|    Name   | Favorite Food |\n",
    "|:---------:|:-------------:|\n",
    "|  Wilfred  |     Steak     |\n",
    "|  Manfred  |  French fries |\n",
    "| Wadsworth |   Spaghetti   |\n",
    "|   Jeeves  |   Ice cream   |\n"
   ]
  },
  {
   "cell_type": "markdown",
   "metadata": {},
   "source": [
    "**(A)** Create a dictionary based on the data above, where each person's name is a key, and their favorite foods are the values."
   ]
  },
  {
   "cell_type": "code",
   "execution_count": 1,
   "metadata": {},
   "outputs": [
    {
     "name": "stdout",
     "output_type": "stream",
     "text": [
      "{'Manfred': 'French Fries', 'Wadsworth': 'Spaghetti', 'Wilfred': 'Steak', 'Jeeves': 'Ice Cream'}\n"
     ]
    }
   ],
   "source": [
    "favoriteFood = {\"Wilfred\":\"Steak\", \"Manfred\":\"French Fries\", \"Wadsworth\":\"Spaghetti\", \"Jeeves\":\"Ice Cream\"}\n",
    "print favoriteFood"
   ]
  },
  {
   "cell_type": "markdown",
   "metadata": {},
   "source": [
    "**(B)** Using a `for` loop, go through the dictionary you created above and print each name and food combination in the format:\n",
    "\n",
    "    <NAME>'s favorite food is <FOOD>"
   ]
  },
  {
   "cell_type": "code",
   "execution_count": 2,
   "metadata": {},
   "outputs": [
    {
     "name": "stdout",
     "output_type": "stream",
     "text": [
      "Manfred's fav food is French Fries\n",
      "Wadsworth's fav food is Spaghetti\n",
      "Wilfred's fav food is Steak\n",
      "Jeeves's fav food is Ice Cream\n"
     ]
    }
   ],
   "source": [
    "for item in favoriteFood:\n",
    "    print item + \"'s fav food is \" + favoriteFood[item]\n",
    "\n",
    "\n",
    "#for name, food in favoriteFood.items():\n",
    "#    print favoriteFood[name] + \"'s favorite food is\" + "
   ]
  },
  {
   "cell_type": "markdown",
   "metadata": {},
   "source": [
    "**(C)** (1) Change the dictionary so that Wilfred's favorite food is Pizza. (2) Add a new entry for Mitsworth, whose favorite food is Tuna. \n",
    "\n",
    "Do not recreate the whole dictionary while doing these things. Edit the dictionary you created in (A) using the syntax described in the lecture."
   ]
  },
  {
   "cell_type": "code",
   "execution_count": 3,
   "metadata": {},
   "outputs": [
    {
     "name": "stdout",
     "output_type": "stream",
     "text": [
      "Steak \n",
      "\n",
      "Pizza\n"
     ]
    }
   ],
   "source": [
    "print favoriteFood[\"Wilfred\"], \"\\n\" #before\n",
    "favoriteFood[\"Wilfred\"] = \"Pizza\"\n",
    "print favoriteFood[\"Wilfred\"] #after"
   ]
  },
  {
   "cell_type": "markdown",
   "metadata": {},
   "source": [
    "### Comment: You got  (2) Add a new entry for Mitsworth, whose favorite food is Tuna"
   ]
  },
  {
   "cell_type": "markdown",
   "metadata": {},
   "source": [
    "**(D)** Prompt the user to input a name. Check if the name they entered is a valid key in the dictionary using an `if` statement. If the name is in the dictionary, print out the corresponding favorite food. If not, print a message saying \"That name is not in our database\"."
   ]
  },
  {
   "cell_type": "code",
   "execution_count": 5,
   "metadata": {},
   "outputs": [
    {
     "name": "stdout",
     "output_type": "stream",
     "text": [
      "Enter a name to see if it's in the list: Mitsworth\n",
      "That name is not in the list.\n"
     ]
    }
   ],
   "source": [
    "userIn = raw_input(\"Enter a name to see if it's in the list: \")\n",
    "\n",
    "if userIn in favoriteFood:\n",
    "    print \"That name is in the list!\"\n",
    "else:\n",
    "    print \"That name is not in the list.\""
   ]
  },
  {
   "cell_type": "markdown",
   "metadata": {},
   "source": [
    "**(E)** Print just the names in the dictionary in alphabetical order. Use the sorting example from the slides."
   ]
  },
  {
   "cell_type": "code",
   "execution_count": 6,
   "metadata": {},
   "outputs": [
    {
     "name": "stdout",
     "output_type": "stream",
     "text": [
      "Jeeves\n",
      "Manfred\n",
      "Wadsworth\n",
      "Wilfred\n"
     ]
    }
   ],
   "source": [
    "for name in sorted(favoriteFood.keys()):\n",
    "    print name"
   ]
  },
  {
   "cell_type": "markdown",
   "metadata": {},
   "source": [
    "**(F)** Print just the names in sorted order based on their favorite food. Use the value-sorting example from the slides."
   ]
  },
  {
   "cell_type": "code",
   "execution_count": 7,
   "metadata": {},
   "outputs": [
    {
     "name": "stdout",
     "output_type": "stream",
     "text": [
      "Manfred 's favorite food is French Fries\n",
      "Jeeves 's favorite food is Ice Cream\n",
      "Wilfred 's favorite food is Pizza\n",
      "Wadsworth 's favorite food is Spaghetti\n"
     ]
    }
   ],
   "source": [
    "for name in sorted(favoriteFood, key=favoriteFood.get):\n",
    "        print name, \"'s favorite food is\", favoriteFood[name]\n",
    "\n",
    "    "
   ]
  },
  {
   "cell_type": "code",
   "execution_count": 8,
   "metadata": {},
   "outputs": [
    {
     "ename": "KeyError",
     "evalue": "'French Fries'",
     "output_type": "error",
     "traceback": [
      "\u001b[0;31m---------------------------------------------------------------------------\u001b[0m",
      "\u001b[0;31mKeyError\u001b[0m                                  Traceback (most recent call last)",
      "\u001b[0;32m<ipython-input-8-5ca86bad0d84>\u001b[0m in \u001b[0;36m<module>\u001b[0;34m()\u001b[0m\n\u001b[1;32m      1\u001b[0m \u001b[0;32mfor\u001b[0m \u001b[0mfood\u001b[0m \u001b[0;32min\u001b[0m \u001b[0msorted\u001b[0m\u001b[0;34m(\u001b[0m\u001b[0mfavoriteFood\u001b[0m\u001b[0;34m.\u001b[0m\u001b[0mvalues\u001b[0m\u001b[0;34m(\u001b[0m\u001b[0;34m)\u001b[0m\u001b[0;34m)\u001b[0m\u001b[0;34m:\u001b[0m \u001b[0;31m#trying to see if this would work, I feel like if .keys() works then .values() should work for sorting values\u001b[0m\u001b[0;34m\u001b[0m\u001b[0m\n\u001b[0;32m----> 2\u001b[0;31m         \u001b[0;32mprint\u001b[0m \u001b[0mfavoriteFood\u001b[0m\u001b[0;34m[\u001b[0m\u001b[0mfood\u001b[0m\u001b[0;34m]\u001b[0m\u001b[0;34m\u001b[0m\u001b[0m\n\u001b[0m",
      "\u001b[0;31mKeyError\u001b[0m: 'French Fries'"
     ]
    }
   ],
   "source": [
    "for food in sorted(favoriteFood.values()): #trying to see if this would work, I feel like if .keys() works then .values() should work for sorting values\n",
    "        print favoriteFood[food]"
   ]
  },
  {
   "cell_type": "markdown",
   "metadata": {},
   "source": [
    "### Comment: You were missing a right parantheses. This won't work anyway because what you are asking is for every food item in the list of values,  print that values as key in the favoriteFood hash. ie favoriteFood[\"French Fries\"]"
   ]
  },
  {
   "cell_type": "markdown",
   "metadata": {},
   "source": [
    "---\n",
    "## 3. File writing (3pts)"
   ]
  },
  {
   "cell_type": "markdown",
   "metadata": {},
   "source": [
    "**(A)** Write code that prints \"Hello, world\" to a file called `hello.txt`"
   ]
  },
  {
   "cell_type": "code",
   "execution_count": 9,
   "metadata": {},
   "outputs": [],
   "source": [
    "fileName = \"hello.txt\"\n",
    "outFile = open(fileName, 'w')\n",
    "outFile.write(\"Hello, world\\n\")\n",
    "outFile.close()"
   ]
  },
  {
   "cell_type": "markdown",
   "metadata": {},
   "source": [
    "**(B)** Write code that prints the following text to a file called `meow.txt`. It must be formatted exactly as it here (you will need to use \\n and \\t):\n",
    "```\n",
    "Dear Mitsworth,\n",
    "    \n",
    "    Meow, meow meow meow.\n",
    "    \n",
    "Sincerely,\n",
    "A friend\n",
    "```"
   ]
  },
  {
   "cell_type": "code",
   "execution_count": 10,
   "metadata": {},
   "outputs": [],
   "source": [
    "fileName = \"hello.txt\"\n",
    "outFile = open(fileName, 'w')\n",
    "outFile.write(\"Hello, world\\n\")\n",
    "outFile.close()"
   ]
  },
  {
   "cell_type": "markdown",
   "metadata": {},
   "source": [
    "### Comment: I don't think you meant to do this..."
   ]
  },
  {
   "cell_type": "markdown",
   "metadata": {},
   "source": [
    "**(C)** Write code that reads in the gene IDs from `genes.txt` and prints the **unique** gene IDs to a **new file** called `genes_unique.txt`. (You can re-use your code or the answer sheet from lab4 for getting the unique IDs.)"
   ]
  },
  {
   "cell_type": "code",
   "execution_count": 11,
   "metadata": {},
   "outputs": [
    {
     "name": "stdout",
     "output_type": "stream",
     "text": [
      "\n",
      "List of Unique Genes:\n",
      "uc007zzs.1\n",
      "uc009akk.2\n",
      "uc009eyb.1\n",
      "uc008vlv.1\n",
      "uc008wzq.1\n",
      "uc007hnl.1\n",
      "uc008tvu.1\n",
      "uc008vlv.3\n",
      "uc007xgk.1\n",
      "uc009qsh.1\n",
      "uc008all.1\n",
      "uc008eda.1\n",
      "uc007shu.4\n",
      "uc009mor.1\n",
      "uc008fux.1\n",
      "uc007ztg.2\n",
      "uc007nkt.1\n",
      "uc008qul.3\n",
      "uc008ktr.2\n",
      "uc008iwn.1\n",
      "uc009fxp.2\n",
      "uc008vsh.1\n",
      "uc008gkj.2\n",
      "uc007piu.2\n",
      "uc008vsk.1\n",
      "uc008vsv.1\n",
      "uc008kjh.1\n",
      "uc009dri.1\n",
      "uc008vlv.2\n",
      "uc009rxy.1\n",
      "uc008fyq.1\n",
      "uc009act.1\n",
      "uc008lub.1\n",
      "uc007ker.1\n",
      "uc008qiz.2\n",
      "uc008bak.1\n",
      "uc008kcg.1\n",
      "uc009cjg.1\n",
      "uc007vlq.1\n",
      "uc007xog.1\n",
      "uc009avv.1\n",
      "uc008kcg.2\n",
      "uc007kmj.1\n",
      "uc008oaj.1\n",
      "uc007cib.1\n",
      "uc007ket.1\n",
      "uc009rpf.1\n",
      "uc008owo.1\n",
      "uc008jaq.1\n",
      "\n",
      "Out of 54:   49 unique IDs and 5 duplicates\n",
      "\n",
      "\n",
      "List of 5 Duplicates: ['uc007hnl.1', 'uc008iwn.1', 'uc008kjh.1', 'uc008bak.1', 'uc008vlv.1']\n"
     ]
    }
   ],
   "source": [
    "inFile = open(\"genes.txt\", \"r\")\n",
    "fileName = \"genes_unique.txt\"\n",
    "outFile = open(fileName, 'w')\n",
    "\n",
    "\n",
    "origList = []\n",
    "uniqList = []\n",
    "duplList = []\n",
    "totalCount = 0\n",
    "finalCount = 0\n",
    "duplicates = 0\n",
    "\n",
    "#print \"\\nList of Original Genes:\"\n",
    "for line in inFile:\n",
    "    line = line.rstrip(\"\\n\")\n",
    "    origList.append(line)\n",
    "    #print line\n",
    "    totalCount += 1\n",
    "    \n",
    "print \"\\nList of Unique Genes:\"\n",
    "for item in origList:\n",
    "    if item not in uniqList:\n",
    "        print(item)\n",
    "        uniqList.append(item)\n",
    "        outFile.write(item + \"\\n\")\n",
    "        finalCount += 1\n",
    "    elif item in uniqList:\n",
    "        duplList.append(item)\n",
    "        \n",
    "outFile.close()\n",
    "\n",
    "duplicates = totalCount - finalCount\n",
    "\n",
    "print \"\\nOut of {}:   {} unique IDs and {} duplicates\".format(totalCount, finalCount, duplicates)\n",
    "print \"\\n\\nList of {} Duplicates: {}\".format(duplicates, duplList)"
   ]
  },
  {
   "cell_type": "markdown",
   "metadata": {},
   "source": [
    "---\n",
    "## 4. The \"many counters\" problem (4pts)"
   ]
  },
  {
   "cell_type": "markdown",
   "metadata": {},
   "source": [
    "**(A)** Write code that reads a file of sequences and tallies how many sequences there are of each length. Use `sequences3.txt` as input. \n",
    "\n",
    "*Hint: you can use a dictionary to keep track of all the tallies. For example:*"
   ]
  },
  {
   "cell_type": "code",
   "execution_count": 12,
   "metadata": {},
   "outputs": [
    {
     "name": "stdout",
     "output_type": "stream",
     "text": [
      "15\n",
      "{15: 1}\n",
      "1\n"
     ]
    }
   ],
   "source": [
    "# hint code:\n",
    "\n",
    "tallyDict = {}\n",
    "seq = \"ATGCTGATCGATATA\"\n",
    "length = len(seq)\n",
    "print length\n",
    "\n",
    "if length not in tallyDict:\n",
    "    tallyDict[length] = 1  #initialize to 1 if this is the first occurrence of the length...\n",
    "else:\n",
    "    tallyDict[length] = tallyDict[length] + 1   #...otherwise just increment the count.\n",
    "    \n",
    "print tallyDict #prints the object\n",
    "print tallyDict[length]"
   ]
  },
  {
   "cell_type": "code",
   "execution_count": 13,
   "metadata": {},
   "outputs": [
    {
     "name": "stdout",
     "output_type": "stream",
     "text": [
      "List of sequences: \n",
      "ATGATGTTTAAATCGGTTTGCGAGATACGAGGAAGCTAG\n",
      "ATGTTGGTATTGGACCTAGCTTTGTGACCCATGTGGCCACCTACGGCCAGACTTTAG\n",
      "ATGAGAACCAGTACAACAAAATGGCTAATATTTGCTTGAACTCGTAATAGCGACTAA\n",
      "ATGGATTATAGTGAAAAACCAAGTTTGCTCCCTGCTTAGAATCGGAAGTAA\n",
      "ATGACCCCTCTTCTTAATCAATGCGAGGATCATGAGTAATGACAGTATACGGTCTGCTAA\n",
      "ATGGTCTTCCGGGTATCCTTTTGTTGA\n",
      "ATGCCAGTATGCAACGAAGGGAGTCCCGGCGCATCCGCGGCGAATCAGTAGCTCCTTATACATCCCCTTTTCCACAGCGCGTAGTGCTGA\n",
      "ATGATCGATCGGGATCGCGAAACTGGAGTTCTTGACATTATTTCCGCAGGTCGTGCGGTGCCGTGGTCCGATGAACGCTGA\n",
      "ATGTTACTCGGTAACAGTAATTTATAGCATTTAAAATCGCCATAA\n",
      "ATGCTTTTGTTTTCCGGCGACAACTACTTTGCGTAG\n",
      "ATGTGAGGACGTCCTTTCGGTGCTTATGTTACGTGAAACTACCAGTACTGCCAGGCCTCTCTGGCGTCCCCGTTGCCTTCGTGA\n",
      "ATGATGGTAGCTACGAGTCTTCTGAGCTTTGACTGA\n",
      "ATGTTAAGATCGCTTCTCGGTGAGTGTGGGTTTCATATGTAA\n",
      "ATGAAATGGTTCTGTTTATGACCGGTAGCGCAACCGCTTTCCGTAGACTACGTTAAGCACCCTTTGTGCTCGTACTAATTGTAAGGGCGATAG\n",
      "ATGATCTGGCTTTGACTTGTGCTACTAATCAGCACCGTCACCCTCAGCGAAGGCGGCGTACGAGGTGAGGGATAA\n",
      "ATGAGGGAATCCGGCCCGATAGGATGACATCGAACAAGCTACATTCCAACTCACGAGCTGTGTCGCGACTTGGGCTAA\n",
      "ATGTATATCAGAGGTAATAGAGTGCCAGCTTAGCATATGTAGTTGAGCCGCAAGCATTAA\n",
      "ATGTGTCGCGTGGCGGCAAGGTAGTTCTCCCAGAAGACTTCTGTTCGTGATCATCGGGCCTACTCTCACAATCTGCTAAATATCTTATTACAACACATGTGA\n",
      "ATGAGCTTTTGTTTTCGCCAGTCACGTGAAATTGCTTCCTGA\n",
      "ATGCAGTTAAGCACCGGCGGCGTGTGGTTATGAGAAGGATATATCACGCTGGCCAGCGGGAGCTCCGCCCCGAGTTAA\n",
      "ATGAGATAACTAGTATACCTCACCTTTGCTGCCATAATCCGTAACTTCACTTTCCCTGACTAATTGTACGGATACTAGTTCTGA\n",
      "ATGGACCGGCCGCGCTTCGTCGTCCTAGTATACTCTAAGTACAGCTGGCGTTGTTGTATCCCTGGCGCGACAAGAATCGGGTTTGACGATCGAGGAGGCTAA\n",
      "ATGACACTAAGCTACTTGCCTCAAAAATCACATCACATTTAAAACTACTAG\n",
      "ATGTCTTACTGCACATTAAACGCCCCAAGGTCAGAGGAAGGATGCTAGTCCGATATTCGTTGCCTAACTAGATGATGATGA\n",
      "ATGTCTTGAAACCTTCAGTTGGCCTAGCTCCCGCCCTATTGTAATGGAAAGGACAAATTGCATTAA\n",
      "ATGTGTGCCTTTTTCTATAAGAATGTATAG\n",
      "ATGTGCCAAGTACACCACTTCTGCCCTCTCGGAGGCTCGGGGCGGGGGTATTAA\n",
      "ATGGAGCGTACACCATCTCAGAATTGGTTCTGGTTCCGCTTGCATCTTGGCGTCCTAGCGGTGCTTTTTGGCCCTTAG\n",
      "ATGAATTCCACCGGCGGTTAACTGGACCTAAAATGA\n",
      "ATGTTCTAGCAGAGGTCATGCGAAGCCAAAAACGCACGGTAA\n",
      "ATGAGTCTTCACCCGAGCTCTATGCGGAGAGAACTCGGACGCGCCCCTCAATCGAATTGAGATAGTTGGTGTTTGCCTATAGAACCCTAG\n",
      "ATGACATCCTGCCAGAAACATACTTACTAAATAAGCAGGTTTGACCAGTAG\n",
      "ATGTGGGCTGCGGACACCCATCCGAACGCCGTATCTGCCTCAAGCCTACCCGCAGCCTTCCTGAGAATCTGATAGCTATAG\n",
      "ATGTCCTAAGTTTCCCTCATATTGAGGGTCGTAGAGGTCTAG\n",
      "ATGAGTACGCCATAATCCGGCTAGATCTGTTTTCTATACCTACCCCAATGATTACTTCTAGAGAACCGAGGGATGTTCGAGCAATGTCGGAAGTAG\n",
      "ATGGTTTGACGACTGTTTCTTGCCGCGGTATAAACAGTCTGTCCCTACTCACAGAATTCAATGATTACTTAG\n",
      "ATGTAGGCGGTCTCAGTGAATTTTTGCTGTCTCGGATTACTATCTATGAATAAAGTTGTCTAA\n",
      "ATGCTGATAGCGAGATCAGTACACGATAAGTAGGGTACCCTTGGTACGTCTAGTTAA\n",
      "ATGTTTTCTTCTTGAGCTCCGTGTAGTCAGCCTAGTGTCCACCGACGAACGTGA\n",
      "ATGGCTGCCACACACAATCATCGGAGCGTACCCACGACAGTTTTCAATAGATACCACCTCATTATGCACTTAGTATGAAAAAATGTCCCTGACACTCTATAA\n",
      "ATGATCAATATTAGACAAAGCCGGTAA\n",
      "ATGTGTCCCCACTGCCAGGCTTTCCGCACTGAAAAAACGGCTACGAAGTAA\n",
      "ATGTGAATTAGAGAACTTGAGAAAGGCCAGCAACCGATGAATCGCCGCGGGCGTTGTAAGACTTGCTGATAAATAGGGTTATCCGGTCCCATGTGGTAG\n",
      "ATGTACTTACGTCCGTAATCTCCGGTCCCATAG\n",
      "ATGCGCTACCGGGTTAGCAGCGCACGTTGCTAGCGTATAGTTCTTTACTAGCAGACCGCTAATTCGTGA\n",
      "ATGGTCGGCTCCGCCCCGACCCACAGGGAAATGCTTAGAGCTGGTTAA\n",
      "ATGCACCCAGCCGACACCAATTGCACTTTCGTGGTCATAGGAAGTCTCGCTCGCGACTAA\n",
      "ATGTCCAGGAGGGAACCCGGTGCGCTCCTCGCACCAAAAAGGTAA\n",
      "ATGTATCTATGGAACAAGGATACCCTGCAGTCCTGGGTCGGGACTTAGGGCTGAGGTCTGTCAGCAACTATGCTGACGTCATGGGATGTAGACGGGCTAAACTGA\n",
      "ATGGCTCAACGGGGTACTGGGACCAAACATACGCTGGGCTTAGTTTAG\n",
      "ATGTTGGGGACAGATTGTAGTGTCATTCGCTAG\n",
      "ATGAAACTCCCCTGATGTACCCAAGTGCTGTGACTTCACCCCTAG\n",
      "ATGGAGCTCCATTTTAGGGGTATATAATCAAAGGAGACTAGTTTTGTTTAGCTGTTTGTTCTACACCATGCCTGA\n",
      "ATGAACGACTAAAAACAAGTTATATAAATGCTGATCCTGGATTGATATAATAACCCGGCACGATTCGCAGGCCCGACGGGGTTCCACTAAAAGGAGAAGATCTAA\n",
      "ATGCGAAGACCCGGTTTTATTAGGGAAGGGCGCAGAGCCTAA\n",
      "ATGGGAGTGCAAGTTCTTCAGTGTGAGGCCGTGTATATCCGTGGGAGTGCAAAAGTCATCTCCCGGCGACAACAGGATTCGACGAGTTAA\n",
      "ATGTGGAAGGGTCTCTGCTCAATAATGTCAGCGGCCTCTAAGGCCTTAAACAATTAGAAACGAGCGTAG\n",
      "ATGCCCATCCATTGTAGTTAGGACTGTCTACTCGATTAA\n",
      "ATGGTGGGCAACTTGGGATGCAATCAAGTTTACAGAAGATCTATCAGATCGTGA\n",
      "ATGAACAGACGAGCCCGGGACCTATACGTTTGGTAA\n",
      "ATGGGCTTGAGGGGCGATCATGCGAGCGAAATAGTAGGCGGTACGAATAAGCGGGGCAACGTTTAAAATGACTTCCTATCCAAATAA\n",
      "ATGGTTAGATCGAACGTTAAATTTGCCTAA\n",
      "ATGCCCACACTGTGGTCAACATTGCCTACCTCATTTTCCCAGCGCTGCGCGACCAGGTGCTTGATGCATCTTATCACTTAGCTCTCGGTGGAATAG\n",
      "ATGACAGAACTTAACGTTTTGCAAAGCTGCGGGCGCAAAAATGACCCTTACGAATCGGCACTACTCGTTGATCTCCCAGTTCAAATCTAA\n",
      "ATGGTTTCGACAGTTCCCTATTACAGTATTATGGTCTTCCCATTTTTAACAGAACGACAACCGTCTTCCGTCGATACCTAACTCTCGTAA\n",
      "ATGGGTCAACTCGGAGTGCAGACTTAGATCTGACTTGCATGA\n",
      "ATGAAAGCAGAATAAGCCGTATATCACCCGCTTAAAACCCTTGGCTGACACCCTTCACGGTGTGTGGGAAGATGGTTTTTCACTGTTCGGGTTTTTCTAGTGTGA\n",
      "ATGTCATCCTCTCGTTTTAAAGAGTCCGCCGATCACGCAGCCCTCGGGATGTGTCTATTCCCAGCTTCCCAAGTCTGATAG\n",
      "ATGCATCATACATTCGTTTTCAACAGTGGTCATCCACATTGTGCAGGCGCCCGATAGAAAGGCACATCATCAATGCTCTACGTCTCGGCTGATTAA\n",
      "ATGCCTAGTGAGCCATTCCTGTGGAGGGTGTTCAAAAAGAAATGA\n",
      "ATGATTGGGATGTGATGTCCCCACACGAGGATGAGCATACAATCAGAGAACCCTGCGTAAAACAGACAGTGGTCGTTACCTTCATCTCGCGCTGCGTGA\n",
      "ATGATCCGCATTACGCTGTACTGCATGACAGGCACAATAGACCTGGGCTTATGTACTATACTTGATCACATTTCATGCTGGACCCGTCTTACTTACATCTGCTAA\n",
      "ATGAAATACATCTAGTACCAAGATGCCCACAGGGAATTGTCCCTCCGCAACACGCTAAACCCAATGTAG\n",
      "ATGTTTGCGGCGCGTAAATCCAGGCGGACATGGCCTGATGAACGAGTTGAGATGATCCCAACTTAG\n",
      "ATGGTCGTGTTTTTCGCCAAAGGAAGGCCGCACCCCTTATCTACAATCAAGTTGGTTGCATAG\n",
      "ATGGGTGGGGGGTCCGCACTTTCTCCGAGATAA\n",
      "ATGATATACATTGGAAGCGCACCAAAGGCAGGAGGCGCGTGTTTCTTGGCCTCCAGATAA\n",
      "ATGTATTAAGTGGCACTACAATTTGATCGTGACGTGACATGGCGGATTAGAGCCAACAGACCAGTGTCACGTCGTGTTGAGACCGCCTAA\n",
      "ATGTTGCGCCGAACGCTAAATTCAATCGGATCATCGTATCCGAAGTCCAAAAGACTCTGGACGCCCACTAGCATCTCAGGTATCAGATTTTCAGCCTAG\n",
      "ATGCAGATATAAAGTGCCCAGGGTCAAGGGAGGCTATCTATTTGAATTACCGGAATTTAAAACTAG\n",
      "ATGCCGATTGTTGCTGAGGAAACTTGA\n",
      "ATGGATATTCTGCATTGCGGTCGAGTATACAATCTTGAACATCGTTCCTAAGTCATTCTTTAGCTCCGGGAGCGACAAAGGTGA\n",
      "ATGGACCGGACTCCTTACTAGGGATACAGGATAACTTGCTCGTTACCCTTTACTGCTAGCAAGGTACCAGACTGACTCTAG\n",
      "ATGTCGGGAGGCGTTGAGGGTACACCCCAGACCCGTGCTCTCAGAAAATTTGAGCCAACTTTCTAGTGTTAG\n",
      "ATGCATGTCTGAAAACGTTCAGGCACACATGGGCAAAGTTCATAG\n",
      "ATGCGATAGCTCGTTTCACACCGACTAGCGGTCTAGATCATCGAGAACTAG\n",
      "ATGAACACCGAGTCACACTCCACATTTAGACAGTGCTAG\n",
      "ATGTGTACTTAATGTGGACAGTATTAG\n",
      "ATGGAGACGGATTTCGACAGCGGGTCCAACTAGATGCGACGTAGCCTGTAA\n",
      "ATGCTGGTTACACCTATTAGTGGTTCTACCGTAATATAA\n",
      "ATGCACCGCGTTTCCACATATAAATTTATACAAGCAGATATGGGTTGAATCACTCGTTGCTCCATCACCAAGATGGGAGGCTCCGCTGCTTTTGCGCCGCGTTAA\n",
      "ATGCCTGATTCCTCCAAAATTCGCTGGGCCTTCGATACTGACCCAGAGTGA\n",
      "ATGGATTACTTTCAGCGAACAGCGTTGAGTGATTTTAAGAAGGAGGCGGAAAGGGGCGGATTTTGGAACTGCCCCGGGCTCAAATAG\n",
      "ATGTCTCTTGGTTGCGACCGTACTGCATGGATGCCAAAGGTCCTGGAGAGGCGCTTTCAAGCAGGCTTTCACGTTATGAGCTATACCTATTAG\n",
      "ATGGGAGGCACGAGAAGGACAGTGTCATTCACATGTCACTGACTCTGA\n",
      "ATGTCTGTCCGCAAAAACCGAGTGATACATCCGAGGGGGCTGACGGATTGTCTAGTAAGTTAG\n",
      "ATGCACAATAGTAGTAGGCTCGTGATGGATTGAGCATATAGTCGAACTGGGTGA\n",
      "ATGCGGGGCGATACGTAGACAAGGTAGCACCGGATTAACGAGGCCTCGTTCAATGAATCCAAGACACTTTCCAACCATCACTTATAA\n",
      "ATGAGGCTATATCCACGATGTGCCGTCTGTCTTAAGCTCTTCCGCATCGAGTAA\n",
      "ATGCGCAAAAGATCTCCAAAACCGATAGAGCAACCGCTCTGTGTCAAGTTCAAGGCAACGAGGAACCCGCCCTACCACATCCTTCTGAGCTAA\n",
      "\n",
      "There are 100 total sequences.\n",
      "\n",
      "Here are the different lenghts and how many of each:\n",
      "(27, 4)\n",
      "(30, 2)\n",
      "(33, 3)\n",
      "(36, 4)\n",
      "(39, 4)\n",
      "(42, 6)\n",
      "(45, 5)\n",
      "(48, 3)\n",
      "(51, 7)\n",
      "(54, 5)\n",
      "(57, 3)\n",
      "(60, 4)\n",
      "(63, 3)\n",
      "(66, 3)\n",
      "(69, 3)\n",
      "(72, 2)\n",
      "(75, 2)\n",
      "(78, 3)\n",
      "(81, 5)\n",
      "(84, 3)\n",
      "(87, 3)\n",
      "(90, 6)\n",
      "(93, 3)\n",
      "(96, 3)\n",
      "(99, 3)\n",
      "(102, 3)\n",
      "(105, 5)\n"
     ]
    }
   ],
   "source": [
    "import operator\n",
    "tallyDict = {}\n",
    "curr_Max = []\n",
    "inFile = open(\"sequences3.txt\", \"r\")\n",
    "totalSeq = 0\n",
    "mostCommon = 0\n",
    "\n",
    "print \"List of sequences: \"\n",
    "for line in inFile:\n",
    "    line = line.strip()\n",
    "    print line\n",
    "    length = len(line)\n",
    "    totalSeq += 1\n",
    "    if length not in tallyDict:\n",
    "        tallyDict[length] = 1  #initialize to 1 if this is the first occurrence of the length...\n",
    "    else:\n",
    "        tallyDict[length] = tallyDict[length] + 1   #...otherwise just increment the count.\n",
    "\n",
    "print \"\\nThere are\", totalSeq, \"total sequences.\\n\"\n",
    "print \"Here are the different lenghts and how many of each:\"\n",
    "for kind in tallyDict.items():\n",
    "    print kind    "
   ]
  },
  {
   "cell_type": "markdown",
   "metadata": {},
   "source": [
    "**(B)** Using the tally dictionary you created above, figure out which sequence length was the most common, and print it to the screen."
   ]
  },
  {
   "cell_type": "code",
   "execution_count": 14,
   "metadata": {},
   "outputs": [
    {
     "name": "stdout",
     "output_type": "stream",
     "text": [
      "\n",
      "Most common Length:  (51, 7)\n"
     ]
    }
   ],
   "source": [
    "#    for length, tally in tallyDict.items():\n",
    "#        print length\n",
    "#        print tally\n",
    "#        print tallyDict.items()\n",
    "#        print tallyDict\n",
    "#        if length > mostCommon:\n",
    "#            mostCommon = tallyDict[length]\n",
    "#    break\n",
    "\n",
    "#This works! - However, is there a more manual way to get the key-value pair based off a max of the values? \n",
    "#Without using a stats function?        \n",
    "print \"\\nMost common Length: \", max(tallyDict.items(), key=operator.itemgetter(1))[0:2]"
   ]
  },
  {
   "cell_type": "markdown",
   "metadata": {},
   "source": [
    "---\n",
    "## 5. Codon table (6pts)\n",
    "\n",
    "For this question, use `codon_table.txt`, which contains a list of all possible codons and their corresponding amino acids. We will be using this info to create a dictionary, which will allow us to translate a nucleotide sequence into amino acids. Each part of this question builds off the previous parts."
   ]
  },
  {
   "cell_type": "markdown",
   "metadata": {},
   "source": [
    "**(A)** Thinkin' question (short answer, not code): If we want to create a codon dictionary and use it to translate nucleotide sequences, would it be better to use the codons or amino acids as keys? "
   ]
  },
  {
   "cell_type": "markdown",
   "metadata": {},
   "source": [
    "Your answer: codons"
   ]
  },
  {
   "cell_type": "markdown",
   "metadata": {},
   "source": [
    "**(B)** Read in `codon_table.txt` (note that it has a header line) and use it to create a codon dictionary. Then use `input()` to prompt the user to enter a single codon (e.g. ATG) and print the amino acid corresponding to that codon to the screen."
   ]
  },
  {
   "cell_type": "code",
   "execution_count": 15,
   "metadata": {},
   "outputs": [
    {
     "name": "stdout",
     "output_type": "stream",
     "text": [
      "Enter a codon: acc\n",
      "Corresponding amino acid:  T\n"
     ]
    }
   ],
   "source": [
    "inFile = \"codon_table.txt\"\n",
    "inFile = open(inFile, \"r\")\n",
    "inFile.readline() #skip header \n",
    "codonDict = {}\n",
    "\n",
    "for line in inFile:\n",
    "    line = line.strip()\n",
    "    codon, amino = line.split() \n",
    "    codonDict[codon] = amino\n",
    "    #print codonDict\n",
    "#print \"\\nLength of Codon Table: \", len(codonTable)\n",
    "#print codonTable\n",
    "\n",
    "userInput = raw_input(\"Enter a codon: \").upper() #userInput is the key\n",
    "userInput = userInput.strip()\n",
    "if userInput in codonDict:\n",
    "    print \"Corresponding amino acid: \", codonDict[userInput] \n",
    "else:\n",
    "    print \"Codon does not exist.\""
   ]
  },
  {
   "cell_type": "markdown",
   "metadata": {},
   "source": [
    "**(C)** Now we will adapt the code in (B) to translate a longer sequence. Instead of prompting the user for a single codon, allow them to enter a longer sequence. First, check that the sequence they entered has a length that is a multiple of 3 (Hint: use the mod operator, %), and print an error message if it is not. If it is valid, then go on to translate every three nucleotides to an amino acid. Print the final amino acid sequence to the screen."
   ]
  },
  {
   "cell_type": "code",
   "execution_count": 16,
   "metadata": {},
   "outputs": [
    {
     "name": "stdout",
     "output_type": "stream",
     "text": [
      "Enter a sequence or press X to exit: ATCATC\n",
      "Translation:  II\n",
      "Enter a sequence or press X to exit: X\n",
      "program will exit.\n"
     ]
    }
   ],
   "source": [
    "inFile = \"codon_table.txt\"\n",
    "inFile = open(inFile, \"r\")\n",
    "inFile.readline() #skip header \n",
    "codonDict = {}\n",
    "temp_str = \"\"\n",
    "seq = \"\"\n",
    "counter = 0\n",
    "\n",
    "\n",
    "#make dictionary\n",
    "for line in inFile:\n",
    "    line = line.strip()\n",
    "    codon, amino = line.split() \n",
    "    codonDict[codon] = amino\n",
    "    #print codonDict\n",
    "#print \"\\nLength of Codon Table: \", len(codonTable)\n",
    "#print codonTable\n",
    "\n",
    "\n",
    "\n",
    "#get user input\n",
    "while (seq != 'X'):\n",
    "    seq = raw_input(\"Enter a sequence or press X to exit: \").upper() #userInput is the key\n",
    "    #seq = seq.strip():\n",
    "    seq = seq.upper()\n",
    "    if (seq == 'X'): \n",
    "        print \"program will exit.\"\n",
    "        break\n",
    "    elif (len(seq) % 3) != 0:\n",
    "        print \"Must enter a sequence that is divisible by 3.  Try again.\"\n",
    "        continue\n",
    "    elif (len(seq) % 3) == 0:\n",
    "        for i in range(0,len(seq),3):\n",
    "            if seq[i:i+3] in codonDict:\n",
    "                temp_str = temp_str + codonDict[seq[i:i+3]]\n",
    "    else:\n",
    "        print \"Error.\"\n",
    "    print \"Translation: \", temp_str\n",
    "    temp_str = \"\""
   ]
  },
  {
   "cell_type": "code",
   "execution_count": null,
   "metadata": {},
   "outputs": [],
   "source": []
  },
  {
   "cell_type": "markdown",
   "metadata": {},
   "source": [
    "**(D)** Now, instead of taking user input, you will apply your translator to a set of sequences stored in a file. Read in the sequences from `sequences3.txt` (assume each line is a separate sequence), translate it to amino acids, and print it to a new file called `proteins.txt`."
   ]
  },
  {
   "cell_type": "code",
   "execution_count": 17,
   "metadata": {},
   "outputs": [],
   "source": [
    "temp_str = \"\"\n",
    "seq = \"\"\n",
    "counter = 0\n",
    "\n",
    "seqFile = open(\"sequences3.txt\", \"r\")\n",
    "fileName = \"myProteins.txt\"\n",
    "outFile = open(fileName, 'w')\n",
    "\n",
    "\n",
    "\n",
    "for line in seqFile:\n",
    "    counter += 1\n",
    "    seq = line.strip()\n",
    "    if (len(seq) % 3) != 0:\n",
    "        print \"Must enter a sequence that is divisible by 3.  Try again.\"\n",
    "        continue\n",
    "    elif (len(seq) % 3) == 0:\n",
    "        for i in range(0,len(seq),3):\n",
    "            if seq[i:i+3] in codonDict:\n",
    "                temp_str = temp_str + codonDict[seq[i:i+3]]\n",
    "    else:\n",
    "        print \"Error.\"\n",
    "    #print \"Translation {}: \".format(counter) + temp_str\n",
    "    #print \"\"\n",
    "    outFile.write(\"Translation {}: \".format(counter) + temp_str + \"\\n\")\n",
    "    temp_str = \"\"\n",
    "\n",
    "#I don't know where to put this outFile.close()?\n",
    "outFile.close()   \n",
    "    "
   ]
  },
  {
   "cell_type": "code",
   "execution_count": null,
   "metadata": {},
   "outputs": [],
   "source": []
  },
  {
   "cell_type": "code",
   "execution_count": null,
   "metadata": {},
   "outputs": [],
   "source": []
  }
 ],
 "metadata": {
  "anaconda-cloud": {},
  "kernelspec": {
   "display_name": "Python 2",
   "language": "python",
   "name": "python2"
  },
  "language_info": {
   "codemirror_mode": {
    "name": "ipython",
    "version": 2
   },
   "file_extension": ".py",
   "mimetype": "text/x-python",
   "name": "python",
   "nbconvert_exporter": "python",
   "pygments_lexer": "ipython2",
   "version": "2.7.15"
  }
 },
 "nbformat": 4,
 "nbformat_minor": 1
}
