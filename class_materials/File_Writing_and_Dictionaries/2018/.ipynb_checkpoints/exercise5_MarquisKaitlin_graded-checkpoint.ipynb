{
 "cells": [
  {
   "cell_type": "markdown",
   "metadata": {},
   "source": [
    "# Programming Bootcamp 2018\n",
    "# Lesson 5 Exercises\n",
    "---"
   ]
  },
  {
   "cell_type": "markdown",
   "metadata": {},
   "source": [
    "** Earning points (optional) **\n",
    "\n",
    "- Enter your name below.\n",
    "- Post your notebook privately to instructors on piazza **before 9:00 pm on 8/21**."
   ]
  },
  {
   "cell_type": "markdown",
   "metadata": {},
   "source": [
    "**Name**: Kaitlin Marquis"
   ]
  },
  {
   "cell_type": "markdown",
   "metadata": {},
   "source": [
    "---\n",
    "## 1. Guess the output: dictionary practice (1pt)\n",
    "\n",
    "For the following blocks of code, first try to guess what the output will be, and then run the code yourself. Points will be given for filling in the guesses; guessing wrong won't be penalized."
   ]
  },
  {
   "cell_type": "code",
   "execution_count": 1,
   "metadata": {},
   "outputs": [],
   "source": [
    "# run this cell first!\n",
    "fruits = {\"apple\":\"red\", \"banana\":\"yellow\", \"grape\":\"purple\"}"
   ]
  },
  {
   "cell_type": "code",
   "execution_count": 2,
   "metadata": {},
   "outputs": [
    {
     "name": "stdout",
     "output_type": "stream",
     "text": [
      "yellow\n"
     ]
    }
   ],
   "source": [
    "print fruits[\"banana\"]"
   ]
  },
  {
   "cell_type": "markdown",
   "metadata": {},
   "source": [
    "Your guess: yellow"
   ]
  },
  {
   "cell_type": "markdown",
   "metadata": {},
   "source": [
    " "
   ]
  },
  {
   "cell_type": "code",
   "execution_count": 3,
   "metadata": {},
   "outputs": [
    {
     "name": "stdout",
     "output_type": "stream",
     "text": [
      "red\n"
     ]
    }
   ],
   "source": [
    "query = \"apple\"\n",
    "print fruits[query]"
   ]
  },
  {
   "cell_type": "markdown",
   "metadata": {},
   "source": [
    "Your guess: red"
   ]
  },
  {
   "cell_type": "markdown",
   "metadata": {},
   "source": [
    " "
   ]
  },
  {
   "cell_type": "code",
   "execution_count": 4,
   "metadata": {},
   "outputs": [
    {
     "ename": "KeyError",
     "evalue": "0",
     "output_type": "error",
     "traceback": [
      "\u001b[0;31m---------------------------------------------------------------------------\u001b[0m",
      "\u001b[0;31mKeyError\u001b[0m                                  Traceback (most recent call last)",
      "\u001b[0;32m<ipython-input-4-20060b6afa7b>\u001b[0m in \u001b[0;36m<module>\u001b[0;34m()\u001b[0m\n\u001b[0;32m----> 1\u001b[0;31m \u001b[0;32mprint\u001b[0m \u001b[0mfruits\u001b[0m\u001b[0;34m[\u001b[0m\u001b[0;36m0\u001b[0m\u001b[0;34m]\u001b[0m\u001b[0;34m\u001b[0m\u001b[0m\n\u001b[0m",
      "\u001b[0;31mKeyError\u001b[0m: 0"
     ]
    }
   ],
   "source": [
    "print fruits[0]"
   ]
  },
  {
   "cell_type": "markdown",
   "metadata": {},
   "source": [
    "Your guess: Error, dictionaries not indexed and there is no key 0"
   ]
  },
  {
   "cell_type": "markdown",
   "metadata": {},
   "source": [
    " "
   ]
  },
  {
   "cell_type": "code",
   "execution_count": 5,
   "metadata": {},
   "outputs": [
    {
     "name": "stdout",
     "output_type": "stream",
     "text": [
      "['grape', 'apple', 'banana']\n"
     ]
    }
   ],
   "source": [
    "print fruits.keys()"
   ]
  },
  {
   "cell_type": "markdown",
   "metadata": {},
   "source": [
    "Your guess: apple, banana, grape in random order"
   ]
  },
  {
   "cell_type": "markdown",
   "metadata": {},
   "source": [
    " "
   ]
  },
  {
   "cell_type": "code",
   "execution_count": 6,
   "metadata": {},
   "outputs": [
    {
     "name": "stdout",
     "output_type": "stream",
     "text": [
      "['purple', 'red', 'yellow']\n"
     ]
    }
   ],
   "source": [
    "print fruits.values()"
   ]
  },
  {
   "cell_type": "markdown",
   "metadata": {},
   "source": [
    "Your guess: red, yellow, purple in random order"
   ]
  },
  {
   "cell_type": "markdown",
   "metadata": {},
   "source": [
    " "
   ]
  },
  {
   "cell_type": "code",
   "execution_count": 7,
   "metadata": {},
   "outputs": [
    {
     "name": "stdout",
     "output_type": "stream",
     "text": [
      "purple\n",
      "red\n",
      "yellow\n"
     ]
    }
   ],
   "source": [
    "for key in fruits:\n",
    "    print fruits[key]"
   ]
  },
  {
   "cell_type": "markdown",
   "metadata": {},
   "source": [
    "Your guess: purple, red, yellow"
   ]
  },
  {
   "cell_type": "markdown",
   "metadata": {},
   "source": [
    " "
   ]
  },
  {
   "cell_type": "code",
   "execution_count": 8,
   "metadata": {},
   "outputs": [
    {
     "name": "stdout",
     "output_type": "stream",
     "text": [
      "{'grape': 'purple', 'apple': 'red'}\n"
     ]
    }
   ],
   "source": [
    "del fruits[\"banana\"]\n",
    "print fruits"
   ]
  },
  {
   "cell_type": "markdown",
   "metadata": {},
   "source": [
    "Your guess: grape: purple, apple: red"
   ]
  },
  {
   "cell_type": "markdown",
   "metadata": {},
   "source": [
    " "
   ]
  },
  {
   "cell_type": "code",
   "execution_count": 9,
   "metadata": {},
   "outputs": [
    {
     "ename": "KeyError",
     "evalue": "'pear'",
     "output_type": "error",
     "traceback": [
      "\u001b[0;31m---------------------------------------------------------------------------\u001b[0m",
      "\u001b[0;31mKeyError\u001b[0m                                  Traceback (most recent call last)",
      "\u001b[0;32m<ipython-input-9-1704fdb2b6e9>\u001b[0m in \u001b[0;36m<module>\u001b[0;34m()\u001b[0m\n\u001b[0;32m----> 1\u001b[0;31m \u001b[0;32mprint\u001b[0m \u001b[0mfruits\u001b[0m\u001b[0;34m[\u001b[0m\u001b[0;34m\"pear\"\u001b[0m\u001b[0;34m]\u001b[0m\u001b[0;34m\u001b[0m\u001b[0m\n\u001b[0m",
      "\u001b[0;31mKeyError\u001b[0m: 'pear'"
     ]
    }
   ],
   "source": [
    "print fruits[\"pear\"]"
   ]
  },
  {
   "cell_type": "markdown",
   "metadata": {},
   "source": [
    "Your guess: error, no key called pear"
   ]
  },
  {
   "cell_type": "markdown",
   "metadata": {},
   "source": [
    " "
   ]
  },
  {
   "cell_type": "code",
   "execution_count": 10,
   "metadata": {},
   "outputs": [
    {
     "name": "stdout",
     "output_type": "stream",
     "text": [
      "green\n"
     ]
    }
   ],
   "source": [
    "fruits[\"pear\"] = \"green\"\n",
    "print fruits[\"pear\"] "
   ]
  },
  {
   "cell_type": "markdown",
   "metadata": {},
   "source": [
    "Your guess: green"
   ]
  },
  {
   "cell_type": "markdown",
   "metadata": {},
   "source": [
    " "
   ]
  },
  {
   "cell_type": "code",
   "execution_count": 11,
   "metadata": {},
   "outputs": [
    {
     "name": "stdout",
     "output_type": "stream",
     "text": [
      "red or green\n"
     ]
    }
   ],
   "source": [
    "fruits[\"apple\"] = fruits[\"apple\"] + \" or green\"\n",
    "print fruits[\"apple\"]"
   ]
  },
  {
   "cell_type": "markdown",
   "metadata": {},
   "source": [
    "Your guess: red or green"
   ]
  },
  {
   "cell_type": "markdown",
   "metadata": {},
   "source": [
    " "
   ]
  },
  {
   "cell_type": "markdown",
   "metadata": {},
   "source": [
    "---\n",
    "## 2. On your own: using dictionaries (6pts)\n",
    "\n",
    "Using the info in the table below, write code to accomplish the following tasks.\n",
    "\n",
    "|    Name   | Favorite Food |\n",
    "|:---------:|:-------------:|\n",
    "|  Wilfred  |     Steak     |\n",
    "|  Manfred  |  French fries |\n",
    "| Wadsworth |   Spaghetti   |\n",
    "|   Jeeves  |   Ice cream   |\n"
   ]
  },
  {
   "cell_type": "markdown",
   "metadata": {},
   "source": [
    "**(A)** Create a dictionary based on the data above, where each person's name is a key, and their favorite foods are the values."
   ]
  },
  {
   "cell_type": "code",
   "execution_count": 12,
   "metadata": {},
   "outputs": [],
   "source": [
    "#Define dictionary\n",
    "Favorite_foods = {'Wilfred': 'Steak', 'Manfred': 'French fries', 'Wadsworth': 'Spaghetti', 'Jeeves': 'Ice cream'}"
   ]
  },
  {
   "cell_type": "markdown",
   "metadata": {},
   "source": [
    "**(B)** Using a `for` loop, go through the dictionary you created above and print each name and food combination in the format:\n",
    "\n",
    "    <NAME>'s favorite food is <FOOD>"
   ]
  },
  {
   "cell_type": "code",
   "execution_count": 13,
   "metadata": {},
   "outputs": [
    {
     "name": "stdout",
     "output_type": "stream",
     "text": [
      "Manfred's favorite food is French fries\n",
      "Wadsworth's favorite food is Spaghetti\n",
      "Wilfred's favorite food is Steak\n",
      "Jeeves's favorite food is Ice cream\n"
     ]
    }
   ],
   "source": [
    "for name in Favorite_foods:\n",
    "    print name + \"'s\", 'favorite food is', Favorite_foods[name]"
   ]
  },
  {
   "cell_type": "markdown",
   "metadata": {},
   "source": [
    "**(C)** (1) Change the dictionary so that Wilfred's favorite food is Pizza. (2) Add a new entry for Mitsworth, whose favorite food is Tuna. \n",
    "\n",
    "Do not recreate the whole dictionary while doing these things. Edit the dictionary you created in (A) using the syntax described in the lecture."
   ]
  },
  {
   "cell_type": "code",
   "execution_count": 14,
   "metadata": {},
   "outputs": [
    {
     "name": "stdout",
     "output_type": "stream",
     "text": [
      "Manfred's favorite food is French fries\n",
      "Wadsworth's favorite food is Spaghetti\n",
      "Wilfred's favorite food is Pizza\n",
      "Mitsworth's favorite food is Tuna\n",
      "Jeeves's favorite food is Ice cream\n"
     ]
    }
   ],
   "source": [
    "#Edit Wildred's favorite food\n",
    "Favorite_foods['Wilfred'] = 'Pizza'\n",
    "\n",
    "#New entry for Mitsworth\n",
    "Favorite_foods['Mitsworth']= 'Tuna'\n",
    "\n",
    "#Print edited dictionary\n",
    "for name in Favorite_foods:\n",
    "    print name + \"'s\", 'favorite food is', Favorite_foods[name]"
   ]
  },
  {
   "cell_type": "markdown",
   "metadata": {},
   "source": [
    "**(D)** Prompt the user to input a name. Check if the name they entered is a valid key in the dictionary using an `if` statement. If the name is in the dictionary, print out the corresponding favorite food. If not, print a message saying \"That name is not in our database\"."
   ]
  },
  {
   "cell_type": "code",
   "execution_count": 15,
   "metadata": {},
   "outputs": [
    {
     "name": "stdout",
     "output_type": "stream",
     "text": [
      "Search favorite food for: Raju\n",
      "That name is not in our database.\n"
     ]
    }
   ],
   "source": [
    "name = raw_input('Search favorite food for: ')\n",
    "\n",
    "if name in Favorite_foods:\n",
    "    print name + \"'s\", 'favorite food is', Favorite_foods[name]\n",
    "else:\n",
    "    print 'That name is not in our database.'"
   ]
  },
  {
   "cell_type": "markdown",
   "metadata": {},
   "source": [
    "**(E)** Print just the names in the dictionary in alphabetical order. Use the sorting example from the slides."
   ]
  },
  {
   "cell_type": "code",
   "execution_count": 16,
   "metadata": {},
   "outputs": [
    {
     "name": "stdout",
     "output_type": "stream",
     "text": [
      "Jeeves\n",
      "Manfred\n",
      "Mitsworth\n",
      "Wadsworth\n",
      "Wilfred\n"
     ]
    }
   ],
   "source": [
    "for name in sorted(Favorite_foods.keys()):\n",
    "    print name"
   ]
  },
  {
   "cell_type": "markdown",
   "metadata": {},
   "source": [
    "**(F)** Print just the names in sorted order based on their favorite food. Use the value-sorting example from the slides."
   ]
  },
  {
   "cell_type": "code",
   "execution_count": 17,
   "metadata": {},
   "outputs": [
    {
     "name": "stdout",
     "output_type": "stream",
     "text": [
      "Manfred\n",
      "Jeeves\n",
      "Wilfred\n",
      "Wadsworth\n",
      "Mitsworth\n"
     ]
    }
   ],
   "source": [
    "for name in sorted(Favorite_foods, key = Favorite_foods.get):\n",
    "    print name"
   ]
  },
  {
   "cell_type": "markdown",
   "metadata": {},
   "source": [
    "---\n",
    "## 3. File writing (3pts)"
   ]
  },
  {
   "cell_type": "markdown",
   "metadata": {},
   "source": [
    "**(A)** Write code that prints \"Hello, world\" to a file called `hello.txt`"
   ]
  },
  {
   "cell_type": "code",
   "execution_count": 18,
   "metadata": {},
   "outputs": [],
   "source": [
    "fileName = 'hello.txt'\n",
    "\n",
    "outFile = open(fileName, 'w')\n",
    "outFile.write('Hello, world')\n",
    "outFile.close()"
   ]
  },
  {
   "cell_type": "markdown",
   "metadata": {},
   "source": [
    "**(B)** Write code that prints the following text to a file called `meow.txt`. It must be formatted exactly as it here (you will need to use \\n and \\t):\n",
    "```\n",
    "Dear Mitsworth,\n",
    "    \n",
    "    Meow, meow meow meow.\n",
    "    \n",
    "Sincerely,\n",
    "A friend\n",
    "```"
   ]
  },
  {
   "cell_type": "code",
   "execution_count": 19,
   "metadata": {},
   "outputs": [],
   "source": [
    "fileName = 'meow.txt'\n",
    "\n",
    "outFile = open(fileName, 'w')\n",
    "outFile.write('Dear Mitsworth,\\n\\n')\n",
    "outFile.write('\\t Meow, meow meow meow.\\n\\n')\n",
    "outFile.write('Sincerely, \\n')\n",
    "outFile.write('A friend')\n",
    "outFile.close()"
   ]
  },
  {
   "cell_type": "markdown",
   "metadata": {},
   "source": [
    "**(C)** Write code that reads in the gene IDs from `genes.txt` and prints the **unique** gene IDs to a **new file** called `genes_unique.txt`. (You can re-use your code or the answer sheet from lab4 for getting the unique IDs.)"
   ]
  },
  {
   "cell_type": "code",
   "execution_count": 20,
   "metadata": {},
   "outputs": [],
   "source": [
    "#Re-use code from lab 4\n",
    "\n",
    "File = \"genes.txt\"\n",
    "inFile = open(File, 'r')\n",
    "outFile = 'genes_unique.txt'\n",
    "outFile = open(outFile, 'w')\n",
    "gene_list = []\n",
    "\n",
    "for gene in inFile:\n",
    "    if gene not in gene_list:\n",
    "        gene_list.append(gene)\n",
    "            \n",
    "for gene in gene_list:\n",
    "    gene = gene.rstrip('\\n')\n",
    "    outFile.write('GeneID:'+ '\\t' + gene + '\\n')\n",
    "\n",
    "inFile.close()\n",
    "outFile.close()"
   ]
  },
  {
   "cell_type": "markdown",
   "metadata": {},
   "source": [
    "---\n",
    "## 4. The \"many counters\" problem (4pts)"
   ]
  },
  {
   "cell_type": "markdown",
   "metadata": {},
   "source": [
    "**(A)** Write code that reads a file of sequences and tallies how many sequences there are of each length. Use `sequences3.txt` as input. \n",
    "\n",
    "*Hint: you can use a dictionary to keep track of all the tallies. For example:*"
   ]
  },
  {
   "cell_type": "code",
   "execution_count": 21,
   "metadata": {},
   "outputs": [
    {
     "name": "stdout",
     "output_type": "stream",
     "text": [
      "ATGATGTTTAAATCGGTTTGCGAGATACGAGGAAGCTAG 39\n",
      "ATGTTGGTATTGGACCTAGCTTTGTGACCCATGTGGCCACCTACGGCCAGACTTTAG 57\n",
      "ATGAGAACCAGTACAACAAAATGGCTAATATTTGCTTGAACTCGTAATAGCGACTAA 57\n",
      "ATGGATTATAGTGAAAAACCAAGTTTGCTCCCTGCTTAGAATCGGAAGTAA 51\n",
      "ATGACCCCTCTTCTTAATCAATGCGAGGATCATGAGTAATGACAGTATACGGTCTGCTAA 60\n",
      "ATGGTCTTCCGGGTATCCTTTTGTTGA 27\n",
      "ATGCCAGTATGCAACGAAGGGAGTCCCGGCGCATCCGCGGCGAATCAGTAGCTCCTTATACATCCCCTTTTCCACAGCGCGTAGTGCTGA 90\n",
      "ATGATCGATCGGGATCGCGAAACTGGAGTTCTTGACATTATTTCCGCAGGTCGTGCGGTGCCGTGGTCCGATGAACGCTGA 81\n",
      "ATGTTACTCGGTAACAGTAATTTATAGCATTTAAAATCGCCATAA 45\n",
      "ATGCTTTTGTTTTCCGGCGACAACTACTTTGCGTAG 36\n",
      "ATGTGAGGACGTCCTTTCGGTGCTTATGTTACGTGAAACTACCAGTACTGCCAGGCCTCTCTGGCGTCCCCGTTGCCTTCGTGA 84\n",
      "ATGATGGTAGCTACGAGTCTTCTGAGCTTTGACTGA 36\n",
      "ATGTTAAGATCGCTTCTCGGTGAGTGTGGGTTTCATATGTAA 42\n",
      "ATGAAATGGTTCTGTTTATGACCGGTAGCGCAACCGCTTTCCGTAGACTACGTTAAGCACCCTTTGTGCTCGTACTAATTGTAAGGGCGATAG 93\n",
      "ATGATCTGGCTTTGACTTGTGCTACTAATCAGCACCGTCACCCTCAGCGAAGGCGGCGTACGAGGTGAGGGATAA 75\n",
      "ATGAGGGAATCCGGCCCGATAGGATGACATCGAACAAGCTACATTCCAACTCACGAGCTGTGTCGCGACTTGGGCTAA 78\n",
      "ATGTATATCAGAGGTAATAGAGTGCCAGCTTAGCATATGTAGTTGAGCCGCAAGCATTAA 60\n",
      "ATGTGTCGCGTGGCGGCAAGGTAGTTCTCCCAGAAGACTTCTGTTCGTGATCATCGGGCCTACTCTCACAATCTGCTAAATATCTTATTACAACACATGTGA 102\n",
      "ATGAGCTTTTGTTTTCGCCAGTCACGTGAAATTGCTTCCTGA 42\n",
      "ATGCAGTTAAGCACCGGCGGCGTGTGGTTATGAGAAGGATATATCACGCTGGCCAGCGGGAGCTCCGCCCCGAGTTAA 78\n",
      "ATGAGATAACTAGTATACCTCACCTTTGCTGCCATAATCCGTAACTTCACTTTCCCTGACTAATTGTACGGATACTAGTTCTGA 84\n",
      "ATGGACCGGCCGCGCTTCGTCGTCCTAGTATACTCTAAGTACAGCTGGCGTTGTTGTATCCCTGGCGCGACAAGAATCGGGTTTGACGATCGAGGAGGCTAA 102\n",
      "ATGACACTAAGCTACTTGCCTCAAAAATCACATCACATTTAAAACTACTAG 51\n",
      "ATGTCTTACTGCACATTAAACGCCCCAAGGTCAGAGGAAGGATGCTAGTCCGATATTCGTTGCCTAACTAGATGATGATGA 81\n",
      "ATGTCTTGAAACCTTCAGTTGGCCTAGCTCCCGCCCTATTGTAATGGAAAGGACAAATTGCATTAA 66\n",
      "ATGTGTGCCTTTTTCTATAAGAATGTATAG 30\n",
      "ATGTGCCAAGTACACCACTTCTGCCCTCTCGGAGGCTCGGGGCGGGGGTATTAA 54\n",
      "ATGGAGCGTACACCATCTCAGAATTGGTTCTGGTTCCGCTTGCATCTTGGCGTCCTAGCGGTGCTTTTTGGCCCTTAG 78\n",
      "ATGAATTCCACCGGCGGTTAACTGGACCTAAAATGA 36\n",
      "ATGTTCTAGCAGAGGTCATGCGAAGCCAAAAACGCACGGTAA 42\n",
      "ATGAGTCTTCACCCGAGCTCTATGCGGAGAGAACTCGGACGCGCCCCTCAATCGAATTGAGATAGTTGGTGTTTGCCTATAGAACCCTAG 90\n",
      "ATGACATCCTGCCAGAAACATACTTACTAAATAAGCAGGTTTGACCAGTAG 51\n",
      "ATGTGGGCTGCGGACACCCATCCGAACGCCGTATCTGCCTCAAGCCTACCCGCAGCCTTCCTGAGAATCTGATAGCTATAG 81\n",
      "ATGTCCTAAGTTTCCCTCATATTGAGGGTCGTAGAGGTCTAG 42\n",
      "ATGAGTACGCCATAATCCGGCTAGATCTGTTTTCTATACCTACCCCAATGATTACTTCTAGAGAACCGAGGGATGTTCGAGCAATGTCGGAAGTAG 96\n",
      "ATGGTTTGACGACTGTTTCTTGCCGCGGTATAAACAGTCTGTCCCTACTCACAGAATTCAATGATTACTTAG 72\n",
      "ATGTAGGCGGTCTCAGTGAATTTTTGCTGTCTCGGATTACTATCTATGAATAAAGTTGTCTAA 63\n",
      "ATGCTGATAGCGAGATCAGTACACGATAAGTAGGGTACCCTTGGTACGTCTAGTTAA 57\n",
      "ATGTTTTCTTCTTGAGCTCCGTGTAGTCAGCCTAGTGTCCACCGACGAACGTGA 54\n",
      "ATGGCTGCCACACACAATCATCGGAGCGTACCCACGACAGTTTTCAATAGATACCACCTCATTATGCACTTAGTATGAAAAAATGTCCCTGACACTCTATAA 102\n",
      "ATGATCAATATTAGACAAAGCCGGTAA 27\n",
      "ATGTGTCCCCACTGCCAGGCTTTCCGCACTGAAAAAACGGCTACGAAGTAA 51\n",
      "ATGTGAATTAGAGAACTTGAGAAAGGCCAGCAACCGATGAATCGCCGCGGGCGTTGTAAGACTTGCTGATAAATAGGGTTATCCGGTCCCATGTGGTAG 99\n",
      "ATGTACTTACGTCCGTAATCTCCGGTCCCATAG 33\n",
      "ATGCGCTACCGGGTTAGCAGCGCACGTTGCTAGCGTATAGTTCTTTACTAGCAGACCGCTAATTCGTGA 69\n",
      "ATGGTCGGCTCCGCCCCGACCCACAGGGAAATGCTTAGAGCTGGTTAA 48\n",
      "ATGCACCCAGCCGACACCAATTGCACTTTCGTGGTCATAGGAAGTCTCGCTCGCGACTAA 60\n",
      "ATGTCCAGGAGGGAACCCGGTGCGCTCCTCGCACCAAAAAGGTAA 45\n",
      "ATGTATCTATGGAACAAGGATACCCTGCAGTCCTGGGTCGGGACTTAGGGCTGAGGTCTGTCAGCAACTATGCTGACGTCATGGGATGTAGACGGGCTAAACTGA 105\n",
      "ATGGCTCAACGGGGTACTGGGACCAAACATACGCTGGGCTTAGTTTAG 48\n",
      "ATGTTGGGGACAGATTGTAGTGTCATTCGCTAG 33\n",
      "ATGAAACTCCCCTGATGTACCCAAGTGCTGTGACTTCACCCCTAG 45\n",
      "ATGGAGCTCCATTTTAGGGGTATATAATCAAAGGAGACTAGTTTTGTTTAGCTGTTTGTTCTACACCATGCCTGA 75\n",
      "ATGAACGACTAAAAACAAGTTATATAAATGCTGATCCTGGATTGATATAATAACCCGGCACGATTCGCAGGCCCGACGGGGTTCCACTAAAAGGAGAAGATCTAA 105\n",
      "ATGCGAAGACCCGGTTTTATTAGGGAAGGGCGCAGAGCCTAA 42\n",
      "ATGGGAGTGCAAGTTCTTCAGTGTGAGGCCGTGTATATCCGTGGGAGTGCAAAAGTCATCTCCCGGCGACAACAGGATTCGACGAGTTAA 90\n",
      "ATGTGGAAGGGTCTCTGCTCAATAATGTCAGCGGCCTCTAAGGCCTTAAACAATTAGAAACGAGCGTAG 69\n",
      "ATGCCCATCCATTGTAGTTAGGACTGTCTACTCGATTAA 39\n",
      "ATGGTGGGCAACTTGGGATGCAATCAAGTTTACAGAAGATCTATCAGATCGTGA 54\n",
      "ATGAACAGACGAGCCCGGGACCTATACGTTTGGTAA 36\n",
      "ATGGGCTTGAGGGGCGATCATGCGAGCGAAATAGTAGGCGGTACGAATAAGCGGGGCAACGTTTAAAATGACTTCCTATCCAAATAA 87\n",
      "ATGGTTAGATCGAACGTTAAATTTGCCTAA 30\n",
      "ATGCCCACACTGTGGTCAACATTGCCTACCTCATTTTCCCAGCGCTGCGCGACCAGGTGCTTGATGCATCTTATCACTTAGCTCTCGGTGGAATAG 96\n",
      "ATGACAGAACTTAACGTTTTGCAAAGCTGCGGGCGCAAAAATGACCCTTACGAATCGGCACTACTCGTTGATCTCCCAGTTCAAATCTAA 90\n",
      "ATGGTTTCGACAGTTCCCTATTACAGTATTATGGTCTTCCCATTTTTAACAGAACGACAACCGTCTTCCGTCGATACCTAACTCTCGTAA 90\n",
      "ATGGGTCAACTCGGAGTGCAGACTTAGATCTGACTTGCATGA 42\n",
      "ATGAAAGCAGAATAAGCCGTATATCACCCGCTTAAAACCCTTGGCTGACACCCTTCACGGTGTGTGGGAAGATGGTTTTTCACTGTTCGGGTTTTTCTAGTGTGA 105\n",
      "ATGTCATCCTCTCGTTTTAAAGAGTCCGCCGATCACGCAGCCCTCGGGATGTGTCTATTCCCAGCTTCCCAAGTCTGATAG 81\n",
      "ATGCATCATACATTCGTTTTCAACAGTGGTCATCCACATTGTGCAGGCGCCCGATAGAAAGGCACATCATCAATGCTCTACGTCTCGGCTGATTAA 96\n",
      "ATGCCTAGTGAGCCATTCCTGTGGAGGGTGTTCAAAAAGAAATGA 45\n",
      "ATGATTGGGATGTGATGTCCCCACACGAGGATGAGCATACAATCAGAGAACCCTGCGTAAAACAGACAGTGGTCGTTACCTTCATCTCGCGCTGCGTGA 99\n",
      "ATGATCCGCATTACGCTGTACTGCATGACAGGCACAATAGACCTGGGCTTATGTACTATACTTGATCACATTTCATGCTGGACCCGTCTTACTTACATCTGCTAA 105\n",
      "ATGAAATACATCTAGTACCAAGATGCCCACAGGGAATTGTCCCTCCGCAACACGCTAAACCCAATGTAG 69\n",
      "ATGTTTGCGGCGCGTAAATCCAGGCGGACATGGCCTGATGAACGAGTTGAGATGATCCCAACTTAG 66\n",
      "ATGGTCGTGTTTTTCGCCAAAGGAAGGCCGCACCCCTTATCTACAATCAAGTTGGTTGCATAG 63\n",
      "ATGGGTGGGGGGTCCGCACTTTCTCCGAGATAA 33\n",
      "ATGATATACATTGGAAGCGCACCAAAGGCAGGAGGCGCGTGTTTCTTGGCCTCCAGATAA 60\n",
      "ATGTATTAAGTGGCACTACAATTTGATCGTGACGTGACATGGCGGATTAGAGCCAACAGACCAGTGTCACGTCGTGTTGAGACCGCCTAA 90\n",
      "ATGTTGCGCCGAACGCTAAATTCAATCGGATCATCGTATCCGAAGTCCAAAAGACTCTGGACGCCCACTAGCATCTCAGGTATCAGATTTTCAGCCTAG 99\n",
      "ATGCAGATATAAAGTGCCCAGGGTCAAGGGAGGCTATCTATTTGAATTACCGGAATTTAAAACTAG 66\n",
      "ATGCCGATTGTTGCTGAGGAAACTTGA 27\n",
      "ATGGATATTCTGCATTGCGGTCGAGTATACAATCTTGAACATCGTTCCTAAGTCATTCTTTAGCTCCGGGAGCGACAAAGGTGA 84\n",
      "ATGGACCGGACTCCTTACTAGGGATACAGGATAACTTGCTCGTTACCCTTTACTGCTAGCAAGGTACCAGACTGACTCTAG 81\n",
      "ATGTCGGGAGGCGTTGAGGGTACACCCCAGACCCGTGCTCTCAGAAAATTTGAGCCAACTTTCTAGTGTTAG 72\n",
      "ATGCATGTCTGAAAACGTTCAGGCACACATGGGCAAAGTTCATAG 45\n",
      "ATGCGATAGCTCGTTTCACACCGACTAGCGGTCTAGATCATCGAGAACTAG 51\n",
      "ATGAACACCGAGTCACACTCCACATTTAGACAGTGCTAG 39\n",
      "ATGTGTACTTAATGTGGACAGTATTAG 27\n",
      "ATGGAGACGGATTTCGACAGCGGGTCCAACTAGATGCGACGTAGCCTGTAA 51\n",
      "ATGCTGGTTACACCTATTAGTGGTTCTACCGTAATATAA 39\n",
      "ATGCACCGCGTTTCCACATATAAATTTATACAAGCAGATATGGGTTGAATCACTCGTTGCTCCATCACCAAGATGGGAGGCTCCGCTGCTTTTGCGCCGCGTTAA 105\n",
      "ATGCCTGATTCCTCCAAAATTCGCTGGGCCTTCGATACTGACCCAGAGTGA 51\n",
      "ATGGATTACTTTCAGCGAACAGCGTTGAGTGATTTTAAGAAGGAGGCGGAAAGGGGCGGATTTTGGAACTGCCCCGGGCTCAAATAG 87\n",
      "ATGTCTCTTGGTTGCGACCGTACTGCATGGATGCCAAAGGTCCTGGAGAGGCGCTTTCAAGCAGGCTTTCACGTTATGAGCTATACCTATTAG 93\n",
      "ATGGGAGGCACGAGAAGGACAGTGTCATTCACATGTCACTGACTCTGA 48\n",
      "ATGTCTGTCCGCAAAAACCGAGTGATACATCCGAGGGGGCTGACGGATTGTCTAGTAAGTTAG 63\n",
      "ATGCACAATAGTAGTAGGCTCGTGATGGATTGAGCATATAGTCGAACTGGGTGA 54\n",
      "ATGCGGGGCGATACGTAGACAAGGTAGCACCGGATTAACGAGGCCTCGTTCAATGAATCCAAGACACTTTCCAACCATCACTTATAA 87\n",
      "ATGAGGCTATATCCACGATGTGCCGTCTGTCTTAAGCTCTTCCGCATCGAGTAA 54\n",
      "ATGCGCAAAAGATCTCCAAAACCGATAGAGCAACCGCTCTGTGTCAAGTTCAAGGCAACGAGGAACCCGCCCTACCACATCCTTCTGAGCTAA 93\n",
      "[(27, 4), (30, 2), (33, 3), (36, 4), (39, 4), (42, 6), (45, 5), (48, 3), (51, 7), (54, 5), (57, 3), (60, 4), (63, 3), (66, 3), (69, 3), (72, 2), (75, 2), (78, 3), (81, 5), (84, 3), (87, 3), (90, 6), (93, 3), (96, 3), (99, 3), (102, 3), (105, 5)]\n"
     ]
    }
   ],
   "source": [
    "tallyDict = {}\n",
    "\n",
    "File = 'sequences3.txt' #read in file\n",
    "inFile = open(File, 'r')\n",
    "\n",
    "for seq in inFile:\n",
    "    seq = seq.rstrip('\\n')\n",
    "    length = len(seq)\n",
    "    print seq,length #print these so I can quickly check code manually\n",
    "    if length not in tallyDict:\n",
    "        tallyDict[length] = 1 #initialize to 1 if this is the first occurrence of the length...\n",
    "    else:\n",
    "        tallyDict[length] = tallyDict[length] + 1 #...otherwise just increment the count.\n",
    "\n",
    "print tallyDict.items() #print to check at least one sequence length by hand \n",
    "\n",
    "inFile.close()"
   ]
  },
  {
   "cell_type": "markdown",
   "metadata": {},
   "source": [
    "**(B)** Using the tally dictionary you created above, figure out which sequence length was the most common, and print it to the screen."
   ]
  },
  {
   "cell_type": "code",
   "execution_count": 22,
   "metadata": {},
   "outputs": [
    {
     "name": "stdout",
     "output_type": "stream",
     "text": [
      "The most common sequence length is 51 nucleotides.\n"
     ]
    }
   ],
   "source": [
    "sort_length = []\n",
    "\n",
    "#Sort to determine which sequence length was the most common and store as a sorted list\n",
    "for length in sorted(tallyDict, key = tallyDict.get):\n",
    "    sort_length.append(length) #add to list to extract values by index\n",
    "    \n",
    "print 'The most common sequence length is ' + str(sort_length[-1]) + ' nucleotides.' #print last index value in list"
   ]
  },
  {
   "cell_type": "markdown",
   "metadata": {},
   "source": [
    "---\n",
    "## 5. Codon table (6pts)\n",
    "\n",
    "For this question, use `codon_table.txt`, which contains a list of all possible codons and their corresponding amino acids. We will be using this info to create a dictionary, which will allow us to translate a nucleotide sequence into amino acids. Each part of this question builds off the previous parts."
   ]
  },
  {
   "cell_type": "markdown",
   "metadata": {},
   "source": [
    "**(A)** Thinkin' question (short answer, not code): If we want to create a codon dictionary and use it to translate nucleotide sequences, would it be better to use the codons or amino acids as keys? "
   ]
  },
  {
   "cell_type": "markdown",
   "metadata": {},
   "source": [
    "Your answer: It would be better to use codons as the key because there is redundancy in the codon table - multiple codons can code for the same amino acid. "
   ]
  },
  {
   "cell_type": "markdown",
   "metadata": {},
   "source": [
    "**(B)** Read in `codon_table.txt` (note that it has a header line) and use it to create a codon dictionary. Then use `input()` to prompt the user to enter a single codon (e.g. ATG) and print the amino acid corresponding to that codon to the screen."
   ]
  },
  {
   "cell_type": "code",
   "execution_count": 23,
   "metadata": {},
   "outputs": [
    {
     "name": "stdout",
     "output_type": "stream",
     "text": [
      "Enter codon for translation in all caps: ATG\n",
      "ATG codes for the amino acid M .\n"
     ]
    }
   ],
   "source": [
    "File = 'codon_table.txt'\n",
    "inFile = open(File, 'r')\n",
    "\n",
    "inFile.readline() #skip header\n",
    "\n",
    "codon_dict = {} #create empty codon dictionary\n",
    "\n",
    "for line in inFile:\n",
    "    line = line.rstrip('\\n') \n",
    "    data = line.split() #split by white space\n",
    "    codon = data[0] #store codon keys in variable\n",
    "    amino_acid = data[1] #store amino acid values in variable\n",
    "    codon_dict[codon] = amino_acid #add codon keys and amino acid values into empty dictionary\n",
    "\n",
    "translate_aa = raw_input('Enter codon for translation in all caps: ')\n",
    "\n",
    "if translate_aa in codon_dict:\n",
    "    print translate_aa + ' codes for the amino acid ' + codon_dict[translate_aa] + ' .'\n",
    "else:\n",
    "    print 'Error, codon not found.'\n",
    "\n",
    "inFile.close()"
   ]
  },
  {
   "cell_type": "markdown",
   "metadata": {},
   "source": [
    "**(C)** Now we will adapt the code in (B) to translate a longer sequence. Instead of prompting the user for a single codon, allow them to enter a longer sequence. First, check that the sequence they entered has a length that is a multiple of 3 (Hint: use the mod operator, %), and print an error message if it is not. If it is valid, then go on to translate every three nucleotides to an amino acid. Print the final amino acid sequence to the screen."
   ]
  },
  {
   "cell_type": "code",
   "execution_count": 24,
   "metadata": {},
   "outputs": [
    {
     "name": "stdout",
     "output_type": "stream",
     "text": [
      "Enter sequence to be translated in all caps: ATGGAT\n",
      "Translated sequence: MD\n"
     ]
    }
   ],
   "source": [
    "seq = raw_input('Enter sequence to be translated in all caps: ')\n",
    "\n",
    "#Ensure sequence is multiple of 3\n",
    "seq_length = len(seq)\n",
    "\n",
    "if seq_length % 3 != 0:\n",
    "    print 'Error, sequence must be a multiple of three.'\n",
    "elif seq_length % 3 == 0:\n",
    "    codon_list = [] #create empty list to store codons\n",
    "    translation = '' #create empty object to store translated amino acids through loop\n",
    "\n",
    "    for codon in range (0, len(seq), 3): #loop through sequence in increments of three until the end\n",
    "        codon = seq[0:3] #first codon is equivalent to first three characters of sequences\n",
    "        codon_list.append(codon) #add codon to translation list\n",
    "        seq = seq[3:] #truncate sequence one codon at a time \n",
    "        \n",
    "    for i in codon_list: \n",
    "        if i in codon_dict:\n",
    "            translation =  translation + codon_dict[i]\n",
    "    print \"Translated sequence:\", translation"
   ]
  },
  {
   "cell_type": "markdown",
   "metadata": {},
   "source": [
    "**(D)** Now, instead of taking user input, you will apply your translator to a set of sequences stored in a file. Read in the sequences from `sequences3.txt` (assume each line is a separate sequence), translate it to amino acids, and print it to a new file called `proteins.txt`."
   ]
  },
  {
   "cell_type": "code",
   "execution_count": 25,
   "metadata": {},
   "outputs": [],
   "source": [
    "Input = 'sequences3.txt'\n",
    "InputFile = open(Input, 'r')\n",
    "\n",
    "Output = 'proteins.txt'\n",
    "OutputFile = open(Output, 'w')\n",
    "\n",
    "for seq in InputFile:\n",
    "    seq = seq.rstrip('\\n')\n",
    "\n",
    "    codon_list = [] #create empty list to store codons\n",
    "    translation = '' #create empty object to store translated amino acids through loop\n",
    "\n",
    "    for codon in range (0, len(seq), 3): #loop through sequence in increments of three until the end\n",
    "        codon = seq[0:3] #first codon is equivalent to first three characters of sequences\n",
    "        codon_list.append(codon) #add codon to translation list\n",
    "        seq = seq[3:] #truncate sequence one codon at a time \n",
    "        \n",
    "    for i in codon_list: \n",
    "        if i in codon_dict:\n",
    "            translation =  translation + codon_dict[i]\n",
    "    OutputFile.write(\"Translated sequence: \" + translation + '\\n') #write to new file\n",
    "\n",
    "InputFile.close()\n",
    "OutputFile.close()"
   ]
  }
 ],
 "metadata": {
  "anaconda-cloud": {},
  "kernelspec": {
   "display_name": "Python 2",
   "language": "python",
   "name": "python2"
  },
  "language_info": {
   "codemirror_mode": {
    "name": "ipython",
    "version": 2
   },
   "file_extension": ".py",
   "mimetype": "text/x-python",
   "name": "python",
   "nbconvert_exporter": "python",
   "pygments_lexer": "ipython2",
   "version": "2.7.15"
  }
 },
 "nbformat": 4,
 "nbformat_minor": 1
}
