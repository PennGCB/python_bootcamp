{
 "cells": [
  {
   "cell_type": "markdown",
   "metadata": {},
   "source": [
    "# Programming Bootcamp 2018\n",
    "# Lesson 5 Exercises\n",
    "---"
   ]
  },
  {
   "cell_type": "markdown",
   "metadata": {},
   "source": [
    "** Earning points (optional) **\n",
    "\n",
    "- Enter your name below.\n",
    "- Post your notebook privately to instructors on piazza **before 9:00 pm on 8/21**."
   ]
  },
  {
   "cell_type": "markdown",
   "metadata": {},
   "source": [
    "**Name**: Michael McQuillan"
   ]
  },
  {
   "cell_type": "markdown",
   "metadata": {},
   "source": [
    "---\n",
    "## 1. Guess the output: dictionary practice (1pt)\n",
    "\n",
    "For the following blocks of code, first try to guess what the output will be, and then run the code yourself. Points will be given for filling in the guesses; guessing wrong won't be penalized."
   ]
  },
  {
   "cell_type": "code",
   "execution_count": 3,
   "metadata": {},
   "outputs": [],
   "source": [
    "# run this cell first!\n",
    "fruits = {\"apple\":\"red\", \"banana\":\"yellow\", \"grape\":\"purple\"}"
   ]
  },
  {
   "cell_type": "code",
   "execution_count": 4,
   "metadata": {},
   "outputs": [
    {
     "name": "stdout",
     "output_type": "stream",
     "text": [
      "yellow\n"
     ]
    }
   ],
   "source": [
    "print fruits[\"banana\"]"
   ]
  },
  {
   "cell_type": "markdown",
   "metadata": {},
   "source": [
    "Your guess: yellow"
   ]
  },
  {
   "cell_type": "markdown",
   "metadata": {},
   "source": [
    " "
   ]
  },
  {
   "cell_type": "code",
   "execution_count": 5,
   "metadata": {},
   "outputs": [
    {
     "name": "stdout",
     "output_type": "stream",
     "text": [
      "red\n"
     ]
    }
   ],
   "source": [
    "query = \"apple\"\n",
    "print fruits[query]"
   ]
  },
  {
   "cell_type": "markdown",
   "metadata": {},
   "source": [
    "Your guess: red"
   ]
  },
  {
   "cell_type": "markdown",
   "metadata": {},
   "source": [
    " "
   ]
  },
  {
   "cell_type": "code",
   "execution_count": 6,
   "metadata": {},
   "outputs": [
    {
     "ename": "KeyError",
     "evalue": "0",
     "output_type": "error",
     "traceback": [
      "\u001b[0;31m---------------------------------------------------------------------------\u001b[0m",
      "\u001b[0;31mKeyError\u001b[0m                                  Traceback (most recent call last)",
      "\u001b[0;32m<ipython-input-6-20060b6afa7b>\u001b[0m in \u001b[0;36m<module>\u001b[0;34m()\u001b[0m\n\u001b[0;32m----> 1\u001b[0;31m \u001b[0;32mprint\u001b[0m \u001b[0mfruits\u001b[0m\u001b[0;34m[\u001b[0m\u001b[0;36m0\u001b[0m\u001b[0;34m]\u001b[0m\u001b[0;34m\u001b[0m\u001b[0m\n\u001b[0m",
      "\u001b[0;31mKeyError\u001b[0m: 0"
     ]
    }
   ],
   "source": [
    "print fruits[0]"
   ]
  },
  {
   "cell_type": "markdown",
   "metadata": {},
   "source": [
    "Your guess: error"
   ]
  },
  {
   "cell_type": "markdown",
   "metadata": {},
   "source": [
    " "
   ]
  },
  {
   "cell_type": "code",
   "execution_count": 7,
   "metadata": {},
   "outputs": [
    {
     "name": "stdout",
     "output_type": "stream",
     "text": [
      "['grape', 'apple', 'banana']\n"
     ]
    }
   ],
   "source": [
    "print fruits.keys()"
   ]
  },
  {
   "cell_type": "markdown",
   "metadata": {},
   "source": [
    "Your guess: ['apple', 'bananna', 'grape']\n"
   ]
  },
  {
   "cell_type": "markdown",
   "metadata": {},
   "source": [
    " "
   ]
  },
  {
   "cell_type": "code",
   "execution_count": 8,
   "metadata": {},
   "outputs": [
    {
     "name": "stdout",
     "output_type": "stream",
     "text": [
      "['purple', 'red', 'yellow']\n"
     ]
    }
   ],
   "source": [
    "print fruits.values()"
   ]
  },
  {
   "cell_type": "markdown",
   "metadata": {},
   "source": [
    "Your guess: ['red', 'yellow', 'purple']"
   ]
  },
  {
   "cell_type": "markdown",
   "metadata": {},
   "source": [
    " "
   ]
  },
  {
   "cell_type": "code",
   "execution_count": 9,
   "metadata": {},
   "outputs": [
    {
     "name": "stdout",
     "output_type": "stream",
     "text": [
      "purple\n",
      "red\n",
      "yellow\n"
     ]
    }
   ],
   "source": [
    "for key in fruits:\n",
    "    print fruits[key]"
   ]
  },
  {
   "cell_type": "markdown",
   "metadata": {},
   "source": [
    "Your guess:red\n",
    "yellow\n",
    "purple"
   ]
  },
  {
   "cell_type": "markdown",
   "metadata": {},
   "source": [
    " "
   ]
  },
  {
   "cell_type": "code",
   "execution_count": 10,
   "metadata": {},
   "outputs": [
    {
     "name": "stdout",
     "output_type": "stream",
     "text": [
      "{'grape': 'purple', 'apple': 'red'}\n"
     ]
    }
   ],
   "source": [
    "del fruits[\"banana\"]\n",
    "print fruits"
   ]
  },
  {
   "cell_type": "markdown",
   "metadata": {},
   "source": [
    "Your guess: {'apple': 'red', 'grape': 'purple']"
   ]
  },
  {
   "cell_type": "markdown",
   "metadata": {},
   "source": [
    " "
   ]
  },
  {
   "cell_type": "code",
   "execution_count": 11,
   "metadata": {},
   "outputs": [
    {
     "ename": "KeyError",
     "evalue": "'pear'",
     "output_type": "error",
     "traceback": [
      "\u001b[0;31m---------------------------------------------------------------------------\u001b[0m",
      "\u001b[0;31mKeyError\u001b[0m                                  Traceback (most recent call last)",
      "\u001b[0;32m<ipython-input-11-1704fdb2b6e9>\u001b[0m in \u001b[0;36m<module>\u001b[0;34m()\u001b[0m\n\u001b[0;32m----> 1\u001b[0;31m \u001b[0;32mprint\u001b[0m \u001b[0mfruits\u001b[0m\u001b[0;34m[\u001b[0m\u001b[0;34m\"pear\"\u001b[0m\u001b[0;34m]\u001b[0m\u001b[0;34m\u001b[0m\u001b[0m\n\u001b[0m",
      "\u001b[0;31mKeyError\u001b[0m: 'pear'"
     ]
    }
   ],
   "source": [
    "print fruits[\"pear\"]"
   ]
  },
  {
   "cell_type": "markdown",
   "metadata": {},
   "source": [
    "Your guess: error"
   ]
  },
  {
   "cell_type": "markdown",
   "metadata": {},
   "source": [
    " "
   ]
  },
  {
   "cell_type": "code",
   "execution_count": 12,
   "metadata": {},
   "outputs": [
    {
     "name": "stdout",
     "output_type": "stream",
     "text": [
      "green\n"
     ]
    }
   ],
   "source": [
    "fruits[\"pear\"] = \"green\"\n",
    "print fruits[\"pear\"] "
   ]
  },
  {
   "cell_type": "markdown",
   "metadata": {},
   "source": [
    "Your guess: green"
   ]
  },
  {
   "cell_type": "markdown",
   "metadata": {},
   "source": [
    " "
   ]
  },
  {
   "cell_type": "code",
   "execution_count": 13,
   "metadata": {},
   "outputs": [
    {
     "name": "stdout",
     "output_type": "stream",
     "text": [
      "red or green\n"
     ]
    }
   ],
   "source": [
    "fruits[\"apple\"] = fruits[\"apple\"] + \" or green\"\n",
    "print fruits[\"apple\"]"
   ]
  },
  {
   "cell_type": "markdown",
   "metadata": {},
   "source": [
    "Your guess: red or green"
   ]
  },
  {
   "cell_type": "markdown",
   "metadata": {},
   "source": [
    " "
   ]
  },
  {
   "cell_type": "markdown",
   "metadata": {},
   "source": [
    "---\n",
    "## 2. On your own: using dictionaries (6pts)\n",
    "\n",
    "Using the info in the table below, write code to accomplish the following tasks.\n",
    "\n",
    "|    Name   | Favorite Food |\n",
    "|:---------:|:-------------:|\n",
    "|  Wilfred  |     Steak     |\n",
    "|  Manfred  |  French fries |\n",
    "| Wadsworth |   Spaghetti   |\n",
    "|   Jeeves  |   Ice cream   |\n"
   ]
  },
  {
   "cell_type": "markdown",
   "metadata": {},
   "source": [
    "**(A)** Create a dictionary based on the data above, where each person's name is a key, and their favorite foods are the values."
   ]
  },
  {
   "cell_type": "code",
   "execution_count": 14,
   "metadata": {},
   "outputs": [
    {
     "name": "stdout",
     "output_type": "stream",
     "text": [
      "{'Manfred': 'French fries', 'Wadsworth': 'Spaghetti', 'Wilfred': 'Steak', 'Jeeves': 'Ice cream'}\n"
     ]
    }
   ],
   "source": [
    "foods = {}\n",
    "foods[\"Wilfred\"] = \"Steak\"\n",
    "foods[\"Manfred\"] = \"French fries\"\n",
    "foods[\"Wadsworth\"] = \"Spaghetti\"\n",
    "foods[\"Jeeves\"] = \"Ice cream\"\n",
    "\n",
    "print foods\n"
   ]
  },
  {
   "cell_type": "markdown",
   "metadata": {},
   "source": [
    "**(B)** Using a `for` loop, go through the dictionary you created above and print each name and food combination in the format:\n",
    "\n",
    "    <NAME>'s favorite food is <FOOD>"
   ]
  },
  {
   "cell_type": "code",
   "execution_count": 15,
   "metadata": {},
   "outputs": [
    {
     "name": "stdout",
     "output_type": "stream",
     "text": [
      "Manfred's favorite food is French fries\n",
      "Wadsworth's favorite food is Spaghetti\n",
      "Wilfred's favorite food is Steak\n",
      "Jeeves's favorite food is Ice cream\n"
     ]
    }
   ],
   "source": [
    "for name in foods:\n",
    "    print name+ \"'s favorite food is\", foods[name]"
   ]
  },
  {
   "cell_type": "markdown",
   "metadata": {},
   "source": [
    "**(C)** (1) Change the dictionary so that Wilfred's favorite food is Pizza. (2) Add a new entry for Mitsworth, whose favorite food is Tuna. \n",
    "\n",
    "Do not recreate the whole dictionary while doing these things. Edit the dictionary you created in (A) using the syntax described in the lecture."
   ]
  },
  {
   "cell_type": "code",
   "execution_count": 16,
   "metadata": {},
   "outputs": [
    {
     "name": "stdout",
     "output_type": "stream",
     "text": [
      "{'Manfred': 'French fries', 'Wadsworth': 'Spaghetti', 'Wilfred': 'Pizza', 'Mitsworth': 'Tuna', 'Jeeves': 'Ice cream'}\n"
     ]
    }
   ],
   "source": [
    "foods[\"Wilfred\"] = \"Pizza\"\n",
    "foods[\"Mitsworth\"] = \"Tuna\"\n",
    "print foods\n",
    "\n"
   ]
  },
  {
   "cell_type": "markdown",
   "metadata": {},
   "source": [
    "**(D)** Prompt the user to input a name. Check if the name they entered is a valid key in the dictionary using an `if` statement. If the name is in the dictionary, print out the corresponding favorite food. If not, print a message saying \"That name is not in our database\"."
   ]
  },
  {
   "cell_type": "code",
   "execution_count": 17,
   "metadata": {},
   "outputs": [
    {
     "name": "stdout",
     "output_type": "stream",
     "text": [
      "Enter a name:Raju\n",
      "That name is not in our database\n"
     ]
    }
   ],
   "source": [
    "userName = raw_input(\"Enter a name:\")\n",
    "\n",
    "if userName in foods:\n",
    "    print userName+\"'s favorite food is\", foods[userName]\n",
    "else:\n",
    "    print \"That name is not in our database\"\n"
   ]
  },
  {
   "cell_type": "markdown",
   "metadata": {},
   "source": [
    "**(E)** Print just the names in the dictionary in alphabetical order. Use the sorting example from the slides."
   ]
  },
  {
   "cell_type": "code",
   "execution_count": 18,
   "metadata": {},
   "outputs": [
    {
     "name": "stdout",
     "output_type": "stream",
     "text": [
      "Jeeves\n",
      "Manfred\n",
      "Mitsworth\n",
      "Wadsworth\n",
      "Wilfred\n"
     ]
    }
   ],
   "source": [
    "for name in sorted(foods.keys()):\n",
    "    print name"
   ]
  },
  {
   "cell_type": "markdown",
   "metadata": {},
   "source": [
    "**(F)** Print just the names in sorted order based on their favorite food. Use the value-sorting example from the slides."
   ]
  },
  {
   "cell_type": "code",
   "execution_count": 19,
   "metadata": {},
   "outputs": [
    {
     "name": "stdout",
     "output_type": "stream",
     "text": [
      "Manfred\n",
      "Jeeves\n",
      "Wilfred\n",
      "Wadsworth\n",
      "Mitsworth\n"
     ]
    }
   ],
   "source": [
    "for value in sorted(foods, key=foods.get):\n",
    "    print value\n",
    "    "
   ]
  },
  {
   "cell_type": "markdown",
   "metadata": {},
   "source": [
    "---\n",
    "## 3. File writing (3pts)"
   ]
  },
  {
   "cell_type": "markdown",
   "metadata": {},
   "source": [
    "**(A)** Write code that prints \"Hello, world\" to a file called `hello.txt`"
   ]
  },
  {
   "cell_type": "code",
   "execution_count": 20,
   "metadata": {},
   "outputs": [],
   "source": [
    "outfile = open(\"hello.txt\", 'w')\n",
    "outfile.write(\"Hello, world\")\n",
    "outfile.close()"
   ]
  },
  {
   "cell_type": "markdown",
   "metadata": {},
   "source": [
    "**(B)** Write code that prints the following text to a file called `meow.txt`. It must be formatted exactly as it here (you will need to use \\n and \\t):\n",
    "```\n",
    "Dear Mitsworth,\n",
    "    \n",
    "    Meow, meow meow meow.\n",
    "    \n",
    "Sincerely,\n",
    "A friend\n",
    "```"
   ]
  },
  {
   "cell_type": "code",
   "execution_count": 21,
   "metadata": {},
   "outputs": [],
   "source": [
    "outfile = open(\"meow.txt\", 'w')\n",
    "outfile.write(\"Dear Mitsworth,\\n\\n\\tMeow, meow meow meow.\\n\\nSincerely,\\nA friend\")\n",
    "outfile.close()"
   ]
  },
  {
   "cell_type": "markdown",
   "metadata": {},
   "source": [
    "**(C)** Write code that reads in the gene IDs from `genes.txt` and prints the **unique** gene IDs to a **new file** called `genes_unique.txt`. (You can re-use your code or the answer sheet from lab4 for getting the unique IDs.)"
   ]
  },
  {
   "cell_type": "code",
   "execution_count": 22,
   "metadata": {},
   "outputs": [],
   "source": [
    "inFile = open(\"genes.txt\", 'r')\n",
    "outFile = open(\"genes_unique.txt\", 'w')\n",
    "\n",
    "genes = []\n",
    "\n",
    "for line in inFile:\n",
    "    line = line.rstrip('\\n')\n",
    "    if line not in genes:\n",
    "        genes.append(line)\n",
    "\n",
    "for unique in genes:\n",
    "    outFile.write(unique + '\\n')\n",
    "        \n",
    "inFile.close()\n",
    "outFile.close()\n",
    "        \n"
   ]
  },
  {
   "cell_type": "markdown",
   "metadata": {},
   "source": [
    "---\n",
    "## 4. The \"many counters\" problem (4pts)"
   ]
  },
  {
   "cell_type": "markdown",
   "metadata": {},
   "source": [
    "**(A)** Write code that reads a file of sequences and tallies how many sequences there are of each length. Use `sequences3.txt` as input. \n",
    "\n",
    "*Hint: you can use a dictionary to keep track of all the tallies. For example:*"
   ]
  },
  {
   "cell_type": "code",
   "execution_count": 23,
   "metadata": {},
   "outputs": [],
   "source": [
    "# hint code:\n",
    "\n",
    "tallyDict = {}\n",
    "seq = \"ATGCTGATCGATATA\"\n",
    "length = len(seq)\n",
    "\n",
    "if length not in tallyDict:\n",
    "    tallyDict[length] = 1  #initialize to 1 if this is the first occurrence of the length...\n",
    "else:\n",
    "    tallyDict[length] = tallyDict[length] + 1   #...otherwise just increment the count."
   ]
  },
  {
   "cell_type": "code",
   "execution_count": 24,
   "metadata": {},
   "outputs": [
    {
     "name": "stdout",
     "output_type": "stream",
     "text": [
      "{27: 4, 30: 2, 33: 3, 36: 4, 39: 4, 42: 6, 45: 5, 48: 3, 51: 7, 54: 5, 57: 3, 60: 4, 63: 3, 66: 3, 69: 3, 72: 2, 75: 2, 78: 3, 81: 5, 84: 3, 87: 3, 90: 6, 93: 3, 96: 3, 99: 3, 102: 3, 105: 5}\n"
     ]
    }
   ],
   "source": [
    "inFile = open(\"sequences3.txt\", 'r')\n",
    "tallyDict = {}\n",
    "\n",
    "\n",
    "for line in inFile:\n",
    "    line = line.rstrip('\\n')\n",
    "    length = len(line)\n",
    "    if length not in tallyDict:\n",
    "        tallyDict[length] = 1\n",
    "    else:\n",
    "        tallyDict[length] = tallyDict[length] + 1\n",
    "        \n",
    "print tallyDict\n",
    "\n",
    "\n"
   ]
  },
  {
   "cell_type": "markdown",
   "metadata": {},
   "source": [
    "**(B)** Using the tally dictionary you created above, figure out which sequence length was the most common, and print it to the screen."
   ]
  },
  {
   "cell_type": "code",
   "execution_count": 25,
   "metadata": {},
   "outputs": [
    {
     "name": "stdout",
     "output_type": "stream",
     "text": [
      "The most common sequence length is 51 bp.\n"
     ]
    }
   ],
   "source": [
    "mostCommonLength = []\n",
    "\n",
    "for value in sorted(tallyDict, key=tallyDict.get):\n",
    "    mostCommonLength.append(value)\n",
    "bp = mostCommonLength[-1]\n",
    "\n",
    "print \"The most common sequence length is\",bp,\"bp.\"\n"
   ]
  },
  {
   "cell_type": "markdown",
   "metadata": {},
   "source": [
    "---\n",
    "## 5. Codon table (6pts)\n",
    "\n",
    "For this question, use `codon_table.txt`, which contains a list of all possible codons and their corresponding amino acids. We will be using this info to create a dictionary, which will allow us to translate a nucleotide sequence into amino acids. Each part of this question builds off the previous parts."
   ]
  },
  {
   "cell_type": "markdown",
   "metadata": {},
   "source": [
    "**(A)** Thinkin' question (short answer, not code): If we want to create a codon dictionary and use it to translate nucleotide sequences, would it be better to use the codons or amino acids as keys? "
   ]
  },
  {
   "cell_type": "markdown",
   "metadata": {},
   "source": [
    "Your answer:codons"
   ]
  },
  {
   "cell_type": "markdown",
   "metadata": {},
   "source": [
    "**(B)** Read in `codon_table.txt` (note that it has a header line) and use it to create a codon dictionary. Then use `input()` to prompt the user to enter a single codon (e.g. ATG) and print the amino acid corresponding to that codon to the screen."
   ]
  },
  {
   "cell_type": "code",
   "execution_count": 26,
   "metadata": {},
   "outputs": [
    {
     "name": "stdout",
     "output_type": "stream",
     "text": [
      "Enter a codon:ATG\n",
      "M\n"
     ]
    }
   ],
   "source": [
    "inFile = open(\"codon_table.txt\", 'r')\n",
    "inFile.readline() #skip the header\n",
    "\n",
    "codonDict = {}\n",
    "\n",
    "for line in inFile:\n",
    "    line = line.rstrip('\\n')\n",
    "    data = line.split()\n",
    "    codonDict[data[0]] = data[1]\n",
    "    \n",
    "codon = raw_input(\"Enter a codon:\")\n",
    "codon = codon.upper()\n",
    "\n",
    "print codonDict[codon]\n",
    "\n",
    "inFile.close()\n",
    "\n"
   ]
  },
  {
   "cell_type": "markdown",
   "metadata": {},
   "source": [
    "**(C)** Now we will adapt the code in (B) to translate a longer sequence. Instead of prompting the user for a single codon, allow them to enter a longer sequence. First, check that the sequence they entered has a length that is a multiple of 3 (Hint: use the mod operator, %), and print an error message if it is not. If it is valid, then go on to translate every three nucleotides to an amino acid. Print the final amino acid sequence to the screen."
   ]
  },
  {
   "cell_type": "code",
   "execution_count": 33,
   "metadata": {},
   "outputs": [
    {
     "name": "stdout",
     "output_type": "stream",
     "text": [
      "{'CTT': 'L', 'ATG': 'M', 'ACA': 'T', 'ACG': 'T', 'ATC': 'I', 'AAC': 'N', 'ATA': 'I', 'AGG': 'R', 'CCT': 'P', 'ACT': 'T', 'AGC': 'S', 'AAG': 'K', 'AGA': 'R', 'CAT': 'H', 'AAT': 'N', 'ATT': 'I', 'CTG': 'L', 'CTA': 'L', 'CTC': 'L', 'CAC': 'H', 'AAA': 'K', 'CCG': 'P', 'AGT': 'S', 'CCA': 'P', 'CAA': 'Q', 'CCC': 'P', 'TAT': 'Y', 'GGT': 'G', 'TGT': 'C', 'CGA': 'R', 'CAG': 'Q', 'TCT': 'S', 'GAT': 'D', 'CGG': 'R', 'TTT': 'F', 'TGC': 'C', 'GGG': 'G', 'TAG': '*', 'GGA': 'G', 'TGG': 'W', 'GGC': 'G', 'TAC': 'Y', 'TTC': 'F', 'TCG': 'S', 'TTA': 'L', 'TTG': 'L', 'TCC': 'S', 'ACC': 'T', 'TCA': 'S', 'GCA': 'A', 'GTA': 'V', 'GCC': 'A', 'GTC': 'V', 'GCG': 'A', 'GTG': 'V', 'GAG': 'E', 'GTT': 'V', 'GCT': 'A', 'TGA': '*', 'GAC': 'D', 'CGT': 'R', 'GAA': 'E', 'TAA': '*', 'CGC': 'R'}\n",
      "Enter a DNA sequence:GATCATTAT\n",
      "Amino Acid Sequence: DHY\n"
     ]
    }
   ],
   "source": [
    "inFile = open(\"codon_table.txt\", 'r')\n",
    "inFile.readline() #skip the header\n",
    "\n",
    "codonDict = {}\n",
    "\n",
    "for line in inFile:\n",
    "    line = line.rstrip('\\n')\n",
    "    data = line.split()\n",
    "    codonDict[data[0]] = data[1]\n",
    "\n",
    "#\n",
    "print codonDict\n",
    "sequence = raw_input(\"Enter a DNA sequence:\")\n",
    "#sequence = \"ATGCCAGGTACTGTACGGCGCGTATTATGCTGTACGTAT\"\n",
    "\n",
    "codonList = []\n",
    "AA = \"\"\n",
    "\n",
    "\n",
    "if len(sequence) % 3 != 0:\n",
    "    print \"Your sequence is not divisible by 3\"\n",
    "    \n",
    "else:    \n",
    "    for i in range(0,len(sequence),3):\n",
    "        codonList.append(sequence[i:i+3])\n",
    "        AA = AA + str(codonDict[sequence[i:i+3]])   ## MOVED HERE TOO AND MODIFIED\n",
    "    print \"Amino Acid Sequence:\",AA      #### HERRREE \n",
    "\n",
    "#for codon in codonList:\n",
    " #   AA = AA + str(codonDict[codon])\n",
    "         \n",
    "##print \"Amino Acid Sequence:\",AA      MOVED UP\n",
    "       \n",
    "\n",
    "#i'm not sure how to get this code to not print the amino acid line if the sequence length is not divisible by 3...\n"
   ]
  },
  {
   "cell_type": "markdown",
   "metadata": {},
   "source": [
    "### Comment: See my code for the fix. The second for loop was not necessary I commented it out."
   ]
  },
  {
   "cell_type": "markdown",
   "metadata": {},
   "source": [
    "**(D)** Now, instead of taking user input, you will apply your translator to a set of sequences stored in a file. Read in the sequences from `sequences3.txt` (assume each line is a separate sequence), translate it to amino acids, and print it to a new file called `proteins.txt`."
   ]
  },
  {
   "cell_type": "code",
   "execution_count": null,
   "metadata": {},
   "outputs": [],
   "source": [
    "# I ran out of time for this, will complete by Wednesday Morning."
   ]
  },
  {
   "cell_type": "markdown",
   "metadata": {},
   "source": [
    "### No worries, let me know if you have any questions"
   ]
  }
 ],
 "metadata": {
  "anaconda-cloud": {},
  "kernelspec": {
   "display_name": "Python 2",
   "language": "python",
   "name": "python2"
  },
  "language_info": {
   "codemirror_mode": {
    "name": "ipython",
    "version": 2
   },
   "file_extension": ".py",
   "mimetype": "text/x-python",
   "name": "python",
   "nbconvert_exporter": "python",
   "pygments_lexer": "ipython2",
   "version": "2.7.15"
  }
 },
 "nbformat": 4,
 "nbformat_minor": 1
}
