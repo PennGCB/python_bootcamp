{
 "cells": [
  {
   "cell_type": "markdown",
   "metadata": {},
   "source": [
    "# Programming Bootcamp 2018\n",
    "# Lesson 5 Exercises\n",
    "---"
   ]
  },
  {
   "cell_type": "markdown",
   "metadata": {},
   "source": [
    "** Earning points (optional) **\n",
    "\n",
    "- Enter your name below.\n",
    "- Post your notebook privately to instructors on piazza **before 9:00 pm on 8/21**."
   ]
  },
  {
   "cell_type": "markdown",
   "metadata": {},
   "source": [
    "**Name**: "
   ]
  },
  {
   "cell_type": "markdown",
   "metadata": {},
   "source": [
    "---\n",
    "## 1. Guess the output: dictionary practice (1pt)\n",
    "\n",
    "For the following blocks of code, first try to guess what the output will be, and then run the code yourself. Points will be given for filling in the guesses; guessing wrong won't be penalized."
   ]
  },
  {
   "cell_type": "code",
   "execution_count": 1,
   "metadata": {},
   "outputs": [],
   "source": [
    "# run this cell first!\n",
    "fruits = {\"apple\":\"red\", \"banana\":\"yellow\", \"grape\":\"purple\"}"
   ]
  },
  {
   "cell_type": "code",
   "execution_count": 2,
   "metadata": {},
   "outputs": [
    {
     "name": "stdout",
     "output_type": "stream",
     "text": [
      "yellow\n"
     ]
    }
   ],
   "source": [
    "print (fruits[\"banana\"])"
   ]
  },
  {
   "cell_type": "markdown",
   "metadata": {},
   "source": [
    "Your guess: yellow"
   ]
  },
  {
   "cell_type": "markdown",
   "metadata": {},
   "source": [
    " "
   ]
  },
  {
   "cell_type": "code",
   "execution_count": 3,
   "metadata": {},
   "outputs": [
    {
     "name": "stdout",
     "output_type": "stream",
     "text": [
      "red\n"
     ]
    }
   ],
   "source": [
    "query = \"apple\"\n",
    "print (fruits[query])"
   ]
  },
  {
   "cell_type": "markdown",
   "metadata": {},
   "source": [
    "Your guess: red"
   ]
  },
  {
   "cell_type": "markdown",
   "metadata": {},
   "source": [
    " "
   ]
  },
  {
   "cell_type": "code",
   "execution_count": 4,
   "metadata": {},
   "outputs": [
    {
     "ename": "KeyError",
     "evalue": "0",
     "output_type": "error",
     "traceback": [
      "\u001b[0;31m---------------------------------------------------------------------------\u001b[0m",
      "\u001b[0;31mKeyError\u001b[0m                                  Traceback (most recent call last)",
      "\u001b[0;32m<ipython-input-4-20060b6afa7b>\u001b[0m in \u001b[0;36m<module>\u001b[0;34m()\u001b[0m\n\u001b[0;32m----> 1\u001b[0;31m \u001b[0;32mprint\u001b[0m \u001b[0mfruits\u001b[0m\u001b[0;34m[\u001b[0m\u001b[0;36m0\u001b[0m\u001b[0;34m]\u001b[0m\u001b[0;34m\u001b[0m\u001b[0m\n\u001b[0m",
      "\u001b[0;31mKeyError\u001b[0m: 0"
     ]
    }
   ],
   "source": [
    "print fruits[0]"
   ]
  },
  {
   "cell_type": "markdown",
   "metadata": {},
   "source": [
    "Your guess: error"
   ]
  },
  {
   "cell_type": "markdown",
   "metadata": {},
   "source": [
    " "
   ]
  },
  {
   "cell_type": "code",
   "execution_count": 5,
   "metadata": {},
   "outputs": [
    {
     "name": "stdout",
     "output_type": "stream",
     "text": [
      "['grape', 'apple', 'banana']\n"
     ]
    }
   ],
   "source": [
    "print (fruits.keys())"
   ]
  },
  {
   "cell_type": "markdown",
   "metadata": {},
   "source": [
    "Your guess: ['apple', 'banana', 'grape']"
   ]
  },
  {
   "cell_type": "markdown",
   "metadata": {},
   "source": [
    " "
   ]
  },
  {
   "cell_type": "code",
   "execution_count": 6,
   "metadata": {},
   "outputs": [
    {
     "name": "stdout",
     "output_type": "stream",
     "text": [
      "['purple', 'red', 'yellow']\n"
     ]
    }
   ],
   "source": [
    "print (fruits.values())"
   ]
  },
  {
   "cell_type": "markdown",
   "metadata": {},
   "source": [
    "Your guess: ['red', 'yellow', 'purple']"
   ]
  },
  {
   "cell_type": "markdown",
   "metadata": {},
   "source": [
    " "
   ]
  },
  {
   "cell_type": "code",
   "execution_count": 10,
   "metadata": {},
   "outputs": [
    {
     "name": "stdout",
     "output_type": "stream",
     "text": [
      "red\n",
      "yellow\n",
      "purple\n"
     ]
    }
   ],
   "source": [
    "for key in fruits:\n",
    "    print (fruits[key])"
   ]
  },
  {
   "cell_type": "markdown",
   "metadata": {},
   "source": [
    "Your guess:red yellow purple "
   ]
  },
  {
   "cell_type": "markdown",
   "metadata": {},
   "source": [
    " "
   ]
  },
  {
   "cell_type": "code",
   "execution_count": 12,
   "metadata": {},
   "outputs": [
    {
     "name": "stdout",
     "output_type": "stream",
     "text": [
      "{'apple': 'red', 'grape': 'purple'}\n"
     ]
    }
   ],
   "source": [
    "del fruits[\"banana\"]\n",
    "print (fruits)"
   ]
  },
  {
   "cell_type": "markdown",
   "metadata": {},
   "source": [
    "Your guess: {\"apple\":\"red\", \"grape\":\"purple\"}"
   ]
  },
  {
   "cell_type": "markdown",
   "metadata": {},
   "source": [
    " "
   ]
  },
  {
   "cell_type": "code",
   "execution_count": 14,
   "metadata": {},
   "outputs": [
    {
     "ename": "KeyError",
     "evalue": "'pear'",
     "output_type": "error",
     "traceback": [
      "\u001b[1;31m---------------------------------------------------------------------------\u001b[0m",
      "\u001b[1;31mKeyError\u001b[0m                                  Traceback (most recent call last)",
      "\u001b[1;32m<ipython-input-14-1139366042e2>\u001b[0m in \u001b[0;36m<module>\u001b[1;34m()\u001b[0m\n\u001b[1;32m----> 1\u001b[1;33m \u001b[0mprint\u001b[0m \u001b[1;33m(\u001b[0m\u001b[0mfruits\u001b[0m\u001b[1;33m[\u001b[0m\u001b[1;34m\"pear\"\u001b[0m\u001b[1;33m]\u001b[0m\u001b[1;33m)\u001b[0m\u001b[1;33m\u001b[0m\u001b[0m\n\u001b[0m",
      "\u001b[1;31mKeyError\u001b[0m: 'pear'"
     ]
    }
   ],
   "source": [
    "print (fruits[\"pear\"])"
   ]
  },
  {
   "cell_type": "markdown",
   "metadata": {},
   "source": [
    "Your guess: error"
   ]
  },
  {
   "cell_type": "markdown",
   "metadata": {},
   "source": [
    " "
   ]
  },
  {
   "cell_type": "code",
   "execution_count": 16,
   "metadata": {},
   "outputs": [
    {
     "name": "stdout",
     "output_type": "stream",
     "text": [
      "green\n"
     ]
    }
   ],
   "source": [
    "fruits[\"pear\"] = \"green\"\n",
    "print (fruits[\"pear\"]) "
   ]
  },
  {
   "cell_type": "markdown",
   "metadata": {},
   "source": [
    "Your guess: green"
   ]
  },
  {
   "cell_type": "markdown",
   "metadata": {},
   "source": [
    " "
   ]
  },
  {
   "cell_type": "code",
   "execution_count": 17,
   "metadata": {},
   "outputs": [
    {
     "name": "stdout",
     "output_type": "stream",
     "text": [
      "red or green\n"
     ]
    }
   ],
   "source": [
    "fruits[\"apple\"] = fruits[\"apple\"] + \" or green\"\n",
    "print (fruits[\"apple\"])"
   ]
  },
  {
   "cell_type": "markdown",
   "metadata": {},
   "source": [
    "Your guess: red or green"
   ]
  },
  {
   "cell_type": "markdown",
   "metadata": {},
   "source": [
    " "
   ]
  },
  {
   "cell_type": "markdown",
   "metadata": {},
   "source": [
    "---\n",
    "## 2. On your own: using dictionaries (6pts)\n",
    "\n",
    "Using the info in the table below, write code to accomplish the following tasks.\n",
    "\n",
    "|    Name   | Favorite Food |\n",
    "|:---------:|:-------------:|\n",
    "|  Wilfred  |     Steak     |\n",
    "|  Manfred  |  French fries |\n",
    "| Wadsworth |   Spaghetti   |\n",
    "|   Jeeves  |   Ice cream   |\n"
   ]
  },
  {
   "cell_type": "markdown",
   "metadata": {},
   "source": [
    "**(A)** Create a dictionary based on the data above, where each person's name is a key, and their favorite foods are the values."
   ]
  },
  {
   "cell_type": "code",
   "execution_count": 11,
   "metadata": {},
   "outputs": [
    {
     "name": "stdout",
     "output_type": "stream",
     "text": [
      "{'Manfred': 'French fries', 'Wadsworth': 'Spaghetti', 'Wilfred': 'Steak', 'Jeeves': 'Ice cream'}\n"
     ]
    }
   ],
   "source": [
    "#newdic = {}\n",
    "#newdic['Wilfred'] = 'Steak'\n",
    "#newdic['Manfred'] = 'French fries'\n",
    "#newdic['Wadsworth'] = 'Spaghetti'\n",
    "#newdic['Jeeves']='Ice cream'\n",
    "newdic = {'Wilfred': 'Steak', 'Manfred': 'French fries', 'Wadsworth': 'Spaghetti', 'Jeeves': 'Ice cream'}\n",
    "print newdic"
   ]
  },
  {
   "cell_type": "markdown",
   "metadata": {},
   "source": [
    "**(B)** Using a `for` loop, go through the dictionary you created above and print each name and food combination in the format:\n",
    "\n",
    "    <NAME>'s favorite food is <FOOD>"
   ]
  },
  {
   "cell_type": "code",
   "execution_count": 10,
   "metadata": {},
   "outputs": [
    {
     "name": "stdout",
     "output_type": "stream",
     "text": [
      "Manfred's favorite food is French fries\n",
      "Wadsworth's favorite food is Spaghetti\n",
      "Wilfred's favorite food is Pizza\n",
      "Mitsworth's favorite food is Tuna\n",
      "Jeeves's favorite food is Ice cream\n"
     ]
    }
   ],
   "source": [
    "for name in newdic:\n",
    "    print name+\"'s\",'favorite food is', newdic[name]"
   ]
  },
  {
   "cell_type": "markdown",
   "metadata": {},
   "source": [
    "**(C)** (1) Change the dictionary so that Wilfred's favorite food is Pizza. (2) Add a new entry for Mitsworth, whose favorite food is Tuna. \n",
    "\n",
    "Do not recreate the whole dictionary while doing these things. Edit the dictionary you created in (A) using the syntax described in the lecture."
   ]
  },
  {
   "cell_type": "code",
   "execution_count": 9,
   "metadata": {},
   "outputs": [
    {
     "name": "stdout",
     "output_type": "stream",
     "text": [
      "{'Manfred': 'French fries', 'Wadsworth': 'Spaghetti', 'Wilfred': 'Pizza', 'Mitsworth': 'Tuna', 'Jeeves': 'Ice cream'}\n"
     ]
    }
   ],
   "source": [
    "newdic['Wilfred'] = 'Pizza'\n",
    "newdic['Mitsworth'] = 'Tuna'\n",
    "print newdic"
   ]
  },
  {
   "cell_type": "markdown",
   "metadata": {},
   "source": [
    "**(D)** Prompt the user to input a name. Check if the name they entered is a valid key in the dictionary using an `if` statement. If the name is in the dictionary, print out the corresponding favorite food. If not, print a message saying \"That name is not in our database\"."
   ]
  },
  {
   "cell_type": "code",
   "execution_count": 8,
   "metadata": {
    "scrolled": true
   },
   "outputs": [
    {
     "name": "stdout",
     "output_type": "stream",
     "text": [
      "Input name: \n",
      "Jeeves\n",
      "Ice cream\n"
     ]
    }
   ],
   "source": [
    "\n",
    "guess = raw_input(\"Input name: \\n\")\n",
    "x = 0 # flag variable\n",
    "namelist = []\n",
    "for name in newdic:\n",
    "    namelist.append(name)\n",
    "    if guess in name:\n",
    "        print newdic[name]\n",
    "        \n",
    "if guess not in newdic.keys():\n",
    "      print \"That name is not in our database\"\n",
    "    \n",
    "\n",
    "    \n",
    "        \n",
    "\n",
    "    "
   ]
  },
  {
   "cell_type": "markdown",
   "metadata": {},
   "source": [
    "**(E)** Print just the names in the dictionary in alphabetical order. Use the sorting example from the slides."
   ]
  },
  {
   "cell_type": "code",
   "execution_count": 19,
   "metadata": {},
   "outputs": [
    {
     "name": "stdout",
     "output_type": "stream",
     "text": [
      "Jeeves\n",
      "Manfred\n",
      "Wadsworth\n",
      "Wilfred\n"
     ]
    }
   ],
   "source": [
    "#print (newdic)\n",
    "for name in sorted(newdic.keys()):\n",
    "    print name"
   ]
  },
  {
   "cell_type": "markdown",
   "metadata": {},
   "source": [
    "**(F)** Print just the names in sorted order based on their favorite food. Use the value-sorting example from the slides."
   ]
  },
  {
   "cell_type": "code",
   "execution_count": 21,
   "metadata": {},
   "outputs": [
    {
     "name": "stdout",
     "output_type": "stream",
     "text": [
      "Manfred French fries\n",
      "Jeeves Ice cream\n",
      "Wadsworth Spaghetti\n",
      "Wilfred Steak\n"
     ]
    }
   ],
   "source": [
    "#print (newdic)\n",
    "for name in sorted(newdic, key=newdic.get):\n",
    "    print name, newdic[name]"
   ]
  },
  {
   "cell_type": "markdown",
   "metadata": {},
   "source": [
    "---\n",
    "## 3. File writing (3pts)"
   ]
  },
  {
   "cell_type": "markdown",
   "metadata": {},
   "source": [
    "**(A)** Write code that prints \"Hello, world\" to a file called `hello.txt`"
   ]
  },
  {
   "cell_type": "code",
   "execution_count": 50,
   "metadata": {},
   "outputs": [
    {
     "name": "stdout",
     "output_type": "stream",
     "text": [
      "Hello, world!\n",
      "\n"
     ]
    }
   ],
   "source": [
    "hellofile = \"hello.txt\"\n",
    "outfile = open(hellofile, 'w')\n",
    "\n",
    "outfile.write(\"Hello, world!\\n\")\n",
    "\n",
    "outfile.close()\n",
    "\n",
    "infile = open(hellofile, 'r')\n",
    "\n",
    "for line in infile:\n",
    "    print line\n",
    "    \n",
    "outfile.close()"
   ]
  },
  {
   "cell_type": "markdown",
   "metadata": {},
   "source": [
    "**(B)** Write code that prints the following text to a file called `meow.txt`. It must be formatted exactly as it here (you will need to use \\n and \\t):\n",
    "```\n",
    "Dear Mitsworth,\n",
    "    \n",
    "    Meow, meow meow meow.\n",
    "    \n",
    "Sincerely,\n",
    "A friend\n",
    "```"
   ]
  },
  {
   "cell_type": "code",
   "execution_count": 40,
   "metadata": {},
   "outputs": [
    {
     "name": "stdout",
     "output_type": "stream",
     "text": [
      "Dear Mitsworth,\n",
      "\n",
      "\n",
      "\n",
      "   Meow, meow meow meow.\n",
      "\n",
      "\n",
      "\n",
      "Sincerely, \n",
      "\n",
      "A freind\n"
     ]
    }
   ],
   "source": [
    "meowfile = \"meow.txt\"\n",
    "outfile = open(meowfile, 'w')\n",
    "\n",
    "outfile.write(\"Dear Mitsworth,\\n\")\n",
    "outfile.write(\"\\n   Meow, meow meow meow.\\n\")\n",
    "outfile.write(\"\\nSincerely, \\n\")\n",
    "outfile.write(\"A freind\")\n",
    "\n",
    "\n",
    "outfile.close()\n",
    "\n",
    "catfile = open(meowfile, 'r')\n",
    "\n",
    "for line in catfile:\n",
    "    print line\n"
   ]
  },
  {
   "cell_type": "markdown",
   "metadata": {},
   "source": [
    "**(C)** Write code that reads in the gene IDs from `genes.txt` and prints the **unique** gene IDs to a **new file** called `genes_unique.txt`. (You can re-use your code or the answer sheet from lab4 for getting the unique IDs.)"
   ]
  },
  {
   "cell_type": "code",
   "execution_count": 68,
   "metadata": {},
   "outputs": [
    {
     "name": "stdout",
     "output_type": "stream",
     "text": [
      "uc007zzs.1\n",
      "uc009akk.2\n",
      "uc009eyb.1\n",
      "uc008vlv.1\n",
      "uc008wzq.1\n",
      "uc007hnl.1\n",
      "uc008tvu.1\n",
      "uc008vlv.3\n",
      "uc007xgk.1\n",
      "uc009qsh.1\n",
      "uc008all.1\n",
      "uc008eda.1\n",
      "uc007shu.4\n",
      "uc009mor.1\n",
      "uc008fux.1\n",
      "uc007ztg.2\n",
      "uc007nkt.1\n",
      "uc008qul.3\n",
      "uc008ktr.2\n",
      "uc008iwn.1\n",
      "uc009fxp.2\n",
      "uc008vsh.1\n",
      "uc008gkj.2\n",
      "uc007piu.2\n",
      "uc008vsk.1\n",
      "uc008vsv.1\n",
      "uc008kjh.1\n",
      "uc009dri.1\n",
      "uc008vlv.2\n",
      "uc009rxy.1\n",
      "uc008fyq.1\n",
      "uc009act.1\n",
      "uc008lub.1\n",
      "uc007ker.1\n",
      "uc008qiz.2\n",
      "uc008bak.1\n",
      "uc008kcg.1\n",
      "uc009cjg.1\n",
      "uc007vlq.1\n",
      "uc007xog.1\n",
      "uc009avv.1\n",
      "uc008kcg.2\n",
      "uc007kmj.1\n",
      "uc008oaj.1\n",
      "uc007cib.1\n",
      "uc007ket.1\n",
      "uc009rpf.1\n",
      "uc008owo.1\n",
      "uc008jaq.1\n"
     ]
    }
   ],
   "source": [
    "genefile = \"genes.txt\"\n",
    "\n",
    "genes = open(genefile, 'r')\n",
    "genelist=[]\n",
    "geneNodup=[]\n",
    "\n",
    "for line in genes:\n",
    "    line = line.rstrip('\\n')\n",
    "    \n",
    "    \n",
    "    \n",
    "    genelist.append(line)\n",
    "    \n",
    "        \n",
    "for id in genelist:    \n",
    "    \n",
    "    if id not in geneNodup:\n",
    "        geneNodup.append(id)\n",
    "\n",
    "gene2=\"geneNodup.txt\"\n",
    "\n",
    "writegene = open(gene2,'w')\n",
    "\n",
    "for gene in geneNodup:\n",
    "    writegene.write(gene + '\\n')\n",
    " \n",
    "ingene.close()\n",
    "\n",
    "readgene=open(gene2, 'r')\n",
    "\n",
    "for line in readgene:\n",
    "    line=line.rstrip('\\n')\n",
    "    print line\n",
    "\n"
   ]
  },
  {
   "cell_type": "markdown",
   "metadata": {},
   "source": [
    "---\n",
    "## 4. The \"many counters\" problem (4pts)"
   ]
  },
  {
   "cell_type": "markdown",
   "metadata": {},
   "source": [
    "**(A)** Write code that reads a file of sequences and tallies how many sequences there are of each length. Use `sequences3.txt` as input. \n",
    "\n",
    "*Hint: you can use a dictionary to keep track of all the tallies. For example:*"
   ]
  },
  {
   "cell_type": "code",
   "execution_count": 75,
   "metadata": {},
   "outputs": [
    {
     "name": "stdout",
     "output_type": "stream",
     "text": [
      "{15: 1}\n"
     ]
    }
   ],
   "source": [
    "# hint code:\n",
    "\n",
    "tallyDict = {}\n",
    "seq = \"ATGCTGATCGATATA\"\n",
    "length = len(seq)\n",
    "\n",
    "if length not in tallyDict:\n",
    "    tallyDict[length] = 1  #initialize to 1 if this is the first occurrence of the length...\n",
    "else:\n",
    "    tallyDict[length] = tallyDict[length] + 1   #...otherwise just increment the count.\n",
    "print tallyDict"
   ]
  },
  {
   "cell_type": "code",
   "execution_count": 76,
   "metadata": {},
   "outputs": [
    {
     "name": "stdout",
     "output_type": "stream",
     "text": [
      "{15: 1, 27: 4, 30: 2, 33: 3, 36: 4, 39: 4, 42: 6, 45: 5, 48: 3, 51: 7, 54: 5, 57: 3, 60: 4, 63: 3, 66: 3, 69: 3, 72: 2, 75: 2, 78: 3, 81: 5, 84: 3, 87: 3, 90: 6, 93: 3, 96: 3, 99: 3, 102: 3, 105: 5}\n"
     ]
    }
   ],
   "source": [
    "infile = \"sequences3.txt\"\n",
    "\n",
    "seq = open(infile, 'r')\n",
    "tallydict={}\n",
    "genelist=[]\n",
    "\n",
    "for line in seq:\n",
    "    line = line.rstrip('\\n')\n",
    "    #print line\n",
    "    length = len(line)\n",
    "\n",
    "    if length not in tallyDict:\n",
    "        tallyDict[length] = 1  #initialize to 1 if this is the first occurrence of the length...\n",
    "    else:\n",
    "        tallyDict[length] = tallyDict[length] + 1   #...otherwise just increment the count.\n",
    "print tallyDict    \n",
    "      "
   ]
  },
  {
   "cell_type": "markdown",
   "metadata": {},
   "source": [
    "**(B)** Using the tally dictionary you created above, figure out which sequence length was the most common, and print it to the screen."
   ]
  },
  {
   "cell_type": "code",
   "execution_count": 112,
   "metadata": {},
   "outputs": [
    {
     "name": "stdout",
     "output_type": "stream",
     "text": [
      "Sequence length: 51 \n",
      "Number of sequences: 7\n"
     ]
    }
   ],
   "source": [
    "#count=0\n",
    "#for tally in sorted(tallyDict, key=tallyDict.get):\n",
    " #   print tallyDict[tally], tally\n",
    "\n",
    "maximum = max(tallyDict, key=tallyDict.get)  # Just use 'min' instead of 'max' for minimum.\n",
    "\n",
    "print 'Sequence length:', maximum, '\\n', 'Number of sequences:', tallyDict[maximum]"
   ]
  },
  {
   "cell_type": "markdown",
   "metadata": {},
   "source": [
    "---\n",
    "## 5. Codon table (6pts)\n",
    "\n",
    "For this question, use `codon_table.txt`, which contains a list of all possible codons and their corresponding amino acids. We will be using this info to create a dictionary, which will allow us to translate a nucleotide sequence into amino acids. Each part of this question builds off the previous parts."
   ]
  },
  {
   "cell_type": "markdown",
   "metadata": {},
   "source": [
    "**(A)** Thinkin' question (short answer, not code): If we want to create a codon dictionary and use it to translate nucleotide sequences, would it be better to use the codons or amino acids as keys? "
   ]
  },
  {
   "cell_type": "markdown",
   "metadata": {},
   "source": [
    "Your answer:better to use the codons as keys. That way we can use compare a sequence to any keys and get the value output. Can use a variable as a key."
   ]
  },
  {
   "cell_type": "markdown",
   "metadata": {},
   "source": [
    "**(B)** Read in `codon_table.txt` (note that it has a header line) and use it to create a codon dictionary. Then use `input()` to prompt the user to enter a single codon (e.g. ATG) and print the amino acid corresponding to that codon to the screen."
   ]
  },
  {
   "cell_type": "code",
   "execution_count": 146,
   "metadata": {},
   "outputs": [
    {
     "name": "stdout",
     "output_type": "stream",
     "text": [
      "Enter a single codon (e.g. ATG):sdfg\n",
      "None\n"
     ]
    }
   ],
   "source": [
    "infile = \"codon_table.txt\"\n",
    "datadict={}\n",
    "codon = open(infile, 'r')\n",
    "codon.readline()\n",
    "for line in codon:\n",
    "    line = line.rstrip()\n",
    "    data =line.split()\n",
    "    #print data\n",
    "    for i in data:\n",
    "        datadict[data[0]] = data[1]\n",
    "codon.close()\n",
    "input = raw_input('Enter a single codon (e.g. ATG):')        \n",
    "print datadict.get(input)      \n",
    "    "
   ]
  },
  {
   "cell_type": "markdown",
   "metadata": {},
   "source": [
    "**(C)** Now we will adapt the code in (B) to translate a longer sequence. Instead of prompting the user for a single codon, allow them to enter a longer sequence. First, check that the sequence they entered has a length that is a multiple of 3 (Hint: use the mod operator, %), and print an error message if it is not. If it is valid, then go on to translate every three nucleotides to an amino acid. Print the final amino acid sequence to the screen."
   ]
  },
  {
   "cell_type": "code",
   "execution_count": 223,
   "metadata": {},
   "outputs": [
    {
     "name": "stdout",
     "output_type": "stream",
     "text": [
      "Enter a seq:ATG\n",
      "['M']\n"
     ]
    }
   ],
   "source": [
    "infile = \"codon_table.txt\"\n",
    "datadict={}\n",
    "codon = open(infile, 'r')\n",
    "codon.readline()\n",
    "for line in codon:\n",
    "    line = line.rstrip()\n",
    "    data =line.split()\n",
    "    #print data\n",
    "    for i in data:\n",
    "        datadict[data[0]] = data[1]\n",
    "codon.close()\n",
    "codons=0\n",
    "x=0\n",
    "list=[]\n",
    "input = raw_input('Enter a seq:')        \n",
    "if (len(input) % 3) != 0:\n",
    "    print\"error\"\n",
    "else:\n",
    "    for i in range(len(input)/3):\n",
    "        #print i\n",
    "        codons = codons + 1\n",
    "for j in range(codons):\n",
    "    cod = input [x+0:x+3]\n",
    "    #print cod\n",
    "    x = x+3\n",
    "    list.append(datadict.get(cod))\n",
    "    \n",
    "print list"
   ]
  },
  {
   "cell_type": "markdown",
   "metadata": {},
   "source": [
    "**(D)** Now, instead of taking user input, you will apply your translator to a set of sequences stored in a file. Read in the sequences from `sequences3.txt` (assume each line is a separate sequence), translate it to amino acids, and print it to a new file called `proteins.txt`."
   ]
  },
  {
   "cell_type": "code",
   "execution_count": 239,
   "metadata": {},
   "outputs": [],
   "source": [
    "codons=0\n",
    "str=''\n",
    "all=[]\n",
    "counter=0\n",
    "outfile = \"proteins.txt\"\n",
    "protfile = open(outfile, 'w')\n",
    "\n",
    "\n",
    "newfile = \"sequences3.txt\"\n",
    "\n",
    "seq3 = open(newfile, 'r')\n",
    "\n",
    "for line in seq3:\n",
    "    counter = 1 + counter\n",
    "    list = []\n",
    "    x=0\n",
    "    line=line.rstrip('\\n')\n",
    "    #print line\n",
    "    if (len(line) % 3) != 0:\n",
    "        print \"error\"\n",
    "    else:\n",
    "        for i in range(len(line)/3):\n",
    "            \n",
    "            cod = line[x+0:x+3]\n",
    "    #print cod\n",
    "            x = x+3\n",
    "            list.append(datadict.get(cod))\n",
    "            \n",
    "    proteins = ''.join(list)\n",
    "    protfile.write(proteins)\n",
    "    protfile.write('\\n')\n",
    "    \n",
    "    \n",
    "\n",
    "    \n",
    "seq3.close()    \n",
    "protfile.close()\n",
    "\n"
   ]
  },
  {
   "cell_type": "code",
   "execution_count": null,
   "metadata": {},
   "outputs": [],
   "source": []
  }
 ],
 "metadata": {
  "anaconda-cloud": {},
  "kernelspec": {
   "display_name": "Python 2",
   "language": "python",
   "name": "python2"
  },
  "language_info": {
   "codemirror_mode": {
    "name": "ipython",
    "version": 2
   },
   "file_extension": ".py",
   "mimetype": "text/x-python",
   "name": "python",
   "nbconvert_exporter": "python",
   "pygments_lexer": "ipython2",
   "version": "2.7.15"
  }
 },
 "nbformat": 4,
 "nbformat_minor": 1
}
