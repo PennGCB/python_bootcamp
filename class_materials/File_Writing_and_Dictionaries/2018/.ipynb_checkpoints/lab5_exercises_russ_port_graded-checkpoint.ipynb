{
 "cells": [
  {
   "cell_type": "markdown",
   "metadata": {},
   "source": [
    "# Programming Bootcamp 2018\n",
    "# Lesson 5 Exercises\n",
    "---"
   ]
  },
  {
   "cell_type": "markdown",
   "metadata": {},
   "source": [
    "** Earning points (optional) **\n",
    "\n",
    "- Enter your name below.\n",
    "- Post your notebook privately to instructors on piazza **before 9:00 pm on 8/21**."
   ]
  },
  {
   "cell_type": "markdown",
   "metadata": {},
   "source": [
    "**Name**: Russ Port"
   ]
  },
  {
   "cell_type": "markdown",
   "metadata": {},
   "source": [
    "---\n",
    "## 1. Guess the output: dictionary practice (1pt)\n",
    "\n",
    "For the following blocks of code, first try to guess what the output will be, and then run the code yourself. Points will be given for filling in the guesses; guessing wrong won't be penalized."
   ]
  },
  {
   "cell_type": "code",
   "execution_count": 1,
   "metadata": {},
   "outputs": [],
   "source": [
    "# run this cell first!\n",
    "fruits = {\"apple\":\"red\", \"banana\":\"yellow\", \"grape\":\"purple\"}"
   ]
  },
  {
   "cell_type": "code",
   "execution_count": 2,
   "metadata": {},
   "outputs": [
    {
     "name": "stdout",
     "output_type": "stream",
     "text": [
      "yellow\n"
     ]
    }
   ],
   "source": [
    "print fruits[\"banana\"]"
   ]
  },
  {
   "cell_type": "markdown",
   "metadata": {},
   "source": [
    "Your guess: \"yellow\""
   ]
  },
  {
   "cell_type": "markdown",
   "metadata": {},
   "source": [
    " "
   ]
  },
  {
   "cell_type": "code",
   "execution_count": 3,
   "metadata": {},
   "outputs": [
    {
     "name": "stdout",
     "output_type": "stream",
     "text": [
      "red\n"
     ]
    }
   ],
   "source": [
    "query = \"apple\"\n",
    "print fruits[query]"
   ]
  },
  {
   "cell_type": "markdown",
   "metadata": {},
   "source": [
    "Your guess: \"Red\""
   ]
  },
  {
   "cell_type": "markdown",
   "metadata": {},
   "source": [
    " "
   ]
  },
  {
   "cell_type": "code",
   "execution_count": 4,
   "metadata": {},
   "outputs": [
    {
     "ename": "KeyError",
     "evalue": "0",
     "output_type": "error",
     "traceback": [
      "\u001b[0;31m---------------------------------------------------------------------------\u001b[0m",
      "\u001b[0;31mKeyError\u001b[0m                                  Traceback (most recent call last)",
      "\u001b[0;32m<ipython-input-4-20060b6afa7b>\u001b[0m in \u001b[0;36m<module>\u001b[0;34m()\u001b[0m\n\u001b[0;32m----> 1\u001b[0;31m \u001b[0;32mprint\u001b[0m \u001b[0mfruits\u001b[0m\u001b[0;34m[\u001b[0m\u001b[0;36m0\u001b[0m\u001b[0;34m]\u001b[0m\u001b[0;34m\u001b[0m\u001b[0m\n\u001b[0m",
      "\u001b[0;31mKeyError\u001b[0m: 0"
     ]
    }
   ],
   "source": [
    "print fruits[0]"
   ]
  },
  {
   "cell_type": "raw",
   "metadata": {},
   "source": [
    "Your guess: error"
   ]
  },
  {
   "cell_type": "markdown",
   "metadata": {},
   "source": [
    " "
   ]
  },
  {
   "cell_type": "code",
   "execution_count": 5,
   "metadata": {},
   "outputs": [
    {
     "name": "stdout",
     "output_type": "stream",
     "text": [
      "['grape', 'apple', 'banana']\n"
     ]
    }
   ],
   "source": [
    "print fruits.keys()"
   ]
  },
  {
   "cell_type": "markdown",
   "metadata": {},
   "source": [
    "Your guess: [\"apple\", \"banana\", \"grape\"]"
   ]
  },
  {
   "cell_type": "markdown",
   "metadata": {},
   "source": [
    " "
   ]
  },
  {
   "cell_type": "code",
   "execution_count": 6,
   "metadata": {},
   "outputs": [
    {
     "name": "stdout",
     "output_type": "stream",
     "text": [
      "['purple', 'red', 'yellow']\n"
     ]
    }
   ],
   "source": [
    "print fruits.values()"
   ]
  },
  {
   "cell_type": "markdown",
   "metadata": {},
   "source": [
    "Your guess: [\"purple\",\"red\", \"yellow\"]"
   ]
  },
  {
   "cell_type": "markdown",
   "metadata": {},
   "source": [
    " "
   ]
  },
  {
   "cell_type": "code",
   "execution_count": 7,
   "metadata": {},
   "outputs": [
    {
     "name": "stdout",
     "output_type": "stream",
     "text": [
      "purple\n",
      "red\n",
      "yellow\n"
     ]
    }
   ],
   "source": [
    "for key in fruits:\n",
    "    print fruits[key]"
   ]
  },
  {
   "cell_type": "markdown",
   "metadata": {},
   "source": [
    "Your guess: yellow\n",
    "red\n",
    "purple"
   ]
  },
  {
   "cell_type": "markdown",
   "metadata": {},
   "source": [
    " "
   ]
  },
  {
   "cell_type": "code",
   "execution_count": 8,
   "metadata": {},
   "outputs": [
    {
     "name": "stdout",
     "output_type": "stream",
     "text": [
      "{'grape': 'purple', 'apple': 'red'}\n"
     ]
    }
   ],
   "source": [
    "del fruits[\"banana\"]\n",
    "print fruits"
   ]
  },
  {
   "cell_type": "markdown",
   "metadata": {},
   "source": [
    "Your guess: ['grape','apple']"
   ]
  },
  {
   "cell_type": "markdown",
   "metadata": {},
   "source": [
    " "
   ]
  },
  {
   "cell_type": "code",
   "execution_count": 9,
   "metadata": {},
   "outputs": [
    {
     "ename": "KeyError",
     "evalue": "'pear'",
     "output_type": "error",
     "traceback": [
      "\u001b[0;31m---------------------------------------------------------------------------\u001b[0m",
      "\u001b[0;31mKeyError\u001b[0m                                  Traceback (most recent call last)",
      "\u001b[0;32m<ipython-input-9-1704fdb2b6e9>\u001b[0m in \u001b[0;36m<module>\u001b[0;34m()\u001b[0m\n\u001b[0;32m----> 1\u001b[0;31m \u001b[0;32mprint\u001b[0m \u001b[0mfruits\u001b[0m\u001b[0;34m[\u001b[0m\u001b[0;34m\"pear\"\u001b[0m\u001b[0;34m]\u001b[0m\u001b[0;34m\u001b[0m\u001b[0m\n\u001b[0m",
      "\u001b[0;31mKeyError\u001b[0m: 'pear'"
     ]
    }
   ],
   "source": [
    "print fruits[\"pear\"]"
   ]
  },
  {
   "cell_type": "markdown",
   "metadata": {},
   "source": [
    "Your guess: error"
   ]
  },
  {
   "cell_type": "markdown",
   "metadata": {},
   "source": [
    " "
   ]
  },
  {
   "cell_type": "code",
   "execution_count": 10,
   "metadata": {},
   "outputs": [
    {
     "name": "stdout",
     "output_type": "stream",
     "text": [
      "green\n"
     ]
    }
   ],
   "source": [
    "fruits[\"pear\"] = \"green\"\n",
    "print fruits[\"pear\"] "
   ]
  },
  {
   "cell_type": "markdown",
   "metadata": {},
   "source": [
    "Your guess: \"green\""
   ]
  },
  {
   "cell_type": "markdown",
   "metadata": {},
   "source": [
    " "
   ]
  },
  {
   "cell_type": "code",
   "execution_count": 11,
   "metadata": {},
   "outputs": [
    {
     "name": "stdout",
     "output_type": "stream",
     "text": [
      "red or green\n"
     ]
    }
   ],
   "source": [
    "fruits[\"apple\"] = fruits[\"apple\"] + \" or green\"\n",
    "print fruits[\"apple\"]"
   ]
  },
  {
   "cell_type": "markdown",
   "metadata": {},
   "source": [
    "Your guess: \"red or green\""
   ]
  },
  {
   "cell_type": "markdown",
   "metadata": {},
   "source": [
    " "
   ]
  },
  {
   "cell_type": "markdown",
   "metadata": {},
   "source": [
    "---\n",
    "## 2. On your own: using dictionaries (6pts)\n",
    "\n",
    "Using the info in the table below, write code to accomplish the following tasks.\n",
    "\n",
    "|    Name   | Favorite Food |\n",
    "|:---------:|:-------------:|\n",
    "|  Wilfred  |     Steak     |\n",
    "|  Manfred  |  French fries |\n",
    "| Wadsworth |   Spaghetti   |\n",
    "|   Jeeves  |   Ice cream   |\n"
   ]
  },
  {
   "cell_type": "markdown",
   "metadata": {},
   "source": [
    "**(A)** Create a dictionary based on the data above, where each person's name is a key, and their favorite foods are the values."
   ]
  },
  {
   "cell_type": "code",
   "execution_count": 12,
   "metadata": {},
   "outputs": [],
   "source": [
    "TreatD={\"Wilfred\":\"Steak\",\"Manfred\":\"French fries\",\"Wadsworth\":\"Spaghetti\",\"Jeeves\":\"Ice cream\"}"
   ]
  },
  {
   "cell_type": "markdown",
   "metadata": {},
   "source": [
    "**(B)** Using a `for` loop, go through the dictionary you created above and print each name and food combination in the format:\n",
    "\n",
    "    <NAME>'s favorite food is <FOOD>"
   ]
  },
  {
   "cell_type": "code",
   "execution_count": 13,
   "metadata": {},
   "outputs": [
    {
     "name": "stdout",
     "output_type": "stream",
     "text": [
      "Manfred's favorite food is French fries\n",
      "Wadsworth's favorite food is Spaghetti\n",
      "Wilfred's favorite food is Steak\n",
      "Jeeves's favorite food is Ice cream\n"
     ]
    }
   ],
   "source": [
    "for (name,food) in TreatD.items():\n",
    "    print name + \"'s favorite food is\", food"
   ]
  },
  {
   "cell_type": "markdown",
   "metadata": {},
   "source": [
    "**(C)** (1) Change the dictionary so that Wilfred's favorite food is Pizza. (2) Add a new entry for Mitsworth, whose favorite food is Tuna. \n",
    "\n",
    "Do not recreate the whole dictionary while doing these things. Edit the dictionary you created in (A) using the syntax described in the lecture."
   ]
  },
  {
   "cell_type": "code",
   "execution_count": 14,
   "metadata": {},
   "outputs": [
    {
     "name": "stdout",
     "output_type": "stream",
     "text": [
      "{'Manfred': 'French fries', 'Wadsworth': 'Spaghetti', 'Wilfred': 'Pizza', 'Mitsworth': 'Tuna', 'Jeeves': 'Ice cream'}\n"
     ]
    }
   ],
   "source": [
    "TreatD[\"Wilfred\"]=\"Pizza\"\n",
    "TreatD[\"Mitsworth\"]=\"Tuna\"\n",
    "print TreatD"
   ]
  },
  {
   "cell_type": "markdown",
   "metadata": {},
   "source": [
    "**(D)** Prompt the user to input a name. Check if the name they entered is a valid key in the dictionary using an `if` statement. If the name is in the dictionary, print out the corresponding favorite food. If not, print a message saying \"That name is not in our database\"."
   ]
  },
  {
   "cell_type": "code",
   "execution_count": 16,
   "metadata": {},
   "outputs": [
    {
     "name": "stdout",
     "output_type": "stream",
     "text": [
      "Who do you want?     Mitsworth\n",
      "Mitsworth's favorite food is Tuna\n"
     ]
    }
   ],
   "source": [
    "NameWanted=raw_input(\"Who do you want?     \")\n",
    "\n",
    "if NameWanted in TreatD:\n",
    "     print NameWanted + \"'s favorite food is\", TreatD[NameWanted]\n",
    "else:\n",
    "    print\"That name is not in our database\"\n",
    "    "
   ]
  },
  {
   "cell_type": "markdown",
   "metadata": {},
   "source": [
    "**(E)** Print just the names in the dictionary in alphabetical order. Use the sorting example from the slides."
   ]
  },
  {
   "cell_type": "code",
   "execution_count": 17,
   "metadata": {},
   "outputs": [
    {
     "name": "stdout",
     "output_type": "stream",
     "text": [
      "{'Manfred': 'French fries', 'Wadsworth': 'Spaghetti', 'Wilfred': 'Pizza', 'Mitsworth': 'Tuna', 'Jeeves': 'Ice cream'}\n",
      "Jeeves\n",
      "Manfred\n",
      "Mitsworth\n",
      "Wadsworth\n",
      "Wilfred\n"
     ]
    }
   ],
   "source": [
    "print TreatD\n",
    "\n",
    "for name in sorted(TreatD.keys()):\n",
    "\tprint name\n"
   ]
  },
  {
   "cell_type": "markdown",
   "metadata": {},
   "source": [
    "**(F)** Print just the names in sorted order based on their favorite food. Use the value-sorting example from the slides."
   ]
  },
  {
   "cell_type": "code",
   "execution_count": 18,
   "metadata": {},
   "outputs": [
    {
     "name": "stdout",
     "output_type": "stream",
     "text": [
      "Manfred\n",
      "Jeeves\n",
      "Wilfred\n",
      "Wadsworth\n",
      "Mitsworth\n"
     ]
    }
   ],
   "source": [
    "for name in sorted(TreatD, key=TreatD.get):\n",
    "\tprint name"
   ]
  },
  {
   "cell_type": "markdown",
   "metadata": {},
   "source": [
    "---\n",
    "## 3. File writing (3pts)"
   ]
  },
  {
   "cell_type": "markdown",
   "metadata": {},
   "source": [
    "**(A)** Write code that prints \"Hello, world\" to a file called `hello.txt`"
   ]
  },
  {
   "cell_type": "code",
   "execution_count": 19,
   "metadata": {},
   "outputs": [],
   "source": [
    "FileID=\"Hello_test.txt\"\n",
    "\n",
    "File=open(FileID,'w')\n",
    "File.write(\"Hello, world\")\n",
    "File.close()"
   ]
  },
  {
   "cell_type": "markdown",
   "metadata": {},
   "source": [
    "**(B)** Write code that prints the following text to a file called `meow.txt`. It must be formatted exactly as it here (you will need to use \\n and \\t):\n",
    "```\n",
    "Dear Mitsworth,\n",
    "    \n",
    "    Meow, meow meow meow.\n",
    "    \n",
    "Sincerely,\n",
    "A friend\n",
    "```"
   ]
  },
  {
   "cell_type": "code",
   "execution_count": 20,
   "metadata": {},
   "outputs": [],
   "source": [
    "FileID=\"meow.txt\"\n",
    "\n",
    "File=open(FileID,'w')\n",
    "File.write(\"Dear Mitsworth\\n\\n\")\n",
    "File.write(\"\\t Meow, meow meow meow.\\n\\n\")\n",
    "File.write(\"Sincerely,\\nA friend\")\n",
    "File.close()"
   ]
  },
  {
   "cell_type": "markdown",
   "metadata": {},
   "source": [
    "**(C)** Write code that reads in the gene IDs from `genes.txt` and prints the **unique** gene IDs to a **new file** called `genes_unique.txt`. (You can re-use your code or the answer sheet from lab4 for getting the unique IDs.)"
   ]
  },
  {
   "cell_type": "code",
   "execution_count": 21,
   "metadata": {},
   "outputs": [
    {
     "name": "stdout",
     "output_type": "stream",
     "text": [
      "uc007zzs.1\n",
      "uc009akk.2\n",
      "uc009eyb.1\n",
      "uc008vlv.1\n",
      "uc008wzq.1\n",
      "uc007hnl.1\n",
      "uc008tvu.1\n",
      "uc008vlv.3\n",
      "uc007xgk.1\n",
      "uc009qsh.1\n",
      "uc008all.1\n",
      "uc008eda.1\n",
      "uc007shu.4\n",
      "uc009mor.1\n",
      "uc008fux.1\n",
      "uc007ztg.2\n",
      "uc007nkt.1\n",
      "uc008qul.3\n",
      "uc008ktr.2\n",
      "uc008iwn.1\n",
      "uc009fxp.2\n",
      "uc008vsh.1\n",
      "uc008gkj.2\n",
      "uc007piu.2\n",
      "uc008vsk.1\n",
      "uc008vsv.1\n",
      "uc008kjh.1\n",
      "uc009dri.1\n",
      "uc008vlv.2\n",
      "uc009rxy.1\n",
      "uc008fyq.1\n",
      "uc009act.1\n",
      "uc008lub.1\n",
      "uc007ker.1\n",
      "uc008qiz.2\n",
      "uc008bak.1\n",
      "uc008kcg.1\n",
      "uc009cjg.1\n",
      "uc007vlq.1\n",
      "uc007xog.1\n",
      "uc009avv.1\n",
      "uc008kcg.2\n",
      "uc007kmj.1\n",
      "uc008oaj.1\n",
      "uc007cib.1\n",
      "uc007ket.1\n",
      "uc009rpf.1\n",
      "uc008owo.1\n",
      "uc008jaq.1\n",
      "54\n",
      "49\n"
     ]
    }
   ],
   "source": [
    "FileID=\"genes.txt\"\n",
    "FileOutName=\"genes_unique.txt\"\n",
    "\n",
    "uniqueWordList=[]\n",
    "WordCount=0\n",
    "UniqueCount=0\n",
    "\n",
    "File=open(FileID,'r')\n",
    "FileOut=open(FileOutName,'w')\n",
    "for Line in File:\n",
    "    WordCount+=1\n",
    "    Line=Line.rstrip('\\n')\n",
    "    if Line not in uniqueWordList:\n",
    "        print Line\n",
    "        UniqueCount+=1\n",
    "        uniqueWordList.append(Line)\n",
    "        FileOut.write(Line)\n",
    "        FileOut.write(\"\\n\")\n",
    "File.close()\n",
    "FileOut.close()\n",
    "\n",
    "print WordCount\n",
    "print UniqueCount\n"
   ]
  },
  {
   "cell_type": "markdown",
   "metadata": {},
   "source": [
    "---\n",
    "## 4. The \"many counters\" problem (4pts)"
   ]
  },
  {
   "cell_type": "markdown",
   "metadata": {},
   "source": [
    "**(A)** Write code that reads a file of sequences and tallies how many sequences there are of each length. Use `sequences3.txt` as input. \n",
    "\n",
    "*Hint: you can use a dictionary to keep track of all the tallies. For example:*"
   ]
  },
  {
   "cell_type": "code",
   "execution_count": 22,
   "metadata": {},
   "outputs": [],
   "source": [
    "# hint code:\n",
    "\n",
    "tallyDict = {}\n",
    "seq = \"ATGCTGATCGATATA\"\n",
    "length = len(seq)\n",
    "\n",
    "if length not in tallyDict:\n",
    "    tallyDict[length] = 1  #initialize to 1 if this is the first occurrence of the length...\n",
    "else:\n",
    "    tallyDict[length] = tallyDict[length] + 1   #...otherwise just increment the count."
   ]
  },
  {
   "cell_type": "code",
   "execution_count": 25,
   "metadata": {},
   "outputs": [
    {
     "name": "stdout",
     "output_type": "stream",
     "text": [
      "{27: 4, 30: 2, 33: 3, 36: 4, 39: 4, 42: 6, 45: 5, 48: 3, 51: 7, 54: 5, 57: 3, 60: 4, 63: 3, 66: 3, 69: 3, 72: 2, 75: 2, 78: 3, 81: 5, 84: 3, 87: 3, 90: 6, 93: 3, 96: 3, 99: 3, 102: 3, 105: 5}\n"
     ]
    }
   ],
   "source": [
    "FileSeq3Name=\"sequences3.txt\"\n",
    "\n",
    "tallyDict={}\n",
    "FileSeq3=open(FileSeq3Name,'r')\n",
    "for Line in FileSeq3:\n",
    "    Line=Line.strip('\\n')\n",
    "    Length=len(Line)\n",
    "    if Length in tallyDict:\n",
    "        tallyDict[Length] = tallyDict[Length] + 1\n",
    "    else:   \n",
    "        tallyDict[Length] = 1\n",
    "        \n",
    "print tallyDict"
   ]
  },
  {
   "cell_type": "markdown",
   "metadata": {},
   "source": [
    "**(B)** Using the tally dictionary you created above, figure out which sequence length was the most common, and print it to the screen."
   ]
  },
  {
   "cell_type": "code",
   "execution_count": 26,
   "metadata": {},
   "outputs": [
    {
     "name": "stdout",
     "output_type": "stream",
     "text": [
      "the most common sequence length was 51\n"
     ]
    }
   ],
   "source": [
    "output = \"\"\n",
    "for Ind in tallyDict.keys():\n",
    "    if tallyDict[Ind]==7:\n",
    "        output=Ind\n",
    "        \n",
    "print \"the most common sequence length was \" + str(output)"
   ]
  },
  {
   "cell_type": "markdown",
   "metadata": {},
   "source": [
    "### Comment: This code did not work for me at first! had to add output = \"\""
   ]
  },
  {
   "cell_type": "markdown",
   "metadata": {},
   "source": [
    "---\n",
    "## 5. Codon table (6pts)\n",
    "\n",
    "For this question, use `codon_table.txt`, which contains a list of all possible codons and their corresponding amino acids. We will be using this info to create a dictionary, which will allow us to translate a nucleotide sequence into amino acids. Each part of this question builds off the previous parts."
   ]
  },
  {
   "cell_type": "markdown",
   "metadata": {},
   "source": [
    "**(A)** Thinkin' question (short answer, not code): If we want to create a codon dictionary and use it to translate nucleotide sequences, would it be better to use the codons or amino acids as keys? "
   ]
  },
  {
   "cell_type": "markdown",
   "metadata": {},
   "source": [
    "Your answer: codon"
   ]
  },
  {
   "cell_type": "markdown",
   "metadata": {},
   "source": [
    "**(B)** Read in `codon_table.txt` (note that it has a header line) and use it to create a codon dictionary. Then use `input()` to prompt the user to enter a single codon (e.g. ATG) and print the amino acid corresponding to that codon to the screen."
   ]
  },
  {
   "cell_type": "code",
   "execution_count": 27,
   "metadata": {},
   "outputs": [
    {
     "name": "stdout",
     "output_type": "stream",
     "text": [
      "Which Codon?   ATG\n",
      "Corresponding amino acid is = M\n",
      "\n"
     ]
    }
   ],
   "source": [
    "File.close()\n",
    "FileName=\"codon_table.txt\"\n",
    "CononDict={}\n",
    "File=open(FileName,'r')\n",
    "File.readline() \n",
    "for Line in File:\n",
    "    Codon, AA=Line.split(\"\\t\")\n",
    "    CononDict[Codon]=AA\n",
    "    \n",
    "CondonWanted=raw_input(\"Which Codon?   \")\n",
    "print \"Corresponding amino acid is = \"+ CononDict[CondonWanted]\n"
   ]
  },
  {
   "cell_type": "markdown",
   "metadata": {},
   "source": [
    "**(C)** Now we will adapt the code in (B) to translate a longer sequence. Instead of prompting the user for a single codon, allow them to enter a longer sequence. First, check that the sequence they entered has a length that is a multiple of 3 (Hint: use the mod operator, %), and print an error message if it is not. If it is valid, then go on to translate every three nucleotides to an amino acid. Print the final amino acid sequence to the screen."
   ]
  },
  {
   "cell_type": "code",
   "execution_count": 28,
   "metadata": {},
   "outputs": [
    {
     "name": "stdout",
     "output_type": "stream",
     "text": [
      "Which Codons?   ATGGATCAT\n",
      "['M', 'D', 'H']\n"
     ]
    }
   ],
   "source": [
    "File.close()\n",
    "FileName=\"codon_table.txt\"\n",
    "CononDict={}\n",
    "File=open(FileName,'r')\n",
    "File.readline() \n",
    "for Line in File:\n",
    "    Codon, AA=Line.split(\"\\t\")\n",
    "    CononDict[Codon]=AA.replace(' ', '')\n",
    "    \n",
    "AASeq=[]    \n",
    "CondonWanted=raw_input(\"Which Codons?   \")\n",
    "if len(CondonWanted)%3==0:\n",
    "    for Ind in range(0,len(CondonWanted),3):\n",
    "        CurrCodone=[]\n",
    "        CurrCodone=CondonWanted[Ind:Ind+3]\n",
    "        Trans=CononDict[CurrCodone]\n",
    "        Trans=Trans.rstrip('\\n')\n",
    "        AASeq.append(Trans)\n",
    "    \n",
    "    print AASeq\n",
    "        \n",
    "else:\n",
    "    print(\"Sequence is not divisable by 3\")\n",
    "\n"
   ]
  },
  {
   "cell_type": "markdown",
   "metadata": {},
   "source": [
    "### Comment: Make sure to check out answers tomorrow to see how to print a string of amino acids and not the list"
   ]
  },
  {
   "cell_type": "markdown",
   "metadata": {},
   "source": [
    "**(D)** Now, instead of taking user input, you will apply your translator to a set of sequences stored in a file. Read in the sequences from `sequences3.txt` (assume each line is a separate sequence), translate it to amino acids, and print it to a new file called `proteins.txt`."
   ]
  },
  {
   "cell_type": "code",
   "execution_count": 29,
   "metadata": {},
   "outputs": [
    {
     "name": "stdout",
     "output_type": "stream",
     "text": [
      "{'CTT': 'L\\n', 'ATG': 'M\\n', 'ACA': 'T\\n', 'ACG': 'T\\n', 'ATC': 'I\\n', 'AAC': 'N\\n', 'ATA': 'I\\n', 'AGG': 'R\\n', 'CCT': 'P\\n', 'ACT': 'T\\n', 'AGC': 'S\\n', 'AAG': 'K\\n', 'AGA': 'R\\n', 'CAT': 'H\\n', 'AAT': 'N\\n', 'ATT': 'I\\n', 'CTG': 'L\\n', 'CTA': 'L\\n', 'CTC': 'L\\n', 'CAC': 'H\\n', 'AAA': 'K\\n', 'CCG': 'P\\n', 'AGT': 'S\\n', 'CCA': 'P\\n', 'CAA': 'Q\\n', 'CCC': 'P\\n', 'TAT': 'Y\\n', 'GGT': 'G\\n', 'TGT': 'C\\n', 'CGA': 'R\\n', 'CAG': 'Q\\n', 'TCT': 'S\\n', 'GAT': 'D\\n', 'CGG': 'R\\n', 'TTT': 'F\\n', 'TGC': 'C\\n', 'GGG': 'G\\n', 'TAG': '*\\n', 'GGA': 'G\\n', 'TGG': 'W\\n', 'GGC': 'G\\n', 'TAC': 'Y\\n', 'TTC': 'F\\n', 'TCG': 'S\\n', 'TTA': 'L\\n', 'TTG': 'L\\n', 'TCC': 'S\\n', 'ACC': 'T\\n', 'TCA': 'S\\n', 'GCA': 'A\\n', 'GTA': 'V\\n', 'GCC': 'A\\n', 'GTC': 'V\\n', 'GCG': 'A\\n', 'GTG': 'V\\n', 'GAG': 'E\\n', 'GTT': 'V\\n', 'GCT': 'A\\n', 'TGA': '*', 'GAC': 'D\\n', 'CGT': 'R\\n', 'GAA': 'E\\n', 'TAA': '*\\n', 'CGC': 'R\\n'}\n"
     ]
    }
   ],
   "source": [
    "File.close()\n",
    "FileName=\"codon_table.txt\"\n",
    "\n",
    "CononDict={}\n",
    "File=open(FileName,'r')\n",
    "File.readline() \n",
    "for Line in File:\n",
    "    Codon, AA=Line.split(\"\\t\")\n",
    "    CononDict[Codon]=AA.replace(' ', '')\n",
    "    \n",
    "FileSeq3Name=\"sequences3.txt\"\n",
    "ProteinsFileName=\"proteins.txt\"\n",
    "\n",
    "print CononDict\n",
    "\n",
    "ProteinFile=open(ProteinsFileName,'w')\n",
    "FileSeq3=open(FileSeq3Name,'r')\n",
    "for Line in FileSeq3:\n",
    "    Line=Line.strip('\\n')\n",
    "    seqLine=[]\n",
    "    for Ind in range(0,len(Line),3):\n",
    "        CurrCodone=[]\n",
    "        CurrCodone=Line[Ind:Ind+3]\n",
    "        Trans=CononDict[CurrCodone]\n",
    "        Trans=Trans.strip('\\n')\n",
    "        ProteinFile.write(Trans)\n",
    "    ProteinFile.write(\"\\n\")\n",
    "\n",
    "FileSeq3.close()\n",
    "ProteinFile.close()"
   ]
  },
  {
   "cell_type": "code",
   "execution_count": null,
   "metadata": {},
   "outputs": [],
   "source": []
  },
  {
   "cell_type": "code",
   "execution_count": null,
   "metadata": {},
   "outputs": [],
   "source": []
  }
 ],
 "metadata": {
  "anaconda-cloud": {},
  "kernelspec": {
   "display_name": "Python 2",
   "language": "python",
   "name": "python2"
  },
  "language_info": {
   "codemirror_mode": {
    "name": "ipython",
    "version": 2
   },
   "file_extension": ".py",
   "mimetype": "text/x-python",
   "name": "python",
   "nbconvert_exporter": "python",
   "pygments_lexer": "ipython2",
   "version": "2.7.15"
  }
 },
 "nbformat": 4,
 "nbformat_minor": 1
}
