{
 "cells": [
  {
   "cell_type": "markdown",
   "metadata": {},
   "source": [
    "---\n",
    "\n",
    "---\n",
    "## Extra Practice: Parsing fasta files \n",
    "\n",
    "This question is optional, but if you complete it, I'll give you two bonus points. You won't lose points if you skip it."
   ]
  },
  {
   "cell_type": "markdown",
   "metadata": {},
   "source": [
    "Write code that reads sequences from a fasta file and stores them in a dictionary according to their header (i.e. use the header line as the key and sequence as the value). You will use `horrible.fasta` to test your code. \n",
    "\n",
    "If you are not familiar with fasta files, they have the following general format:\n",
    "\n",
    "```\n",
    ">geneName1\n",
    "ATCGCTAGTCGATCGATGGTTTCGCGTAGCGTTGCTAGCGTAGCTGATG\n",
    "TCGATCGATGGTTTCGCGTAGCGTTGCTAGCGTAGCTGATGATGCTCAA\n",
    "GCTGGATGGCTAGCTGATGCTAG\n",
    ">geneName2\n",
    "ATCGATGGGCTGGATCGATGCGGCTCGGCGATCGA\n",
    "...\n",
    "```\n",
    "\n",
    "There are many slight variations; for example the header often contains different information, depending where you got the file from, and the sequence for a given entry may span any number of lines. To write a good fasta parser, you must make as few assumptions about the formatting as possible. This will make your code more \"robust\". \n",
    "\n",
    "For fasta files, pretty much the only things you can safely assume are that a new entry will be marked by the `>` sign, which is immediately followed by a (usually) unique header, and all sequence belonging to that entry will be located immediately below. However, you can't assume how many lines the sequence will take up.\n",
    "\n",
    "With this in mind, write a robust fasta parser that reads in `horrible.fasta` and stores each sequence in a dictionary according to its header line. Call the dictionary `seqDict`. Remove any newline characters. Don't include the `>` sign in the header. *Hint: use string slicing or `.lstrip()`*"
   ]
  },
  {
   "cell_type": "code",
   "execution_count": null,
   "metadata": {
    "collapsed": true
   },
   "outputs": [],
   "source": []
  },
  {
   "cell_type": "markdown",
   "metadata": {},
   "source": [
    "After you've written your code above and you think it works, run it and then run the following code to to spot-check whether you did everything correctly. If you didn't name your dictionary `seqDict`, you'll need to change it below to whatever you named your dictionary. "
   ]
  },
  {
   "cell_type": "code",
   "execution_count": null,
   "metadata": {
    "collapsed": true
   },
   "outputs": [],
   "source": [
    "error = False\n",
    "if \">varlen2_uc001pmn.3_3476\" in seqDict:\n",
    "    print \"Remove > chars from headers!\"\n",
    "    error = True\n",
    "elif \"varlen2_uc001pmn.3_3476\" not in seqDict:\n",
    "    print \"Something's wrong with your dictionary: missing keys\"\n",
    "    error = True\n",
    "if \"varlen2_uc021qfk.1>2_1472\" not in seqDict:\n",
    "    print \"Only remove the > chars from the beginning of the header!\"\n",
    "    error = True\n",
    "if len(seqDict[\"varlen2_uc009wph.3_423\"]) > 85:\n",
    "    if \"\\n\" in seqDict[\"varlen2_uc009wph.3_423\"]:\n",
    "        print \"Remove newline chars from sequences\"\n",
    "        error = True\n",
    "    else:\n",
    "        print \"Length of sequences longer than expected for some reason\"\n",
    "        error = True\n",
    "elif len(seqDict[\"varlen2_uc009wph.3_423\"]) < 85:\n",
    "    print \"Length of sequences shorter than expected for some reason\"\n",
    "    error = True\n",
    "\n",
    "if error == False:\n",
    "    print \"Congrats, you passed all my tests!\""
   ]
  }
 ],
 "metadata": {
  "kernelspec": {
   "display_name": "Python [Root]",
   "language": "python",
   "name": "Python [Root]"
  },
  "language_info": {
   "codemirror_mode": {
    "name": "ipython",
    "version": 2
   },
   "file_extension": ".py",
   "mimetype": "text/x-python",
   "name": "python",
   "nbconvert_exporter": "python",
   "pygments_lexer": "ipython2",
   "version": "2.7.12"
  }
 },
 "nbformat": 4,
 "nbformat_minor": 0
}
