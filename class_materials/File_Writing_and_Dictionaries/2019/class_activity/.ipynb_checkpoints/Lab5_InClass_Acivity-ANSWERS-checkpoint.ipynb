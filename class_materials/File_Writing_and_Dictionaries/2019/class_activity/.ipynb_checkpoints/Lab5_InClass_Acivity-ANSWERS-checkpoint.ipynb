{
 "cells": [
  {
   "cell_type": "markdown",
   "metadata": {},
   "source": [
    "# In class group activity\n",
    "## Convert the cDNA into amino acid sequence."
   ]
  },
  {
   "cell_type": "markdown",
   "metadata": {},
   "source": [
    "**Instructions**\n",
    "* Work in groups of 2-3"
   ]
  },
  {
   "cell_type": "markdown",
   "metadata": {},
   "source": [
    "**Names:**"
   ]
  },
  {
   "cell_type": "markdown",
   "metadata": {},
   "source": [
    "---\n",
    "### Assignment\n",
    "Convert the cDNA sequence from last week into its amino acid sequence. Think about what constitutes a protein sequence, it should start with the methionine amino acid (M) and end with the STOP (`-`) codon. Use the following dictonary for conversion of DNA codon to amino acid: \n"
   ]
  },
  {
   "cell_type": "code",
   "execution_count": 6,
   "metadata": {},
   "outputs": [],
   "source": [
    "amino_acids = {\n",
    "    'ATA':'I', 'ATC':'I', 'ATT':'I', 'ATG':'M',\n",
    "    'ACA':'T', 'ACC':'T', 'ACG':'T', 'ACT':'T',\n",
    "    'AAC':'N', 'AAT':'N', 'AAA':'K', 'AAG':'K',\n",
    "    'AGC':'S', 'AGT':'S', 'AGA':'R', 'AGG':'R',\n",
    "    'CTA':'L', 'CTC':'L', 'CTG':'L', 'CTT':'L',\n",
    "    'CCA':'P', 'CCC':'P', 'CCG':'P', 'CCT':'P',\n",
    "    'CAC':'H', 'CAT':'H', 'CAA':'Q', 'CAG':'Q',\n",
    "    'CGA':'R', 'CGC':'R', 'CGG':'R', 'CGT':'R',\n",
    "    'GTA':'V', 'GTC':'V', 'GTG':'V', 'GTT':'V',\n",
    "    'GCA':'A', 'GCC':'A', 'GCG':'A', 'GCT':'A',\n",
    "    'GAC':'D', 'GAT':'D', 'GAA':'E', 'GAG':'E',\n",
    "    'GGA':'G', 'GGC':'G', 'GGG':'G', 'GGT':'G',\n",
    "    'TCA':'S', 'TCC':'S', 'TCG':'S', 'TCT':'S',\n",
    "    'TTC':'F', 'TTT':'F', 'TTA':'L', 'TTG':'L',\n",
    "    'TAC':'Y', 'TAT':'Y', 'TAA':'-', 'TAG':'-',\n",
    "    'TGC':'C', 'TGT':'C', 'TGA':'-', 'TGG':'W'}"
   ]
  },
  {
   "cell_type": "markdown",
   "metadata": {},
   "source": [
    "Note that there are three possible frames that you can consider from the 5' to 3' direction of the sequence. We will ignore the opposite strand information for now (3' to 5'), just know that when converting from DNA to amino acid sequence there are six possible frames altoghether. "
   ]
  },
  {
   "cell_type": "markdown",
   "metadata": {},
   "source": [
    "What do I mean by frame? Consider the following sequence: \"AATATTAGA...\"\n",
    "\n",
    "Frame 1:\n",
    "\n",
    "|position: | 012 \t| 345 \t| 678 \t|\n",
    "|-----\t|-----\t|-----\t|-----\t|\n",
    "|**seq:**| AAT \t| ATT \t| AGA \t|\n",
    "First codon is AAT = N\n",
    "\n",
    "Frame 2:\n",
    "\n",
    "|position: | 0 \t| 123 \t| 456 \t| 78 \t|\n",
    "|---\t|---\t|-----\t|-----\t|----\t|\n",
    "|**seq:**| A \t| ATA \t| TTA \t| GA \t|  \n",
    "First codon is ATA = I\n",
    "\n",
    "Frame 3: \n",
    "\n",
    "|position: | 01 \t| 234 \t| 567 \t| 8 \t|\n",
    "|----\t|----\t|-----\t|-----\t|---\t|\n",
    "|**seq:**| AA \t| TAT \t| TAG \t| A \t|  \n",
    "First codon is TAT = Y"
   ]
  },
  {
   "cell_type": "markdown",
   "metadata": {},
   "source": [
    "**Example of a protein sequence in string format**: \"MYKLAIMYLRM-\"\n",
    "\n",
    "\n"
   ]
  },
  {
   "cell_type": "markdown",
   "metadata": {},
   "source": [
    "---"
   ]
  },
  {
   "cell_type": "markdown",
   "metadata": {},
   "source": [
    "**Part1:** Given the cDNA variable you created in last week's class assignment:"
   ]
  },
  {
   "cell_type": "code",
   "execution_count": 7,
   "metadata": {},
   "outputs": [],
   "source": [
    "cDNA = \"AATATTAGAGTCTCAACCCCCAATAAATATAGGACTGGAGATGTCTGAGGCTCATTCTGCCCTCGAGCCCACCGGGAACGAAAGAGAAGCTCTATCTCCCCTCCAGGAGCCCAGCTATGAACTCCTTCTCCACAAGCGCCTTCGGTCCAGTTGCCTTCTCCCTGGGGCTGCTCCTGGTGTTGCCTGCTGCCTTCCCTGCCCCAGTACCCCCAGGAGAAGATTCCAAAGATGTAGCCGCCCCACACAGACAGCCACTCACCTCTTCAGAACGAATTGACAAACAAATTCGGTACATCCTCGACGGCATCTCAGCCCTGAGAAAGGAGACATGTAACAAGAGTAACATGTGTGAAAGCAGCAAAGAGGCACTGGCAGAAAACAACCTGAACCTTCCAAAGATGGCTGAAAAAGATGGATGCTTCCAATCTGGATTCAATGAGGAGACTTGCCTGGTGAAAATCATCACTGGTCTTTTGGAGTTTGAGGTATACCTAGAGTACCTCCAGAACAGATTTGAGAGTAGTGAGGAACAAGCCAGAGCTGTGCAGATGAGTACAAAAGTCCTGATCCAGTTCCTGCAGAAAAAGGCAAAGAATCTAGATGCAATAACCACCCCTGACCCAACCACAAATGCCAGCCTGCTGACGAAGCTGCAGGCACAGAACCAGTGGCTGCAGGACATGACAACTCATCTCATTCTGCGCAGCTTTAAGGAGTTCCTGCAGTCCAGCCTGAGGGCTCTTCGGCAAATGTAGCATGGGCACCTCAGATTGTTGTTGTTAATGGGCATTCCTTCTTCTGGTCAGAAACCTGTCCACTGGGCACAGAACTTATGTTGTTCTCTATGGAGAACTAAAAGTATGAGCGTTAGGACACTATTTTAATTATTTTTAATTTATTAATATTTAAATATGTGAAGCTGAGTTAATTTATGTAAGTCATATTTATATTTTTAAGAAGTACCACTTGAAACATTTTATGTATTAGTTTTGAAATAATAATGGAAAGTGGCTATGCAGTTTGAATATCCTTTGTTTCAGAGCCAGATCATTTCTTGGAAAGTGTAGGCTTACCTCAAATAAATGGCTAACTTATACATATTTTTAAAGAAATATTTATATTGTATTTATATAATGTATAAATGGTTTTTATACCAATAAATGGCATTTT\""
   ]
  },
  {
   "cell_type": "markdown",
   "metadata": {},
   "source": [
    "Convert the cDNA to its amino acid sequence for all 3 possible frames. Report a list of all possible protein sequences (They must start with M and end with STOP). Note that you may observe multiple M amino acids before you observe a STOP codon, as shown in the example protein sequence above. Also report the longest protein sequence you observe (as a string). Print the length and the frame of the longest protein sequence. "
   ]
  },
  {
   "cell_type": "code",
   "execution_count": 48,
   "metadata": {},
   "outputs": [
    {
     "name": "stdout",
     "output_type": "stream",
     "text": [
      "FRAME 1:\n",
      "NIRVSTPNKYRTGDV-GSFCPRAHRERKRSSISPPGAQL-TPSPQAPSVQLPSPWGCSWCCLLPSLPQYPQEKIPKM-PPHTDSHSPLQNELTNKFGTSSTASQP-ERRHVTRVTCVKAAKRHWQKTT-TFQRWLKKMDASNLDSMRRLAW-KSSLVFWSLRYT-STSRTDLRVVRNKPELCR-VQKS-SSSCRKRQRI-MQ-PPLTQPQMPAC-RSCRHRTSGCRT-QLISFCAALRSSCSPA-GLFGKCSMGTSDCCC-WAFLLLVRNLSTGHRTYVVLYGELKV-ALGHYFNYF-FINI-ICEAELIYVSHIYIFKKYHLKHFMY-F-NNNGKWLCSLNILCFRARSFLGKCRLTSNKWLTYTYF-RNIYIVFI-CINGFYTNKWHF\n",
      "FRAME 2:\n",
      "ILESQPPINIGLEMSEAHSALEPTGNEREALSPLQEPSYELLLHKRLRSSCLLPGAAPGVACCLPCPSTPRRRFQRCSRPTQTATHLFRTN-QTNSVHPRRHLSPEKGDM-QE-HV-KQQRGTGRKQPEPSKDG-KRWMLPIWIQ-GDLPGENHHWSFGV-GIPRVPPEQI-E--GTSQSCADEYKSPDPVPAEKGKESRCNNHP-PNHKCQPADEAAGTEPVAAGHDNSSHSAQL-GVPAVQPEGSSANVAWAPQIVVVNGHSFFWSETCPLGTELMLFSMEN-KYER-DTILIIFNLLIFKYVKLS-FM-VIFIFLRSTT-NILCISFEIIMESGYAV-ISFVSEPDHFLESVGLPQING-LIHIFKEIFILYLYNV-MVFIPINGI\n",
      "FRAME 3:\n",
      "Y-SLNPQ-I-DWRCLRLILPSSPPGTKEKLYLPSRSPAMNSFSTSAFGPVAFSLGLLLVLPAAFPAPVPPGEDSKDVAAPHRQPLTSSERIDKQIRYILDGISALRKETCNKSNMCESSKEALAENNLNLPKMAEKDGCFQSGFNEETCLVKIITGLLEFEVYLEYLQNRFESSEEQARAVQMSTKVLIQFLQKKAKNLDAITTPDPTTNASLLTKLQAQNQWLQDMTTHLILRSFKEFLQSSLRALRQM-HGHLRLLLLMGIPSSGQKPVHWAQNLCCSLWRTKSMSVRTLF-LFLIY-YLNM-S-VNLCKSYLYF-EVPLETFYVLVLK--WKVAMQFEYPLFQSQIISWKV-AYLK-MANLYIFLKKYLYCIYIMYKWFLYQ-MAF\n"
     ]
    }
   ],
   "source": [
    "# Dictionary where FRAME_NUMER -> SEQUENCE_OF_THAT_FRAME\n",
    "all_frames = {}\n",
    "for frame_x in range(1,4):\n",
    "    # string of amino acids in the frame\n",
    "    frame_seq = \"\"\n",
    "\n",
    "    for i in range(frame_x-1,len(cDNA),3):\n",
    "        codon = cDNA[i:i+3]\n",
    "        #make sure length of codon is 3\n",
    "        if len(codon) == 3:\n",
    "            frame_seq = frame_seq + amino_acids[codon]\n",
    "\n",
    "    all_frames[frame_x] = frame_seq\n",
    "    print(\"FRAME \" + str(frame_x) + \":\")\n",
    "    print(all_frames[frame_x])"
   ]
  },
  {
   "cell_type": "code",
   "execution_count": 55,
   "metadata": {},
   "outputs": [
    {
     "name": "stdout",
     "output_type": "stream",
     "text": [
      "All Possible Sequences:\n",
      "M-\n",
      "MDASNLDSMRRLAW-\n",
      "MQ-\n",
      "MPAC-\n",
      "MGTSDCCC-\n",
      "MY-\n",
      "MSEAHSALEPTGNEREALSPLQEPSYELLLHKRLRSSCLLPGAAPGVACCLPCPSTPRRRFQRCSRPTQTATHLFRTN-\n",
      "M-\n",
      "MLPIWIQ-\n",
      "MLFSMEN-\n",
      "M-\n",
      "MESGYAV-\n",
      "MNSFSTSAFGPVAFSLGLLLVLPAAFPAPVPPGEDSKDVAAPHRQPLTSSERIDKQIRYILDGISALRKETCNKSNMCESSKEALAENNLNLPKMAEKDGCFQSGFNEETCLVKIITGLLEFEVYLEYLQNRFESSEEQARAVQMSTKVLIQFLQKKAKNLDAITTPDPTTNASLLTKLQAQNQWLQDMTTHLILRSFKEFLQSSLRALRQM-\n",
      "MGIPSSGQKPVHWAQNLCCSLWRTKSMSVRTLF-\n",
      "M-\n",
      "MQFEYPLFQSQIISWKV-\n",
      "MANLYIFLKKYLYCIYIMYKWFLYQ-\n",
      "\n",
      "The longest protein sequence is in frame 3 and is 213 bps long\n",
      "\n",
      "Longest Protein Sequence:\n",
      "MNSFSTSAFGPVAFSLGLLLVLPAAFPAPVPPGEDSKDVAAPHRQPLTSSERIDKQIRYILDGISALRKETCNKSNMCESSKEALAENNLNLPKMAEKDGCFQSGFNEETCLVKIITGLLEFEVYLEYLQNRFESSEEQARAVQMSTKVLIQFLQKKAKNLDAITTPDPTTNASLLTKLQAQNQWLQDMTTHLILRSFKEFLQSSLRALRQM-\n"
     ]
    }
   ],
   "source": [
    "# save sequences, length, and frame \n",
    "max_length = 0 # maximum protein sequence length\n",
    "max_frame = 0  # the frame with longest sequence in it\n",
    "max_seq = \"\"   # sequence with maximum length\n",
    "\n",
    "print(\"All Possible Sequences:\")\n",
    "\n",
    "for frame_x in all_frames:\n",
    "    frame_seq = all_frames[frame_x] # entire sequence in frame x\n",
    "    #initialize protein sequence\n",
    "    prot_seq = \"\"\n",
    "    start = False # flag says whether we are in a \n",
    "                  # protein sequence or not\n",
    "    for aa in frame_seq:\n",
    "        if aa == \"M\" and start == False: # start of protein seq\n",
    "            start = True # set True since \n",
    "        elif aa == \"-\" and start == True: # end of protein seq\n",
    "            # print the full protein sequence\n",
    "            prot_seq = prot_seq+aa\n",
    "            print(prot_seq) \n",
    "            # store the information of the longest sequence\n",
    "            if len(prot_seq) > max_length: \n",
    "                max_seq = prot_seq\n",
    "                max_length = len(prot_seq)\n",
    "                max_frame = frame_x\n",
    "            # restart search for start codon\n",
    "            start = False\n",
    "            prot_seq = \"\"\n",
    "        if start == True and aa != \"-\": # continue protein seq\n",
    "            prot_seq = prot_seq+aa\n",
    "        else:\n",
    "            continue # does nothing. This else statement is optional.\n",
    "\n",
    "print((\"\\nThe longest protein sequence is in frame %i and is %i bps long\\n\") % \\\n",
    "      (max_frame, max_length))\n",
    "print(\"Longest Protein Sequence:\")\n",
    "print(max_seq)"
   ]
  },
  {
   "cell_type": "markdown",
   "metadata": {},
   "source": [
    "**Part2:** After identifying the correct protein sequence, blast this sequence and identify the name of the protein. \n",
    "\n",
    "https://blast.ncbi.nlm.nih.gov/Blast.cgi?PAGE=Proteins\n",
    "\n",
    "> What is Blast?\n",
    ">> BLAST finds regions of similarity between biological sequences. The program compares nucleotide or protein  sequences to sequence databases and calculates the statistical significance to give you the ID of a sequence."
   ]
  },
  {
   "cell_type": "markdown",
   "metadata": {},
   "source": [
    "Name of the Protein: "
   ]
  },
  {
   "cell_type": "markdown",
   "metadata": {},
   "source": [
    "**interleukin-6 isoform 1 precursor [Homo sapiens]**"
   ]
  }
 ],
 "metadata": {
  "kernelspec": {
   "display_name": "Python 3",
   "language": "python",
   "name": "python3"
  },
  "language_info": {
   "codemirror_mode": {
    "name": "ipython",
    "version": 3
   },
   "file_extension": ".py",
   "mimetype": "text/x-python",
   "name": "python",
   "nbconvert_exporter": "python",
   "pygments_lexer": "ipython3",
   "version": "3.7.1"
  }
 },
 "nbformat": 4,
 "nbformat_minor": 2
}
