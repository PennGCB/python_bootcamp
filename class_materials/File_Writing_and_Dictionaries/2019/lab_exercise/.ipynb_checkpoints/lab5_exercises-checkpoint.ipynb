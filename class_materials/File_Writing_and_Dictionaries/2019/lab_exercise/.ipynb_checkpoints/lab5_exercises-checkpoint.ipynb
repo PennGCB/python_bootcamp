{
 "cells": [
  {
   "cell_type": "markdown",
   "metadata": {},
   "source": [
    "# Programming Bootcamp 2018\n",
    "# Lesson 5 Exercises\n",
    "---"
   ]
  },
  {
   "cell_type": "markdown",
   "metadata": {},
   "source": [
    "**Earning points (optional)**\n",
    "\n",
    "If you would like to get points/feedback for your work, please **submit your notebook to Piazza**. To do this, follow these steps:\n",
    "\n",
    "1. Click \"New Post\"\n",
    "2. For \"Post Type\" select `Question`\n",
    "3. For \"Post to\" select `Individual Student(s)/Instructors(s)`\n",
    "4. Where is says \"Enter one or more names...\" type `Instructors`\n",
    "5. For \"Select Folder(s)\" select `lab5`\n",
    "6. In \"Summary\" type in \"[Your Full Name] Lab5 Submission\"\n",
    "7. In the \"Details\" click \"Insert\" > \"Insert File\" and then insert your python notebook.\n",
    "8. You can then write whatever else you want in the Summary.\n",
    "9. Then click \"Post My Question to PROGRAMMING BOOTCAMP!\":\n",
    "\n",
    "Please also **write your name below**. You do not need to complete all the problems to get points. Points will be assigned, but completion is all that actually matters. Those who consistenly participate throughout bootcamp will get a ~prize~.\n",
    "\n",
    "**Due Date:** Sunday 7/28"
   ]
  },
  {
   "cell_type": "markdown",
   "metadata": {},
   "source": [
    "**Name**: "
   ]
  },
  {
   "cell_type": "markdown",
   "metadata": {},
   "source": [
    "---\n",
    "## 1. Guess the output: dictionary practice (1pt)\n",
    "\n",
    "For the following blocks of code, first try to **guess what the output will be, and then run the code yourself**. Points will be given for filling in the guesses; guessing wrong won't be penalized. **If you expect an error, please explain why you expect that.**"
   ]
  },
  {
   "cell_type": "code",
   "execution_count": null,
   "metadata": {},
   "outputs": [],
   "source": [
    "# run this cell first!\n",
    "fruits = {\"apple\":\"red\", \"banana\":\"yellow\", \"grape\":\"purple\"}"
   ]
  },
  {
   "cell_type": "code",
   "execution_count": null,
   "metadata": {},
   "outputs": [],
   "source": [
    "print (fruits[\"banana\"])"
   ]
  },
  {
   "cell_type": "markdown",
   "metadata": {},
   "source": [
    "Your guess: "
   ]
  },
  {
   "cell_type": "markdown",
   "metadata": {},
   "source": [
    " "
   ]
  },
  {
   "cell_type": "code",
   "execution_count": null,
   "metadata": {},
   "outputs": [],
   "source": [
    "query = \"apple\"\n",
    "print (fruits[query])"
   ]
  },
  {
   "cell_type": "markdown",
   "metadata": {},
   "source": [
    "Your guess: "
   ]
  },
  {
   "cell_type": "markdown",
   "metadata": {},
   "source": [
    " "
   ]
  },
  {
   "cell_type": "code",
   "execution_count": null,
   "metadata": {},
   "outputs": [],
   "source": [
    "print (fruits[0])"
   ]
  },
  {
   "cell_type": "markdown",
   "metadata": {},
   "source": [
    "Your guess: "
   ]
  },
  {
   "cell_type": "markdown",
   "metadata": {},
   "source": [
    " "
   ]
  },
  {
   "cell_type": "code",
   "execution_count": null,
   "metadata": {},
   "outputs": [],
   "source": [
    "print (list(fruits.keys()))"
   ]
  },
  {
   "cell_type": "markdown",
   "metadata": {},
   "source": [
    "Your guess: "
   ]
  },
  {
   "cell_type": "markdown",
   "metadata": {},
   "source": [
    " "
   ]
  },
  {
   "cell_type": "code",
   "execution_count": null,
   "metadata": {},
   "outputs": [],
   "source": [
    "print (list(fruits.values()))"
   ]
  },
  {
   "cell_type": "markdown",
   "metadata": {},
   "source": [
    "Your guess: "
   ]
  },
  {
   "cell_type": "code",
   "execution_count": null,
   "metadata": {},
   "outputs": [],
   "source": [
    "print (list(fruits.items()))"
   ]
  },
  {
   "cell_type": "markdown",
   "metadata": {},
   "source": [
    "Your guess: "
   ]
  },
  {
   "cell_type": "markdown",
   "metadata": {},
   "source": [
    " "
   ]
  },
  {
   "cell_type": "code",
   "execution_count": null,
   "metadata": {},
   "outputs": [],
   "source": [
    "for key in fruits:\n",
    "    print (fruits[key])"
   ]
  },
  {
   "cell_type": "markdown",
   "metadata": {},
   "source": [
    "Your guess: "
   ]
  },
  {
   "cell_type": "markdown",
   "metadata": {},
   "source": [
    " "
   ]
  },
  {
   "cell_type": "code",
   "execution_count": null,
   "metadata": {},
   "outputs": [],
   "source": [
    "del fruits[\"banana\"]\n",
    "print (fruits)"
   ]
  },
  {
   "cell_type": "markdown",
   "metadata": {},
   "source": [
    "Your guess: "
   ]
  },
  {
   "cell_type": "markdown",
   "metadata": {},
   "source": [
    " "
   ]
  },
  {
   "cell_type": "code",
   "execution_count": null,
   "metadata": {},
   "outputs": [],
   "source": [
    "print (fruits[\"pear\"]) "
   ]
  },
  {
   "cell_type": "markdown",
   "metadata": {},
   "source": [
    "Your guess: "
   ]
  },
  {
   "cell_type": "markdown",
   "metadata": {},
   "source": [
    " "
   ]
  },
  {
   "cell_type": "code",
   "execution_count": null,
   "metadata": {},
   "outputs": [],
   "source": [
    "fruits[\"pear\"] = \"green\"\n",
    "print (fruits[\"pear\"])"
   ]
  },
  {
   "cell_type": "markdown",
   "metadata": {},
   "source": [
    "Your guess: "
   ]
  },
  {
   "cell_type": "markdown",
   "metadata": {},
   "source": [
    " "
   ]
  },
  {
   "cell_type": "code",
   "execution_count": null,
   "metadata": {},
   "outputs": [],
   "source": [
    "fruits[\"apple\"] = fruits[\"apple\"] + \" or green\"\n",
    "print (fruits[\"apple\"])"
   ]
  },
  {
   "cell_type": "markdown",
   "metadata": {},
   "source": [
    "Your guess: "
   ]
  },
  {
   "cell_type": "markdown",
   "metadata": {},
   "source": [
    "> Since fruits[\"apple\"] contains a string, we can concatenate to that string just like we would normally. And if instead the value was a number, we could add to it. Basically, you can treat the \"dict[key]\" as a variable that holds whatever the value is. "
   ]
  },
  {
   "cell_type": "markdown",
   "metadata": {},
   "source": [
    "---\n",
    "## 2. On your own: using dictionaries (6pts)\n",
    "\n",
    "Using the info in the table below, write code to accomplish the following tasks.\n",
    "\n",
    "|    Name   | Favorite Food |\n",
    "|:---------:|:-------------:|\n",
    "|  Wilfred  |     Steak     |\n",
    "|  Manfred  |  French fries |\n",
    "| Wadsworth |   Spaghetti   |\n",
    "|   Jeeves  |   Ice cream   |\n"
   ]
  },
  {
   "cell_type": "markdown",
   "metadata": {},
   "source": [
    "**(A)** Create a dictionary based on the data above, where each person's name is a key, and their favorite foods are the values."
   ]
  },
  {
   "cell_type": "code",
   "execution_count": null,
   "metadata": {},
   "outputs": [],
   "source": []
  },
  {
   "cell_type": "markdown",
   "metadata": {},
   "source": [
    "**(B)** Using a `for` loop, go through the dictionary you created above and print each name and food combination in the format:\n",
    "\n",
    "    <NAME>'s favorite food is <FOOD>"
   ]
  },
  {
   "cell_type": "code",
   "execution_count": null,
   "metadata": {},
   "outputs": [],
   "source": []
  },
  {
   "cell_type": "markdown",
   "metadata": {},
   "source": [
    "**(C)** (1) Change the dictionary so that Wilfred's favorite food is Pizza. (2) Add a new entry for Mitsworth, whose favorite food is Tuna. \n",
    "\n",
    "Do not recreate the whole dictionary while doing these things. Edit the dictionary you created in (A) using the syntax described in the lecture."
   ]
  },
  {
   "cell_type": "code",
   "execution_count": 6,
   "metadata": {},
   "outputs": [],
   "source": []
  },
  {
   "cell_type": "markdown",
   "metadata": {},
   "source": [
    "**(D)** Prompt the user to input a name. Check if the name they entered is a valid key in the dictionary using an `if` statement. If the name is in the dictionary, print out the corresponding favorite food. If not, print a message saying \"That name is not in our database\"."
   ]
  },
  {
   "cell_type": "code",
   "execution_count": null,
   "metadata": {},
   "outputs": [],
   "source": []
  },
  {
   "cell_type": "markdown",
   "metadata": {},
   "source": [
    "**(E)** Print just the names in the dictionary in alphabetical order. Use the sorting example from the slides."
   ]
  },
  {
   "cell_type": "code",
   "execution_count": null,
   "metadata": {},
   "outputs": [],
   "source": []
  },
  {
   "cell_type": "markdown",
   "metadata": {},
   "source": [
    "**(F)** Print just the names in sorted order based on their favorite food. Use the value-sorting example from the slides."
   ]
  },
  {
   "cell_type": "code",
   "execution_count": null,
   "metadata": {},
   "outputs": [],
   "source": []
  },
  {
   "cell_type": "markdown",
   "metadata": {},
   "source": [
    "---\n",
    "## 3. File writing (3pts)"
   ]
  },
  {
   "cell_type": "markdown",
   "metadata": {},
   "source": [
    "**(A)** Write code that prints \"Hello, world\" to a file called `hello.txt`"
   ]
  },
  {
   "cell_type": "code",
   "execution_count": null,
   "metadata": {},
   "outputs": [],
   "source": []
  },
  {
   "cell_type": "markdown",
   "metadata": {},
   "source": [
    "**(B)** Write code that prints the following text to a file called `meow.txt`. It must be formatted exactly as it here (you will need to use \\n and \\t):\n",
    "```\n",
    "Dear Mitsworth,\n",
    "    \n",
    "    Meow, meow meow meow.\n",
    "    \n",
    "Sincerely,\n",
    "A friend\n",
    "```"
   ]
  },
  {
   "cell_type": "code",
   "execution_count": null,
   "metadata": {},
   "outputs": [],
   "source": []
  },
  {
   "cell_type": "markdown",
   "metadata": {},
   "source": [
    "**(C)** Write code that reads in the gene IDs from `genes.txt` and prints the **unique** gene IDs to a **new file** called `genes_unique.txt`. (You can re-use your code or the answer sheet from lab4 for getting the unique IDs.)"
   ]
  },
  {
   "cell_type": "code",
   "execution_count": null,
   "metadata": {},
   "outputs": [],
   "source": []
  },
  {
   "cell_type": "markdown",
   "metadata": {},
   "source": [
    "---\n",
    "## 4. The \"many counters\" problem (4pts)"
   ]
  },
  {
   "cell_type": "markdown",
   "metadata": {},
   "source": [
    "**(A)** Write code that reads a file of sequences and tallies how many sequences there are of each length. Use `sequences3.txt` as input. \n",
    "\n",
    "*Hint: you can use a dictionary to keep track of all the tallies. For example:*"
   ]
  },
  {
   "cell_type": "code",
   "execution_count": null,
   "metadata": {},
   "outputs": [],
   "source": [
    "# hint code:\n",
    "\n",
    "tallyDict = {}\n",
    "seq = \"ATGCTGATCGATATA\"\n",
    "length = len(seq)\n",
    "\n",
    "if length not in tallyDict:\n",
    "    tallyDict[length] = 1  #initialize to 1 if this is the first occurrence of the length...\n",
    "else:\n",
    "    tallyDict[length] = tallyDict[length] + 1   #...otherwise just increment the count."
   ]
  },
  {
   "cell_type": "code",
   "execution_count": null,
   "metadata": {},
   "outputs": [],
   "source": []
  },
  {
   "cell_type": "markdown",
   "metadata": {},
   "source": [
    "**(B)** Using the tally dictionary you created above, figure out which sequence length was the most common, and print it to the screen."
   ]
  },
  {
   "cell_type": "code",
   "execution_count": null,
   "metadata": {},
   "outputs": [],
   "source": []
  },
  {
   "cell_type": "markdown",
   "metadata": {},
   "source": [
    "---\n",
    "## 5. Codon table (6pts)\n",
    "\n",
    "For this question, use `codon_table.txt`, which contains a list of all possible codons and their corresponding amino acids. We will be using this info to create a dictionary, which will allow us to translate a nucleotide sequence into amino acids. Each part of this question builds off the previous parts."
   ]
  },
  {
   "cell_type": "markdown",
   "metadata": {},
   "source": [
    "**(A)** Thinkin' question (short answer, not code): If we want to create a codon dictionary and use it to translate nucleotide sequences, would it be better to use the codons or amino acids as keys? "
   ]
  },
  {
   "cell_type": "markdown",
   "metadata": {},
   "source": [
    "Your answer:"
   ]
  },
  {
   "cell_type": "markdown",
   "metadata": {},
   "source": [
    "**(B)** Read in `codon_table.txt` (note that it has a header line) and use it to create a codon dictionary. Then use `input()` to prompt the user to enter a single codon (e.g. ATG) and print the amino acid corresponding to that codon to the screen."
   ]
  },
  {
   "cell_type": "code",
   "execution_count": null,
   "metadata": {},
   "outputs": [],
   "source": []
  },
  {
   "cell_type": "markdown",
   "metadata": {},
   "source": [
    "**(C)** Now we will adapt the code in (B) to translate a longer sequence. Instead of prompting the user for a single codon, allow them to enter a longer sequence. First, check that the sequence they entered has a length that is a multiple of 3 (Hint: use the mod operator, %), and print an error message if it is not. If it is valid, then go on to translate every three nucleotides to an amino acid. Print the final amino acid sequence to the screen."
   ]
  },
  {
   "cell_type": "code",
   "execution_count": null,
   "metadata": {},
   "outputs": [],
   "source": []
  },
  {
   "cell_type": "markdown",
   "metadata": {},
   "source": [
    "**(D)** Now, instead of taking user input, you will apply your translator to a set of sequences stored in a file. Read in the sequences from `sequences3.txt` (assume each line is a separate sequence), translate it to amino acids, and print it to a new file called `proteins.txt`."
   ]
  },
  {
   "cell_type": "code",
   "execution_count": null,
   "metadata": {},
   "outputs": [],
   "source": []
  },
  {
   "cell_type": "markdown",
   "metadata": {},
   "source": [
    "---\n",
    "## 6A. Data structure woes (2pt)\n",
    "\n",
    "**(A) Passing a data structure to a function.** Guess the output of the following lines of code if you were to run them immediately following the code block below. Then run the code yourself to see if you're right."
   ]
  },
  {
   "cell_type": "code",
   "execution_count": null,
   "metadata": {},
   "outputs": [],
   "source": [
    "# run this first!\n",
    "\n",
    "def getMax(someList):\n",
    "    someList.sort()\n",
    "    x = someList[-1]\n",
    "    return x\n",
    "\n",
    "scores = [9, 5, 7, 1, 8]\n",
    "maxScore = getMax(scores)"
   ]
  },
  {
   "cell_type": "code",
   "execution_count": null,
   "metadata": {},
   "outputs": [],
   "source": [
    "print(maxScore)"
   ]
  },
  {
   "cell_type": "markdown",
   "metadata": {},
   "source": [
    "Your guess: "
   ]
  },
  {
   "cell_type": "code",
   "execution_count": null,
   "metadata": {},
   "outputs": [],
   "source": [
    "print(someList)"
   ]
  },
  {
   "cell_type": "markdown",
   "metadata": {},
   "source": [
    "Your guess: "
   ]
  },
  {
   "cell_type": "code",
   "execution_count": null,
   "metadata": {},
   "outputs": [],
   "source": [
    "print(scores)"
   ]
  },
  {
   "cell_type": "markdown",
   "metadata": {},
   "source": [
    "Your guess: "
   ]
  },
  {
   "cell_type": "markdown",
   "metadata": {},
   "source": [
    "> Why does scores get sorted? \n",
    "\n",
    "> When you pass a data structure as a parameter to a function, it's not a **copy** of the data structure that gets passed (as what happens with regular variables). What gets passed is a **direct reference** to the data structure itself. \n",
    "\n",
    "> The reason this is done is because data structures are typically expected to be fairly large, and copying/re-assigning the whole thing can be both time- and memory-consuming. So doing things this way is more efficient. It can also surprise you, though, if you're not aware it's happening. If you would like to learn more about this, look up \"Pass by reference vs pass by value\"."
   ]
  },
  {
   "cell_type": "markdown",
   "metadata": {},
   "source": [
    "**(B) Copying data structures.** Guess the output of the following code if you were to run them immediately following the code block below. Then run the code yourself to see if you're right."
   ]
  },
  {
   "cell_type": "code",
   "execution_count": null,
   "metadata": {},
   "outputs": [],
   "source": [
    "# run this first!\n",
    "list1 = [1, 2, 3, 4]\n",
    "list2 = list1\n",
    "list2[0] = \"HELLO\""
   ]
  },
  {
   "cell_type": "code",
   "execution_count": null,
   "metadata": {},
   "outputs": [],
   "source": [
    "print(list2)"
   ]
  },
  {
   "cell_type": "markdown",
   "metadata": {},
   "source": [
    "Your guess: "
   ]
  },
  {
   "cell_type": "code",
   "execution_count": null,
   "metadata": {},
   "outputs": [],
   "source": [
    "print(list1)"
   ]
  },
  {
   "cell_type": "markdown",
   "metadata": {},
   "source": [
    "Your guess: "
   ]
  },
  {
   "cell_type": "markdown",
   "metadata": {},
   "source": [
    "> Yes, that's right--even when you try to make a new copy of a list, it's actually just a reference to the same list! This is called aliasing. The same thing will happen with a dictionary. This can really trip you up if you don't know it's happening."
   ]
  },
  {
   "cell_type": "markdown",
   "metadata": {},
   "source": [
    "So what if we want to make a truly separate copy? Here's a way for lists:"
   ]
  },
  {
   "cell_type": "code",
   "execution_count": null,
   "metadata": {},
   "outputs": [],
   "source": [
    "# for lists\n",
    "list1 = [1, 2, 3, 4]\n",
    "list2 = list(list1) #make a true copy of the list\n",
    "list2[0] = \"HELLO\"\n",
    "\n",
    "print(list2)\n",
    "print(list1)"
   ]
  },
  {
   "cell_type": "markdown",
   "metadata": {},
   "source": [
    "And here's a way for dictionaries:"
   ]
  },
  {
   "cell_type": "code",
   "execution_count": null,
   "metadata": {},
   "outputs": [],
   "source": [
    "# for dictionaries\n",
    "dict1 = {'A':1, 'B':2, 'C':3}\n",
    "dict2 = dict1.copy() #make a true copy of the dict\n",
    "dict2['A'] = 99\n",
    "\n",
    "print(dict2)\n",
    "print(dict1)"
   ]
  },
  {
   "cell_type": "markdown",
   "metadata": {},
   "source": [
    "---\n",
    "## 7. Writing and Using Custom Function with Dictionaries (2 pt)"
   ]
  },
  {
   "cell_type": "markdown",
   "metadata": {},
   "source": [
    "**(A)** (1pt) Create a function called \"reverse_compl\" that takes a single sequence as a parameter and returns the reverse complement. Note that we created this function previously in lab3, but now we can use a dictionary to shorten our code."
   ]
  },
  {
   "cell_type": "code",
   "execution_count": null,
   "metadata": {},
   "outputs": [],
   "source": []
  },
  {
   "cell_type": "markdown",
   "metadata": {},
   "source": [
    "**(B)** (1pt) Create a function called \"read_fasta\" that takes a file name as a parameter (which is assumed to be in fasta format), puts each fasta entry into a dictionary (using the header line as a key and the sequence as a value), and then returns the dictionary."
   ]
  },
  {
   "cell_type": "code",
   "execution_count": null,
   "metadata": {},
   "outputs": [],
   "source": []
  },
  {
   "cell_type": "markdown",
   "metadata": {},
   "source": [
    "**(C)** (1pt) Run the code below to show that your functions work. Try to fix any that have problems."
   ]
  },
  {
   "cell_type": "code",
   "execution_count": null,
   "metadata": {},
   "outputs": [],
   "source": [
    "##### testing reverse_compl\n",
    "revCompl = reverse_compl(\"GGGGTCGATGCAAATTCAAA\")\n",
    "\n",
    "if type(revCompl) != str:\n",
    "        print (\">> Problem with reverse_compl: answer is not a string, it is a %s.\" % type(revCompl))  \n",
    "elif revCompl != \"TTTGAATTTGCATCGACCCC\":\n",
    "    print (\">> Problem with reverse_compl: answer (%s) does not match expected (%s)\" % (revCompl, \"TTTGAATTTGCATCGACCCC\"))       \n",
    "else:\n",
    "    print (\"reverse_compl: Passed.\")\n",
    "    \n",
    "\n",
    "##### testing read_fasta\n",
    "try:\n",
    "    ins = open(\"horrible.fasta\", 'r')\n",
    "except IOError:\n",
    "    print (\">> Can not test read_fasta because horrible.fasta is missing. Please add it to the directory with this notebook.\")\n",
    "else:\n",
    "    seqDict = read_fasta(\"horrible.fasta\")\n",
    "    \n",
    "    if type(seqDict) != dict:\n",
    "        print (\">> Problem with read_fasta: answer is not a dictionary, it is a %s.\" % type(seqDict))\n",
    "    elif len(seqDict) != 22:\n",
    "        print (\">> Problem with read_fasta: # of keys in dictionary (%s) does not match expected (%s)\" % (len(seqDict), 22))\n",
    "    else:\n",
    "        print (\"read_fasta: Passed.\")"
   ]
  },
  {
   "cell_type": "markdown",
   "metadata": {},
   "source": [
    "**(D)** (1pt) Read in `horrible.fasta` into a dictionary. Use **functions you created above** to print the reverse complement of each sequence to the screen."
   ]
  },
  {
   "cell_type": "code",
   "execution_count": null,
   "metadata": {},
   "outputs": [],
   "source": []
  },
  {
   "cell_type": "markdown",
   "metadata": {},
   "source": [
    "**(E)** (3pts) Read in horrible.fasta into a dictionary. For each sequence, find the length and the gc content.  GC content is the number of G's and C's in a DNA sequence divided by the total sequence length. Print the results to the screen in the following format:\n",
    "```\n",
    "SeqID    Len    GC\n",
    "...      ...    ...\n",
    "```\n",
    "That is, print the header shown above (separating each column's title by a tab (`\\t`)), followed by the corresponding info about each sequence on a separate line. The \"columns\" should be separated by tabs. Remember that you can do this printing as you loop through the dictionary... that way you don't have to store the length and gc content.\n",
    "\n",
    "(In general, this is the sort of formatting you should use when printing data files!)\n",
    "\n",
    "For this problem, you may want to use your `gc` function from Lab3. If you didn't finish those problems, feel free to use the code from the answer sheet, just make sure you understand why the code works! "
   ]
  },
  {
   "cell_type": "code",
   "execution_count": null,
   "metadata": {},
   "outputs": [],
   "source": []
  },
  {
   "cell_type": "markdown",
   "metadata": {},
   "source": [
    "---\n",
    "\n",
    "---\n",
    "## Bonus question: Parsing fasta files (+2 bonus pts)\n",
    "\n",
    "This question is optional, but if you complete it, I'll give you two bonus points. You won't lose points if you skip it."
   ]
  },
  {
   "cell_type": "markdown",
   "metadata": {},
   "source": [
    "Write code that reads sequences from a fasta file and stores them in a dictionary according to their header (i.e. use the header line as the key and sequence as the value). You will use `horrible.fasta` to test your code. \n",
    "\n",
    "If you are not familiar with fasta files, they have the following general format:\n",
    "\n",
    "```\n",
    ">geneName1\n",
    "ATCGCTAGTCGATCGATGGTTTCGCGTAGCGTTGCTAGCGTAGCTGATG\n",
    "TCGATCGATGGTTTCGCGTAGCGTTGCTAGCGTAGCTGATGATGCTCAA\n",
    "GCTGGATGGCTAGCTGATGCTAG\n",
    ">geneName2\n",
    "ATCGATGGGCTGGATCGATGCGGCTCGGCGATCGA\n",
    "...\n",
    "```\n",
    "\n",
    "There are many slight variations; for example the header often contains different information, depending where you got the file from, and the sequence for a given entry may span any number of lines. To write a good fasta parser, you must make as few assumptions about the formatting as possible. This will make your code more \"robust\". \n",
    "\n",
    "For fasta files, pretty much the only things you can safely assume are that a new entry will be marked by the `>` sign, which is immediately followed by a (usually) unique header, and all sequence belonging to that entry will be located immediately below. However, you can't assume how many lines the sequence will take up.\n",
    "\n",
    "With this in mind, write a robust fasta parser that reads in `horrible.fasta` and stores each sequence in a dictionary according to its header line. Call the dictionary `seqDict`. Remove any newline characters. Don't include the `>` sign in the header. *Hint: use string slicing or `.lstrip()`*"
   ]
  },
  {
   "cell_type": "code",
   "execution_count": null,
   "metadata": {},
   "outputs": [],
   "source": []
  },
  {
   "cell_type": "markdown",
   "metadata": {},
   "source": [
    "After you've written your code above and you think it works, run it and then run the following unit tests to to spot-check whether you did everything correctly. If you didn't name your dictionary `seqDict`, you'll need to change it below to whatever you named your dictionary. "
   ]
  },
  {
   "cell_type": "code",
   "execution_count": null,
   "metadata": {},
   "outputs": [],
   "source": [
    "error = False\n",
    "if \">varlen2_uc001pmn.3_3476\" in seqDict:\n",
    "    print (\"Remove > chars from headers!\")\n",
    "    error = True\n",
    "elif \"varlen2_uc001pmn.3_3476\" not in seqDict:\n",
    "    print (\"Something's wrong with your dictionary: missing keys\")\n",
    "    error = True\n",
    "if \"varlen2_uc021qfk.1>2_1472\" not in seqDict:\n",
    "    print (\"Only remove the > chars from the beginning of the header!\")\n",
    "    error = True\n",
    "if len(seqDict[\"varlen2_uc009wph.3_423\"]) > 85:\n",
    "    if \"\\n\" in seqDict[\"varlen2_uc009wph.3_423\"]:\n",
    "        print (\"Remove newline chars from sequences\")\n",
    "        error = True\n",
    "    else:\n",
    "        print (\"Length of sequences longer than expected for some reason\")\n",
    "        error = True\n",
    "elif len(seqDict[\"varlen2_uc009wph.3_423\"]) < 85:\n",
    "    print (\"Length of sequences shorter than expected for some reason\")\n",
    "    error = True\n",
    "\n",
    "if error == False:\n",
    "    print (\"Congrats, you passed all my tests!\")"
   ]
  }
 ],
 "metadata": {
  "anaconda-cloud": {},
  "kernelspec": {
   "display_name": "Python 3",
   "language": "python",
   "name": "python3"
  },
  "language_info": {
   "codemirror_mode": {
    "name": "ipython",
    "version": 3
   },
   "file_extension": ".py",
   "mimetype": "text/x-python",
   "name": "python",
   "nbconvert_exporter": "python",
   "pygments_lexer": "ipython3",
   "version": "3.7.1"
  }
 },
 "nbformat": 4,
 "nbformat_minor": 1
}
