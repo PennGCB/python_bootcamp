{
 "cells": [
  {
   "cell_type": "markdown",
   "metadata": {},
   "source": [
    "# Programming Bootcamp 2016\n",
    "# Lesson 8 Exercises\n",
    "---"
   ]
  },
  {
   "cell_type": "markdown",
   "metadata": {},
   "source": [
    "---\n",
    "## 1. Plotting lines with matplotlib\n",
    "\n",
    "The following code is the bare minimum needed to plot three lines on a 2D plot. But the output as it is currently is ugly and not very informative. Please do the following:\n",
    "\n",
    "**add labels to x-axis**\n",
    "\n",
    "**provide a title to the plot**\n",
    "\n",
    "**resize the y-axis so that it goes from 0 to 1.5X the max gene expression value**\n",
    "\n",
    "**label each line with a different gene name**\n",
    "\n",
    "See the code in the presentation as reference. You can ignore the \"font cache\" warning."
   ]
  },
  {
   "cell_type": "code",
   "execution_count": null,
   "metadata": {
    "collapsed": true
   },
   "outputs": [],
   "source": [
    "%matplotlib inline\n",
    "import matplotlib.pyplot as plt\n",
    "\n",
    "###expression counts for three genes \n",
    "timepoint = [0,1,2,3,4,5,6,7,8,9]\n",
    "geneA = [256, 756, 877, 968, 732, 118, 196,277, 653, 850 ]\n",
    "geneB = [950, 716, 536, 125,292, 653, 850, 832, 655, 344 ]\n",
    "geneC = [650, 617, 622, 662,652, 712, 632, 642, 615, 660 ]\n",
    "# bare minimum to plot three lines\n",
    "plt.plot(timepoint, geneA)\n",
    "plt.plot(timepoint, geneB)\n",
    "plt.plot(timepoint, geneC)\n",
    "# add labels\n",
    "\n",
    "# add title\n",
    "\n",
    "#resize y axis\n",
    "\n",
    "##label the lines by gene name\n",
    "plt.show()"
   ]
  },
  {
   "cell_type": "markdown",
   "metadata": {},
   "source": [
    "---\n",
    "Now the you have the basics down for plotting lines. Let us try to customize the lines even further. Copy your above code below and try to do the following to add more customization:\n",
    "\n",
    "**make the geneA line a series of green points**\n",
    "\n",
    "**make the geneB line a series of orange dashes**\n",
    "\n",
    "**make the geneC line a series of blue squares**\n",
    "\n",
    "You can find out how to change your code to do so here: http://matplotlib.org/users/pyplot_tutorial.html"
   ]
  },
  {
   "cell_type": "code",
   "execution_count": null,
   "metadata": {
    "collapsed": true
   },
   "outputs": [],
   "source": [
    "%matplotlib inline\n",
    "import matplotlib.pyplot as plt\n",
    "\n",
    "###expression counts for three genes \n",
    "timepoint = [0,1,2,3,4,5,6,7,8,9]\n",
    "geneA = [256, 756, 877, 968, 732, 118, 196,277, 653, 850 ]\n",
    "geneB = [950, 716, 536, 125,292, 653, 850, 832, 655, 344 ]\n",
    "geneC = [650, 617, 622, 662,652, 712, 632, 642, 615, 660 ]\n",
    "# bare minimum to plot three lines\n",
    "plt.plot(timepoint, geneA)\n",
    "plt.plot(timepoint, geneB)\n",
    "plt.plot(timepoint, geneC)"
   ]
  },
  {
   "cell_type": "markdown",
   "metadata": {},
   "source": [
    "---\n",
    "## 2. Command line arguments with optparse (6pts)\n",
    "\n",
    "**Note: Do the following in a SCRIPT, not in the notebook**. You can not use command line arguments within Jupyter notebooks.\n",
    "\n",
    "**(A)** Write a script that expects 4 arguments using optparse. The input arguments are strings for name, sex, and age, as well as a fourth argument, a boolean, that tells the code to print only the name and not the sex and age. If not flagged, the script prints the name, sex, and age."
   ]
  },
  {
   "cell_type": "markdown",
   "metadata": {},
   "source": [
    "---\n",
    "**(B)** Run your code using the \"--help\" flag to see if your implementation of optparse worked."
   ]
  },
  {
   "cell_type": "markdown",
   "metadata": {},
   "source": [
    " "
   ]
  },
  {
   "cell_type": "markdown",
   "metadata": {},
   "source": [
    "**(C)** Add a conditional statement that prints an error statement if the input sex is not \"MALE\" or \"FEMALE\"."
   ]
  },
  {
   "cell_type": "markdown",
   "metadata": {},
   "source": [
    " "
   ]
  }
 ],
 "metadata": {
  "anaconda-cloud": {},
  "kernelspec": {
   "display_name": "Python [Root]",
   "language": "python",
   "name": "Python [Root]"
  },
  "language_info": {
   "codemirror_mode": {
    "name": "ipython",
    "version": 2
   },
   "file_extension": ".py",
   "mimetype": "text/x-python",
   "name": "python",
   "nbconvert_exporter": "python",
   "pygments_lexer": "ipython2",
   "version": "2.7.12"
  }
 },
 "nbformat": 4,
 "nbformat_minor": 0
}
